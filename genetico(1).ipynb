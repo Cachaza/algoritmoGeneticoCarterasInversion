{
  "cells": [
    {
      "cell_type": "code",
      "execution_count": 1,
      "metadata": {
        "id": "TE0Eo_4eWFQH"
      },
      "outputs": [],
      "source": [
        "import pandas as pd\n",
        "import numpy as np\n",
        "import matplotlib.pyplot as plt\n",
        "import time\n",
        "import polars as pl\n"
      ]
    },
    {
      "cell_type": "code",
      "execution_count": 2,
      "metadata": {
        "id": "ZrY6k7wWWFQI"
      },
      "outputs": [],
      "source": [
        "#NPOB = 20\n",
        "#NGEN = 250\n",
        "#Pc = 0.8\n",
        "#Pm = 0.2\n",
        "#C = 0.4\n",
        "NRES = 10\n",
        "NSAMPLE = 25\n",
        "random_vector = None"
      ]
    },
    {
      "cell_type": "code",
      "execution_count": 3,
      "metadata": {
        "colab": {
          "base_uri": "https://localhost:8080/",
          "height": 697
        },
        "id": "Smhy7PhfWFQJ",
        "outputId": "4bc82639-2ab2-47e4-e4fa-06b91008d915"
      },
      "outputs": [
        {
          "data": {
            "text/html": [
              "<div>\n",
              "<style scoped>\n",
              "    .dataframe tbody tr th:only-of-type {\n",
              "        vertical-align: middle;\n",
              "    }\n",
              "\n",
              "    .dataframe tbody tr th {\n",
              "        vertical-align: top;\n",
              "    }\n",
              "\n",
              "    .dataframe thead th {\n",
              "        text-align: right;\n",
              "    }\n",
              "</style>\n",
              "<table border=\"1\" class=\"dataframe\">\n",
              "  <thead>\n",
              "    <tr style=\"text-align: right;\">\n",
              "      <th></th>\n",
              "      <th>Empresa</th>\n",
              "      <th>Enero</th>\n",
              "      <th>Febrero</th>\n",
              "      <th>Marzo</th>\n",
              "      <th>Abril</th>\n",
              "      <th>Mayo</th>\n",
              "      <th>Junio</th>\n",
              "      <th>Julio</th>\n",
              "      <th>Agosto</th>\n",
              "      <th>Septiembre</th>\n",
              "      <th>Octubre</th>\n",
              "      <th>Noviembre</th>\n",
              "      <th>Diciembre</th>\n",
              "    </tr>\n",
              "  </thead>\n",
              "  <tbody>\n",
              "    <tr>\n",
              "      <th>0</th>\n",
              "      <td>IBM</td>\n",
              "      <td>-0.012546</td>\n",
              "      <td>0.045071</td>\n",
              "      <td>0.023199</td>\n",
              "      <td>0.009866</td>\n",
              "      <td>-0.034398</td>\n",
              "      <td>-0.034401</td>\n",
              "      <td>-0.044192</td>\n",
              "      <td>0.036618</td>\n",
              "      <td>0.010112</td>\n",
              "      <td>0.020807</td>\n",
              "      <td>-0.047942</td>\n",
              "      <td>0.046991</td>\n",
              "    </tr>\n",
              "    <tr>\n",
              "      <th>1</th>\n",
              "      <td>Nvidia</td>\n",
              "      <td>0.033244</td>\n",
              "      <td>-0.028766</td>\n",
              "      <td>-0.031818</td>\n",
              "      <td>-0.03166</td>\n",
              "      <td>-0.019576</td>\n",
              "      <td>0.002476</td>\n",
              "      <td>-0.006805</td>\n",
              "      <td>-0.020877</td>\n",
              "      <td>0.011185</td>\n",
              "      <td>-0.036051</td>\n",
              "      <td>-0.020786</td>\n",
              "      <td>-0.013364</td>\n",
              "    </tr>\n",
              "    <tr>\n",
              "      <th>2</th>\n",
              "      <td>Kellogs</td>\n",
              "      <td>-0.004393</td>\n",
              "      <td>0.028518</td>\n",
              "      <td>-0.030033</td>\n",
              "      <td>0.001423</td>\n",
              "      <td>0.009241</td>\n",
              "      <td>-0.045355</td>\n",
              "      <td>0.010754</td>\n",
              "      <td>-0.032948</td>\n",
              "      <td>-0.043495</td>\n",
              "      <td>0.044889</td>\n",
              "      <td>0.046563</td>\n",
              "      <td>0.03084</td>\n",
              "    </tr>\n",
              "    <tr>\n",
              "      <th>3</th>\n",
              "      <td>Microsoft</td>\n",
              "      <td>-0.019539</td>\n",
              "      <td>-0.040233</td>\n",
              "      <td>0.018423</td>\n",
              "      <td>-0.005985</td>\n",
              "      <td>-0.037796</td>\n",
              "      <td>-0.000482</td>\n",
              "      <td>-0.046561</td>\n",
              "      <td>0.040932</td>\n",
              "      <td>-0.024122</td>\n",
              "      <td>0.016252</td>\n",
              "      <td>-0.018829</td>\n",
              "      <td>0.002007</td>\n",
              "    </tr>\n",
              "    <tr>\n",
              "      <th>4</th>\n",
              "      <td>BP</td>\n",
              "      <td>0.004671</td>\n",
              "      <td>-0.031515</td>\n",
              "      <td>0.046958</td>\n",
              "      <td>0.027513</td>\n",
              "      <td>0.04395</td>\n",
              "      <td>0.039483</td>\n",
              "      <td>0.00979</td>\n",
              "      <td>0.042187</td>\n",
              "      <td>-0.041151</td>\n",
              "      <td>-0.030402</td>\n",
              "      <td>-0.045477</td>\n",
              "      <td>-0.017467</td>\n",
              "    </tr>\n",
              "    <tr>\n",
              "      <th>5</th>\n",
              "      <td>UPS</td>\n",
              "      <td>-0.011132</td>\n",
              "      <td>-0.022865</td>\n",
              "      <td>0.032874</td>\n",
              "      <td>-0.014325</td>\n",
              "      <td>-0.021907</td>\n",
              "      <td>0.00427</td>\n",
              "      <td>-0.035908</td>\n",
              "      <td>0.03022</td>\n",
              "      <td>-0.042545</td>\n",
              "      <td>0.048689</td>\n",
              "      <td>0.027224</td>\n",
              "      <td>-0.030128</td>\n",
              "    </tr>\n",
              "    <tr>\n",
              "      <th>6</th>\n",
              "      <td>Amazon</td>\n",
              "      <td>-0.049448</td>\n",
              "      <td>0.031546</td>\n",
              "      <td>0.020686</td>\n",
              "      <td>0.022901</td>\n",
              "      <td>0.027127</td>\n",
              "      <td>-0.042596</td>\n",
              "      <td>-0.014153</td>\n",
              "      <td>-0.038413</td>\n",
              "      <td>0.03631</td>\n",
              "      <td>0.01233</td>\n",
              "      <td>-0.01691</td>\n",
              "      <td>-0.043644</td>\n",
              "    </tr>\n",
              "    <tr>\n",
              "      <th>7</th>\n",
              "      <td>Intel</td>\n",
              "      <td>-0.018902</td>\n",
              "      <td>-0.017482</td>\n",
              "      <td>0.022961</td>\n",
              "      <td>0.013756</td>\n",
              "      <td>0.038721</td>\n",
              "      <td>-0.002779</td>\n",
              "      <td>-0.038041</td>\n",
              "      <td>0.021324</td>\n",
              "      <td>0.026079</td>\n",
              "      <td>0.006128</td>\n",
              "      <td>0.027097</td>\n",
              "      <td>-0.00062</td>\n",
              "    </tr>\n",
              "    <tr>\n",
              "      <th>8</th>\n",
              "      <td>Ford</td>\n",
              "      <td>0.002273</td>\n",
              "      <td>-0.007246</td>\n",
              "      <td>-0.047458</td>\n",
              "      <td>-0.039211</td>\n",
              "      <td>-0.046857</td>\n",
              "      <td>0.013641</td>\n",
              "      <td>-0.018564</td>\n",
              "      <td>0.000857</td>\n",
              "      <td>0.040757</td>\n",
              "      <td>-0.025071</td>\n",
              "      <td>-0.008962</td>\n",
              "      <td>0.025555</td>\n",
              "    </tr>\n",
              "    <tr>\n",
              "      <th>9</th>\n",
              "      <td>Exxon</td>\n",
              "      <td>-0.02712</td>\n",
              "      <td>-0.042302</td>\n",
              "      <td>-0.021025</td>\n",
              "      <td>-0.033878</td>\n",
              "      <td>0.04297</td>\n",
              "      <td>0.030812</td>\n",
              "      <td>0.01334</td>\n",
              "      <td>0.037146</td>\n",
              "      <td>0.030367</td>\n",
              "      <td>-0.031343</td>\n",
              "      <td>0.039256</td>\n",
              "      <td>0.003934</td>\n",
              "    </tr>\n",
              "    <tr>\n",
              "      <th>10</th>\n",
              "      <td>Toyota</td>\n",
              "      <td>0.030744</td>\n",
              "      <td>0.039609</td>\n",
              "      <td>-0.0182</td>\n",
              "      <td>-0.038995</td>\n",
              "      <td>-0.027206</td>\n",
              "      <td>-0.007289</td>\n",
              "      <td>0.031801</td>\n",
              "      <td>0.036073</td>\n",
              "      <td>-0.049305</td>\n",
              "      <td>0.001075</td>\n",
              "      <td>-0.008259</td>\n",
              "      <td>-0.027789</td>\n",
              "    </tr>\n",
              "    <tr>\n",
              "      <th>11</th>\n",
              "      <td>Pfizer</td>\n",
              "      <td>-0.038013</td>\n",
              "      <td>-0.016238</td>\n",
              "      <td>0.044291</td>\n",
              "      <td>-0.01768</td>\n",
              "      <td>0.001879</td>\n",
              "      <td>0.020302</td>\n",
              "      <td>-0.013637</td>\n",
              "      <td>0.047178</td>\n",
              "      <td>0.046245</td>\n",
              "      <td>-0.024822</td>\n",
              "      <td>-0.000275</td>\n",
              "      <td>-0.019912</td>\n",
              "    </tr>\n",
              "    <tr>\n",
              "      <th>12</th>\n",
              "      <td>Ikea</td>\n",
              "      <td>-0.021516</td>\n",
              "      <td>-0.046311</td>\n",
              "      <td>0.010956</td>\n",
              "      <td>0.000268</td>\n",
              "      <td>-0.044852</td>\n",
              "      <td>-0.022135</td>\n",
              "      <td>0.040827</td>\n",
              "      <td>-0.026044</td>\n",
              "      <td>-0.035511</td>\n",
              "      <td>-0.001055</td>\n",
              "      <td>0.048565</td>\n",
              "      <td>-0.025794</td>\n",
              "    </tr>\n",
              "    <tr>\n",
              "      <th>13</th>\n",
              "      <td>Bayer</td>\n",
              "      <td>0.017214</td>\n",
              "      <td>0.026162</td>\n",
              "      <td>-0.026236</td>\n",
              "      <td>0.022822</td>\n",
              "      <td>-0.013222</td>\n",
              "      <td>0.013231</td>\n",
              "      <td>0.013353</td>\n",
              "      <td>0.003577</td>\n",
              "      <td>-0.040971</td>\n",
              "      <td>0.03353</td>\n",
              "      <td>-0.017922</td>\n",
              "      <td>-0.031348</td>\n",
              "    </tr>\n",
              "    <tr>\n",
              "      <th>14</th>\n",
              "      <td>Nestlé</td>\n",
              "      <td>-0.045922</td>\n",
              "      <td>0.009089</td>\n",
              "      <td>0.017756</td>\n",
              "      <td>-0.048341</td>\n",
              "      <td>0.001209</td>\n",
              "      <td>-0.02735</td>\n",
              "      <td>0.014517</td>\n",
              "      <td>-0.032563</td>\n",
              "      <td>0.019094</td>\n",
              "      <td>-0.011326</td>\n",
              "      <td>0.043673</td>\n",
              "      <td>-0.036248</td>\n",
              "    </tr>\n",
              "    <tr>\n",
              "      <th>15</th>\n",
              "      <td>Samsung</td>\n",
              "      <td>-0.015893</td>\n",
              "      <td>-0.038653</td>\n",
              "      <td>0.042469</td>\n",
              "      <td>0.037734</td>\n",
              "      <td>-0.024206</td>\n",
              "      <td>0.015998</td>\n",
              "      <td>0.031722</td>\n",
              "      <td>0.00552</td>\n",
              "      <td>0.002965</td>\n",
              "      <td>-0.025815</td>\n",
              "      <td>-0.04069</td>\n",
              "      <td>0.039722</td>\n",
              "    </tr>\n",
              "    <tr>\n",
              "      <th>16</th>\n",
              "      <td>Telefónica</td>\n",
              "      <td>0.040042</td>\n",
              "      <td>0.01331</td>\n",
              "      <td>-0.016097</td>\n",
              "      <td>-0.015079</td>\n",
              "      <td>0.022596</td>\n",
              "      <td>0.039711</td>\n",
              "      <td>0.038709</td>\n",
              "      <td>0.027988</td>\n",
              "      <td>0.014203</td>\n",
              "      <td>-0.041586</td>\n",
              "      <td>-0.033837</td>\n",
              "      <td>0.039855</td>\n",
              "    </tr>\n",
              "    <tr>\n",
              "      <th>17</th>\n",
              "      <td>Netflix</td>\n",
              "      <td>0.010643</td>\n",
              "      <td>-0.04908</td>\n",
              "      <td>-0.039853</td>\n",
              "      <td>0.01635</td>\n",
              "      <td>-0.049494</td>\n",
              "      <td>-0.033919</td>\n",
              "      <td>0.004873</td>\n",
              "      <td>0.01919</td>\n",
              "      <td>0.015196</td>\n",
              "      <td>-0.027573</td>\n",
              "      <td>0.021218</td>\n",
              "      <td>-0.026275</td>\n",
              "    </tr>\n",
              "    <tr>\n",
              "      <th>18</th>\n",
              "      <td>L'Oréal</td>\n",
              "      <td>-0.01746</td>\n",
              "      <td>0.024649</td>\n",
              "      <td>0.014963</td>\n",
              "      <td>0.034922</td>\n",
              "      <td>0.015761</td>\n",
              "      <td>0.006831</td>\n",
              "      <td>-0.040633</td>\n",
              "      <td>-0.013228</td>\n",
              "      <td>-0.02348</td>\n",
              "      <td>-0.025601</td>\n",
              "      <td>0.047301</td>\n",
              "      <td>-0.01069</td>\n",
              "    </tr>\n",
              "    <tr>\n",
              "      <th>19</th>\n",
              "      <td>Airbus</td>\n",
              "      <td>0.039205</td>\n",
              "      <td>0.013114</td>\n",
              "      <td>0.029481</td>\n",
              "      <td>0.000264</td>\n",
              "      <td>0.00769</td>\n",
              "      <td>-0.000748</td>\n",
              "      <td>-0.030476</td>\n",
              "      <td>0.022245</td>\n",
              "      <td>-0.021923</td>\n",
              "      <td>-0.047568</td>\n",
              "      <td>0.014547</td>\n",
              "      <td>-0.032289</td>\n",
              "    </tr>\n",
              "  </tbody>\n",
              "</table>\n",
              "</div>"
            ],
            "text/plain": [
              "       Empresa     Enero   Febrero     Marzo     Abril      Mayo     Junio  \\\n",
              "0          IBM -0.012546  0.045071  0.023199  0.009866 -0.034398 -0.034401   \n",
              "1       Nvidia  0.033244 -0.028766 -0.031818  -0.03166 -0.019576  0.002476   \n",
              "2      Kellogs -0.004393  0.028518 -0.030033  0.001423  0.009241 -0.045355   \n",
              "3    Microsoft -0.019539 -0.040233  0.018423 -0.005985 -0.037796 -0.000482   \n",
              "4           BP  0.004671 -0.031515  0.046958  0.027513   0.04395  0.039483   \n",
              "5          UPS -0.011132 -0.022865  0.032874 -0.014325 -0.021907   0.00427   \n",
              "6       Amazon -0.049448  0.031546  0.020686  0.022901  0.027127 -0.042596   \n",
              "7        Intel -0.018902 -0.017482  0.022961  0.013756  0.038721 -0.002779   \n",
              "8         Ford  0.002273 -0.007246 -0.047458 -0.039211 -0.046857  0.013641   \n",
              "9        Exxon  -0.02712 -0.042302 -0.021025 -0.033878   0.04297  0.030812   \n",
              "10      Toyota  0.030744  0.039609   -0.0182 -0.038995 -0.027206 -0.007289   \n",
              "11      Pfizer -0.038013 -0.016238  0.044291  -0.01768  0.001879  0.020302   \n",
              "12        Ikea -0.021516 -0.046311  0.010956  0.000268 -0.044852 -0.022135   \n",
              "13       Bayer  0.017214  0.026162 -0.026236  0.022822 -0.013222  0.013231   \n",
              "14      Nestlé -0.045922  0.009089  0.017756 -0.048341  0.001209  -0.02735   \n",
              "15     Samsung -0.015893 -0.038653  0.042469  0.037734 -0.024206  0.015998   \n",
              "16  Telefónica  0.040042   0.01331 -0.016097 -0.015079  0.022596  0.039711   \n",
              "17     Netflix  0.010643  -0.04908 -0.039853   0.01635 -0.049494 -0.033919   \n",
              "18     L'Oréal  -0.01746  0.024649  0.014963  0.034922  0.015761  0.006831   \n",
              "19      Airbus  0.039205  0.013114  0.029481  0.000264   0.00769 -0.000748   \n",
              "\n",
              "       Julio    Agosto Septiembre   Octubre Noviembre Diciembre  \n",
              "0  -0.044192  0.036618   0.010112  0.020807 -0.047942  0.046991  \n",
              "1  -0.006805 -0.020877   0.011185 -0.036051 -0.020786 -0.013364  \n",
              "2   0.010754 -0.032948  -0.043495  0.044889  0.046563   0.03084  \n",
              "3  -0.046561  0.040932  -0.024122  0.016252 -0.018829  0.002007  \n",
              "4    0.00979  0.042187  -0.041151 -0.030402 -0.045477 -0.017467  \n",
              "5  -0.035908   0.03022  -0.042545  0.048689  0.027224 -0.030128  \n",
              "6  -0.014153 -0.038413    0.03631   0.01233  -0.01691 -0.043644  \n",
              "7  -0.038041  0.021324   0.026079  0.006128  0.027097  -0.00062  \n",
              "8  -0.018564  0.000857   0.040757 -0.025071 -0.008962  0.025555  \n",
              "9    0.01334  0.037146   0.030367 -0.031343  0.039256  0.003934  \n",
              "10  0.031801  0.036073  -0.049305  0.001075 -0.008259 -0.027789  \n",
              "11 -0.013637  0.047178   0.046245 -0.024822 -0.000275 -0.019912  \n",
              "12  0.040827 -0.026044  -0.035511 -0.001055  0.048565 -0.025794  \n",
              "13  0.013353  0.003577  -0.040971   0.03353 -0.017922 -0.031348  \n",
              "14  0.014517 -0.032563   0.019094 -0.011326  0.043673 -0.036248  \n",
              "15  0.031722   0.00552   0.002965 -0.025815  -0.04069  0.039722  \n",
              "16  0.038709  0.027988   0.014203 -0.041586 -0.033837  0.039855  \n",
              "17  0.004873   0.01919   0.015196 -0.027573  0.021218 -0.026275  \n",
              "18 -0.040633 -0.013228   -0.02348 -0.025601  0.047301  -0.01069  \n",
              "19 -0.030476  0.022245  -0.021923 -0.047568  0.014547 -0.032289  "
            ]
          },
          "execution_count": 3,
          "metadata": {},
          "output_type": "execute_result"
        }
      ],
      "source": [
        "# reaf the data from the excel file\n",
        "data = pd.read_excel('Datos TablaInversiones.xlsx')\n",
        "data = data.dropna()\n",
        "data = data.reset_index(drop=True)\n",
        "# rename columns\n",
        "data.columns = [\"Empresa\",\"Enero\", \"Febrero\", \"Marzo\", \"Abril\", \"Mayo\", \"Junio\", \"Julio\", \"Agosto\", \"Septiembre\", \"Octubre\", \"Noviembre\", \"Diciembre\"]\n",
        "data"
      ]
    },
    {
      "cell_type": "code",
      "execution_count": 4,
      "metadata": {
        "colab": {
          "base_uri": "https://localhost:8080/",
          "height": 542
        },
        "id": "aq0763lXWFQJ",
        "outputId": "0bca01b9-8e9d-4144-920e-7a0d62fe40c6"
      },
      "outputs": [
        {
          "data": {
            "application/vnd.plotly.v1+json": {
              "config": {
                "plotlyServerURL": "https://plot.ly"
              },
              "data": [
                {
                  "mode": "lines",
                  "name": "Nvidia",
                  "type": "scatter",
                  "x": [
                    "Enero",
                    "Febrero",
                    "Marzo",
                    "Abril",
                    "Mayo",
                    "Junio",
                    "Julio",
                    "Agosto",
                    "Septiembre",
                    "Octubre",
                    "Noviembre",
                    "Diciembre"
                  ],
                  "y": [
                    0.033244,
                    -0.028766,
                    -0.031818,
                    -0.03166,
                    -0.019576,
                    0.002476,
                    -0.006805,
                    -0.020877,
                    0.011185,
                    -0.036051,
                    -0.020786,
                    -0.013364
                  ]
                },
                {
                  "mode": "lines",
                  "name": "Kellogs",
                  "type": "scatter",
                  "x": [
                    "Enero",
                    "Febrero",
                    "Marzo",
                    "Abril",
                    "Mayo",
                    "Junio",
                    "Julio",
                    "Agosto",
                    "Septiembre",
                    "Octubre",
                    "Noviembre",
                    "Diciembre"
                  ],
                  "y": [
                    -0.004393,
                    0.028518,
                    -0.030033,
                    0.001423,
                    0.009241,
                    -0.045355,
                    0.010754,
                    -0.032948,
                    -0.043495,
                    0.044889,
                    0.046563,
                    0.03084
                  ]
                },
                {
                  "mode": "lines",
                  "name": "Microsoft",
                  "type": "scatter",
                  "x": [
                    "Enero",
                    "Febrero",
                    "Marzo",
                    "Abril",
                    "Mayo",
                    "Junio",
                    "Julio",
                    "Agosto",
                    "Septiembre",
                    "Octubre",
                    "Noviembre",
                    "Diciembre"
                  ],
                  "y": [
                    -0.019539,
                    -0.040233,
                    0.018423,
                    -0.005985,
                    -0.037796,
                    -0.000482,
                    -0.046561,
                    0.040932,
                    -0.024122,
                    0.016252,
                    -0.018829,
                    0.002007
                  ]
                },
                {
                  "mode": "lines",
                  "name": "BP",
                  "type": "scatter",
                  "x": [
                    "Enero",
                    "Febrero",
                    "Marzo",
                    "Abril",
                    "Mayo",
                    "Junio",
                    "Julio",
                    "Agosto",
                    "Septiembre",
                    "Octubre",
                    "Noviembre",
                    "Diciembre"
                  ],
                  "y": [
                    0.004671,
                    -0.031515,
                    0.046958,
                    0.027513,
                    0.04395,
                    0.039483,
                    0.00979,
                    0.042187,
                    -0.041151,
                    -0.030402,
                    -0.045477,
                    -0.017467
                  ]
                },
                {
                  "mode": "lines",
                  "name": "UPS",
                  "type": "scatter",
                  "x": [
                    "Enero",
                    "Febrero",
                    "Marzo",
                    "Abril",
                    "Mayo",
                    "Junio",
                    "Julio",
                    "Agosto",
                    "Septiembre",
                    "Octubre",
                    "Noviembre",
                    "Diciembre"
                  ],
                  "y": [
                    -0.011132,
                    -0.022865,
                    0.032874,
                    -0.014325,
                    -0.021907,
                    0.00427,
                    -0.035908,
                    0.03022,
                    -0.042545,
                    0.048689,
                    0.027224,
                    -0.030128
                  ]
                },
                {
                  "mode": "lines",
                  "name": "Amazon",
                  "type": "scatter",
                  "x": [
                    "Enero",
                    "Febrero",
                    "Marzo",
                    "Abril",
                    "Mayo",
                    "Junio",
                    "Julio",
                    "Agosto",
                    "Septiembre",
                    "Octubre",
                    "Noviembre",
                    "Diciembre"
                  ],
                  "y": [
                    -0.049448,
                    0.031546,
                    0.020686,
                    0.022901,
                    0.027127,
                    -0.042596,
                    -0.014153,
                    -0.038413,
                    0.03631,
                    0.01233,
                    -0.01691,
                    -0.043644
                  ]
                },
                {
                  "mode": "lines",
                  "name": "Intel",
                  "type": "scatter",
                  "x": [
                    "Enero",
                    "Febrero",
                    "Marzo",
                    "Abril",
                    "Mayo",
                    "Junio",
                    "Julio",
                    "Agosto",
                    "Septiembre",
                    "Octubre",
                    "Noviembre",
                    "Diciembre"
                  ],
                  "y": [
                    -0.018902,
                    -0.017482,
                    0.022961,
                    0.013756,
                    0.038721,
                    -0.002779,
                    -0.038041,
                    0.021324,
                    0.026079,
                    0.006128,
                    0.027097,
                    -0.00062
                  ]
                },
                {
                  "mode": "lines",
                  "name": "Ford",
                  "type": "scatter",
                  "x": [
                    "Enero",
                    "Febrero",
                    "Marzo",
                    "Abril",
                    "Mayo",
                    "Junio",
                    "Julio",
                    "Agosto",
                    "Septiembre",
                    "Octubre",
                    "Noviembre",
                    "Diciembre"
                  ],
                  "y": [
                    0.002273,
                    -0.007246,
                    -0.047458,
                    -0.039211,
                    -0.046857,
                    0.013641,
                    -0.018564,
                    0.000857,
                    0.040757,
                    -0.025071,
                    -0.008962,
                    0.025555
                  ]
                },
                {
                  "mode": "lines",
                  "name": "Exxon",
                  "type": "scatter",
                  "x": [
                    "Enero",
                    "Febrero",
                    "Marzo",
                    "Abril",
                    "Mayo",
                    "Junio",
                    "Julio",
                    "Agosto",
                    "Septiembre",
                    "Octubre",
                    "Noviembre",
                    "Diciembre"
                  ],
                  "y": [
                    -0.02712,
                    -0.042302,
                    -0.021025,
                    -0.033878,
                    0.04297,
                    0.030812,
                    0.01334,
                    0.037146,
                    0.030367,
                    -0.031343,
                    0.039256,
                    0.003934
                  ]
                },
                {
                  "mode": "lines",
                  "name": "Toyota",
                  "type": "scatter",
                  "x": [
                    "Enero",
                    "Febrero",
                    "Marzo",
                    "Abril",
                    "Mayo",
                    "Junio",
                    "Julio",
                    "Agosto",
                    "Septiembre",
                    "Octubre",
                    "Noviembre",
                    "Diciembre"
                  ],
                  "y": [
                    0.030744,
                    0.039609,
                    -0.0182,
                    -0.038995,
                    -0.027206,
                    -0.007289,
                    0.031801,
                    0.036073,
                    -0.049305,
                    0.001075,
                    -0.008259,
                    -0.027789
                  ]
                },
                {
                  "mode": "lines",
                  "name": "Pfizer",
                  "type": "scatter",
                  "x": [
                    "Enero",
                    "Febrero",
                    "Marzo",
                    "Abril",
                    "Mayo",
                    "Junio",
                    "Julio",
                    "Agosto",
                    "Septiembre",
                    "Octubre",
                    "Noviembre",
                    "Diciembre"
                  ],
                  "y": [
                    -0.038013,
                    -0.016238,
                    0.044291,
                    -0.01768,
                    0.001879,
                    0.020302,
                    -0.013637,
                    0.047178,
                    0.046245,
                    -0.024822,
                    -0.000275,
                    -0.019912
                  ]
                },
                {
                  "mode": "lines",
                  "name": "Ikea",
                  "type": "scatter",
                  "x": [
                    "Enero",
                    "Febrero",
                    "Marzo",
                    "Abril",
                    "Mayo",
                    "Junio",
                    "Julio",
                    "Agosto",
                    "Septiembre",
                    "Octubre",
                    "Noviembre",
                    "Diciembre"
                  ],
                  "y": [
                    -0.021516,
                    -0.046311,
                    0.010956,
                    0.000268,
                    -0.044852,
                    -0.022135,
                    0.040827,
                    -0.026044,
                    -0.035511,
                    -0.001055,
                    0.048565,
                    -0.025794
                  ]
                },
                {
                  "mode": "lines",
                  "name": "Bayer",
                  "type": "scatter",
                  "x": [
                    "Enero",
                    "Febrero",
                    "Marzo",
                    "Abril",
                    "Mayo",
                    "Junio",
                    "Julio",
                    "Agosto",
                    "Septiembre",
                    "Octubre",
                    "Noviembre",
                    "Diciembre"
                  ],
                  "y": [
                    0.017214,
                    0.026162,
                    -0.026236,
                    0.022822,
                    -0.013222,
                    0.013231,
                    0.013353,
                    0.003577,
                    -0.040971,
                    0.03353,
                    -0.017922,
                    -0.031348
                  ]
                },
                {
                  "mode": "lines",
                  "name": "Nestlé",
                  "type": "scatter",
                  "x": [
                    "Enero",
                    "Febrero",
                    "Marzo",
                    "Abril",
                    "Mayo",
                    "Junio",
                    "Julio",
                    "Agosto",
                    "Septiembre",
                    "Octubre",
                    "Noviembre",
                    "Diciembre"
                  ],
                  "y": [
                    -0.045922,
                    0.009089,
                    0.017756,
                    -0.048341,
                    0.001209,
                    -0.02735,
                    0.014517,
                    -0.032563,
                    0.019094,
                    -0.011326,
                    0.043673,
                    -0.036248
                  ]
                },
                {
                  "mode": "lines",
                  "name": "Samsung",
                  "type": "scatter",
                  "x": [
                    "Enero",
                    "Febrero",
                    "Marzo",
                    "Abril",
                    "Mayo",
                    "Junio",
                    "Julio",
                    "Agosto",
                    "Septiembre",
                    "Octubre",
                    "Noviembre",
                    "Diciembre"
                  ],
                  "y": [
                    -0.015893,
                    -0.038653,
                    0.042469,
                    0.037734,
                    -0.024206,
                    0.015998,
                    0.031722,
                    0.00552,
                    0.002965,
                    -0.025815,
                    -0.04069,
                    0.039722
                  ]
                },
                {
                  "mode": "lines",
                  "name": "Telefónica",
                  "type": "scatter",
                  "x": [
                    "Enero",
                    "Febrero",
                    "Marzo",
                    "Abril",
                    "Mayo",
                    "Junio",
                    "Julio",
                    "Agosto",
                    "Septiembre",
                    "Octubre",
                    "Noviembre",
                    "Diciembre"
                  ],
                  "y": [
                    0.040042,
                    0.01331,
                    -0.016097,
                    -0.015079,
                    0.022596,
                    0.039711,
                    0.038709,
                    0.027988,
                    0.014203,
                    -0.041586,
                    -0.033837,
                    0.039855
                  ]
                },
                {
                  "mode": "lines",
                  "name": "Netflix",
                  "type": "scatter",
                  "x": [
                    "Enero",
                    "Febrero",
                    "Marzo",
                    "Abril",
                    "Mayo",
                    "Junio",
                    "Julio",
                    "Agosto",
                    "Septiembre",
                    "Octubre",
                    "Noviembre",
                    "Diciembre"
                  ],
                  "y": [
                    0.010643,
                    -0.04908,
                    -0.039853,
                    0.01635,
                    -0.049494,
                    -0.033919,
                    0.004873,
                    0.01919,
                    0.015196,
                    -0.027573,
                    0.021218,
                    -0.026275
                  ]
                },
                {
                  "mode": "lines",
                  "name": "L'Oréal",
                  "type": "scatter",
                  "x": [
                    "Enero",
                    "Febrero",
                    "Marzo",
                    "Abril",
                    "Mayo",
                    "Junio",
                    "Julio",
                    "Agosto",
                    "Septiembre",
                    "Octubre",
                    "Noviembre",
                    "Diciembre"
                  ],
                  "y": [
                    -0.01746,
                    0.024649,
                    0.014963,
                    0.034922,
                    0.015761,
                    0.006831,
                    -0.040633,
                    -0.013228,
                    -0.02348,
                    -0.025601,
                    0.047301,
                    -0.01069
                  ]
                },
                {
                  "mode": "lines",
                  "name": "Airbus",
                  "type": "scatter",
                  "x": [
                    "Enero",
                    "Febrero",
                    "Marzo",
                    "Abril",
                    "Mayo",
                    "Junio",
                    "Julio",
                    "Agosto",
                    "Septiembre",
                    "Octubre",
                    "Noviembre",
                    "Diciembre"
                  ],
                  "y": [
                    0.039205,
                    0.013114,
                    0.029481,
                    0.000264,
                    0.00769,
                    -0.000748,
                    -0.030476,
                    0.022245,
                    -0.021923,
                    -0.047568,
                    0.014547,
                    -0.032289
                  ]
                }
              ],
              "layout": {
                "template": {
                  "data": {
                    "bar": [
                      {
                        "error_x": {
                          "color": "#2a3f5f"
                        },
                        "error_y": {
                          "color": "#2a3f5f"
                        },
                        "marker": {
                          "line": {
                            "color": "#E5ECF6",
                            "width": 0.5
                          },
                          "pattern": {
                            "fillmode": "overlay",
                            "size": 10,
                            "solidity": 0.2
                          }
                        },
                        "type": "bar"
                      }
                    ],
                    "barpolar": [
                      {
                        "marker": {
                          "line": {
                            "color": "#E5ECF6",
                            "width": 0.5
                          },
                          "pattern": {
                            "fillmode": "overlay",
                            "size": 10,
                            "solidity": 0.2
                          }
                        },
                        "type": "barpolar"
                      }
                    ],
                    "carpet": [
                      {
                        "aaxis": {
                          "endlinecolor": "#2a3f5f",
                          "gridcolor": "white",
                          "linecolor": "white",
                          "minorgridcolor": "white",
                          "startlinecolor": "#2a3f5f"
                        },
                        "baxis": {
                          "endlinecolor": "#2a3f5f",
                          "gridcolor": "white",
                          "linecolor": "white",
                          "minorgridcolor": "white",
                          "startlinecolor": "#2a3f5f"
                        },
                        "type": "carpet"
                      }
                    ],
                    "choropleth": [
                      {
                        "colorbar": {
                          "outlinewidth": 0,
                          "ticks": ""
                        },
                        "type": "choropleth"
                      }
                    ],
                    "contour": [
                      {
                        "colorbar": {
                          "outlinewidth": 0,
                          "ticks": ""
                        },
                        "colorscale": [
                          [
                            0,
                            "#0d0887"
                          ],
                          [
                            0.1111111111111111,
                            "#46039f"
                          ],
                          [
                            0.2222222222222222,
                            "#7201a8"
                          ],
                          [
                            0.3333333333333333,
                            "#9c179e"
                          ],
                          [
                            0.4444444444444444,
                            "#bd3786"
                          ],
                          [
                            0.5555555555555556,
                            "#d8576b"
                          ],
                          [
                            0.6666666666666666,
                            "#ed7953"
                          ],
                          [
                            0.7777777777777778,
                            "#fb9f3a"
                          ],
                          [
                            0.8888888888888888,
                            "#fdca26"
                          ],
                          [
                            1,
                            "#f0f921"
                          ]
                        ],
                        "type": "contour"
                      }
                    ],
                    "contourcarpet": [
                      {
                        "colorbar": {
                          "outlinewidth": 0,
                          "ticks": ""
                        },
                        "type": "contourcarpet"
                      }
                    ],
                    "heatmap": [
                      {
                        "colorbar": {
                          "outlinewidth": 0,
                          "ticks": ""
                        },
                        "colorscale": [
                          [
                            0,
                            "#0d0887"
                          ],
                          [
                            0.1111111111111111,
                            "#46039f"
                          ],
                          [
                            0.2222222222222222,
                            "#7201a8"
                          ],
                          [
                            0.3333333333333333,
                            "#9c179e"
                          ],
                          [
                            0.4444444444444444,
                            "#bd3786"
                          ],
                          [
                            0.5555555555555556,
                            "#d8576b"
                          ],
                          [
                            0.6666666666666666,
                            "#ed7953"
                          ],
                          [
                            0.7777777777777778,
                            "#fb9f3a"
                          ],
                          [
                            0.8888888888888888,
                            "#fdca26"
                          ],
                          [
                            1,
                            "#f0f921"
                          ]
                        ],
                        "type": "heatmap"
                      }
                    ],
                    "heatmapgl": [
                      {
                        "colorbar": {
                          "outlinewidth": 0,
                          "ticks": ""
                        },
                        "colorscale": [
                          [
                            0,
                            "#0d0887"
                          ],
                          [
                            0.1111111111111111,
                            "#46039f"
                          ],
                          [
                            0.2222222222222222,
                            "#7201a8"
                          ],
                          [
                            0.3333333333333333,
                            "#9c179e"
                          ],
                          [
                            0.4444444444444444,
                            "#bd3786"
                          ],
                          [
                            0.5555555555555556,
                            "#d8576b"
                          ],
                          [
                            0.6666666666666666,
                            "#ed7953"
                          ],
                          [
                            0.7777777777777778,
                            "#fb9f3a"
                          ],
                          [
                            0.8888888888888888,
                            "#fdca26"
                          ],
                          [
                            1,
                            "#f0f921"
                          ]
                        ],
                        "type": "heatmapgl"
                      }
                    ],
                    "histogram": [
                      {
                        "marker": {
                          "pattern": {
                            "fillmode": "overlay",
                            "size": 10,
                            "solidity": 0.2
                          }
                        },
                        "type": "histogram"
                      }
                    ],
                    "histogram2d": [
                      {
                        "colorbar": {
                          "outlinewidth": 0,
                          "ticks": ""
                        },
                        "colorscale": [
                          [
                            0,
                            "#0d0887"
                          ],
                          [
                            0.1111111111111111,
                            "#46039f"
                          ],
                          [
                            0.2222222222222222,
                            "#7201a8"
                          ],
                          [
                            0.3333333333333333,
                            "#9c179e"
                          ],
                          [
                            0.4444444444444444,
                            "#bd3786"
                          ],
                          [
                            0.5555555555555556,
                            "#d8576b"
                          ],
                          [
                            0.6666666666666666,
                            "#ed7953"
                          ],
                          [
                            0.7777777777777778,
                            "#fb9f3a"
                          ],
                          [
                            0.8888888888888888,
                            "#fdca26"
                          ],
                          [
                            1,
                            "#f0f921"
                          ]
                        ],
                        "type": "histogram2d"
                      }
                    ],
                    "histogram2dcontour": [
                      {
                        "colorbar": {
                          "outlinewidth": 0,
                          "ticks": ""
                        },
                        "colorscale": [
                          [
                            0,
                            "#0d0887"
                          ],
                          [
                            0.1111111111111111,
                            "#46039f"
                          ],
                          [
                            0.2222222222222222,
                            "#7201a8"
                          ],
                          [
                            0.3333333333333333,
                            "#9c179e"
                          ],
                          [
                            0.4444444444444444,
                            "#bd3786"
                          ],
                          [
                            0.5555555555555556,
                            "#d8576b"
                          ],
                          [
                            0.6666666666666666,
                            "#ed7953"
                          ],
                          [
                            0.7777777777777778,
                            "#fb9f3a"
                          ],
                          [
                            0.8888888888888888,
                            "#fdca26"
                          ],
                          [
                            1,
                            "#f0f921"
                          ]
                        ],
                        "type": "histogram2dcontour"
                      }
                    ],
                    "mesh3d": [
                      {
                        "colorbar": {
                          "outlinewidth": 0,
                          "ticks": ""
                        },
                        "type": "mesh3d"
                      }
                    ],
                    "parcoords": [
                      {
                        "line": {
                          "colorbar": {
                            "outlinewidth": 0,
                            "ticks": ""
                          }
                        },
                        "type": "parcoords"
                      }
                    ],
                    "pie": [
                      {
                        "automargin": true,
                        "type": "pie"
                      }
                    ],
                    "scatter": [
                      {
                        "fillpattern": {
                          "fillmode": "overlay",
                          "size": 10,
                          "solidity": 0.2
                        },
                        "type": "scatter"
                      }
                    ],
                    "scatter3d": [
                      {
                        "line": {
                          "colorbar": {
                            "outlinewidth": 0,
                            "ticks": ""
                          }
                        },
                        "marker": {
                          "colorbar": {
                            "outlinewidth": 0,
                            "ticks": ""
                          }
                        },
                        "type": "scatter3d"
                      }
                    ],
                    "scattercarpet": [
                      {
                        "marker": {
                          "colorbar": {
                            "outlinewidth": 0,
                            "ticks": ""
                          }
                        },
                        "type": "scattercarpet"
                      }
                    ],
                    "scattergeo": [
                      {
                        "marker": {
                          "colorbar": {
                            "outlinewidth": 0,
                            "ticks": ""
                          }
                        },
                        "type": "scattergeo"
                      }
                    ],
                    "scattergl": [
                      {
                        "marker": {
                          "colorbar": {
                            "outlinewidth": 0,
                            "ticks": ""
                          }
                        },
                        "type": "scattergl"
                      }
                    ],
                    "scattermapbox": [
                      {
                        "marker": {
                          "colorbar": {
                            "outlinewidth": 0,
                            "ticks": ""
                          }
                        },
                        "type": "scattermapbox"
                      }
                    ],
                    "scatterpolar": [
                      {
                        "marker": {
                          "colorbar": {
                            "outlinewidth": 0,
                            "ticks": ""
                          }
                        },
                        "type": "scatterpolar"
                      }
                    ],
                    "scatterpolargl": [
                      {
                        "marker": {
                          "colorbar": {
                            "outlinewidth": 0,
                            "ticks": ""
                          }
                        },
                        "type": "scatterpolargl"
                      }
                    ],
                    "scatterternary": [
                      {
                        "marker": {
                          "colorbar": {
                            "outlinewidth": 0,
                            "ticks": ""
                          }
                        },
                        "type": "scatterternary"
                      }
                    ],
                    "surface": [
                      {
                        "colorbar": {
                          "outlinewidth": 0,
                          "ticks": ""
                        },
                        "colorscale": [
                          [
                            0,
                            "#0d0887"
                          ],
                          [
                            0.1111111111111111,
                            "#46039f"
                          ],
                          [
                            0.2222222222222222,
                            "#7201a8"
                          ],
                          [
                            0.3333333333333333,
                            "#9c179e"
                          ],
                          [
                            0.4444444444444444,
                            "#bd3786"
                          ],
                          [
                            0.5555555555555556,
                            "#d8576b"
                          ],
                          [
                            0.6666666666666666,
                            "#ed7953"
                          ],
                          [
                            0.7777777777777778,
                            "#fb9f3a"
                          ],
                          [
                            0.8888888888888888,
                            "#fdca26"
                          ],
                          [
                            1,
                            "#f0f921"
                          ]
                        ],
                        "type": "surface"
                      }
                    ],
                    "table": [
                      {
                        "cells": {
                          "fill": {
                            "color": "#EBF0F8"
                          },
                          "line": {
                            "color": "white"
                          }
                        },
                        "header": {
                          "fill": {
                            "color": "#C8D4E3"
                          },
                          "line": {
                            "color": "white"
                          }
                        },
                        "type": "table"
                      }
                    ]
                  },
                  "layout": {
                    "annotationdefaults": {
                      "arrowcolor": "#2a3f5f",
                      "arrowhead": 0,
                      "arrowwidth": 1
                    },
                    "autotypenumbers": "strict",
                    "coloraxis": {
                      "colorbar": {
                        "outlinewidth": 0,
                        "ticks": ""
                      }
                    },
                    "colorscale": {
                      "diverging": [
                        [
                          0,
                          "#8e0152"
                        ],
                        [
                          0.1,
                          "#c51b7d"
                        ],
                        [
                          0.2,
                          "#de77ae"
                        ],
                        [
                          0.3,
                          "#f1b6da"
                        ],
                        [
                          0.4,
                          "#fde0ef"
                        ],
                        [
                          0.5,
                          "#f7f7f7"
                        ],
                        [
                          0.6,
                          "#e6f5d0"
                        ],
                        [
                          0.7,
                          "#b8e186"
                        ],
                        [
                          0.8,
                          "#7fbc41"
                        ],
                        [
                          0.9,
                          "#4d9221"
                        ],
                        [
                          1,
                          "#276419"
                        ]
                      ],
                      "sequential": [
                        [
                          0,
                          "#0d0887"
                        ],
                        [
                          0.1111111111111111,
                          "#46039f"
                        ],
                        [
                          0.2222222222222222,
                          "#7201a8"
                        ],
                        [
                          0.3333333333333333,
                          "#9c179e"
                        ],
                        [
                          0.4444444444444444,
                          "#bd3786"
                        ],
                        [
                          0.5555555555555556,
                          "#d8576b"
                        ],
                        [
                          0.6666666666666666,
                          "#ed7953"
                        ],
                        [
                          0.7777777777777778,
                          "#fb9f3a"
                        ],
                        [
                          0.8888888888888888,
                          "#fdca26"
                        ],
                        [
                          1,
                          "#f0f921"
                        ]
                      ],
                      "sequentialminus": [
                        [
                          0,
                          "#0d0887"
                        ],
                        [
                          0.1111111111111111,
                          "#46039f"
                        ],
                        [
                          0.2222222222222222,
                          "#7201a8"
                        ],
                        [
                          0.3333333333333333,
                          "#9c179e"
                        ],
                        [
                          0.4444444444444444,
                          "#bd3786"
                        ],
                        [
                          0.5555555555555556,
                          "#d8576b"
                        ],
                        [
                          0.6666666666666666,
                          "#ed7953"
                        ],
                        [
                          0.7777777777777778,
                          "#fb9f3a"
                        ],
                        [
                          0.8888888888888888,
                          "#fdca26"
                        ],
                        [
                          1,
                          "#f0f921"
                        ]
                      ]
                    },
                    "colorway": [
                      "#636efa",
                      "#EF553B",
                      "#00cc96",
                      "#ab63fa",
                      "#FFA15A",
                      "#19d3f3",
                      "#FF6692",
                      "#B6E880",
                      "#FF97FF",
                      "#FECB52"
                    ],
                    "font": {
                      "color": "#2a3f5f"
                    },
                    "geo": {
                      "bgcolor": "white",
                      "lakecolor": "white",
                      "landcolor": "#E5ECF6",
                      "showlakes": true,
                      "showland": true,
                      "subunitcolor": "white"
                    },
                    "hoverlabel": {
                      "align": "left"
                    },
                    "hovermode": "closest",
                    "mapbox": {
                      "style": "light"
                    },
                    "paper_bgcolor": "white",
                    "plot_bgcolor": "#E5ECF6",
                    "polar": {
                      "angularaxis": {
                        "gridcolor": "white",
                        "linecolor": "white",
                        "ticks": ""
                      },
                      "bgcolor": "#E5ECF6",
                      "radialaxis": {
                        "gridcolor": "white",
                        "linecolor": "white",
                        "ticks": ""
                      }
                    },
                    "scene": {
                      "xaxis": {
                        "backgroundcolor": "#E5ECF6",
                        "gridcolor": "white",
                        "gridwidth": 2,
                        "linecolor": "white",
                        "showbackground": true,
                        "ticks": "",
                        "zerolinecolor": "white"
                      },
                      "yaxis": {
                        "backgroundcolor": "#E5ECF6",
                        "gridcolor": "white",
                        "gridwidth": 2,
                        "linecolor": "white",
                        "showbackground": true,
                        "ticks": "",
                        "zerolinecolor": "white"
                      },
                      "zaxis": {
                        "backgroundcolor": "#E5ECF6",
                        "gridcolor": "white",
                        "gridwidth": 2,
                        "linecolor": "white",
                        "showbackground": true,
                        "ticks": "",
                        "zerolinecolor": "white"
                      }
                    },
                    "shapedefaults": {
                      "line": {
                        "color": "#2a3f5f"
                      }
                    },
                    "ternary": {
                      "aaxis": {
                        "gridcolor": "white",
                        "linecolor": "white",
                        "ticks": ""
                      },
                      "baxis": {
                        "gridcolor": "white",
                        "linecolor": "white",
                        "ticks": ""
                      },
                      "bgcolor": "#E5ECF6",
                      "caxis": {
                        "gridcolor": "white",
                        "linecolor": "white",
                        "ticks": ""
                      }
                    },
                    "title": {
                      "x": 0.05
                    },
                    "xaxis": {
                      "automargin": true,
                      "gridcolor": "white",
                      "linecolor": "white",
                      "ticks": "",
                      "title": {
                        "standoff": 15
                      },
                      "zerolinecolor": "white",
                      "zerolinewidth": 2
                    },
                    "yaxis": {
                      "automargin": true,
                      "gridcolor": "white",
                      "linecolor": "white",
                      "ticks": "",
                      "title": {
                        "standoff": 15
                      },
                      "zerolinecolor": "white",
                      "zerolinewidth": 2
                    }
                  }
                },
                "title": {
                  "text": "Performance de las empresas del dataset"
                }
              }
            }
          },
          "metadata": {},
          "output_type": "display_data"
        }
      ],
      "source": [
        "import plotly as py\n",
        "import plotly.io as pio\n",
        "import plotly.express as px\n",
        "\n",
        "# plot every company performance in the year show them all in a plot\n",
        "x = data.columns[1:]\n",
        "y = data.iloc[0,1:]\n",
        "#fig = px.line(x=x, y=y, title='Performance de las empresas del dataset')\n",
        "fig = py.graph_objs.Figure()\n",
        "# add title\n",
        "fig.update_layout(title='Performance de las empresas del dataset')\n",
        "for i in range(1, data.shape[0]):\n",
        "    y = data.iloc[i,1:]\n",
        "    fig.add_scatter(x=x, y=y, mode='lines', name=data.iloc[i,0])\n",
        "fig.show()\n",
        "\n",
        "\n",
        "\n",
        "\n",
        "\n"
      ]
    },
    {
      "cell_type": "code",
      "execution_count": 5,
      "metadata": {
        "colab": {
          "base_uri": "https://localhost:8080/"
        },
        "id": "X5G2PdkxWFQK",
        "outputId": "53c7b1fa-1220-4c82-b416-60528066e3dd"
      },
      "outputs": [
        {
          "data": {
            "text/plain": [
              "0.0015987499999999993"
            ]
          },
          "execution_count": 5,
          "metadata": {},
          "output_type": "execute_result"
        }
      ],
      "source": [
        "ri_cache = {}\n",
        "\n",
        "def ri(copañia):\n",
        "    if copañia not in ri_cache:\n",
        "        ri_cache[copañia] = data.loc[data[\"Empresa\"] == copañia].iloc[0, 1:].sum()/12\n",
        "    return ri_cache[copañia]\n",
        "    #add the row of the company and divide by 12\n",
        "    #return (data.loc[data[\"Empresa\"] == copañia].iloc[0, 1:].sum())/12\n",
        "\n",
        "ri(\"IBM\")"
      ]
    },
    {
      "cell_type": "code",
      "execution_count": 6,
      "metadata": {
        "id": "157VER5FWFQK"
      },
      "outputs": [],
      "source": [
        "def cromosoma():\n",
        "    # generate a vector of 20 random numbers between 0 and 1 that sum 1\n",
        "    np.random.seed()\n",
        "    c = np.random.rand(20)\n",
        "    c = c/sum(c)\n",
        "    return c"
      ]
    },
    {
      "cell_type": "code",
      "execution_count": 7,
      "metadata": {
        "id": "uNT_BQZeWFQK"
      },
      "outputs": [],
      "source": [
        "def calcularRc(cromosoma):\n",
        "    rc = 0\n",
        "    for i in range(20):\n",
        "        rc += cromosoma[i]*ri(data.iloc[i][\"Empresa\"])\n",
        "    return rc"
      ]
    },
    {
      "cell_type": "code",
      "execution_count": 8,
      "metadata": {
        "colab": {
          "base_uri": "https://localhost:8080/"
        },
        "id": "KyfUMLt8WFQP",
        "outputId": "074c6ab9-ce28-4b0c-e72b-c266f447a9dd"
      },
      "outputs": [
        {
          "name": "stderr",
          "output_type": "stream",
          "text": [
            "/tmp/ipykernel_12653/1038542018.py:4: FutureWarning:\n",
            "\n",
            "Series.__getitem__ treating keys as positions is deprecated. In a future version, integer keys will always be treated as labels (consistent with DataFrame behavior). To access a value by position, use `ser.iloc[pos]`\n",
            "\n"
          ]
        },
        {
          "data": {
            "text/plain": [
              "0.02055088711422984"
            ]
          },
          "execution_count": 8,
          "metadata": {},
          "output_type": "execute_result"
        }
      ],
      "source": [
        "def calcularOi(i):\n",
        "    resultado = 0\n",
        "    for m in range(12):\n",
        "        resultado += np.square(data.iloc[i][m+1] - ri(data.iloc[i][\"Empresa\"]))\n",
        "    return np.sqrt(resultado/11)\n",
        "\n",
        "calcularOi(1)"
      ]
    },
    {
      "cell_type": "code",
      "execution_count": 9,
      "metadata": {
        "id": "yVM5YC2gWFQQ"
      },
      "outputs": [],
      "source": [
        "def calcularOc(cromosoma):\n",
        "    resultado = 0\n",
        "    for i in range(20):\n",
        "        for j in range(20):\n",
        "            resultado += cromosoma[i]*cromosoma[j]*calcularOi(i)*calcularOi(j)\n",
        "    return np.sqrt(0.25 * resultado)"
      ]
    },
    {
      "cell_type": "code",
      "execution_count": 10,
      "metadata": {
        "id": "lUb2ZTTuWFQQ"
      },
      "outputs": [],
      "source": [
        "def ratioSharpe(cromosoma):\n",
        "    rc = calcularRc(cromosoma)\n",
        "    desv = calcularOc(cromosoma)\n",
        "    return (rc - 0.003757)/desv"
      ]
    },
    {
      "cell_type": "code",
      "execution_count": 11,
      "metadata": {
        "id": "rNHwAyXSWFQR"
      },
      "outputs": [],
      "source": [
        "def ruleta(fitness_gen, fitness_total, Pm):\n",
        "  \"\"\"\n",
        "  Función que decide si mutar un gen usando la ruleta.\n",
        "\n",
        "  Args:\n",
        "    fitness_gen: Fitness del gen a evaluar.\n",
        "    fitness_total: Fitness total del cromosoma.\n",
        "    Pm: Probabilidad de mutación individual.\n",
        "\n",
        "  Returns:\n",
        "    True si el gen debe mutarse, False en caso contrario.\n",
        "  \"\"\"\n",
        "  fitness_relativo = fitness_gen / fitness_total\n",
        "  r = np.random.random()\n",
        "\n",
        "  # Aplicar ruleta\n",
        "  if r < fitness_relativo * Pm:\n",
        "    return True\n",
        "  else:\n",
        "    return False"
      ]
    },
    {
      "cell_type": "code",
      "execution_count": 12,
      "metadata": {
        "id": "99gbkMCgWFQR"
      },
      "outputs": [],
      "source": [
        "def ruletaEncruzamiento(fitness_gen, fitness_total, Pc):\n",
        "  \"\"\"\n",
        "  Función que decide si cruzar un gen usando la ruleta.\n",
        "\n",
        "  Args:\n",
        "    fitness_gen: Fitness del gen a evaluar.\n",
        "    fitness_total: Fitness total del cromosoma.\n",
        "    Pc: Probabilidad de cruzamiento.\n",
        "\n",
        "  Returns:\n",
        "    True si el gen debe cruzarse, False en caso contrario.\n",
        "  \"\"\"\n",
        "  fitness_relativo = fitness_gen / fitness_total\n",
        "  r = np.random.random()\n",
        "\n",
        "  # Aplicar ruleta\n",
        "  if r < fitness_relativo * Pc:\n",
        "    return True\n",
        "  else:\n",
        "    return False"
      ]
    },
    {
      "cell_type": "code",
      "execution_count": 13,
      "metadata": {
        "id": "uu0Ds85qWFQR"
      },
      "outputs": [],
      "source": [
        "def mutacion(cromosomaProcesado, Pm):\n",
        "    for gen in range(len(cromosomaProcesado)):\n",
        "        # Cambiar a el metodo de la ruleta\n",
        "        #if ruleta(gen, fitness, Pm):\n",
        "        if np.random.rand() < Pm:\n",
        "            # generate a random number between 0 and 1\n",
        "            nuevoGen = (np.random.rand() - 0.5) * C\n",
        "            if nuevoGen < 0:\n",
        "                nuevoGen = 0\n",
        "            cromosomaProcesado[gen] = nuevoGen\n",
        "            del nuevoGen\n",
        "\n",
        "\n",
        "    return (cromosomaProcesado/sum(cromosomaProcesado))"
      ]
    },
    {
      "cell_type": "code",
      "execution_count": 14,
      "metadata": {
        "id": "JOCkG6vyWFQR"
      },
      "outputs": [],
      "source": [
        "def entrecruzamiento(cromosoma1, cromosoma2, Pc):\n",
        "    # generate a random number between 0 and 1\n",
        "    #if metodoRuleta(cromosoma1, Pc):\n",
        "    r = np.random.random()\n",
        "    if r < Pc:\n",
        "        # generate a random number between 0 and 20\n",
        "        punto = np.random.randint(20)\n",
        "        # generate two new chromosomes\n",
        "        cromosoma1 = np.concatenate((cromosoma1[:punto], cromosoma2[punto:]))\n",
        "        cromosoma2 = np.concatenate((cromosoma2[:punto], cromosoma1[punto:]))\n",
        "\n",
        "        # if there is a negative number, change it to 0\n",
        "        cromosoma1[cromosoma1 < 0] = 0\n",
        "        cromosoma2[cromosoma2 < 0] = 0\n",
        "        cromosoma1 = cromosoma1/sum(cromosoma1)\n",
        "        cromosoma2 = cromosoma2/sum(cromosoma2)\n",
        "    return cromosoma1, cromosoma2"
      ]
    },
    {
      "cell_type": "code",
      "execution_count": 15,
      "metadata": {
        "id": "OeizStSlWFQS"
      },
      "outputs": [],
      "source": [
        "def seleccionarHijos(df, fraccion, Pc, Pm):\n",
        "    cromosomas = []\n",
        "    fitness = []\n",
        "\n",
        "    for _ in range(int(fraccion/2)):\n",
        "        cromosoma1 = None\n",
        "        cromosoma2 = None\n",
        "        r = np.random.random()\n",
        "        for i in range(df.shape[0]):\n",
        "            if r < df[\"Probabilidad Acumulada\"][i]:\n",
        "                cromosoma1 = df[\"Cromosoma\"][i]\n",
        "                break\n",
        "        r = np.random.random()\n",
        "        for i in range(df.shape[0]):\n",
        "            if r < df[\"Probabilidad Acumulada\"][i]:\n",
        "                cromosoma2 = df[\"Cromosoma\"][i]\n",
        "                break\n",
        "\n",
        "        # aplicar entrecruzamiento\n",
        "        cromosoma1, cromosoma2 = entrecruzamiento(cromosoma1, cromosoma2, Pc)\n",
        "\n",
        "        cromosoma1 = mutacion(cromosoma1, Pm)\n",
        "        cromosoma2 = mutacion(cromosoma2, Pm)\n",
        "        finess1 = ratioSharpe(cromosoma1)\n",
        "        finess2 = ratioSharpe(cromosoma2)\n",
        "        cromosomas.append(cromosoma1)\n",
        "        cromosomas.append(cromosoma2)\n",
        "        fitness.append(finess1)\n",
        "        fitness.append(finess2)\n",
        "        del cromosoma1, cromosoma2, finess1, finess2\n",
        "\n",
        "    return cromosomas, fitness"
      ]
    },
    {
      "cell_type": "markdown",
      "metadata": {
        "id": "KDlEG6PTWFQS"
      },
      "source": [
        "Empezar con el entrenamiento"
      ]
    },
    {
      "cell_type": "code",
      "execution_count": 17,
      "metadata": {
        "id": "dvvPRAmFWFQT"
      },
      "outputs": [],
      "source": [
        "def cromosomaConsensoFunc(df1):\n",
        "    cromosomal = []\n",
        "    for i in range(20):\n",
        "        columna = []\n",
        "        for j in range(20):\n",
        "            columna.append(df1[\"Cromosoma\"][j][i])\n",
        "            # calculate the median of the column\n",
        "        median = np.median(columna)\n",
        "        cromosomal.append(median)\n",
        "        del columna, median\n",
        "    return cromosomal\n",
        "\n",
        "\n"
      ]
    },
    {
      "cell_type": "code",
      "execution_count": 18,
      "metadata": {
        "id": "K6g18daLWFQT"
      },
      "outputs": [],
      "source": [
        "def entrenamiento(NPOB, NGEN, Pc, Pm, C):\n",
        "  poblacion = []\n",
        "  for i in range(NPOB):\n",
        "      poblacion.append(cromosoma())\n",
        "\n",
        "  # calculate the fitness of the population\n",
        "  fitness = []\n",
        "  for i in range(NPOB):\n",
        "      fitness.append(ratioSharpe(poblacion[i]))\n",
        "\n",
        "  # save to pandas dataframe\n",
        "  df = pd.DataFrame({\"Cromosoma\": poblacion, \"Fitness\": fitness})\n",
        "  df = df.sort_values(by=\"Fitness\", ascending=False, ignore_index=True) \n",
        "\n",
        "\n",
        "  print(\"Comenzando algoritmo genético con los parametros:\")\n",
        "  print(f\"NPOB: {NPOB}\")\n",
        "  print(f\"NGEN: {NGEN}\")\n",
        "  print(f\"Pc: {Pc}\")\n",
        "  print(f\"Pm: {Pm}\")\n",
        "  print(f\"C: {C}\")\n",
        "\n",
        "\n",
        "  BESTc = None\n",
        "  BESTf = None\n",
        "  BESTPorcentaje = None\n",
        "  CONSf = None\n",
        "  cromosomaConsenso = None\n",
        "  historicoBestFitness = []\n",
        "\n",
        "\n",
        "\n",
        "  for v in range(NGEN):\n",
        "      nextGen = df.head(int(NPOB*0.2)).copy()\n",
        "      df = df[int(NPOB*0.2):]\n",
        "      df = df.reset_index(drop=True)\n",
        "\n",
        "\n",
        "      probabilidadSeleccion = []\n",
        "      for i in range(nextGen.shape[0]):\n",
        "          probabilidadSeleccion.append(nextGen[\"Fitness\"][i]/sum(nextGen[\"Fitness\"]))\n",
        "      probabilidadAcumulada = []\n",
        "      suma = 0\n",
        "      for i in range(nextGen.shape[0]):\n",
        "          suma += probabilidadSeleccion[i]\n",
        "          probabilidadAcumulada.append(suma)\n",
        "\n",
        "      #nextGen = nextGen.with_columns([pl.Series(\"Probabilidad\", probabilidadSeleccion), pl.Series(\"Probabilidad Acumulada\", probabilidadAcumulada)])\n",
        "      nextGen[\"Probabilidad\"] = probabilidadSeleccion\n",
        "      nextGen[\"Probabilidad Acumulada\"] = probabilidadAcumulada\n",
        "      del probabilidadAcumulada, probabilidadSeleccion\n",
        "\n",
        "      probabilidadSeleccion = []\n",
        "      for i in range(df.shape[0]):\n",
        "          probabilidadSeleccion.append(df[\"Fitness\"][i]/sum(df[\"Fitness\"]))\n",
        "      probabilidadAcumulada = []\n",
        "      suma = 0\n",
        "      for i in range(df.shape[0]):\n",
        "          suma += probabilidadSeleccion[i]\n",
        "          probabilidadAcumulada.append(suma)\n",
        "\n",
        "      df[\"Probabilidad\"] = probabilidadSeleccion\n",
        "      df[\"Probabilidad Acumulada\"] = probabilidadAcumulada\n",
        "      del probabilidadAcumulada, probabilidadSeleccion\n",
        "\n",
        "\n",
        "      hijosNextGen, fitnessNextGen = seleccionarHijos(nextGen, NPOB/2, Pc, Pm)\n",
        "      hijosDf, fitnessDf = seleccionarHijos(df, NPOB/3, Pc, Pm)\n",
        "\n",
        "      hijos = hijosNextGen + hijosDf\n",
        "      fitness = fitnessNextGen + fitnessDf\n",
        "\n",
        "      nextGen.drop(columns=[\"Probabilidad\", \"Probabilidad Acumulada\"], inplace=True)\n",
        "\n",
        "\n",
        "      newDf = pd.DataFrame({\"Cromosoma\": hijos, \"Fitness\": fitness})\n",
        "      del df\n",
        "\n",
        "      df = pd.concat([nextGen, newDf], ignore_index=True)\n",
        "\n",
        "      del hijos, fitness, hijosNextGen, fitnessNextGen, hijosDf, fitnessDf\n",
        "      del nextGen, newDf\n",
        "\n",
        "\n",
        "      df = df.sort_values(by=\"Fitness\", ascending=False, ignore_index=True)\n",
        "      if BESTf is None or BESTf < df[\"Fitness\"][0]:\n",
        "          BESTf = df[\"Fitness\"][0]\n",
        "          BESTc = df[\"Cromosoma\"][0]\n",
        "\n",
        "      historicoBestFitness.append(BESTf)\n",
        "\n",
        "      # count how many times the best chromosome appears in the population\n",
        "      count = 0\n",
        "      for i in range(NPOB):\n",
        "          if np.array_equal(df[\"Cromosoma\"][i], BESTc):\n",
        "              count += 1\n",
        "      BESTPorcentaje = count/NPOB * 100\n",
        "      del count\n",
        "\n",
        "      cromosomaConsenso = cromosomaConsensoFunc(df)\n",
        "\n",
        "      if v % NRES == 0:\n",
        "          print(f\"Generacion {v} completada\")\n",
        "          print(\"Mejor cromosoma:\", BESTc, \", Mejor fitness:\", BESTf)\n",
        "          print(\"Porcentaje de aparición del mejor cromosoma:\", BESTPorcentaje)\n",
        "          print(\"Cromosoma consenso:\", cromosomaConsenso)\n",
        "          print(\"\\n\"*2)\n",
        "          #df.write_avro(f\"generacion_{i}.avro\")\n",
        "      if v % NSAMPLE == 0:\n",
        "          print(f\"Generacion {v} completada\")\n",
        "          print(\"Mejor cromosoma:\", BESTc, \", Mejor fitness:\", BESTf)\n",
        "          print(\"Porcentaje de aparición del mejor cromosoma:\", BESTPorcentaje)\n",
        "          print(\"Cromosoma consenso:\", cromosomaConsenso)\n",
        "          print(\"Muestreo del 20% de la población\")\n",
        "          print(df.head(int(NPOB*0.2)))\n",
        "          print(\"\\n\"*2)\n",
        "\n",
        "\n",
        "  print(f\"Generacion {v} completada\")\n",
        "  print(\"Mejor cromosoma:\", BESTc, \", Mejor fitness:\", BESTf)\n",
        "  print(\"Porcentaje de aparición del mejor cromosoma:\", BESTPorcentaje)\n",
        "  print(\"Cromosoma consenso:\", CONSf)\n",
        "  print(\"Muestreo del 20% de la población\")\n",
        "  print(df.head(int(NPOB*0.2)))\n",
        "\n",
        "  return historicoBestFitness, BESTc, BESTf\n",
        "\n"
      ]
    },
    {
      "cell_type": "code",
      "execution_count": 19,
      "metadata": {
        "colab": {
          "base_uri": "https://localhost:8080/"
        },
        "id": "o5jXk4z8hcNl",
        "outputId": "00fec07f-7ebc-40a8-9413-afff149d87bb"
      },
      "outputs": [
        {
          "name": "stderr",
          "output_type": "stream",
          "text": [
            "/tmp/ipykernel_12653/1038542018.py:4: FutureWarning:\n",
            "\n",
            "Series.__getitem__ treating keys as positions is deprecated. In a future version, integer keys will always be treated as labels (consistent with DataFrame behavior). To access a value by position, use `ser.iloc[pos]`\n",
            "\n"
          ]
        },
        {
          "name": "stdout",
          "output_type": "stream",
          "text": [
            "Comenzando algoritmo genético con los parametros:\n",
            "NPOB: 100\n",
            "NGEN: 50\n",
            "Pc: 0.2\n",
            "Pm: 0.5\n",
            "C: 0.2\n"
          ]
        },
        {
          "name": "stderr",
          "output_type": "stream",
          "text": [
            "/tmp/ipykernel_12653/1038542018.py:4: FutureWarning:\n",
            "\n",
            "Series.__getitem__ treating keys as positions is deprecated. In a future version, integer keys will always be treated as labels (consistent with DataFrame behavior). To access a value by position, use `ser.iloc[pos]`\n",
            "\n"
          ]
        },
        {
          "name": "stdout",
          "output_type": "stream",
          "text": [
            "Generacion 0 completada\n",
            "Mejor cromosoma: [0.10352257 0.         0.         0.         0.1184331  0.05187738\n",
            " 0.         0.05702988 0.         0.         0.         0.07473062\n",
            " 0.09229384 0.03540135 0.04284265 0.07275556 0.14224636 0.\n",
            " 0.19656333 0.01230334] , Mejor fitness: -0.13641310268698445\n",
            "Porcentaje de aparición del mejor cromosoma: 0.01\n",
            "Cromosoma consenso: [0.07448453122578089, 0.0009804354575713484, 0.019684026814713956, 0.0040903022711759815, 0.061525029885553945, 0.020932505481329817, 0.026679096498611617, 0.06968926549082952, 0.013986298756156215, 0.07915569851605715, 0.004771548470766649, 0.05532229477043053, 0.0, 0.023768782079100277, 0.0, 0.05669060797033152, 0.09979276945436687, 0.0, 0.09023516743303234, 0.0420114700031387]\n",
            "\n",
            "\n",
            "\n",
            "Generacion 0 completada\n",
            "Mejor cromosoma: [0.10352257 0.         0.         0.         0.1184331  0.05187738\n",
            " 0.         0.05702988 0.         0.         0.         0.07473062\n",
            " 0.09229384 0.03540135 0.04284265 0.07275556 0.14224636 0.\n",
            " 0.19656333 0.01230334] , Mejor fitness: -0.13641310268698445\n",
            "Porcentaje de aparición del mejor cromosoma: 0.01\n",
            "Cromosoma consenso: [0.07448453122578089, 0.0009804354575713484, 0.019684026814713956, 0.0040903022711759815, 0.061525029885553945, 0.020932505481329817, 0.026679096498611617, 0.06968926549082952, 0.013986298756156215, 0.07915569851605715, 0.004771548470766649, 0.05532229477043053, 0.0, 0.023768782079100277, 0.0, 0.05669060797033152, 0.09979276945436687, 0.0, 0.09023516743303234, 0.0420114700031387]\n",
            "Muestreo del 20% de la población\n",
            "                                            Cromosoma   Fitness\n",
            "0   [0.10352256927320799, 0.0, 0.0, 0.0, 0.1184331... -0.136413\n",
            "1   [0.09124002110439365, 0.0, 0.07455789034609941... -0.145859\n",
            "2   [0.0806325121507469, 0.0, 0.0, 0.0, 0.0, 0.026... -0.148378\n",
            "3   [0.07714769459602769, 0.04700203751466301, 0.0... -0.177065\n",
            "4   [0.04589772606337293, 0.0, 0.02164399252945015... -0.188460\n",
            "5   [0.07543290781710413, 0.008987469163597234, 0.... -0.191718\n",
            "6   [0.0, 0.035974430657063565, 0.0220078985454302... -0.192022\n",
            "7   [0.11240243927327774, 0.0, 0.00144664610589104... -0.201985\n",
            "8   [0.0788890583949008, 0.001960870915142697, 0.0... -0.207193\n",
            "9   [0.07363478514620529, 0.04486180633068842, 0.0... -0.225689\n",
            "10  [0.03705745827945992, 0.0, 0.01837493118826077... -0.226496\n",
            "11  [0.00020652414288100374, 0.06957523397728575, ... -0.247966\n",
            "12  [0.03671970500765991, 0.0, 0.01731591277031991... -0.257881\n",
            "13  [0.08707783827508164, 0.0, 0.0, 0.0, 0.0, 0.19... -0.279244\n",
            "14  [0.1004405193505324, 0.0, 0.002220996729804732... -0.279416\n",
            "15  [0.0014221880647108595, 0.014894747301242104, ... -0.283127\n",
            "16  [0.0532934847649053, 0.0, 0.0435494177354151, ... -0.283773\n",
            "17  [0.0753342773053565, 0.03414608121998519, 0.05... -0.284181\n",
            "18  [0.05949864103493321, 0.07267832549120454, 0.0... -0.291421\n",
            "19  [0.02990319457749336, 0.016387813850684232, 0.... -0.297073\n",
            "\n",
            "\n",
            "\n"
          ]
        },
        {
          "name": "stderr",
          "output_type": "stream",
          "text": [
            "/tmp/ipykernel_12653/1038542018.py:4: FutureWarning:\n",
            "\n",
            "Series.__getitem__ treating keys as positions is deprecated. In a future version, integer keys will always be treated as labels (consistent with DataFrame behavior). To access a value by position, use `ser.iloc[pos]`\n",
            "\n",
            "/tmp/ipykernel_12653/1038542018.py:4: FutureWarning:\n",
            "\n",
            "Series.__getitem__ treating keys as positions is deprecated. In a future version, integer keys will always be treated as labels (consistent with DataFrame behavior). To access a value by position, use `ser.iloc[pos]`\n",
            "\n",
            "/tmp/ipykernel_12653/1038542018.py:4: FutureWarning:\n",
            "\n",
            "Series.__getitem__ treating keys as positions is deprecated. In a future version, integer keys will always be treated as labels (consistent with DataFrame behavior). To access a value by position, use `ser.iloc[pos]`\n",
            "\n",
            "/tmp/ipykernel_12653/1038542018.py:4: FutureWarning:\n",
            "\n",
            "Series.__getitem__ treating keys as positions is deprecated. In a future version, integer keys will always be treated as labels (consistent with DataFrame behavior). To access a value by position, use `ser.iloc[pos]`\n",
            "\n",
            "/tmp/ipykernel_12653/1038542018.py:4: FutureWarning:\n",
            "\n",
            "Series.__getitem__ treating keys as positions is deprecated. In a future version, integer keys will always be treated as labels (consistent with DataFrame behavior). To access a value by position, use `ser.iloc[pos]`\n",
            "\n",
            "/tmp/ipykernel_12653/1038542018.py:4: FutureWarning:\n",
            "\n",
            "Series.__getitem__ treating keys as positions is deprecated. In a future version, integer keys will always be treated as labels (consistent with DataFrame behavior). To access a value by position, use `ser.iloc[pos]`\n",
            "\n",
            "/tmp/ipykernel_12653/1038542018.py:4: FutureWarning:\n",
            "\n",
            "Series.__getitem__ treating keys as positions is deprecated. In a future version, integer keys will always be treated as labels (consistent with DataFrame behavior). To access a value by position, use `ser.iloc[pos]`\n",
            "\n",
            "/tmp/ipykernel_12653/1038542018.py:4: FutureWarning:\n",
            "\n",
            "Series.__getitem__ treating keys as positions is deprecated. In a future version, integer keys will always be treated as labels (consistent with DataFrame behavior). To access a value by position, use `ser.iloc[pos]`\n",
            "\n",
            "/tmp/ipykernel_12653/1038542018.py:4: FutureWarning:\n",
            "\n",
            "Series.__getitem__ treating keys as positions is deprecated. In a future version, integer keys will always be treated as labels (consistent with DataFrame behavior). To access a value by position, use `ser.iloc[pos]`\n",
            "\n",
            "/tmp/ipykernel_12653/1038542018.py:4: FutureWarning:\n",
            "\n",
            "Series.__getitem__ treating keys as positions is deprecated. In a future version, integer keys will always be treated as labels (consistent with DataFrame behavior). To access a value by position, use `ser.iloc[pos]`\n",
            "\n"
          ]
        },
        {
          "name": "stdout",
          "output_type": "stream",
          "text": [
            "Generacion 10 completada\n",
            "Mejor cromosoma: [0.03919776 0.         0.         0.         0.0537578  0.\n",
            " 0.14799432 0.13201123 0.         0.         0.         0.\n",
            " 0.         0.         0.         0.         0.47111936 0.\n",
            " 0.15591953 0.        ] , Mejor fitness: 0.1343107832465413\n",
            "Porcentaje de aparición del mejor cromosoma: 0.01\n",
            "Cromosoma consenso: [0.019587560038243176, 0.0, 0.039103278220620846, 0.0, 0.0, 0.0, 0.0005104710962411952, 0.0, 0.0, 0.0, 0.0, 0.0, 0.0, 0.0, 0.0, 0.0, 0.29804594281611474, 0.0, 0.0198108168132387, 0.019050308539729388]\n",
            "\n",
            "\n",
            "\n"
          ]
        },
        {
          "name": "stderr",
          "output_type": "stream",
          "text": [
            "/tmp/ipykernel_12653/1038542018.py:4: FutureWarning:\n",
            "\n",
            "Series.__getitem__ treating keys as positions is deprecated. In a future version, integer keys will always be treated as labels (consistent with DataFrame behavior). To access a value by position, use `ser.iloc[pos]`\n",
            "\n",
            "/tmp/ipykernel_12653/1038542018.py:4: FutureWarning:\n",
            "\n",
            "Series.__getitem__ treating keys as positions is deprecated. In a future version, integer keys will always be treated as labels (consistent with DataFrame behavior). To access a value by position, use `ser.iloc[pos]`\n",
            "\n",
            "/tmp/ipykernel_12653/1038542018.py:4: FutureWarning:\n",
            "\n",
            "Series.__getitem__ treating keys as positions is deprecated. In a future version, integer keys will always be treated as labels (consistent with DataFrame behavior). To access a value by position, use `ser.iloc[pos]`\n",
            "\n",
            "/tmp/ipykernel_12653/1038542018.py:4: FutureWarning:\n",
            "\n",
            "Series.__getitem__ treating keys as positions is deprecated. In a future version, integer keys will always be treated as labels (consistent with DataFrame behavior). To access a value by position, use `ser.iloc[pos]`\n",
            "\n",
            "/tmp/ipykernel_12653/1038542018.py:4: FutureWarning:\n",
            "\n",
            "Series.__getitem__ treating keys as positions is deprecated. In a future version, integer keys will always be treated as labels (consistent with DataFrame behavior). To access a value by position, use `ser.iloc[pos]`\n",
            "\n",
            "/tmp/ipykernel_12653/1038542018.py:4: FutureWarning:\n",
            "\n",
            "Series.__getitem__ treating keys as positions is deprecated. In a future version, integer keys will always be treated as labels (consistent with DataFrame behavior). To access a value by position, use `ser.iloc[pos]`\n",
            "\n",
            "/tmp/ipykernel_12653/1038542018.py:4: FutureWarning:\n",
            "\n",
            "Series.__getitem__ treating keys as positions is deprecated. In a future version, integer keys will always be treated as labels (consistent with DataFrame behavior). To access a value by position, use `ser.iloc[pos]`\n",
            "\n",
            "/tmp/ipykernel_12653/1038542018.py:4: FutureWarning:\n",
            "\n",
            "Series.__getitem__ treating keys as positions is deprecated. In a future version, integer keys will always be treated as labels (consistent with DataFrame behavior). To access a value by position, use `ser.iloc[pos]`\n",
            "\n",
            "/tmp/ipykernel_12653/1038542018.py:4: FutureWarning:\n",
            "\n",
            "Series.__getitem__ treating keys as positions is deprecated. In a future version, integer keys will always be treated as labels (consistent with DataFrame behavior). To access a value by position, use `ser.iloc[pos]`\n",
            "\n",
            "/tmp/ipykernel_12653/1038542018.py:4: FutureWarning:\n",
            "\n",
            "Series.__getitem__ treating keys as positions is deprecated. In a future version, integer keys will always be treated as labels (consistent with DataFrame behavior). To access a value by position, use `ser.iloc[pos]`\n",
            "\n"
          ]
        },
        {
          "name": "stdout",
          "output_type": "stream",
          "text": [
            "Generacion 20 completada\n",
            "Mejor cromosoma: [0.08464577 0.02957968 0.         0.         0.01526009 0.05616404\n",
            " 0.         0.         0.         0.04995604 0.         0.\n",
            " 0.         0.04395256 0.08624664 0.         0.08489869 0.\n",
            " 0.0584661  0.        ] , Mejor fitness: 0.2226176244728208\n",
            "Porcentaje de aparición del mejor cromosoma: 0.01\n",
            "Cromosoma consenso: [0.04730237505952027, 0.0, 0.0010142506293815666, 0.0, 0.0, 0.0, 0.0, 0.0, 0.0, 0.0, 0.0030330367701587035, 0.00499275824988581, 0.0, 0.0028450390353857414, 0.0, 0.0, 0.21091513854199948, 0.0, 0.0, 0.0]\n",
            "\n",
            "\n",
            "\n"
          ]
        },
        {
          "name": "stderr",
          "output_type": "stream",
          "text": [
            "/tmp/ipykernel_12653/1038542018.py:4: FutureWarning:\n",
            "\n",
            "Series.__getitem__ treating keys as positions is deprecated. In a future version, integer keys will always be treated as labels (consistent with DataFrame behavior). To access a value by position, use `ser.iloc[pos]`\n",
            "\n",
            "/tmp/ipykernel_12653/1038542018.py:4: FutureWarning:\n",
            "\n",
            "Series.__getitem__ treating keys as positions is deprecated. In a future version, integer keys will always be treated as labels (consistent with DataFrame behavior). To access a value by position, use `ser.iloc[pos]`\n",
            "\n",
            "/tmp/ipykernel_12653/1038542018.py:4: FutureWarning:\n",
            "\n",
            "Series.__getitem__ treating keys as positions is deprecated. In a future version, integer keys will always be treated as labels (consistent with DataFrame behavior). To access a value by position, use `ser.iloc[pos]`\n",
            "\n",
            "/tmp/ipykernel_12653/1038542018.py:4: FutureWarning:\n",
            "\n",
            "Series.__getitem__ treating keys as positions is deprecated. In a future version, integer keys will always be treated as labels (consistent with DataFrame behavior). To access a value by position, use `ser.iloc[pos]`\n",
            "\n",
            "/tmp/ipykernel_12653/1038542018.py:4: FutureWarning:\n",
            "\n",
            "Series.__getitem__ treating keys as positions is deprecated. In a future version, integer keys will always be treated as labels (consistent with DataFrame behavior). To access a value by position, use `ser.iloc[pos]`\n",
            "\n"
          ]
        },
        {
          "ename": "KeyboardInterrupt",
          "evalue": "",
          "output_type": "error",
          "traceback": [
            "\u001b[0;31m---------------------------------------------------------------------------\u001b[0m",
            "\u001b[0;31mKeyboardInterrupt\u001b[0m                         Traceback (most recent call last)",
            "\u001b[0;32m/tmp/ipykernel_12653/2947946526.py\u001b[0m in \u001b[0;36m?\u001b[0;34m()\u001b[0m\n\u001b[1;32m     10\u001b[0m     \u001b[0;32mfor\u001b[0m \u001b[0mNGEN\u001b[0m \u001b[0;32min\u001b[0m \u001b[0marrayNGEN\u001b[0m\u001b[0;34m:\u001b[0m\u001b[0;34m\u001b[0m\u001b[0;34m\u001b[0m\u001b[0m\n\u001b[1;32m     11\u001b[0m         \u001b[0;32mfor\u001b[0m \u001b[0mPc\u001b[0m \u001b[0;32min\u001b[0m \u001b[0marrayC\u001b[0m\u001b[0;34m:\u001b[0m\u001b[0;34m\u001b[0m\u001b[0;34m\u001b[0m\u001b[0m\n\u001b[1;32m     12\u001b[0m             \u001b[0;32mfor\u001b[0m \u001b[0mPm\u001b[0m \u001b[0;32min\u001b[0m \u001b[0marrayPm\u001b[0m\u001b[0;34m:\u001b[0m\u001b[0;34m\u001b[0m\u001b[0;34m\u001b[0m\u001b[0m\n\u001b[1;32m     13\u001b[0m                 \u001b[0;32mfor\u001b[0m \u001b[0mC\u001b[0m \u001b[0;32min\u001b[0m \u001b[0marrayC\u001b[0m\u001b[0;34m:\u001b[0m\u001b[0;34m\u001b[0m\u001b[0;34m\u001b[0m\u001b[0m\n\u001b[0;32m---> 14\u001b[0;31m                   \u001b[0mhistoricoBestFitness\u001b[0m\u001b[0;34m,\u001b[0m \u001b[0mBESTc\u001b[0m\u001b[0;34m,\u001b[0m \u001b[0mBESTf\u001b[0m \u001b[0;34m=\u001b[0m \u001b[0mentrenamiento\u001b[0m\u001b[0;34m(\u001b[0m\u001b[0mNPOB\u001b[0m\u001b[0;34m,\u001b[0m \u001b[0mNGEN\u001b[0m\u001b[0;34m,\u001b[0m \u001b[0mPc\u001b[0m\u001b[0;34m,\u001b[0m \u001b[0mPm\u001b[0m\u001b[0;34m,\u001b[0m \u001b[0mC\u001b[0m\u001b[0;34m)\u001b[0m\u001b[0;34m\u001b[0m\u001b[0;34m\u001b[0m\u001b[0m\n\u001b[0m\u001b[1;32m     15\u001b[0m \u001b[0;34m\u001b[0m\u001b[0m\n\u001b[1;32m     16\u001b[0m                   \u001b[0mplt\u001b[0m\u001b[0;34m.\u001b[0m\u001b[0mplot\u001b[0m\u001b[0;34m(\u001b[0m\u001b[0mhistoricoBestFitness\u001b[0m\u001b[0;34m)\u001b[0m\u001b[0;34m\u001b[0m\u001b[0;34m\u001b[0m\u001b[0m\n\u001b[1;32m     17\u001b[0m                   \u001b[0mplt\u001b[0m\u001b[0;34m.\u001b[0m\u001b[0mtitle\u001b[0m\u001b[0;34m(\u001b[0m\u001b[0;34m\"Mejor fitness por generación\"\u001b[0m\u001b[0;34m)\u001b[0m\u001b[0;34m\u001b[0m\u001b[0;34m\u001b[0m\u001b[0m\n",
            "\u001b[0;32m/tmp/ipykernel_12653/1098698459.py\u001b[0m in \u001b[0;36m?\u001b[0;34m(NPOB, NGEN, Pc, Pm, C)\u001b[0m\n\u001b[1;32m     64\u001b[0m       \u001b[0;32mdel\u001b[0m \u001b[0mprobabilidadAcumulada\u001b[0m\u001b[0;34m,\u001b[0m \u001b[0mprobabilidadSeleccion\u001b[0m\u001b[0;34m\u001b[0m\u001b[0;34m\u001b[0m\u001b[0m\n\u001b[1;32m     65\u001b[0m \u001b[0;34m\u001b[0m\u001b[0m\n\u001b[1;32m     66\u001b[0m \u001b[0;34m\u001b[0m\u001b[0m\n\u001b[1;32m     67\u001b[0m       \u001b[0mhijosNextGen\u001b[0m\u001b[0;34m,\u001b[0m \u001b[0mfitnessNextGen\u001b[0m \u001b[0;34m=\u001b[0m \u001b[0mseleccionarHijos\u001b[0m\u001b[0;34m(\u001b[0m\u001b[0mnextGen\u001b[0m\u001b[0;34m,\u001b[0m \u001b[0mNPOB\u001b[0m\u001b[0;34m/\u001b[0m\u001b[0;36m2\u001b[0m\u001b[0;34m,\u001b[0m \u001b[0mPc\u001b[0m\u001b[0;34m,\u001b[0m \u001b[0mPm\u001b[0m\u001b[0;34m)\u001b[0m\u001b[0;34m\u001b[0m\u001b[0;34m\u001b[0m\u001b[0m\n\u001b[0;32m---> 68\u001b[0;31m       \u001b[0mhijosDf\u001b[0m\u001b[0;34m,\u001b[0m \u001b[0mfitnessDf\u001b[0m \u001b[0;34m=\u001b[0m \u001b[0mseleccionarHijos\u001b[0m\u001b[0;34m(\u001b[0m\u001b[0mdf\u001b[0m\u001b[0;34m,\u001b[0m \u001b[0mNPOB\u001b[0m\u001b[0;34m/\u001b[0m\u001b[0;36m3\u001b[0m\u001b[0;34m,\u001b[0m \u001b[0mPc\u001b[0m\u001b[0;34m,\u001b[0m \u001b[0mPm\u001b[0m\u001b[0;34m)\u001b[0m\u001b[0;34m\u001b[0m\u001b[0;34m\u001b[0m\u001b[0m\n\u001b[0m\u001b[1;32m     69\u001b[0m \u001b[0;34m\u001b[0m\u001b[0m\n\u001b[1;32m     70\u001b[0m       \u001b[0mhijos\u001b[0m \u001b[0;34m=\u001b[0m \u001b[0mhijosNextGen\u001b[0m \u001b[0;34m+\u001b[0m \u001b[0mhijosDf\u001b[0m\u001b[0;34m\u001b[0m\u001b[0;34m\u001b[0m\u001b[0m\n\u001b[1;32m     71\u001b[0m       \u001b[0mfitness\u001b[0m \u001b[0;34m=\u001b[0m \u001b[0mfitnessNextGen\u001b[0m \u001b[0;34m+\u001b[0m \u001b[0mfitnessDf\u001b[0m\u001b[0;34m\u001b[0m\u001b[0;34m\u001b[0m\u001b[0m\n",
            "\u001b[0;32m/tmp/ipykernel_12653/814067631.py\u001b[0m in \u001b[0;36m?\u001b[0;34m(df, fraccion, Pc, Pm)\u001b[0m\n\u001b[1;32m     21\u001b[0m \u001b[0;34m\u001b[0m\u001b[0m\n\u001b[1;32m     22\u001b[0m         \u001b[0mcromosoma1\u001b[0m \u001b[0;34m=\u001b[0m \u001b[0mmutacion\u001b[0m\u001b[0;34m(\u001b[0m\u001b[0mcromosoma1\u001b[0m\u001b[0;34m,\u001b[0m \u001b[0mPm\u001b[0m\u001b[0;34m)\u001b[0m\u001b[0;34m\u001b[0m\u001b[0;34m\u001b[0m\u001b[0m\n\u001b[1;32m     23\u001b[0m         \u001b[0mcromosoma2\u001b[0m \u001b[0;34m=\u001b[0m \u001b[0mmutacion\u001b[0m\u001b[0;34m(\u001b[0m\u001b[0mcromosoma2\u001b[0m\u001b[0;34m,\u001b[0m \u001b[0mPm\u001b[0m\u001b[0;34m)\u001b[0m\u001b[0;34m\u001b[0m\u001b[0;34m\u001b[0m\u001b[0m\n\u001b[1;32m     24\u001b[0m         \u001b[0mfiness1\u001b[0m \u001b[0;34m=\u001b[0m \u001b[0mratioSharpe\u001b[0m\u001b[0;34m(\u001b[0m\u001b[0mcromosoma1\u001b[0m\u001b[0;34m)\u001b[0m\u001b[0;34m\u001b[0m\u001b[0;34m\u001b[0m\u001b[0m\n\u001b[0;32m---> 25\u001b[0;31m         \u001b[0mfiness2\u001b[0m \u001b[0;34m=\u001b[0m \u001b[0mratioSharpe\u001b[0m\u001b[0;34m(\u001b[0m\u001b[0mcromosoma2\u001b[0m\u001b[0;34m)\u001b[0m\u001b[0;34m\u001b[0m\u001b[0;34m\u001b[0m\u001b[0m\n\u001b[0m\u001b[1;32m     26\u001b[0m         \u001b[0mcromosomas\u001b[0m\u001b[0;34m.\u001b[0m\u001b[0mappend\u001b[0m\u001b[0;34m(\u001b[0m\u001b[0mcromosoma1\u001b[0m\u001b[0;34m)\u001b[0m\u001b[0;34m\u001b[0m\u001b[0;34m\u001b[0m\u001b[0m\n\u001b[1;32m     27\u001b[0m         \u001b[0mcromosomas\u001b[0m\u001b[0;34m.\u001b[0m\u001b[0mappend\u001b[0m\u001b[0;34m(\u001b[0m\u001b[0mcromosoma2\u001b[0m\u001b[0;34m)\u001b[0m\u001b[0;34m\u001b[0m\u001b[0;34m\u001b[0m\u001b[0m\n\u001b[1;32m     28\u001b[0m         \u001b[0mfitness\u001b[0m\u001b[0;34m.\u001b[0m\u001b[0mappend\u001b[0m\u001b[0;34m(\u001b[0m\u001b[0mfiness1\u001b[0m\u001b[0;34m)\u001b[0m\u001b[0;34m\u001b[0m\u001b[0;34m\u001b[0m\u001b[0m\n",
            "\u001b[0;32m/tmp/ipykernel_12653/2392100918.py\u001b[0m in \u001b[0;36m?\u001b[0;34m(cromosoma)\u001b[0m\n\u001b[1;32m      1\u001b[0m \u001b[0;32mdef\u001b[0m \u001b[0mratioSharpe\u001b[0m\u001b[0;34m(\u001b[0m\u001b[0mcromosoma\u001b[0m\u001b[0;34m)\u001b[0m\u001b[0;34m:\u001b[0m\u001b[0;34m\u001b[0m\u001b[0;34m\u001b[0m\u001b[0m\n\u001b[1;32m      2\u001b[0m     \u001b[0mrc\u001b[0m \u001b[0;34m=\u001b[0m \u001b[0mcalcularRc\u001b[0m\u001b[0;34m(\u001b[0m\u001b[0mcromosoma\u001b[0m\u001b[0;34m)\u001b[0m\u001b[0;34m\u001b[0m\u001b[0;34m\u001b[0m\u001b[0m\n\u001b[0;32m----> 3\u001b[0;31m     \u001b[0mdesv\u001b[0m \u001b[0;34m=\u001b[0m \u001b[0mcalcularOc\u001b[0m\u001b[0;34m(\u001b[0m\u001b[0mcromosoma\u001b[0m\u001b[0;34m)\u001b[0m\u001b[0;34m\u001b[0m\u001b[0;34m\u001b[0m\u001b[0m\n\u001b[0m\u001b[1;32m      4\u001b[0m     \u001b[0;32mreturn\u001b[0m \u001b[0;34m(\u001b[0m\u001b[0mrc\u001b[0m \u001b[0;34m-\u001b[0m \u001b[0;36m0.003757\u001b[0m\u001b[0;34m)\u001b[0m\u001b[0;34m/\u001b[0m\u001b[0mdesv\u001b[0m\u001b[0;34m\u001b[0m\u001b[0;34m\u001b[0m\u001b[0m\n",
            "\u001b[0;32m/tmp/ipykernel_12653/451447960.py\u001b[0m in \u001b[0;36m?\u001b[0;34m(cromosoma)\u001b[0m\n\u001b[1;32m      1\u001b[0m \u001b[0;32mdef\u001b[0m \u001b[0mcalcularOc\u001b[0m\u001b[0;34m(\u001b[0m\u001b[0mcromosoma\u001b[0m\u001b[0;34m)\u001b[0m\u001b[0;34m:\u001b[0m\u001b[0;34m\u001b[0m\u001b[0;34m\u001b[0m\u001b[0m\n\u001b[1;32m      2\u001b[0m     \u001b[0mresultado\u001b[0m \u001b[0;34m=\u001b[0m \u001b[0;36m0\u001b[0m\u001b[0;34m\u001b[0m\u001b[0;34m\u001b[0m\u001b[0m\n\u001b[1;32m      3\u001b[0m     \u001b[0;32mfor\u001b[0m \u001b[0mi\u001b[0m \u001b[0;32min\u001b[0m \u001b[0mrange\u001b[0m\u001b[0;34m(\u001b[0m\u001b[0;36m20\u001b[0m\u001b[0;34m)\u001b[0m\u001b[0;34m:\u001b[0m\u001b[0;34m\u001b[0m\u001b[0;34m\u001b[0m\u001b[0m\n\u001b[1;32m      4\u001b[0m         \u001b[0;32mfor\u001b[0m \u001b[0mj\u001b[0m \u001b[0;32min\u001b[0m \u001b[0mrange\u001b[0m\u001b[0;34m(\u001b[0m\u001b[0;36m20\u001b[0m\u001b[0;34m)\u001b[0m\u001b[0;34m:\u001b[0m\u001b[0;34m\u001b[0m\u001b[0;34m\u001b[0m\u001b[0m\n\u001b[0;32m----> 5\u001b[0;31m             \u001b[0mresultado\u001b[0m \u001b[0;34m+=\u001b[0m \u001b[0mcromosoma\u001b[0m\u001b[0;34m[\u001b[0m\u001b[0mi\u001b[0m\u001b[0;34m]\u001b[0m\u001b[0;34m*\u001b[0m\u001b[0mcromosoma\u001b[0m\u001b[0;34m[\u001b[0m\u001b[0mj\u001b[0m\u001b[0;34m]\u001b[0m\u001b[0;34m*\u001b[0m\u001b[0mcalcularOi\u001b[0m\u001b[0;34m(\u001b[0m\u001b[0mi\u001b[0m\u001b[0;34m)\u001b[0m\u001b[0;34m*\u001b[0m\u001b[0mcalcularOi\u001b[0m\u001b[0;34m(\u001b[0m\u001b[0mj\u001b[0m\u001b[0;34m)\u001b[0m\u001b[0;34m\u001b[0m\u001b[0;34m\u001b[0m\u001b[0m\n\u001b[0m\u001b[1;32m      6\u001b[0m     \u001b[0;32mreturn\u001b[0m \u001b[0mnp\u001b[0m\u001b[0;34m.\u001b[0m\u001b[0msqrt\u001b[0m\u001b[0;34m(\u001b[0m\u001b[0;36m0.25\u001b[0m \u001b[0;34m*\u001b[0m \u001b[0mresultado\u001b[0m\u001b[0;34m)\u001b[0m\u001b[0;34m\u001b[0m\u001b[0;34m\u001b[0m\u001b[0m\n",
            "\u001b[0;32m/tmp/ipykernel_12653/1038542018.py\u001b[0m in \u001b[0;36m?\u001b[0;34m(i)\u001b[0m\n\u001b[1;32m      1\u001b[0m \u001b[0;32mdef\u001b[0m \u001b[0mcalcularOi\u001b[0m\u001b[0;34m(\u001b[0m\u001b[0mi\u001b[0m\u001b[0;34m)\u001b[0m\u001b[0;34m:\u001b[0m\u001b[0;34m\u001b[0m\u001b[0;34m\u001b[0m\u001b[0m\n\u001b[1;32m      2\u001b[0m     \u001b[0mresultado\u001b[0m \u001b[0;34m=\u001b[0m \u001b[0;36m0\u001b[0m\u001b[0;34m\u001b[0m\u001b[0;34m\u001b[0m\u001b[0m\n\u001b[1;32m      3\u001b[0m     \u001b[0;32mfor\u001b[0m \u001b[0mm\u001b[0m \u001b[0;32min\u001b[0m \u001b[0mrange\u001b[0m\u001b[0;34m(\u001b[0m\u001b[0;36m12\u001b[0m\u001b[0;34m)\u001b[0m\u001b[0;34m:\u001b[0m\u001b[0;34m\u001b[0m\u001b[0;34m\u001b[0m\u001b[0m\n\u001b[0;32m----> 4\u001b[0;31m         \u001b[0mresultado\u001b[0m \u001b[0;34m+=\u001b[0m \u001b[0mnp\u001b[0m\u001b[0;34m.\u001b[0m\u001b[0msquare\u001b[0m\u001b[0;34m(\u001b[0m\u001b[0mdata\u001b[0m\u001b[0;34m.\u001b[0m\u001b[0miloc\u001b[0m\u001b[0;34m[\u001b[0m\u001b[0mi\u001b[0m\u001b[0;34m]\u001b[0m\u001b[0;34m[\u001b[0m\u001b[0mm\u001b[0m\u001b[0;34m+\u001b[0m\u001b[0;36m1\u001b[0m\u001b[0;34m]\u001b[0m \u001b[0;34m-\u001b[0m \u001b[0mri\u001b[0m\u001b[0;34m(\u001b[0m\u001b[0mdata\u001b[0m\u001b[0;34m.\u001b[0m\u001b[0miloc\u001b[0m\u001b[0;34m[\u001b[0m\u001b[0mi\u001b[0m\u001b[0;34m]\u001b[0m\u001b[0;34m[\u001b[0m\u001b[0;34m\"Empresa\"\u001b[0m\u001b[0;34m]\u001b[0m\u001b[0;34m)\u001b[0m\u001b[0;34m)\u001b[0m\u001b[0;34m\u001b[0m\u001b[0;34m\u001b[0m\u001b[0m\n\u001b[0m\u001b[1;32m      5\u001b[0m     \u001b[0;32mreturn\u001b[0m \u001b[0mnp\u001b[0m\u001b[0;34m.\u001b[0m\u001b[0msqrt\u001b[0m\u001b[0;34m(\u001b[0m\u001b[0mresultado\u001b[0m\u001b[0;34m/\u001b[0m\u001b[0;36m11\u001b[0m\u001b[0;34m)\u001b[0m\u001b[0;34m\u001b[0m\u001b[0;34m\u001b[0m\u001b[0m\n",
            "\u001b[0;32m~/Trabajos/IA2/lib/python3.11/site-packages/pandas/core/indexing.py\u001b[0m in \u001b[0;36m?\u001b[0;34m(self, key)\u001b[0m\n\u001b[1;32m   1187\u001b[0m             \u001b[0maxis\u001b[0m \u001b[0;34m=\u001b[0m \u001b[0mself\u001b[0m\u001b[0;34m.\u001b[0m\u001b[0maxis\u001b[0m \u001b[0;32mor\u001b[0m \u001b[0;36m0\u001b[0m\u001b[0;34m\u001b[0m\u001b[0;34m\u001b[0m\u001b[0m\n\u001b[1;32m   1188\u001b[0m \u001b[0;34m\u001b[0m\u001b[0m\n\u001b[1;32m   1189\u001b[0m             \u001b[0mmaybe_callable\u001b[0m \u001b[0;34m=\u001b[0m \u001b[0mcom\u001b[0m\u001b[0;34m.\u001b[0m\u001b[0mapply_if_callable\u001b[0m\u001b[0;34m(\u001b[0m\u001b[0mkey\u001b[0m\u001b[0;34m,\u001b[0m \u001b[0mself\u001b[0m\u001b[0;34m.\u001b[0m\u001b[0mobj\u001b[0m\u001b[0;34m)\u001b[0m\u001b[0;34m\u001b[0m\u001b[0;34m\u001b[0m\u001b[0m\n\u001b[1;32m   1190\u001b[0m             \u001b[0mmaybe_callable\u001b[0m \u001b[0;34m=\u001b[0m \u001b[0mself\u001b[0m\u001b[0;34m.\u001b[0m\u001b[0m_check_deprecated_callable_usage\u001b[0m\u001b[0;34m(\u001b[0m\u001b[0mkey\u001b[0m\u001b[0;34m,\u001b[0m \u001b[0mmaybe_callable\u001b[0m\u001b[0;34m)\u001b[0m\u001b[0;34m\u001b[0m\u001b[0;34m\u001b[0m\u001b[0m\n\u001b[0;32m-> 1191\u001b[0;31m             \u001b[0;32mreturn\u001b[0m \u001b[0mself\u001b[0m\u001b[0;34m.\u001b[0m\u001b[0m_getitem_axis\u001b[0m\u001b[0;34m(\u001b[0m\u001b[0mmaybe_callable\u001b[0m\u001b[0;34m,\u001b[0m \u001b[0maxis\u001b[0m\u001b[0;34m=\u001b[0m\u001b[0maxis\u001b[0m\u001b[0;34m)\u001b[0m\u001b[0;34m\u001b[0m\u001b[0;34m\u001b[0m\u001b[0m\n\u001b[0m",
            "\u001b[0;32m~/Trabajos/IA2/lib/python3.11/site-packages/pandas/core/indexing.py\u001b[0m in \u001b[0;36m?\u001b[0;34m(self, key, axis)\u001b[0m\n\u001b[1;32m   1750\u001b[0m \u001b[0;34m\u001b[0m\u001b[0m\n\u001b[1;32m   1751\u001b[0m             \u001b[0;31m# validate the location\u001b[0m\u001b[0;34m\u001b[0m\u001b[0;34m\u001b[0m\u001b[0m\n\u001b[1;32m   1752\u001b[0m             \u001b[0mself\u001b[0m\u001b[0;34m.\u001b[0m\u001b[0m_validate_integer\u001b[0m\u001b[0;34m(\u001b[0m\u001b[0mkey\u001b[0m\u001b[0;34m,\u001b[0m \u001b[0maxis\u001b[0m\u001b[0;34m)\u001b[0m\u001b[0;34m\u001b[0m\u001b[0;34m\u001b[0m\u001b[0m\n\u001b[1;32m   1753\u001b[0m \u001b[0;34m\u001b[0m\u001b[0m\n\u001b[0;32m-> 1754\u001b[0;31m             \u001b[0;32mreturn\u001b[0m \u001b[0mself\u001b[0m\u001b[0;34m.\u001b[0m\u001b[0mobj\u001b[0m\u001b[0;34m.\u001b[0m\u001b[0m_ixs\u001b[0m\u001b[0;34m(\u001b[0m\u001b[0mkey\u001b[0m\u001b[0;34m,\u001b[0m \u001b[0maxis\u001b[0m\u001b[0;34m=\u001b[0m\u001b[0maxis\u001b[0m\u001b[0;34m)\u001b[0m\u001b[0;34m\u001b[0m\u001b[0;34m\u001b[0m\u001b[0m\n\u001b[0m",
            "\u001b[0;32m~/Trabajos/IA2/lib/python3.11/site-packages/pandas/core/frame.py\u001b[0m in \u001b[0;36m?\u001b[0;34m(self, i, axis)\u001b[0m\n\u001b[1;32m   3999\u001b[0m             \u001b[0mcopy\u001b[0m \u001b[0;34m=\u001b[0m \u001b[0misinstance\u001b[0m\u001b[0;34m(\u001b[0m\u001b[0mnew_mgr\u001b[0m\u001b[0;34m.\u001b[0m\u001b[0marray\u001b[0m\u001b[0;34m,\u001b[0m \u001b[0mnp\u001b[0m\u001b[0;34m.\u001b[0m\u001b[0mndarray\u001b[0m\u001b[0;34m)\u001b[0m \u001b[0;32mand\u001b[0m \u001b[0mnew_mgr\u001b[0m\u001b[0;34m.\u001b[0m\u001b[0marray\u001b[0m\u001b[0;34m.\u001b[0m\u001b[0mbase\u001b[0m \u001b[0;32mis\u001b[0m \u001b[0;32mNone\u001b[0m\u001b[0;34m\u001b[0m\u001b[0;34m\u001b[0m\u001b[0m\n\u001b[1;32m   4000\u001b[0m             \u001b[0mresult\u001b[0m \u001b[0;34m=\u001b[0m \u001b[0mself\u001b[0m\u001b[0;34m.\u001b[0m\u001b[0m_constructor_sliced_from_mgr\u001b[0m\u001b[0;34m(\u001b[0m\u001b[0mnew_mgr\u001b[0m\u001b[0;34m,\u001b[0m \u001b[0maxes\u001b[0m\u001b[0;34m=\u001b[0m\u001b[0mnew_mgr\u001b[0m\u001b[0;34m.\u001b[0m\u001b[0maxes\u001b[0m\u001b[0;34m)\u001b[0m\u001b[0;34m\u001b[0m\u001b[0;34m\u001b[0m\u001b[0m\n\u001b[1;32m   4001\u001b[0m             \u001b[0mresult\u001b[0m\u001b[0;34m.\u001b[0m\u001b[0m_name\u001b[0m \u001b[0;34m=\u001b[0m \u001b[0mself\u001b[0m\u001b[0;34m.\u001b[0m\u001b[0mindex\u001b[0m\u001b[0;34m[\u001b[0m\u001b[0mi\u001b[0m\u001b[0;34m]\u001b[0m\u001b[0;34m\u001b[0m\u001b[0;34m\u001b[0m\u001b[0m\n\u001b[1;32m   4002\u001b[0m             \u001b[0mresult\u001b[0m \u001b[0;34m=\u001b[0m \u001b[0mresult\u001b[0m\u001b[0;34m.\u001b[0m\u001b[0m__finalize__\u001b[0m\u001b[0;34m(\u001b[0m\u001b[0mself\u001b[0m\u001b[0;34m)\u001b[0m\u001b[0;34m\u001b[0m\u001b[0;34m\u001b[0m\u001b[0m\n\u001b[0;32m-> 4003\u001b[0;31m             \u001b[0mresult\u001b[0m\u001b[0;34m.\u001b[0m\u001b[0m_set_is_copy\u001b[0m\u001b[0;34m(\u001b[0m\u001b[0mself\u001b[0m\u001b[0;34m,\u001b[0m \u001b[0mcopy\u001b[0m\u001b[0;34m=\u001b[0m\u001b[0mcopy\u001b[0m\u001b[0;34m)\u001b[0m\u001b[0;34m\u001b[0m\u001b[0;34m\u001b[0m\u001b[0m\n\u001b[0m\u001b[1;32m   4004\u001b[0m             \u001b[0;32mreturn\u001b[0m \u001b[0mresult\u001b[0m\u001b[0;34m\u001b[0m\u001b[0;34m\u001b[0m\u001b[0m\n\u001b[1;32m   4005\u001b[0m \u001b[0;34m\u001b[0m\u001b[0m\n\u001b[1;32m   4006\u001b[0m         \u001b[0;31m# icol\u001b[0m\u001b[0;34m\u001b[0m\u001b[0;34m\u001b[0m\u001b[0m\n",
            "\u001b[0;32m~/Trabajos/IA2/lib/python3.11/site-packages/pandas/core/generic.py\u001b[0m in \u001b[0;36m?\u001b[0;34m(self, ref, copy)\u001b[0m\n\u001b[1;32m   4379\u001b[0m     \u001b[0;34m@\u001b[0m\u001b[0mfinal\u001b[0m\u001b[0;34m\u001b[0m\u001b[0;34m\u001b[0m\u001b[0m\n\u001b[1;32m   4380\u001b[0m     \u001b[0;32mdef\u001b[0m \u001b[0m_set_is_copy\u001b[0m\u001b[0;34m(\u001b[0m\u001b[0mself\u001b[0m\u001b[0;34m,\u001b[0m \u001b[0mref\u001b[0m\u001b[0;34m:\u001b[0m \u001b[0mNDFrame\u001b[0m\u001b[0;34m,\u001b[0m \u001b[0mcopy\u001b[0m\u001b[0;34m:\u001b[0m \u001b[0mbool_t\u001b[0m \u001b[0;34m=\u001b[0m \u001b[0;32mTrue\u001b[0m\u001b[0;34m)\u001b[0m \u001b[0;34m->\u001b[0m \u001b[0;32mNone\u001b[0m\u001b[0;34m:\u001b[0m\u001b[0;34m\u001b[0m\u001b[0;34m\u001b[0m\u001b[0m\n\u001b[1;32m   4381\u001b[0m         \u001b[0;32mif\u001b[0m \u001b[0;32mnot\u001b[0m \u001b[0mcopy\u001b[0m\u001b[0;34m:\u001b[0m\u001b[0;34m\u001b[0m\u001b[0;34m\u001b[0m\u001b[0m\n\u001b[0;32m-> 4382\u001b[0;31m             \u001b[0mself\u001b[0m\u001b[0;34m.\u001b[0m\u001b[0m_is_copy\u001b[0m \u001b[0;34m=\u001b[0m \u001b[0;32mNone\u001b[0m\u001b[0;34m\u001b[0m\u001b[0;34m\u001b[0m\u001b[0m\n\u001b[0m\u001b[1;32m   4383\u001b[0m         \u001b[0;32melse\u001b[0m\u001b[0;34m:\u001b[0m\u001b[0;34m\u001b[0m\u001b[0;34m\u001b[0m\u001b[0m\n\u001b[1;32m   4384\u001b[0m             \u001b[0;32massert\u001b[0m \u001b[0mref\u001b[0m \u001b[0;32mis\u001b[0m \u001b[0;32mnot\u001b[0m \u001b[0;32mNone\u001b[0m\u001b[0;34m\u001b[0m\u001b[0;34m\u001b[0m\u001b[0m\n\u001b[1;32m   4385\u001b[0m             \u001b[0mself\u001b[0m\u001b[0;34m.\u001b[0m\u001b[0m_is_copy\u001b[0m \u001b[0;34m=\u001b[0m \u001b[0mweakref\u001b[0m\u001b[0;34m.\u001b[0m\u001b[0mref\u001b[0m\u001b[0;34m(\u001b[0m\u001b[0mref\u001b[0m\u001b[0;34m)\u001b[0m\u001b[0;34m\u001b[0m\u001b[0;34m\u001b[0m\u001b[0m\n",
            "\u001b[0;32m~/Trabajos/IA2/lib/python3.11/site-packages/pandas/core/generic.py\u001b[0m in \u001b[0;36m?\u001b[0;34m(self, name, value)\u001b[0m\n\u001b[1;32m   6310\u001b[0m \u001b[0;34m\u001b[0m\u001b[0m\n\u001b[1;32m   6311\u001b[0m         \u001b[0;32mtry\u001b[0m\u001b[0;34m:\u001b[0m\u001b[0;34m\u001b[0m\u001b[0;34m\u001b[0m\u001b[0m\n\u001b[1;32m   6312\u001b[0m             \u001b[0mobject\u001b[0m\u001b[0;34m.\u001b[0m\u001b[0m__getattribute__\u001b[0m\u001b[0;34m(\u001b[0m\u001b[0mself\u001b[0m\u001b[0;34m,\u001b[0m \u001b[0mname\u001b[0m\u001b[0;34m)\u001b[0m\u001b[0;34m\u001b[0m\u001b[0;34m\u001b[0m\u001b[0m\n\u001b[1;32m   6313\u001b[0m             \u001b[0;32mreturn\u001b[0m \u001b[0mobject\u001b[0m\u001b[0;34m.\u001b[0m\u001b[0m__setattr__\u001b[0m\u001b[0;34m(\u001b[0m\u001b[0mself\u001b[0m\u001b[0;34m,\u001b[0m \u001b[0mname\u001b[0m\u001b[0;34m,\u001b[0m \u001b[0mvalue\u001b[0m\u001b[0;34m)\u001b[0m\u001b[0;34m\u001b[0m\u001b[0;34m\u001b[0m\u001b[0m\n\u001b[0;32m-> 6314\u001b[0;31m         \u001b[0;32mexcept\u001b[0m \u001b[0mAttributeError\u001b[0m\u001b[0;34m:\u001b[0m\u001b[0;34m\u001b[0m\u001b[0;34m\u001b[0m\u001b[0m\n\u001b[0m\u001b[1;32m   6315\u001b[0m             \u001b[0;32mpass\u001b[0m\u001b[0;34m\u001b[0m\u001b[0;34m\u001b[0m\u001b[0m\n\u001b[1;32m   6316\u001b[0m \u001b[0;34m\u001b[0m\u001b[0m\n\u001b[1;32m   6317\u001b[0m         \u001b[0;31m# if this fails, go on to more involved attribute setting\u001b[0m\u001b[0;34m\u001b[0m\u001b[0;34m\u001b[0m\u001b[0m\n",
            "\u001b[0;31mKeyboardInterrupt\u001b[0m: "
          ]
        }
      ],
      "source": [
        "arrayNPOB = [100, 150]\n",
        "arrayNGEN = [50 ,100]\n",
        "arrayPc = [0.4, 0.6]\n",
        "arrayPm = [0.5, 0.6]\n",
        "arrayC = [0.2, 0.6]\n",
        "\n",
        "\n",
        "\n",
        "for NPOB in arrayNPOB:\n",
        "    for NGEN in arrayNGEN:\n",
        "        for Pc in arrayC:\n",
        "            for Pm in arrayPm:\n",
        "                for C in arrayC:\n",
        "                  historicoBestFitness, BESTc, BESTf = entrenamiento(NPOB, NGEN, Pc, Pm, C)\n",
        "\n",
        "                  plt.plot(historicoBestFitness)\n",
        "                  plt.title(\"Mejor fitness por generación\")\n",
        "                  plt.xlabel(\"Generación\")\n",
        "                  plt.ylabel(\"Fitness\")\n",
        "                  plt.show()\n",
        "\n",
        "                  print(\"Mejor cromosoma fitness:\", BESTf)\n",
        "                  #get the position of the genes that are not 0\n",
        "                  genes = []\n",
        "                  for i in range(20):\n",
        "                      if BESTc[i] != 0:\n",
        "                          print(data.iloc[i][\"Empresa\"], BESTc[i])\n",
        "\n",
        "\n"
      ]
    },
    {
      "cell_type": "code",
      "execution_count": null,
      "metadata": {
        "colab": {
          "base_uri": "https://localhost:8080/",
          "height": 1000
        },
        "id": "6ZYdKqtrWFQT",
        "outputId": "e08f1e16-00c8-4d99-8774-3300f2ba1fc0"
      },
      "outputs": [
        {
          "ename": "NameError",
          "evalue": "name 'df' is not defined",
          "output_type": "error",
          "traceback": [
            "\u001b[0;31m---------------------------------------------------------------------------\u001b[0m",
            "\u001b[0;31mNameError\u001b[0m                                 Traceback (most recent call last)",
            "Cell \u001b[0;32mIn[22], line 1\u001b[0m\n\u001b[0;32m----> 1\u001b[0m \u001b[43mdf\u001b[49m\n",
            "\u001b[0;31mNameError\u001b[0m: name 'df' is not defined"
          ]
        }
      ],
      "source": [
        "df"
      ]
    },
    {
      "cell_type": "code",
      "execution_count": null,
      "metadata": {
        "colab": {
          "base_uri": "https://localhost:8080/",
          "height": 472
        },
        "id": "tYzv2BYDWFQU",
        "outputId": "f509c0a9-ec0d-43b2-d0ad-10e2d18c1712"
      },
      "outputs": [
        {
          "data": {
            "image/png": "[encoded data removed]",
            "text/plain": [
              "<Figure size 640x480 with 1 Axes>"
            ]
          },
          "metadata": {},
          "output_type": "display_data"
        }
      ],
      "source": [
        "# graph the best fitness\n",
        "plt.plot(historicoBestFitness)\n",
        "plt.title(\"Mejor fitness por generación\")\n",
        "plt.xlabel(\"Generación\")\n",
        "plt.ylabel(\"Fitness\")\n",
        "plt.show()\n"
      ]
    },
    {
      "cell_type": "code",
      "execution_count": null,
      "metadata": {
        "colab": {
          "base_uri": "https://localhost:8080/"
        },
        "id": "3I00OH6IWFQU",
        "outputId": "9577378e-c4f4-4196-d3e6-d2699f39863e"
      },
      "outputs": [
        {
          "name": "stdout",
          "output_type": "stream",
          "text": [
            "IBM 0.06023513144946083\n",
            "Nvidia 0.04501632648966117\n",
            "Kellogs 0.046736322469162955\n",
            "Microsoft 0.027321132573988872\n",
            "Amazon 0.002532050546225451\n",
            "Ford 0.08411822487744952\n",
            "Exxon 0.19454869289704624\n",
            "Pfizer 0.037608307023073856\n",
            "Ikea 0.019690133607887142\n",
            "Bayer 0.13909683098598108\n",
            "Samsung 0.0004954564896036296\n",
            "Telefónica 0.07377874310805525\n",
            "L'Oréal 0.12719172754653618\n"
          ]
        }
      ],
      "source": [
        "# get the position of the genes that are not 0\n",
        "genes = []\n",
        "for i in range(20):\n",
        "    if BESTc[i] != 0:\n",
        "        print(data.iloc[i][\"Empresa\"], BESTc[i])"
      ]
    },
    {
      "cell_type": "code",
      "execution_count": null,
      "metadata": {
        "colab": {
          "base_uri": "https://localhost:8080/"
        },
        "id": "3r10eIM3WFQU",
        "outputId": "68f72202-d3bf-421c-a9a1-8058765eb8a9"
      },
      "outputs": [
        {
          "data": {
            "text/plain": [
              "0.3358454007619389"
            ]
          },
          "execution_count": 47,
          "metadata": {},
          "output_type": "execute_result"
        }
      ],
      "source": [
        "# hash of df\n",
        "BESTf"
      ]
    }
  ],
  "metadata": {
    "colab": {
      "machine_shape": "hm",
      "provenance": []
    },
    "kernelspec": {
      "display_name": "Python 3",
      "name": "python3"
    },
    "language_info": {
      "codemirror_mode": {
        "name": "ipython",
        "version": 3
      },
      "file_extension": ".py",
      "mimetype": "text/x-python",
      "name": "python",
      "nbconvert_exporter": "python",
      "pygments_lexer": "ipython3",
      "version": "3.11.8"
    }
  },
  "nbformat": 4,
  "nbformat_minor": 0
}
