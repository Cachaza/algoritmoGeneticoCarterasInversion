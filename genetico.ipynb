{
 "cells": [
  {
   "cell_type": "code",
   "execution_count": 1,
   "metadata": {},
   "outputs": [],
   "source": [
    "import pandas as pd\n",
    "import numpy as np\n",
    "import matplotlib.pyplot as plt\n",
    "import time\n",
    "import polars as pl\n"
   ]
  },
  {
   "cell_type": "code",
   "execution_count": 2,
   "metadata": {},
   "outputs": [],
   "source": [
    "NPOB = 80\n",
    "NGEN = 500\n",
    "Pc = 0.6\n",
    "Pm = 0.7\n",
    "C = 0.4\n",
    "NRES = 10\n",
    "NSAMPLE = 50\n",
    "random_vector = None "
   ]
  },
  {
   "cell_type": "code",
   "execution_count": 3,
   "metadata": {},
   "outputs": [
    {
     "data": {
      "text/html": [
       "<div>\n",
       "<style scoped>\n",
       "    .dataframe tbody tr th:only-of-type {\n",
       "        vertical-align: middle;\n",
       "    }\n",
       "\n",
       "    .dataframe tbody tr th {\n",
       "        vertical-align: top;\n",
       "    }\n",
       "\n",
       "    .dataframe thead th {\n",
       "        text-align: right;\n",
       "    }\n",
       "</style>\n",
       "<table border=\"1\" class=\"dataframe\">\n",
       "  <thead>\n",
       "    <tr style=\"text-align: right;\">\n",
       "      <th></th>\n",
       "      <th>Empresa</th>\n",
       "      <th>Enero</th>\n",
       "      <th>Febrero</th>\n",
       "      <th>Marzo</th>\n",
       "      <th>Abril</th>\n",
       "      <th>Mayo</th>\n",
       "      <th>Junio</th>\n",
       "      <th>Julio</th>\n",
       "      <th>Agosto</th>\n",
       "      <th>Septiembre</th>\n",
       "      <th>Octubre</th>\n",
       "      <th>Noviembre</th>\n",
       "      <th>Diciembre</th>\n",
       "    </tr>\n",
       "  </thead>\n",
       "  <tbody>\n",
       "    <tr>\n",
       "      <th>0</th>\n",
       "      <td>IBM</td>\n",
       "      <td>-0.012546</td>\n",
       "      <td>0.045071</td>\n",
       "      <td>0.023199</td>\n",
       "      <td>0.009866</td>\n",
       "      <td>-0.034398</td>\n",
       "      <td>-0.034401</td>\n",
       "      <td>-0.044192</td>\n",
       "      <td>0.036618</td>\n",
       "      <td>0.010112</td>\n",
       "      <td>0.020807</td>\n",
       "      <td>-0.047942</td>\n",
       "      <td>0.046991</td>\n",
       "    </tr>\n",
       "    <tr>\n",
       "      <th>1</th>\n",
       "      <td>Nvidia</td>\n",
       "      <td>0.033244</td>\n",
       "      <td>-0.028766</td>\n",
       "      <td>-0.031818</td>\n",
       "      <td>-0.03166</td>\n",
       "      <td>-0.019576</td>\n",
       "      <td>0.002476</td>\n",
       "      <td>-0.006805</td>\n",
       "      <td>-0.020877</td>\n",
       "      <td>0.011185</td>\n",
       "      <td>-0.036051</td>\n",
       "      <td>-0.020786</td>\n",
       "      <td>-0.013364</td>\n",
       "    </tr>\n",
       "    <tr>\n",
       "      <th>2</th>\n",
       "      <td>Kellogs</td>\n",
       "      <td>-0.004393</td>\n",
       "      <td>0.028518</td>\n",
       "      <td>-0.030033</td>\n",
       "      <td>0.001423</td>\n",
       "      <td>0.009241</td>\n",
       "      <td>-0.045355</td>\n",
       "      <td>0.010754</td>\n",
       "      <td>-0.032948</td>\n",
       "      <td>-0.043495</td>\n",
       "      <td>0.044889</td>\n",
       "      <td>0.046563</td>\n",
       "      <td>0.03084</td>\n",
       "    </tr>\n",
       "    <tr>\n",
       "      <th>3</th>\n",
       "      <td>Microsoft</td>\n",
       "      <td>-0.019539</td>\n",
       "      <td>-0.040233</td>\n",
       "      <td>0.018423</td>\n",
       "      <td>-0.005985</td>\n",
       "      <td>-0.037796</td>\n",
       "      <td>-0.000482</td>\n",
       "      <td>-0.046561</td>\n",
       "      <td>0.040932</td>\n",
       "      <td>-0.024122</td>\n",
       "      <td>0.016252</td>\n",
       "      <td>-0.018829</td>\n",
       "      <td>0.002007</td>\n",
       "    </tr>\n",
       "    <tr>\n",
       "      <th>4</th>\n",
       "      <td>BP</td>\n",
       "      <td>0.004671</td>\n",
       "      <td>-0.031515</td>\n",
       "      <td>0.046958</td>\n",
       "      <td>0.027513</td>\n",
       "      <td>0.04395</td>\n",
       "      <td>0.039483</td>\n",
       "      <td>0.00979</td>\n",
       "      <td>0.042187</td>\n",
       "      <td>-0.041151</td>\n",
       "      <td>-0.030402</td>\n",
       "      <td>-0.045477</td>\n",
       "      <td>-0.017467</td>\n",
       "    </tr>\n",
       "    <tr>\n",
       "      <th>5</th>\n",
       "      <td>UPS</td>\n",
       "      <td>-0.011132</td>\n",
       "      <td>-0.022865</td>\n",
       "      <td>0.032874</td>\n",
       "      <td>-0.014325</td>\n",
       "      <td>-0.021907</td>\n",
       "      <td>0.00427</td>\n",
       "      <td>-0.035908</td>\n",
       "      <td>0.03022</td>\n",
       "      <td>-0.042545</td>\n",
       "      <td>0.048689</td>\n",
       "      <td>0.027224</td>\n",
       "      <td>-0.030128</td>\n",
       "    </tr>\n",
       "    <tr>\n",
       "      <th>6</th>\n",
       "      <td>Amazon</td>\n",
       "      <td>-0.049448</td>\n",
       "      <td>0.031546</td>\n",
       "      <td>0.020686</td>\n",
       "      <td>0.022901</td>\n",
       "      <td>0.027127</td>\n",
       "      <td>-0.042596</td>\n",
       "      <td>-0.014153</td>\n",
       "      <td>-0.038413</td>\n",
       "      <td>0.03631</td>\n",
       "      <td>0.01233</td>\n",
       "      <td>-0.01691</td>\n",
       "      <td>-0.043644</td>\n",
       "    </tr>\n",
       "    <tr>\n",
       "      <th>7</th>\n",
       "      <td>Intel</td>\n",
       "      <td>-0.018902</td>\n",
       "      <td>-0.017482</td>\n",
       "      <td>0.022961</td>\n",
       "      <td>0.013756</td>\n",
       "      <td>0.038721</td>\n",
       "      <td>-0.002779</td>\n",
       "      <td>-0.038041</td>\n",
       "      <td>0.021324</td>\n",
       "      <td>0.026079</td>\n",
       "      <td>0.006128</td>\n",
       "      <td>0.027097</td>\n",
       "      <td>-0.00062</td>\n",
       "    </tr>\n",
       "    <tr>\n",
       "      <th>8</th>\n",
       "      <td>Ford</td>\n",
       "      <td>0.002273</td>\n",
       "      <td>-0.007246</td>\n",
       "      <td>-0.047458</td>\n",
       "      <td>-0.039211</td>\n",
       "      <td>-0.046857</td>\n",
       "      <td>0.013641</td>\n",
       "      <td>-0.018564</td>\n",
       "      <td>0.000857</td>\n",
       "      <td>0.040757</td>\n",
       "      <td>-0.025071</td>\n",
       "      <td>-0.008962</td>\n",
       "      <td>0.025555</td>\n",
       "    </tr>\n",
       "    <tr>\n",
       "      <th>9</th>\n",
       "      <td>Exxon</td>\n",
       "      <td>-0.02712</td>\n",
       "      <td>-0.042302</td>\n",
       "      <td>-0.021025</td>\n",
       "      <td>-0.033878</td>\n",
       "      <td>0.04297</td>\n",
       "      <td>0.030812</td>\n",
       "      <td>0.01334</td>\n",
       "      <td>0.037146</td>\n",
       "      <td>0.030367</td>\n",
       "      <td>-0.031343</td>\n",
       "      <td>0.039256</td>\n",
       "      <td>0.003934</td>\n",
       "    </tr>\n",
       "    <tr>\n",
       "      <th>10</th>\n",
       "      <td>Toyota</td>\n",
       "      <td>0.030744</td>\n",
       "      <td>0.039609</td>\n",
       "      <td>-0.0182</td>\n",
       "      <td>-0.038995</td>\n",
       "      <td>-0.027206</td>\n",
       "      <td>-0.007289</td>\n",
       "      <td>0.031801</td>\n",
       "      <td>0.036073</td>\n",
       "      <td>-0.049305</td>\n",
       "      <td>0.001075</td>\n",
       "      <td>-0.008259</td>\n",
       "      <td>-0.027789</td>\n",
       "    </tr>\n",
       "    <tr>\n",
       "      <th>11</th>\n",
       "      <td>Pfizer</td>\n",
       "      <td>-0.038013</td>\n",
       "      <td>-0.016238</td>\n",
       "      <td>0.044291</td>\n",
       "      <td>-0.01768</td>\n",
       "      <td>0.001879</td>\n",
       "      <td>0.020302</td>\n",
       "      <td>-0.013637</td>\n",
       "      <td>0.047178</td>\n",
       "      <td>0.046245</td>\n",
       "      <td>-0.024822</td>\n",
       "      <td>-0.000275</td>\n",
       "      <td>-0.019912</td>\n",
       "    </tr>\n",
       "    <tr>\n",
       "      <th>12</th>\n",
       "      <td>Ikea</td>\n",
       "      <td>-0.021516</td>\n",
       "      <td>-0.046311</td>\n",
       "      <td>0.010956</td>\n",
       "      <td>0.000268</td>\n",
       "      <td>-0.044852</td>\n",
       "      <td>-0.022135</td>\n",
       "      <td>0.040827</td>\n",
       "      <td>-0.026044</td>\n",
       "      <td>-0.035511</td>\n",
       "      <td>-0.001055</td>\n",
       "      <td>0.048565</td>\n",
       "      <td>-0.025794</td>\n",
       "    </tr>\n",
       "    <tr>\n",
       "      <th>13</th>\n",
       "      <td>Bayer</td>\n",
       "      <td>0.017214</td>\n",
       "      <td>0.026162</td>\n",
       "      <td>-0.026236</td>\n",
       "      <td>0.022822</td>\n",
       "      <td>-0.013222</td>\n",
       "      <td>0.013231</td>\n",
       "      <td>0.013353</td>\n",
       "      <td>0.003577</td>\n",
       "      <td>-0.040971</td>\n",
       "      <td>0.03353</td>\n",
       "      <td>-0.017922</td>\n",
       "      <td>-0.031348</td>\n",
       "    </tr>\n",
       "    <tr>\n",
       "      <th>14</th>\n",
       "      <td>Nestlé</td>\n",
       "      <td>-0.045922</td>\n",
       "      <td>0.009089</td>\n",
       "      <td>0.017756</td>\n",
       "      <td>-0.048341</td>\n",
       "      <td>0.001209</td>\n",
       "      <td>-0.02735</td>\n",
       "      <td>0.014517</td>\n",
       "      <td>-0.032563</td>\n",
       "      <td>0.019094</td>\n",
       "      <td>-0.011326</td>\n",
       "      <td>0.043673</td>\n",
       "      <td>-0.036248</td>\n",
       "    </tr>\n",
       "    <tr>\n",
       "      <th>15</th>\n",
       "      <td>Samsung</td>\n",
       "      <td>-0.015893</td>\n",
       "      <td>-0.038653</td>\n",
       "      <td>0.042469</td>\n",
       "      <td>0.037734</td>\n",
       "      <td>-0.024206</td>\n",
       "      <td>0.015998</td>\n",
       "      <td>0.031722</td>\n",
       "      <td>0.00552</td>\n",
       "      <td>0.002965</td>\n",
       "      <td>-0.025815</td>\n",
       "      <td>-0.04069</td>\n",
       "      <td>0.039722</td>\n",
       "    </tr>\n",
       "    <tr>\n",
       "      <th>16</th>\n",
       "      <td>Telefónica</td>\n",
       "      <td>0.040042</td>\n",
       "      <td>0.01331</td>\n",
       "      <td>-0.016097</td>\n",
       "      <td>-0.015079</td>\n",
       "      <td>0.022596</td>\n",
       "      <td>0.039711</td>\n",
       "      <td>0.038709</td>\n",
       "      <td>0.027988</td>\n",
       "      <td>0.014203</td>\n",
       "      <td>-0.041586</td>\n",
       "      <td>-0.033837</td>\n",
       "      <td>0.039855</td>\n",
       "    </tr>\n",
       "    <tr>\n",
       "      <th>17</th>\n",
       "      <td>Netflix</td>\n",
       "      <td>0.010643</td>\n",
       "      <td>-0.04908</td>\n",
       "      <td>-0.039853</td>\n",
       "      <td>0.01635</td>\n",
       "      <td>-0.049494</td>\n",
       "      <td>-0.033919</td>\n",
       "      <td>0.004873</td>\n",
       "      <td>0.01919</td>\n",
       "      <td>0.015196</td>\n",
       "      <td>-0.027573</td>\n",
       "      <td>0.021218</td>\n",
       "      <td>-0.026275</td>\n",
       "    </tr>\n",
       "    <tr>\n",
       "      <th>18</th>\n",
       "      <td>L'Oréal</td>\n",
       "      <td>-0.01746</td>\n",
       "      <td>0.024649</td>\n",
       "      <td>0.014963</td>\n",
       "      <td>0.034922</td>\n",
       "      <td>0.015761</td>\n",
       "      <td>0.006831</td>\n",
       "      <td>-0.040633</td>\n",
       "      <td>-0.013228</td>\n",
       "      <td>-0.02348</td>\n",
       "      <td>-0.025601</td>\n",
       "      <td>0.047301</td>\n",
       "      <td>-0.01069</td>\n",
       "    </tr>\n",
       "    <tr>\n",
       "      <th>19</th>\n",
       "      <td>Airbus</td>\n",
       "      <td>0.039205</td>\n",
       "      <td>0.013114</td>\n",
       "      <td>0.029481</td>\n",
       "      <td>0.000264</td>\n",
       "      <td>0.00769</td>\n",
       "      <td>-0.000748</td>\n",
       "      <td>-0.030476</td>\n",
       "      <td>0.022245</td>\n",
       "      <td>-0.021923</td>\n",
       "      <td>-0.047568</td>\n",
       "      <td>0.014547</td>\n",
       "      <td>-0.032289</td>\n",
       "    </tr>\n",
       "  </tbody>\n",
       "</table>\n",
       "</div>"
      ],
      "text/plain": [
       "       Empresa     Enero   Febrero     Marzo     Abril      Mayo     Junio  \\\n",
       "0          IBM -0.012546  0.045071  0.023199  0.009866 -0.034398 -0.034401   \n",
       "1       Nvidia  0.033244 -0.028766 -0.031818  -0.03166 -0.019576  0.002476   \n",
       "2      Kellogs -0.004393  0.028518 -0.030033  0.001423  0.009241 -0.045355   \n",
       "3    Microsoft -0.019539 -0.040233  0.018423 -0.005985 -0.037796 -0.000482   \n",
       "4           BP  0.004671 -0.031515  0.046958  0.027513   0.04395  0.039483   \n",
       "5          UPS -0.011132 -0.022865  0.032874 -0.014325 -0.021907   0.00427   \n",
       "6       Amazon -0.049448  0.031546  0.020686  0.022901  0.027127 -0.042596   \n",
       "7        Intel -0.018902 -0.017482  0.022961  0.013756  0.038721 -0.002779   \n",
       "8         Ford  0.002273 -0.007246 -0.047458 -0.039211 -0.046857  0.013641   \n",
       "9        Exxon  -0.02712 -0.042302 -0.021025 -0.033878   0.04297  0.030812   \n",
       "10      Toyota  0.030744  0.039609   -0.0182 -0.038995 -0.027206 -0.007289   \n",
       "11      Pfizer -0.038013 -0.016238  0.044291  -0.01768  0.001879  0.020302   \n",
       "12        Ikea -0.021516 -0.046311  0.010956  0.000268 -0.044852 -0.022135   \n",
       "13       Bayer  0.017214  0.026162 -0.026236  0.022822 -0.013222  0.013231   \n",
       "14      Nestlé -0.045922  0.009089  0.017756 -0.048341  0.001209  -0.02735   \n",
       "15     Samsung -0.015893 -0.038653  0.042469  0.037734 -0.024206  0.015998   \n",
       "16  Telefónica  0.040042   0.01331 -0.016097 -0.015079  0.022596  0.039711   \n",
       "17     Netflix  0.010643  -0.04908 -0.039853   0.01635 -0.049494 -0.033919   \n",
       "18     L'Oréal  -0.01746  0.024649  0.014963  0.034922  0.015761  0.006831   \n",
       "19      Airbus  0.039205  0.013114  0.029481  0.000264   0.00769 -0.000748   \n",
       "\n",
       "       Julio    Agosto Septiembre   Octubre Noviembre Diciembre  \n",
       "0  -0.044192  0.036618   0.010112  0.020807 -0.047942  0.046991  \n",
       "1  -0.006805 -0.020877   0.011185 -0.036051 -0.020786 -0.013364  \n",
       "2   0.010754 -0.032948  -0.043495  0.044889  0.046563   0.03084  \n",
       "3  -0.046561  0.040932  -0.024122  0.016252 -0.018829  0.002007  \n",
       "4    0.00979  0.042187  -0.041151 -0.030402 -0.045477 -0.017467  \n",
       "5  -0.035908   0.03022  -0.042545  0.048689  0.027224 -0.030128  \n",
       "6  -0.014153 -0.038413    0.03631   0.01233  -0.01691 -0.043644  \n",
       "7  -0.038041  0.021324   0.026079  0.006128  0.027097  -0.00062  \n",
       "8  -0.018564  0.000857   0.040757 -0.025071 -0.008962  0.025555  \n",
       "9    0.01334  0.037146   0.030367 -0.031343  0.039256  0.003934  \n",
       "10  0.031801  0.036073  -0.049305  0.001075 -0.008259 -0.027789  \n",
       "11 -0.013637  0.047178   0.046245 -0.024822 -0.000275 -0.019912  \n",
       "12  0.040827 -0.026044  -0.035511 -0.001055  0.048565 -0.025794  \n",
       "13  0.013353  0.003577  -0.040971   0.03353 -0.017922 -0.031348  \n",
       "14  0.014517 -0.032563   0.019094 -0.011326  0.043673 -0.036248  \n",
       "15  0.031722   0.00552   0.002965 -0.025815  -0.04069  0.039722  \n",
       "16  0.038709  0.027988   0.014203 -0.041586 -0.033837  0.039855  \n",
       "17  0.004873   0.01919   0.015196 -0.027573  0.021218 -0.026275  \n",
       "18 -0.040633 -0.013228   -0.02348 -0.025601  0.047301  -0.01069  \n",
       "19 -0.030476  0.022245  -0.021923 -0.047568  0.014547 -0.032289  "
      ]
     },
     "execution_count": 3,
     "metadata": {},
     "output_type": "execute_result"
    }
   ],
   "source": [
    "# reaf the data from the excel file\n",
    "data = pd.read_excel('Datos TablaInversiones.xlsx')\n",
    "data = data.dropna()\n",
    "data = data.reset_index(drop=True)\n",
    "# rename columns\n",
    "data.columns = [\"Empresa\",\"Enero\", \"Febrero\", \"Marzo\", \"Abril\", \"Mayo\", \"Junio\", \"Julio\", \"Agosto\", \"Septiembre\", \"Octubre\", \"Noviembre\", \"Diciembre\"]\n",
    "data"
   ]
  },
  {
   "cell_type": "code",
   "execution_count": 4,
   "metadata": {},
   "outputs": [
    {
     "data": {
      "application/vnd.plotly.v1+json": {
       "config": {
        "plotlyServerURL": "https://plot.ly"
       },
       "data": [
        {
         "mode": "lines",
         "name": "Nvidia",
         "type": "scatter",
         "x": [
          "Enero",
          "Febrero",
          "Marzo",
          "Abril",
          "Mayo",
          "Junio",
          "Julio",
          "Agosto",
          "Septiembre",
          "Octubre",
          "Noviembre",
          "Diciembre"
         ],
         "y": [
          0.033244,
          -0.028766,
          -0.031818,
          -0.03166,
          -0.019576,
          0.002476,
          -0.006805,
          -0.020877,
          0.011185,
          -0.036051,
          -0.020786,
          -0.013364
         ]
        },
        {
         "mode": "lines",
         "name": "Kellogs",
         "type": "scatter",
         "x": [
          "Enero",
          "Febrero",
          "Marzo",
          "Abril",
          "Mayo",
          "Junio",
          "Julio",
          "Agosto",
          "Septiembre",
          "Octubre",
          "Noviembre",
          "Diciembre"
         ],
         "y": [
          -0.004393,
          0.028518,
          -0.030033,
          0.001423,
          0.009241,
          -0.045355,
          0.010754,
          -0.032948,
          -0.043495,
          0.044889,
          0.046563,
          0.03084
         ]
        },
        {
         "mode": "lines",
         "name": "Microsoft",
         "type": "scatter",
         "x": [
          "Enero",
          "Febrero",
          "Marzo",
          "Abril",
          "Mayo",
          "Junio",
          "Julio",
          "Agosto",
          "Septiembre",
          "Octubre",
          "Noviembre",
          "Diciembre"
         ],
         "y": [
          -0.019539,
          -0.040233,
          0.018423,
          -0.005985,
          -0.037796,
          -0.000482,
          -0.046561,
          0.040932,
          -0.024122,
          0.016252,
          -0.018829,
          0.002007
         ]
        },
        {
         "mode": "lines",
         "name": "BP",
         "type": "scatter",
         "x": [
          "Enero",
          "Febrero",
          "Marzo",
          "Abril",
          "Mayo",
          "Junio",
          "Julio",
          "Agosto",
          "Septiembre",
          "Octubre",
          "Noviembre",
          "Diciembre"
         ],
         "y": [
          0.004671,
          -0.031515,
          0.046958,
          0.027513,
          0.04395,
          0.039483,
          0.00979,
          0.042187,
          -0.041151,
          -0.030402,
          -0.045477,
          -0.017467
         ]
        },
        {
         "mode": "lines",
         "name": "UPS",
         "type": "scatter",
         "x": [
          "Enero",
          "Febrero",
          "Marzo",
          "Abril",
          "Mayo",
          "Junio",
          "Julio",
          "Agosto",
          "Septiembre",
          "Octubre",
          "Noviembre",
          "Diciembre"
         ],
         "y": [
          -0.011132,
          -0.022865,
          0.032874,
          -0.014325,
          -0.021907,
          0.00427,
          -0.035908,
          0.03022,
          -0.042545,
          0.048689,
          0.027224,
          -0.030128
         ]
        },
        {
         "mode": "lines",
         "name": "Amazon",
         "type": "scatter",
         "x": [
          "Enero",
          "Febrero",
          "Marzo",
          "Abril",
          "Mayo",
          "Junio",
          "Julio",
          "Agosto",
          "Septiembre",
          "Octubre",
          "Noviembre",
          "Diciembre"
         ],
         "y": [
          -0.049448,
          0.031546,
          0.020686,
          0.022901,
          0.027127,
          -0.042596,
          -0.014153,
          -0.038413,
          0.03631,
          0.01233,
          -0.01691,
          -0.043644
         ]
        },
        {
         "mode": "lines",
         "name": "Intel",
         "type": "scatter",
         "x": [
          "Enero",
          "Febrero",
          "Marzo",
          "Abril",
          "Mayo",
          "Junio",
          "Julio",
          "Agosto",
          "Septiembre",
          "Octubre",
          "Noviembre",
          "Diciembre"
         ],
         "y": [
          -0.018902,
          -0.017482,
          0.022961,
          0.013756,
          0.038721,
          -0.002779,
          -0.038041,
          0.021324,
          0.026079,
          0.006128,
          0.027097,
          -0.00062
         ]
        },
        {
         "mode": "lines",
         "name": "Ford",
         "type": "scatter",
         "x": [
          "Enero",
          "Febrero",
          "Marzo",
          "Abril",
          "Mayo",
          "Junio",
          "Julio",
          "Agosto",
          "Septiembre",
          "Octubre",
          "Noviembre",
          "Diciembre"
         ],
         "y": [
          0.002273,
          -0.007246,
          -0.047458,
          -0.039211,
          -0.046857,
          0.013641,
          -0.018564,
          0.000857,
          0.040757,
          -0.025071,
          -0.008962,
          0.025555
         ]
        },
        {
         "mode": "lines",
         "name": "Exxon",
         "type": "scatter",
         "x": [
          "Enero",
          "Febrero",
          "Marzo",
          "Abril",
          "Mayo",
          "Junio",
          "Julio",
          "Agosto",
          "Septiembre",
          "Octubre",
          "Noviembre",
          "Diciembre"
         ],
         "y": [
          -0.02712,
          -0.042302,
          -0.021025,
          -0.033878,
          0.04297,
          0.030812,
          0.01334,
          0.037146,
          0.030367,
          -0.031343,
          0.039256,
          0.003934
         ]
        },
        {
         "mode": "lines",
         "name": "Toyota",
         "type": "scatter",
         "x": [
          "Enero",
          "Febrero",
          "Marzo",
          "Abril",
          "Mayo",
          "Junio",
          "Julio",
          "Agosto",
          "Septiembre",
          "Octubre",
          "Noviembre",
          "Diciembre"
         ],
         "y": [
          0.030744,
          0.039609,
          -0.0182,
          -0.038995,
          -0.027206,
          -0.007289,
          0.031801,
          0.036073,
          -0.049305,
          0.001075,
          -0.008259,
          -0.027789
         ]
        },
        {
         "mode": "lines",
         "name": "Pfizer",
         "type": "scatter",
         "x": [
          "Enero",
          "Febrero",
          "Marzo",
          "Abril",
          "Mayo",
          "Junio",
          "Julio",
          "Agosto",
          "Septiembre",
          "Octubre",
          "Noviembre",
          "Diciembre"
         ],
         "y": [
          -0.038013,
          -0.016238,
          0.044291,
          -0.01768,
          0.001879,
          0.020302,
          -0.013637,
          0.047178,
          0.046245,
          -0.024822,
          -0.000275,
          -0.019912
         ]
        },
        {
         "mode": "lines",
         "name": "Ikea",
         "type": "scatter",
         "x": [
          "Enero",
          "Febrero",
          "Marzo",
          "Abril",
          "Mayo",
          "Junio",
          "Julio",
          "Agosto",
          "Septiembre",
          "Octubre",
          "Noviembre",
          "Diciembre"
         ],
         "y": [
          -0.021516,
          -0.046311,
          0.010956,
          0.000268,
          -0.044852,
          -0.022135,
          0.040827,
          -0.026044,
          -0.035511,
          -0.001055,
          0.048565,
          -0.025794
         ]
        },
        {
         "mode": "lines",
         "name": "Bayer",
         "type": "scatter",
         "x": [
          "Enero",
          "Febrero",
          "Marzo",
          "Abril",
          "Mayo",
          "Junio",
          "Julio",
          "Agosto",
          "Septiembre",
          "Octubre",
          "Noviembre",
          "Diciembre"
         ],
         "y": [
          0.017214,
          0.026162,
          -0.026236,
          0.022822,
          -0.013222,
          0.013231,
          0.013353,
          0.003577,
          -0.040971,
          0.03353,
          -0.017922,
          -0.031348
         ]
        },
        {
         "mode": "lines",
         "name": "Nestlé",
         "type": "scatter",
         "x": [
          "Enero",
          "Febrero",
          "Marzo",
          "Abril",
          "Mayo",
          "Junio",
          "Julio",
          "Agosto",
          "Septiembre",
          "Octubre",
          "Noviembre",
          "Diciembre"
         ],
         "y": [
          -0.045922,
          0.009089,
          0.017756,
          -0.048341,
          0.001209,
          -0.02735,
          0.014517,
          -0.032563,
          0.019094,
          -0.011326,
          0.043673,
          -0.036248
         ]
        },
        {
         "mode": "lines",
         "name": "Samsung",
         "type": "scatter",
         "x": [
          "Enero",
          "Febrero",
          "Marzo",
          "Abril",
          "Mayo",
          "Junio",
          "Julio",
          "Agosto",
          "Septiembre",
          "Octubre",
          "Noviembre",
          "Diciembre"
         ],
         "y": [
          -0.015893,
          -0.038653,
          0.042469,
          0.037734,
          -0.024206,
          0.015998,
          0.031722,
          0.00552,
          0.002965,
          -0.025815,
          -0.04069,
          0.039722
         ]
        },
        {
         "mode": "lines",
         "name": "Telefónica",
         "type": "scatter",
         "x": [
          "Enero",
          "Febrero",
          "Marzo",
          "Abril",
          "Mayo",
          "Junio",
          "Julio",
          "Agosto",
          "Septiembre",
          "Octubre",
          "Noviembre",
          "Diciembre"
         ],
         "y": [
          0.040042,
          0.01331,
          -0.016097,
          -0.015079,
          0.022596,
          0.039711,
          0.038709,
          0.027988,
          0.014203,
          -0.041586,
          -0.033837,
          0.039855
         ]
        },
        {
         "mode": "lines",
         "name": "Netflix",
         "type": "scatter",
         "x": [
          "Enero",
          "Febrero",
          "Marzo",
          "Abril",
          "Mayo",
          "Junio",
          "Julio",
          "Agosto",
          "Septiembre",
          "Octubre",
          "Noviembre",
          "Diciembre"
         ],
         "y": [
          0.010643,
          -0.04908,
          -0.039853,
          0.01635,
          -0.049494,
          -0.033919,
          0.004873,
          0.01919,
          0.015196,
          -0.027573,
          0.021218,
          -0.026275
         ]
        },
        {
         "mode": "lines",
         "name": "L'Oréal",
         "type": "scatter",
         "x": [
          "Enero",
          "Febrero",
          "Marzo",
          "Abril",
          "Mayo",
          "Junio",
          "Julio",
          "Agosto",
          "Septiembre",
          "Octubre",
          "Noviembre",
          "Diciembre"
         ],
         "y": [
          -0.01746,
          0.024649,
          0.014963,
          0.034922,
          0.015761,
          0.006831,
          -0.040633,
          -0.013228,
          -0.02348,
          -0.025601,
          0.047301,
          -0.01069
         ]
        },
        {
         "mode": "lines",
         "name": "Airbus",
         "type": "scatter",
         "x": [
          "Enero",
          "Febrero",
          "Marzo",
          "Abril",
          "Mayo",
          "Junio",
          "Julio",
          "Agosto",
          "Septiembre",
          "Octubre",
          "Noviembre",
          "Diciembre"
         ],
         "y": [
          0.039205,
          0.013114,
          0.029481,
          0.000264,
          0.00769,
          -0.000748,
          -0.030476,
          0.022245,
          -0.021923,
          -0.047568,
          0.014547,
          -0.032289
         ]
        }
       ],
       "layout": {
        "template": {
         "data": {
          "bar": [
           {
            "error_x": {
             "color": "#2a3f5f"
            },
            "error_y": {
             "color": "#2a3f5f"
            },
            "marker": {
             "line": {
              "color": "#E5ECF6",
              "width": 0.5
             },
             "pattern": {
              "fillmode": "overlay",
              "size": 10,
              "solidity": 0.2
             }
            },
            "type": "bar"
           }
          ],
          "barpolar": [
           {
            "marker": {
             "line": {
              "color": "#E5ECF6",
              "width": 0.5
             },
             "pattern": {
              "fillmode": "overlay",
              "size": 10,
              "solidity": 0.2
             }
            },
            "type": "barpolar"
           }
          ],
          "carpet": [
           {
            "aaxis": {
             "endlinecolor": "#2a3f5f",
             "gridcolor": "white",
             "linecolor": "white",
             "minorgridcolor": "white",
             "startlinecolor": "#2a3f5f"
            },
            "baxis": {
             "endlinecolor": "#2a3f5f",
             "gridcolor": "white",
             "linecolor": "white",
             "minorgridcolor": "white",
             "startlinecolor": "#2a3f5f"
            },
            "type": "carpet"
           }
          ],
          "choropleth": [
           {
            "colorbar": {
             "outlinewidth": 0,
             "ticks": ""
            },
            "type": "choropleth"
           }
          ],
          "contour": [
           {
            "colorbar": {
             "outlinewidth": 0,
             "ticks": ""
            },
            "colorscale": [
             [
              0,
              "#0d0887"
             ],
             [
              0.1111111111111111,
              "#46039f"
             ],
             [
              0.2222222222222222,
              "#7201a8"
             ],
             [
              0.3333333333333333,
              "#9c179e"
             ],
             [
              0.4444444444444444,
              "#bd3786"
             ],
             [
              0.5555555555555556,
              "#d8576b"
             ],
             [
              0.6666666666666666,
              "#ed7953"
             ],
             [
              0.7777777777777778,
              "#fb9f3a"
             ],
             [
              0.8888888888888888,
              "#fdca26"
             ],
             [
              1,
              "#f0f921"
             ]
            ],
            "type": "contour"
           }
          ],
          "contourcarpet": [
           {
            "colorbar": {
             "outlinewidth": 0,
             "ticks": ""
            },
            "type": "contourcarpet"
           }
          ],
          "heatmap": [
           {
            "colorbar": {
             "outlinewidth": 0,
             "ticks": ""
            },
            "colorscale": [
             [
              0,
              "#0d0887"
             ],
             [
              0.1111111111111111,
              "#46039f"
             ],
             [
              0.2222222222222222,
              "#7201a8"
             ],
             [
              0.3333333333333333,
              "#9c179e"
             ],
             [
              0.4444444444444444,
              "#bd3786"
             ],
             [
              0.5555555555555556,
              "#d8576b"
             ],
             [
              0.6666666666666666,
              "#ed7953"
             ],
             [
              0.7777777777777778,
              "#fb9f3a"
             ],
             [
              0.8888888888888888,
              "#fdca26"
             ],
             [
              1,
              "#f0f921"
             ]
            ],
            "type": "heatmap"
           }
          ],
          "heatmapgl": [
           {
            "colorbar": {
             "outlinewidth": 0,
             "ticks": ""
            },
            "colorscale": [
             [
              0,
              "#0d0887"
             ],
             [
              0.1111111111111111,
              "#46039f"
             ],
             [
              0.2222222222222222,
              "#7201a8"
             ],
             [
              0.3333333333333333,
              "#9c179e"
             ],
             [
              0.4444444444444444,
              "#bd3786"
             ],
             [
              0.5555555555555556,
              "#d8576b"
             ],
             [
              0.6666666666666666,
              "#ed7953"
             ],
             [
              0.7777777777777778,
              "#fb9f3a"
             ],
             [
              0.8888888888888888,
              "#fdca26"
             ],
             [
              1,
              "#f0f921"
             ]
            ],
            "type": "heatmapgl"
           }
          ],
          "histogram": [
           {
            "marker": {
             "pattern": {
              "fillmode": "overlay",
              "size": 10,
              "solidity": 0.2
             }
            },
            "type": "histogram"
           }
          ],
          "histogram2d": [
           {
            "colorbar": {
             "outlinewidth": 0,
             "ticks": ""
            },
            "colorscale": [
             [
              0,
              "#0d0887"
             ],
             [
              0.1111111111111111,
              "#46039f"
             ],
             [
              0.2222222222222222,
              "#7201a8"
             ],
             [
              0.3333333333333333,
              "#9c179e"
             ],
             [
              0.4444444444444444,
              "#bd3786"
             ],
             [
              0.5555555555555556,
              "#d8576b"
             ],
             [
              0.6666666666666666,
              "#ed7953"
             ],
             [
              0.7777777777777778,
              "#fb9f3a"
             ],
             [
              0.8888888888888888,
              "#fdca26"
             ],
             [
              1,
              "#f0f921"
             ]
            ],
            "type": "histogram2d"
           }
          ],
          "histogram2dcontour": [
           {
            "colorbar": {
             "outlinewidth": 0,
             "ticks": ""
            },
            "colorscale": [
             [
              0,
              "#0d0887"
             ],
             [
              0.1111111111111111,
              "#46039f"
             ],
             [
              0.2222222222222222,
              "#7201a8"
             ],
             [
              0.3333333333333333,
              "#9c179e"
             ],
             [
              0.4444444444444444,
              "#bd3786"
             ],
             [
              0.5555555555555556,
              "#d8576b"
             ],
             [
              0.6666666666666666,
              "#ed7953"
             ],
             [
              0.7777777777777778,
              "#fb9f3a"
             ],
             [
              0.8888888888888888,
              "#fdca26"
             ],
             [
              1,
              "#f0f921"
             ]
            ],
            "type": "histogram2dcontour"
           }
          ],
          "mesh3d": [
           {
            "colorbar": {
             "outlinewidth": 0,
             "ticks": ""
            },
            "type": "mesh3d"
           }
          ],
          "parcoords": [
           {
            "line": {
             "colorbar": {
              "outlinewidth": 0,
              "ticks": ""
             }
            },
            "type": "parcoords"
           }
          ],
          "pie": [
           {
            "automargin": true,
            "type": "pie"
           }
          ],
          "scatter": [
           {
            "fillpattern": {
             "fillmode": "overlay",
             "size": 10,
             "solidity": 0.2
            },
            "type": "scatter"
           }
          ],
          "scatter3d": [
           {
            "line": {
             "colorbar": {
              "outlinewidth": 0,
              "ticks": ""
             }
            },
            "marker": {
             "colorbar": {
              "outlinewidth": 0,
              "ticks": ""
             }
            },
            "type": "scatter3d"
           }
          ],
          "scattercarpet": [
           {
            "marker": {
             "colorbar": {
              "outlinewidth": 0,
              "ticks": ""
             }
            },
            "type": "scattercarpet"
           }
          ],
          "scattergeo": [
           {
            "marker": {
             "colorbar": {
              "outlinewidth": 0,
              "ticks": ""
             }
            },
            "type": "scattergeo"
           }
          ],
          "scattergl": [
           {
            "marker": {
             "colorbar": {
              "outlinewidth": 0,
              "ticks": ""
             }
            },
            "type": "scattergl"
           }
          ],
          "scattermapbox": [
           {
            "marker": {
             "colorbar": {
              "outlinewidth": 0,
              "ticks": ""
             }
            },
            "type": "scattermapbox"
           }
          ],
          "scatterpolar": [
           {
            "marker": {
             "colorbar": {
              "outlinewidth": 0,
              "ticks": ""
             }
            },
            "type": "scatterpolar"
           }
          ],
          "scatterpolargl": [
           {
            "marker": {
             "colorbar": {
              "outlinewidth": 0,
              "ticks": ""
             }
            },
            "type": "scatterpolargl"
           }
          ],
          "scatterternary": [
           {
            "marker": {
             "colorbar": {
              "outlinewidth": 0,
              "ticks": ""
             }
            },
            "type": "scatterternary"
           }
          ],
          "surface": [
           {
            "colorbar": {
             "outlinewidth": 0,
             "ticks": ""
            },
            "colorscale": [
             [
              0,
              "#0d0887"
             ],
             [
              0.1111111111111111,
              "#46039f"
             ],
             [
              0.2222222222222222,
              "#7201a8"
             ],
             [
              0.3333333333333333,
              "#9c179e"
             ],
             [
              0.4444444444444444,
              "#bd3786"
             ],
             [
              0.5555555555555556,
              "#d8576b"
             ],
             [
              0.6666666666666666,
              "#ed7953"
             ],
             [
              0.7777777777777778,
              "#fb9f3a"
             ],
             [
              0.8888888888888888,
              "#fdca26"
             ],
             [
              1,
              "#f0f921"
             ]
            ],
            "type": "surface"
           }
          ],
          "table": [
           {
            "cells": {
             "fill": {
              "color": "#EBF0F8"
             },
             "line": {
              "color": "white"
             }
            },
            "header": {
             "fill": {
              "color": "#C8D4E3"
             },
             "line": {
              "color": "white"
             }
            },
            "type": "table"
           }
          ]
         },
         "layout": {
          "annotationdefaults": {
           "arrowcolor": "#2a3f5f",
           "arrowhead": 0,
           "arrowwidth": 1
          },
          "autotypenumbers": "strict",
          "coloraxis": {
           "colorbar": {
            "outlinewidth": 0,
            "ticks": ""
           }
          },
          "colorscale": {
           "diverging": [
            [
             0,
             "#8e0152"
            ],
            [
             0.1,
             "#c51b7d"
            ],
            [
             0.2,
             "#de77ae"
            ],
            [
             0.3,
             "#f1b6da"
            ],
            [
             0.4,
             "#fde0ef"
            ],
            [
             0.5,
             "#f7f7f7"
            ],
            [
             0.6,
             "#e6f5d0"
            ],
            [
             0.7,
             "#b8e186"
            ],
            [
             0.8,
             "#7fbc41"
            ],
            [
             0.9,
             "#4d9221"
            ],
            [
             1,
             "#276419"
            ]
           ],
           "sequential": [
            [
             0,
             "#0d0887"
            ],
            [
             0.1111111111111111,
             "#46039f"
            ],
            [
             0.2222222222222222,
             "#7201a8"
            ],
            [
             0.3333333333333333,
             "#9c179e"
            ],
            [
             0.4444444444444444,
             "#bd3786"
            ],
            [
             0.5555555555555556,
             "#d8576b"
            ],
            [
             0.6666666666666666,
             "#ed7953"
            ],
            [
             0.7777777777777778,
             "#fb9f3a"
            ],
            [
             0.8888888888888888,
             "#fdca26"
            ],
            [
             1,
             "#f0f921"
            ]
           ],
           "sequentialminus": [
            [
             0,
             "#0d0887"
            ],
            [
             0.1111111111111111,
             "#46039f"
            ],
            [
             0.2222222222222222,
             "#7201a8"
            ],
            [
             0.3333333333333333,
             "#9c179e"
            ],
            [
             0.4444444444444444,
             "#bd3786"
            ],
            [
             0.5555555555555556,
             "#d8576b"
            ],
            [
             0.6666666666666666,
             "#ed7953"
            ],
            [
             0.7777777777777778,
             "#fb9f3a"
            ],
            [
             0.8888888888888888,
             "#fdca26"
            ],
            [
             1,
             "#f0f921"
            ]
           ]
          },
          "colorway": [
           "#636efa",
           "#EF553B",
           "#00cc96",
           "#ab63fa",
           "#FFA15A",
           "#19d3f3",
           "#FF6692",
           "#B6E880",
           "#FF97FF",
           "#FECB52"
          ],
          "font": {
           "color": "#2a3f5f"
          },
          "geo": {
           "bgcolor": "white",
           "lakecolor": "white",
           "landcolor": "#E5ECF6",
           "showlakes": true,
           "showland": true,
           "subunitcolor": "white"
          },
          "hoverlabel": {
           "align": "left"
          },
          "hovermode": "closest",
          "mapbox": {
           "style": "light"
          },
          "paper_bgcolor": "white",
          "plot_bgcolor": "#E5ECF6",
          "polar": {
           "angularaxis": {
            "gridcolor": "white",
            "linecolor": "white",
            "ticks": ""
           },
           "bgcolor": "#E5ECF6",
           "radialaxis": {
            "gridcolor": "white",
            "linecolor": "white",
            "ticks": ""
           }
          },
          "scene": {
           "xaxis": {
            "backgroundcolor": "#E5ECF6",
            "gridcolor": "white",
            "gridwidth": 2,
            "linecolor": "white",
            "showbackground": true,
            "ticks": "",
            "zerolinecolor": "white"
           },
           "yaxis": {
            "backgroundcolor": "#E5ECF6",
            "gridcolor": "white",
            "gridwidth": 2,
            "linecolor": "white",
            "showbackground": true,
            "ticks": "",
            "zerolinecolor": "white"
           },
           "zaxis": {
            "backgroundcolor": "#E5ECF6",
            "gridcolor": "white",
            "gridwidth": 2,
            "linecolor": "white",
            "showbackground": true,
            "ticks": "",
            "zerolinecolor": "white"
           }
          },
          "shapedefaults": {
           "line": {
            "color": "#2a3f5f"
           }
          },
          "ternary": {
           "aaxis": {
            "gridcolor": "white",
            "linecolor": "white",
            "ticks": ""
           },
           "baxis": {
            "gridcolor": "white",
            "linecolor": "white",
            "ticks": ""
           },
           "bgcolor": "#E5ECF6",
           "caxis": {
            "gridcolor": "white",
            "linecolor": "white",
            "ticks": ""
           }
          },
          "title": {
           "x": 0.05
          },
          "xaxis": {
           "automargin": true,
           "gridcolor": "white",
           "linecolor": "white",
           "ticks": "",
           "title": {
            "standoff": 15
           },
           "zerolinecolor": "white",
           "zerolinewidth": 2
          },
          "yaxis": {
           "automargin": true,
           "gridcolor": "white",
           "linecolor": "white",
           "ticks": "",
           "title": {
            "standoff": 15
           },
           "zerolinecolor": "white",
           "zerolinewidth": 2
          }
         }
        },
        "title": {
         "text": "Performance de las empresas del dataset"
        }
       }
      }
     },
     "metadata": {},
     "output_type": "display_data"
    }
   ],
   "source": [
    "import plotly as py\n",
    "import plotly.io as pio\n",
    "import plotly.express as px\n",
    "\n",
    "# plot every company performance in the year show them all in a plot\n",
    "x = data.columns[1:]\n",
    "y = data.iloc[0,1:]\n",
    "#fig = px.line(x=x, y=y, title='Performance de las empresas del dataset')\n",
    "fig = py.graph_objs.Figure()\n",
    "# add title\n",
    "fig.update_layout(title='Performance de las empresas del dataset')\n",
    "for i in range(1, data.shape[0]):\n",
    "    y = data.iloc[i,1:]\n",
    "    fig.add_scatter(x=x, y=y, mode='lines', name=data.iloc[i,0])\n",
    "fig.show()\n",
    "\n",
    "\n",
    "\n",
    "\n",
    "\n"
   ]
  },
  {
   "cell_type": "code",
   "execution_count": 5,
   "metadata": {},
   "outputs": [
    {
     "data": {
      "text/plain": [
       "0.0015987499999999993"
      ]
     },
     "execution_count": 5,
     "metadata": {},
     "output_type": "execute_result"
    }
   ],
   "source": [
    "ri_cache = {}\n",
    "\n",
    "def ri(copañia):\n",
    "    if copañia not in ri_cache:\n",
    "        ri_cache[copañia] = data.loc[data[\"Empresa\"] == copañia].iloc[0, 1:].sum()/12\n",
    "    return ri_cache[copañia]\n",
    "    #add the row of the company and divide by 12\n",
    "    #return (data.loc[data[\"Empresa\"] == copañia].iloc[0, 1:].sum())/12\n",
    "\n",
    "ri(\"IBM\")"
   ]
  },
  {
   "cell_type": "code",
   "execution_count": 6,
   "metadata": {},
   "outputs": [],
   "source": [
    "def cromosoma():\n",
    "    # generate a vector of 20 random numbers between 0 and 1 that sum 1\n",
    "    np.random.seed()\n",
    "    c = np.random.rand(20)\n",
    "    c = c/sum(c)\n",
    "    return c"
   ]
  },
  {
   "cell_type": "code",
   "execution_count": 7,
   "metadata": {},
   "outputs": [],
   "source": [
    "def calcularRc(cromosoma):\n",
    "    rc = 0\n",
    "    for i in range(20):\n",
    "        rc += cromosoma[i]*ri(data.iloc[i][\"Empresa\"])\n",
    "    return rc"
   ]
  },
  {
   "cell_type": "code",
   "execution_count": 8,
   "metadata": {},
   "outputs": [
    {
     "name": "stderr",
     "output_type": "stream",
     "text": [
      "/tmp/ipykernel_4146/1038542018.py:4: FutureWarning:\n",
      "\n",
      "Series.__getitem__ treating keys as positions is deprecated. In a future version, integer keys will always be treated as labels (consistent with DataFrame behavior). To access a value by position, use `ser.iloc[pos]`\n",
      "\n"
     ]
    },
    {
     "data": {
      "text/plain": [
       "0.02055088711422984"
      ]
     },
     "execution_count": 8,
     "metadata": {},
     "output_type": "execute_result"
    }
   ],
   "source": [
    "def calcularOi(i):\n",
    "    resultado = 0\n",
    "    for m in range(12):\n",
    "        resultado += np.square(data.iloc[i][m+1] - ri(data.iloc[i][\"Empresa\"]))\n",
    "    return np.sqrt(resultado/11)\n",
    "\n",
    "calcularOi(1)"
   ]
  },
  {
   "cell_type": "code",
   "execution_count": 9,
   "metadata": {},
   "outputs": [],
   "source": [
    "def calcularOc(cromosoma):\n",
    "    resultado = 0\n",
    "    for i in range(20):\n",
    "        for j in range(20):\n",
    "            resultado += cromosoma[i]*cromosoma[j]*calcularOi(i)*calcularOi(j)\n",
    "    return np.sqrt(0.25 * resultado)"
   ]
  },
  {
   "cell_type": "code",
   "execution_count": 10,
   "metadata": {},
   "outputs": [],
   "source": [
    "def ratioSharpe(cromosoma):\n",
    "    rc = calcularRc(cromosoma)\n",
    "    desv = calcularOc(cromosoma)\n",
    "    return (rc - 0.003757)/desv"
   ]
  },
  {
   "cell_type": "code",
   "execution_count": 11,
   "metadata": {},
   "outputs": [],
   "source": [
    "def ruleta(fitness_gen, fitness_total, Pm):\n",
    "  \"\"\"\n",
    "  Función que decide si mutar un gen usando la ruleta.\n",
    "\n",
    "  Args:\n",
    "    fitness_gen: Fitness del gen a evaluar.\n",
    "    fitness_total: Fitness total del cromosoma.\n",
    "    Pm: Probabilidad de mutación individual.\n",
    "\n",
    "  Returns:\n",
    "    True si el gen debe mutarse, False en caso contrario.\n",
    "  \"\"\"\n",
    "  fitness_relativo = fitness_gen / fitness_total\n",
    "  r = np.random.random()\n",
    "\n",
    "  # Aplicar ruleta\n",
    "  if r < fitness_relativo * Pm:\n",
    "    return True\n",
    "  else:\n",
    "    return False"
   ]
  },
  {
   "cell_type": "code",
   "execution_count": 12,
   "metadata": {},
   "outputs": [],
   "source": [
    "def ruletaEncruzamiento(fitness_gen, fitness_total, Pc):\n",
    "  \"\"\"\n",
    "  Función que decide si cruzar un gen usando la ruleta.\n",
    "\n",
    "  Args:\n",
    "    fitness_gen: Fitness del gen a evaluar.\n",
    "    fitness_total: Fitness total del cromosoma.\n",
    "    Pc: Probabilidad de cruzamiento.\n",
    "\n",
    "  Returns:\n",
    "    True si el gen debe cruzarse, False en caso contrario.\n",
    "  \"\"\"\n",
    "  fitness_relativo = fitness_gen / fitness_total\n",
    "  r = np.random.random()\n",
    "\n",
    "  # Aplicar ruleta\n",
    "  if r < fitness_relativo * Pc:\n",
    "    return True\n",
    "  else:\n",
    "    return False"
   ]
  },
  {
   "cell_type": "code",
   "execution_count": 13,
   "metadata": {},
   "outputs": [],
   "source": [
    "def mutacion(cromosomaProcesado):\n",
    "    for gen in range(len(cromosomaProcesado)):\n",
    "        # Cambiar a el metodo de la ruleta\n",
    "        #if ruleta(gen, fitness, Pm):\n",
    "        if np.random.rand() < Pm:\n",
    "            # generate a random number between 0 and 1\n",
    "            nuevoGen = (np.random.rand() - 0.5) * C\n",
    "            if nuevoGen < 0:\n",
    "                nuevoGen = 0\n",
    "            cromosomaProcesado[gen] = nuevoGen\n",
    "            del nuevoGen\n",
    "\n",
    "    \n",
    "    return (cromosomaProcesado/sum(cromosomaProcesado))"
   ]
  },
  {
   "cell_type": "code",
   "execution_count": 14,
   "metadata": {},
   "outputs": [],
   "source": [
    "def entrecruzamiento(cromosoma1, cromosoma2):\n",
    "    # generate a random number between 0 and 1\n",
    "    #if metodoRuleta(cromosoma1, Pc):\n",
    "    r = np.random.random()\n",
    "    if r < Pc:\n",
    "        # generate a random number between 0 and 20\n",
    "        punto = np.random.randint(20)\n",
    "        # generate two new chromosomes\n",
    "        cromosoma1 = np.concatenate((cromosoma1[:punto], cromosoma2[punto:]))\n",
    "        cromosoma2 = np.concatenate((cromosoma2[:punto], cromosoma1[punto:]))\n",
    "\n",
    "        # if there is a negative number, change it to 0\n",
    "        cromosoma1[cromosoma1 < 0] = 0\n",
    "        cromosoma2[cromosoma2 < 0] = 0\n",
    "        cromosoma1 = cromosoma1/sum(cromosoma1)\n",
    "        cromosoma2 = cromosoma2/sum(cromosoma2)\n",
    "    return cromosoma1, cromosoma2"
   ]
  },
  {
   "cell_type": "code",
   "execution_count": 15,
   "metadata": {},
   "outputs": [],
   "source": [
    "def consensus_chromosome(df):\n",
    "  \"\"\"\n",
    "  Calculates the consensus chromosome by averaging values at each gene position.\n",
    "\n",
    "  Args:\n",
    "      df (pandas.DataFrame): DataFrame containing chromosomes\n",
    "\n",
    "  Returns:\n",
    "      list: The consensus chromosome\n",
    "  \"\"\"\n",
    "  consensus = []\n",
    "  for col in df.columns:\n",
    "    if col != \"Fitness\":  # Exclude the fitness column\n",
    "      consensus.append(df[col].mean())\n",
    "  return consensus"
   ]
  },
  {
   "cell_type": "code",
   "execution_count": 16,
   "metadata": {},
   "outputs": [],
   "source": [
    "def seleccionarHijos(df, fraccion):\n",
    "    cromosomas = []\n",
    "    fitness = []\n",
    "\n",
    "    for _ in range(int(fraccion/2)):\n",
    "        cromosoma1 = None\n",
    "        cromosoma2 = None\n",
    "        r = np.random.random()\n",
    "        for i in range(df.shape[0]):\n",
    "            if r < df[\"Probabilidad Acumulada\"][i]:\n",
    "                cromosoma1 = df[\"Cromosoma\"][i]\n",
    "                break\n",
    "        r = np.random.random()\n",
    "        for i in range(df.shape[0]):\n",
    "            if r < df[\"Probabilidad Acumulada\"][i]:\n",
    "                cromosoma2 = df[\"Cromosoma\"][i]\n",
    "                break\n",
    "\n",
    "        # aplicar entrecruzamiento\n",
    "        cromosoma1, cromosoma2 = entrecruzamiento(cromosoma1, cromosoma2)\n",
    "\n",
    "        cromosoma1 = mutacion(cromosoma1)\n",
    "        cromosoma2 = mutacion(cromosoma2)\n",
    "        finess1 = ratioSharpe(cromosoma1)\n",
    "        finess2 = ratioSharpe(cromosoma2)\n",
    "        cromosomas.append(cromosoma1)\n",
    "        cromosomas.append(cromosoma2)\n",
    "        fitness.append(finess1)\n",
    "        fitness.append(finess2)\n",
    "        del cromosoma1, cromosoma2, finess1, finess2\n",
    "\n",
    "    return cromosomas, fitness"
   ]
  },
  {
   "cell_type": "markdown",
   "metadata": {},
   "source": [
    "Empezar con el entrenamiento"
   ]
  },
  {
   "cell_type": "code",
   "execution_count": 17,
   "metadata": {},
   "outputs": [
    {
     "name": "stderr",
     "output_type": "stream",
     "text": [
      "/tmp/ipykernel_4146/1038542018.py:4: FutureWarning:\n",
      "\n",
      "Series.__getitem__ treating keys as positions is deprecated. In a future version, integer keys will always be treated as labels (consistent with DataFrame behavior). To access a value by position, use `ser.iloc[pos]`\n",
      "\n"
     ]
    }
   ],
   "source": [
    "# generate a random population\n",
    "\n",
    "poblacion = []\n",
    "for i in range(NPOB):\n",
    "    poblacion.append(cromosoma())\n",
    "\n",
    "# calculate the fitness of the population\n",
    "fitness = []\n",
    "for i in range(NPOB):\n",
    "    fitness.append(ratioSharpe(poblacion[i]))\n"
   ]
  },
  {
   "cell_type": "code",
   "execution_count": 18,
   "metadata": {},
   "outputs": [
    {
     "data": {
      "text/html": [
       "<div>\n",
       "<style scoped>\n",
       "    .dataframe tbody tr th:only-of-type {\n",
       "        vertical-align: middle;\n",
       "    }\n",
       "\n",
       "    .dataframe tbody tr th {\n",
       "        vertical-align: top;\n",
       "    }\n",
       "\n",
       "    .dataframe thead th {\n",
       "        text-align: right;\n",
       "    }\n",
       "</style>\n",
       "<table border=\"1\" class=\"dataframe\">\n",
       "  <thead>\n",
       "    <tr style=\"text-align: right;\">\n",
       "      <th></th>\n",
       "      <th>Cromosoma</th>\n",
       "      <th>Fitness</th>\n",
       "    </tr>\n",
       "  </thead>\n",
       "  <tbody>\n",
       "    <tr>\n",
       "      <th>0</th>\n",
       "      <td>[0.012351848857483224, 0.06573742401494566, 0....</td>\n",
       "      <td>-0.402548</td>\n",
       "    </tr>\n",
       "    <tr>\n",
       "      <th>1</th>\n",
       "      <td>[0.017610408848660882, 0.04016485523719883, 0....</td>\n",
       "      <td>-0.426470</td>\n",
       "    </tr>\n",
       "    <tr>\n",
       "      <th>2</th>\n",
       "      <td>[0.08882974788219702, 0.05087134434254781, 0.0...</td>\n",
       "      <td>-0.427139</td>\n",
       "    </tr>\n",
       "    <tr>\n",
       "      <th>3</th>\n",
       "      <td>[0.10025346470165804, 0.04059499141227071, 0.1...</td>\n",
       "      <td>-0.426937</td>\n",
       "    </tr>\n",
       "    <tr>\n",
       "      <th>4</th>\n",
       "      <td>[0.09475425857656546, 0.06521196980138423, 0.0...</td>\n",
       "      <td>-0.347356</td>\n",
       "    </tr>\n",
       "    <tr>\n",
       "      <th>...</th>\n",
       "      <td>...</td>\n",
       "      <td>...</td>\n",
       "    </tr>\n",
       "    <tr>\n",
       "      <th>75</th>\n",
       "      <td>[0.08211645018613097, 0.00864728312009002, 0.0...</td>\n",
       "      <td>-0.404886</td>\n",
       "    </tr>\n",
       "    <tr>\n",
       "      <th>76</th>\n",
       "      <td>[0.08287916687556243, 0.03488817242290259, 0.0...</td>\n",
       "      <td>-0.361088</td>\n",
       "    </tr>\n",
       "    <tr>\n",
       "      <th>77</th>\n",
       "      <td>[0.015876176080316735, 0.06881719050621471, 0....</td>\n",
       "      <td>-0.525950</td>\n",
       "    </tr>\n",
       "    <tr>\n",
       "      <th>78</th>\n",
       "      <td>[0.030362281462947602, 0.06522245559182954, 0....</td>\n",
       "      <td>-0.454353</td>\n",
       "    </tr>\n",
       "    <tr>\n",
       "      <th>79</th>\n",
       "      <td>[0.06815136889419554, 0.032477395573256136, 0....</td>\n",
       "      <td>-0.381833</td>\n",
       "    </tr>\n",
       "  </tbody>\n",
       "</table>\n",
       "<p>80 rows × 2 columns</p>\n",
       "</div>"
      ],
      "text/plain": [
       "                                            Cromosoma   Fitness\n",
       "0   [0.012351848857483224, 0.06573742401494566, 0.... -0.402548\n",
       "1   [0.017610408848660882, 0.04016485523719883, 0.... -0.426470\n",
       "2   [0.08882974788219702, 0.05087134434254781, 0.0... -0.427139\n",
       "3   [0.10025346470165804, 0.04059499141227071, 0.1... -0.426937\n",
       "4   [0.09475425857656546, 0.06521196980138423, 0.0... -0.347356\n",
       "..                                                ...       ...\n",
       "75  [0.08211645018613097, 0.00864728312009002, 0.0... -0.404886\n",
       "76  [0.08287916687556243, 0.03488817242290259, 0.0... -0.361088\n",
       "77  [0.015876176080316735, 0.06881719050621471, 0.... -0.525950\n",
       "78  [0.030362281462947602, 0.06522245559182954, 0.... -0.454353\n",
       "79  [0.06815136889419554, 0.032477395573256136, 0.... -0.381833\n",
       "\n",
       "[80 rows x 2 columns]"
      ]
     },
     "execution_count": 18,
     "metadata": {},
     "output_type": "execute_result"
    }
   ],
   "source": [
    "# save to pandas dataframe\n",
    "df = pd.DataFrame({\"Cromosoma\": poblacion, \"Fitness\": fitness})\n",
    "df"
   ]
  },
  {
   "cell_type": "code",
   "execution_count": 20,
   "metadata": {},
   "outputs": [
    {
     "name": "stdout",
     "output_type": "stream",
     "text": [
      "Comenzando algoritmo genético con los parametros:\n",
      "NPOB: 80\n",
      "NGEN: 500\n",
      "Pc: 0.6\n",
      "Pm: 0.7\n",
      "C: 0.4\n"
     ]
    },
    {
     "name": "stderr",
     "output_type": "stream",
     "text": [
      "/tmp/ipykernel_4146/1038542018.py:4: FutureWarning:\n",
      "\n",
      "Series.__getitem__ treating keys as positions is deprecated. In a future version, integer keys will always be treated as labels (consistent with DataFrame behavior). To access a value by position, use `ser.iloc[pos]`\n",
      "\n"
     ]
    },
    {
     "name": "stdout",
     "output_type": "stream",
     "text": [
      "Generacion 0 completada\n",
      "Hash de la generacion: 3690747515148635513\n",
      "Generacion 0 completada\n",
      "Mejor cromosoma: -0.11508892329909264  BESTPorcentaje: 30.930155877742\n",
      "Cromosoma consenso: None\n",
      "\n",
      "Generacion 0 completada\n",
      "Mejor cromosoma: -0.11508892329909264  en BESTPorcentaje: 30.930155877742\n",
      "Cromosoma consenso: None\n",
      "Muestreo del 20% de la población\n",
      "                                            Cromosoma   Fitness\n",
      "0   [0.0753359120849816, 0.0, 0.0, 0.0, 0.0, 0.032... -0.115089\n",
      "1   [0.07375500168309478, 0.0, 0.02323457623723984... -0.115426\n",
      "2   [0.16859429300945644, 0.0, 0.1826109348808915,... -0.135155\n",
      "3   [0.11088983363812335, 0.0, 0.1802291945004606,... -0.162257\n",
      "4   [0.0, 0.17200682602178455, 0.1884240565589634,... -0.197119\n",
      "5   [0.061462700534583005, 0.048216790272352705, 0... -0.200159\n",
      "6   [0.0, 0.0, 0.0, 0.15628100263701744, 0.0282618... -0.219039\n",
      "7   [0.031336575412656616, 0.024550408663439043, 0... -0.252907\n",
      "8   [0.12760031760781718, 0.006318381337913272, 0.... -0.260275\n",
      "9   [0.18151121958884886, 0.0, 0.0, 0.009037777943... -0.264625\n",
      "10  [0.025064177805945054, 0.0, 0.0621569813988818... -0.268375\n",
      "11  [0.15162051772622281, 0.054347862111300334, 0.... -0.268594\n",
      "12  [0.05385362620646795, 0.0, 0.13551070004998667... -0.269400\n",
      "13  [0.0575994475023307, 0.1845504693719705, 0.137... -0.269984\n",
      "14  [0.0776300971541999, 0.08716836319750436, 0.06... -0.277064\n",
      "15  [0.0, 0.16501787101719714, 0.0, 0.066202619385... -0.277833\n"
     ]
    },
    {
     "name": "stderr",
     "output_type": "stream",
     "text": [
      "/tmp/ipykernel_4146/1038542018.py:4: FutureWarning:\n",
      "\n",
      "Series.__getitem__ treating keys as positions is deprecated. In a future version, integer keys will always be treated as labels (consistent with DataFrame behavior). To access a value by position, use `ser.iloc[pos]`\n",
      "\n"
     ]
    },
    {
     "name": "stdout",
     "output_type": "stream",
     "text": [
      "Generacion 1 completada\n",
      "Hash de la generacion: 6528714156945383646\n"
     ]
    },
    {
     "name": "stderr",
     "output_type": "stream",
     "text": [
      "/tmp/ipykernel_4146/1038542018.py:4: FutureWarning:\n",
      "\n",
      "Series.__getitem__ treating keys as positions is deprecated. In a future version, integer keys will always be treated as labels (consistent with DataFrame behavior). To access a value by position, use `ser.iloc[pos]`\n",
      "\n"
     ]
    },
    {
     "name": "stdout",
     "output_type": "stream",
     "text": [
      "Generacion 2 completada\n",
      "Hash de la generacion: 2993269542969099616\n"
     ]
    },
    {
     "name": "stderr",
     "output_type": "stream",
     "text": [
      "/tmp/ipykernel_4146/1038542018.py:4: FutureWarning:\n",
      "\n",
      "Series.__getitem__ treating keys as positions is deprecated. In a future version, integer keys will always be treated as labels (consistent with DataFrame behavior). To access a value by position, use `ser.iloc[pos]`\n",
      "\n"
     ]
    },
    {
     "name": "stdout",
     "output_type": "stream",
     "text": [
      "Generacion 3 completada\n",
      "Hash de la generacion: -4463534219259217027\n"
     ]
    },
    {
     "name": "stderr",
     "output_type": "stream",
     "text": [
      "/tmp/ipykernel_4146/1038542018.py:4: FutureWarning:\n",
      "\n",
      "Series.__getitem__ treating keys as positions is deprecated. In a future version, integer keys will always be treated as labels (consistent with DataFrame behavior). To access a value by position, use `ser.iloc[pos]`\n",
      "\n"
     ]
    },
    {
     "name": "stdout",
     "output_type": "stream",
     "text": [
      "Generacion 4 completada\n",
      "Hash de la generacion: -1730650639099288025\n"
     ]
    },
    {
     "name": "stderr",
     "output_type": "stream",
     "text": [
      "/tmp/ipykernel_4146/1038542018.py:4: FutureWarning:\n",
      "\n",
      "Series.__getitem__ treating keys as positions is deprecated. In a future version, integer keys will always be treated as labels (consistent with DataFrame behavior). To access a value by position, use `ser.iloc[pos]`\n",
      "\n"
     ]
    },
    {
     "name": "stdout",
     "output_type": "stream",
     "text": [
      "Generacion 5 completada\n",
      "Hash de la generacion: -305175242146146142\n"
     ]
    },
    {
     "name": "stderr",
     "output_type": "stream",
     "text": [
      "/tmp/ipykernel_4146/1038542018.py:4: FutureWarning:\n",
      "\n",
      "Series.__getitem__ treating keys as positions is deprecated. In a future version, integer keys will always be treated as labels (consistent with DataFrame behavior). To access a value by position, use `ser.iloc[pos]`\n",
      "\n"
     ]
    },
    {
     "name": "stdout",
     "output_type": "stream",
     "text": [
      "Generacion 6 completada\n",
      "Hash de la generacion: -5645600459704889735\n"
     ]
    },
    {
     "name": "stderr",
     "output_type": "stream",
     "text": [
      "/tmp/ipykernel_4146/1038542018.py:4: FutureWarning:\n",
      "\n",
      "Series.__getitem__ treating keys as positions is deprecated. In a future version, integer keys will always be treated as labels (consistent with DataFrame behavior). To access a value by position, use `ser.iloc[pos]`\n",
      "\n"
     ]
    },
    {
     "name": "stdout",
     "output_type": "stream",
     "text": [
      "Generacion 7 completada\n",
      "Hash de la generacion: -2054662141023814205\n"
     ]
    },
    {
     "name": "stderr",
     "output_type": "stream",
     "text": [
      "/tmp/ipykernel_4146/1038542018.py:4: FutureWarning:\n",
      "\n",
      "Series.__getitem__ treating keys as positions is deprecated. In a future version, integer keys will always be treated as labels (consistent with DataFrame behavior). To access a value by position, use `ser.iloc[pos]`\n",
      "\n"
     ]
    },
    {
     "name": "stdout",
     "output_type": "stream",
     "text": [
      "Generacion 8 completada\n",
      "Hash de la generacion: -7597702539241740323\n"
     ]
    },
    {
     "name": "stderr",
     "output_type": "stream",
     "text": [
      "/tmp/ipykernel_4146/1038542018.py:4: FutureWarning:\n",
      "\n",
      "Series.__getitem__ treating keys as positions is deprecated. In a future version, integer keys will always be treated as labels (consistent with DataFrame behavior). To access a value by position, use `ser.iloc[pos]`\n",
      "\n"
     ]
    },
    {
     "name": "stdout",
     "output_type": "stream",
     "text": [
      "Generacion 9 completada\n",
      "Hash de la generacion: 7255770396173945836\n"
     ]
    },
    {
     "name": "stderr",
     "output_type": "stream",
     "text": [
      "/tmp/ipykernel_4146/1038542018.py:4: FutureWarning:\n",
      "\n",
      "Series.__getitem__ treating keys as positions is deprecated. In a future version, integer keys will always be treated as labels (consistent with DataFrame behavior). To access a value by position, use `ser.iloc[pos]`\n",
      "\n"
     ]
    },
    {
     "name": "stdout",
     "output_type": "stream",
     "text": [
      "Generacion 10 completada\n",
      "Hash de la generacion: -636754486984737442\n",
      "Generacion 10 completada\n",
      "Mejor cromosoma: 0.006851892229920477  BESTPorcentaje: -2.3209029236467784\n",
      "Cromosoma consenso: None\n",
      "\n"
     ]
    },
    {
     "name": "stderr",
     "output_type": "stream",
     "text": [
      "/tmp/ipykernel_4146/1038542018.py:4: FutureWarning:\n",
      "\n",
      "Series.__getitem__ treating keys as positions is deprecated. In a future version, integer keys will always be treated as labels (consistent with DataFrame behavior). To access a value by position, use `ser.iloc[pos]`\n",
      "\n"
     ]
    },
    {
     "name": "stdout",
     "output_type": "stream",
     "text": [
      "Generacion 11 completada\n",
      "Hash de la generacion: -4504667169214469818\n"
     ]
    },
    {
     "name": "stderr",
     "output_type": "stream",
     "text": [
      "/tmp/ipykernel_4146/1038542018.py:4: FutureWarning:\n",
      "\n",
      "Series.__getitem__ treating keys as positions is deprecated. In a future version, integer keys will always be treated as labels (consistent with DataFrame behavior). To access a value by position, use `ser.iloc[pos]`\n",
      "\n"
     ]
    },
    {
     "name": "stdout",
     "output_type": "stream",
     "text": [
      "Generacion 12 completada\n",
      "Hash de la generacion: -8112460849871055292\n"
     ]
    },
    {
     "name": "stderr",
     "output_type": "stream",
     "text": [
      "/tmp/ipykernel_4146/1038542018.py:4: FutureWarning:\n",
      "\n",
      "Series.__getitem__ treating keys as positions is deprecated. In a future version, integer keys will always be treated as labels (consistent with DataFrame behavior). To access a value by position, use `ser.iloc[pos]`\n",
      "\n"
     ]
    },
    {
     "name": "stdout",
     "output_type": "stream",
     "text": [
      "Generacion 13 completada\n",
      "Hash de la generacion: -1702440645250020333\n"
     ]
    },
    {
     "name": "stderr",
     "output_type": "stream",
     "text": [
      "/tmp/ipykernel_4146/1038542018.py:4: FutureWarning:\n",
      "\n",
      "Series.__getitem__ treating keys as positions is deprecated. In a future version, integer keys will always be treated as labels (consistent with DataFrame behavior). To access a value by position, use `ser.iloc[pos]`\n",
      "\n"
     ]
    },
    {
     "name": "stdout",
     "output_type": "stream",
     "text": [
      "Generacion 14 completada\n",
      "Hash de la generacion: 4711255032190904304\n"
     ]
    },
    {
     "name": "stderr",
     "output_type": "stream",
     "text": [
      "/tmp/ipykernel_4146/1038542018.py:4: FutureWarning:\n",
      "\n",
      "Series.__getitem__ treating keys as positions is deprecated. In a future version, integer keys will always be treated as labels (consistent with DataFrame behavior). To access a value by position, use `ser.iloc[pos]`\n",
      "\n"
     ]
    },
    {
     "name": "stdout",
     "output_type": "stream",
     "text": [
      "Generacion 15 completada\n",
      "Hash de la generacion: 8214095320540734258\n"
     ]
    },
    {
     "name": "stderr",
     "output_type": "stream",
     "text": [
      "/tmp/ipykernel_4146/1038542018.py:4: FutureWarning:\n",
      "\n",
      "Series.__getitem__ treating keys as positions is deprecated. In a future version, integer keys will always be treated as labels (consistent with DataFrame behavior). To access a value by position, use `ser.iloc[pos]`\n",
      "\n"
     ]
    },
    {
     "name": "stdout",
     "output_type": "stream",
     "text": [
      "Generacion 16 completada\n",
      "Hash de la generacion: 3744058090575810451\n"
     ]
    },
    {
     "name": "stderr",
     "output_type": "stream",
     "text": [
      "/tmp/ipykernel_4146/1038542018.py:4: FutureWarning:\n",
      "\n",
      "Series.__getitem__ treating keys as positions is deprecated. In a future version, integer keys will always be treated as labels (consistent with DataFrame behavior). To access a value by position, use `ser.iloc[pos]`\n",
      "\n"
     ]
    },
    {
     "name": "stdout",
     "output_type": "stream",
     "text": [
      "Generacion 17 completada\n",
      "Hash de la generacion: -833671710433177019\n"
     ]
    },
    {
     "name": "stderr",
     "output_type": "stream",
     "text": [
      "/tmp/ipykernel_4146/1038542018.py:4: FutureWarning:\n",
      "\n",
      "Series.__getitem__ treating keys as positions is deprecated. In a future version, integer keys will always be treated as labels (consistent with DataFrame behavior). To access a value by position, use `ser.iloc[pos]`\n",
      "\n"
     ]
    },
    {
     "name": "stdout",
     "output_type": "stream",
     "text": [
      "Generacion 18 completada\n",
      "Hash de la generacion: -7325814155129492914\n"
     ]
    },
    {
     "name": "stderr",
     "output_type": "stream",
     "text": [
      "/tmp/ipykernel_4146/1038542018.py:4: FutureWarning:\n",
      "\n",
      "Series.__getitem__ treating keys as positions is deprecated. In a future version, integer keys will always be treated as labels (consistent with DataFrame behavior). To access a value by position, use `ser.iloc[pos]`\n",
      "\n"
     ]
    },
    {
     "name": "stdout",
     "output_type": "stream",
     "text": [
      "Generacion 19 completada\n",
      "Hash de la generacion: 4396491995306121943\n"
     ]
    },
    {
     "name": "stderr",
     "output_type": "stream",
     "text": [
      "/tmp/ipykernel_4146/1038542018.py:4: FutureWarning:\n",
      "\n",
      "Series.__getitem__ treating keys as positions is deprecated. In a future version, integer keys will always be treated as labels (consistent with DataFrame behavior). To access a value by position, use `ser.iloc[pos]`\n",
      "\n"
     ]
    },
    {
     "name": "stdout",
     "output_type": "stream",
     "text": [
      "Generacion 20 completada\n",
      "Hash de la generacion: -7663684862895599272\n",
      "Generacion 20 completada\n",
      "Mejor cromosoma: 0.0352626852304132  BESTPorcentaje: -10.51338122265072\n",
      "Cromosoma consenso: None\n",
      "\n"
     ]
    },
    {
     "name": "stderr",
     "output_type": "stream",
     "text": [
      "/tmp/ipykernel_4146/1038542018.py:4: FutureWarning:\n",
      "\n",
      "Series.__getitem__ treating keys as positions is deprecated. In a future version, integer keys will always be treated as labels (consistent with DataFrame behavior). To access a value by position, use `ser.iloc[pos]`\n",
      "\n"
     ]
    },
    {
     "name": "stdout",
     "output_type": "stream",
     "text": [
      "Generacion 21 completada\n",
      "Hash de la generacion: -6580889184000555909\n"
     ]
    },
    {
     "name": "stderr",
     "output_type": "stream",
     "text": [
      "/tmp/ipykernel_4146/1038542018.py:4: FutureWarning:\n",
      "\n",
      "Series.__getitem__ treating keys as positions is deprecated. In a future version, integer keys will always be treated as labels (consistent with DataFrame behavior). To access a value by position, use `ser.iloc[pos]`\n",
      "\n"
     ]
    },
    {
     "name": "stdout",
     "output_type": "stream",
     "text": [
      "Generacion 22 completada\n",
      "Hash de la generacion: 4566870898162279015\n"
     ]
    },
    {
     "name": "stderr",
     "output_type": "stream",
     "text": [
      "/tmp/ipykernel_4146/1038542018.py:4: FutureWarning:\n",
      "\n",
      "Series.__getitem__ treating keys as positions is deprecated. In a future version, integer keys will always be treated as labels (consistent with DataFrame behavior). To access a value by position, use `ser.iloc[pos]`\n",
      "\n"
     ]
    },
    {
     "name": "stdout",
     "output_type": "stream",
     "text": [
      "Generacion 23 completada\n",
      "Hash de la generacion: -9207440525721224910\n"
     ]
    },
    {
     "name": "stderr",
     "output_type": "stream",
     "text": [
      "/tmp/ipykernel_4146/1038542018.py:4: FutureWarning:\n",
      "\n",
      "Series.__getitem__ treating keys as positions is deprecated. In a future version, integer keys will always be treated as labels (consistent with DataFrame behavior). To access a value by position, use `ser.iloc[pos]`\n",
      "\n"
     ]
    },
    {
     "name": "stdout",
     "output_type": "stream",
     "text": [
      "Generacion 24 completada\n",
      "Hash de la generacion: 6148256775175809836\n"
     ]
    },
    {
     "name": "stderr",
     "output_type": "stream",
     "text": [
      "/tmp/ipykernel_4146/1038542018.py:4: FutureWarning:\n",
      "\n",
      "Series.__getitem__ treating keys as positions is deprecated. In a future version, integer keys will always be treated as labels (consistent with DataFrame behavior). To access a value by position, use `ser.iloc[pos]`\n",
      "\n"
     ]
    },
    {
     "name": "stdout",
     "output_type": "stream",
     "text": [
      "Generacion 25 completada\n",
      "Hash de la generacion: 5833576293950695939\n"
     ]
    },
    {
     "name": "stderr",
     "output_type": "stream",
     "text": [
      "/tmp/ipykernel_4146/1038542018.py:4: FutureWarning:\n",
      "\n",
      "Series.__getitem__ treating keys as positions is deprecated. In a future version, integer keys will always be treated as labels (consistent with DataFrame behavior). To access a value by position, use `ser.iloc[pos]`\n",
      "\n"
     ]
    },
    {
     "name": "stdout",
     "output_type": "stream",
     "text": [
      "Generacion 26 completada\n",
      "Hash de la generacion: 7466405899579361693\n"
     ]
    },
    {
     "name": "stderr",
     "output_type": "stream",
     "text": [
      "/tmp/ipykernel_4146/1038542018.py:4: FutureWarning:\n",
      "\n",
      "Series.__getitem__ treating keys as positions is deprecated. In a future version, integer keys will always be treated as labels (consistent with DataFrame behavior). To access a value by position, use `ser.iloc[pos]`\n",
      "\n"
     ]
    },
    {
     "name": "stdout",
     "output_type": "stream",
     "text": [
      "Generacion 27 completada\n",
      "Hash de la generacion: 7109523847702740797\n"
     ]
    },
    {
     "name": "stderr",
     "output_type": "stream",
     "text": [
      "/tmp/ipykernel_4146/1038542018.py:4: FutureWarning:\n",
      "\n",
      "Series.__getitem__ treating keys as positions is deprecated. In a future version, integer keys will always be treated as labels (consistent with DataFrame behavior). To access a value by position, use `ser.iloc[pos]`\n",
      "\n"
     ]
    },
    {
     "name": "stdout",
     "output_type": "stream",
     "text": [
      "Generacion 28 completada\n",
      "Hash de la generacion: -183481951612282841\n"
     ]
    },
    {
     "name": "stderr",
     "output_type": "stream",
     "text": [
      "/tmp/ipykernel_4146/1038542018.py:4: FutureWarning:\n",
      "\n",
      "Series.__getitem__ treating keys as positions is deprecated. In a future version, integer keys will always be treated as labels (consistent with DataFrame behavior). To access a value by position, use `ser.iloc[pos]`\n",
      "\n"
     ]
    },
    {
     "name": "stdout",
     "output_type": "stream",
     "text": [
      "Generacion 29 completada\n",
      "Hash de la generacion: 4985337713736030879\n"
     ]
    },
    {
     "name": "stderr",
     "output_type": "stream",
     "text": [
      "/tmp/ipykernel_4146/1038542018.py:4: FutureWarning:\n",
      "\n",
      "Series.__getitem__ treating keys as positions is deprecated. In a future version, integer keys will always be treated as labels (consistent with DataFrame behavior). To access a value by position, use `ser.iloc[pos]`\n",
      "\n"
     ]
    },
    {
     "name": "stdout",
     "output_type": "stream",
     "text": [
      "Generacion 30 completada\n",
      "Hash de la generacion: -2318818437884095736\n",
      "Generacion 30 completada\n",
      "Mejor cromosoma: 0.0352626852304132  BESTPorcentaje: -10.782554162136964\n",
      "Cromosoma consenso: None\n",
      "\n"
     ]
    },
    {
     "name": "stderr",
     "output_type": "stream",
     "text": [
      "/tmp/ipykernel_4146/1038542018.py:4: FutureWarning:\n",
      "\n",
      "Series.__getitem__ treating keys as positions is deprecated. In a future version, integer keys will always be treated as labels (consistent with DataFrame behavior). To access a value by position, use `ser.iloc[pos]`\n",
      "\n"
     ]
    },
    {
     "name": "stdout",
     "output_type": "stream",
     "text": [
      "Generacion 31 completada\n",
      "Hash de la generacion: -4418843342571057491\n"
     ]
    },
    {
     "name": "stderr",
     "output_type": "stream",
     "text": [
      "/tmp/ipykernel_4146/1038542018.py:4: FutureWarning:\n",
      "\n",
      "Series.__getitem__ treating keys as positions is deprecated. In a future version, integer keys will always be treated as labels (consistent with DataFrame behavior). To access a value by position, use `ser.iloc[pos]`\n",
      "\n"
     ]
    },
    {
     "name": "stdout",
     "output_type": "stream",
     "text": [
      "Generacion 32 completada\n",
      "Hash de la generacion: 2784156961354978814\n"
     ]
    },
    {
     "name": "stderr",
     "output_type": "stream",
     "text": [
      "/tmp/ipykernel_4146/1038542018.py:4: FutureWarning:\n",
      "\n",
      "Series.__getitem__ treating keys as positions is deprecated. In a future version, integer keys will always be treated as labels (consistent with DataFrame behavior). To access a value by position, use `ser.iloc[pos]`\n",
      "\n"
     ]
    },
    {
     "name": "stdout",
     "output_type": "stream",
     "text": [
      "Generacion 33 completada\n",
      "Hash de la generacion: 2899917622554671438\n"
     ]
    },
    {
     "name": "stderr",
     "output_type": "stream",
     "text": [
      "/tmp/ipykernel_4146/1038542018.py:4: FutureWarning:\n",
      "\n",
      "Series.__getitem__ treating keys as positions is deprecated. In a future version, integer keys will always be treated as labels (consistent with DataFrame behavior). To access a value by position, use `ser.iloc[pos]`\n",
      "\n"
     ]
    },
    {
     "name": "stdout",
     "output_type": "stream",
     "text": [
      "Generacion 34 completada\n",
      "Hash de la generacion: -1510274203247277055\n"
     ]
    },
    {
     "name": "stderr",
     "output_type": "stream",
     "text": [
      "/tmp/ipykernel_4146/1038542018.py:4: FutureWarning:\n",
      "\n",
      "Series.__getitem__ treating keys as positions is deprecated. In a future version, integer keys will always be treated as labels (consistent with DataFrame behavior). To access a value by position, use `ser.iloc[pos]`\n",
      "\n"
     ]
    },
    {
     "name": "stdout",
     "output_type": "stream",
     "text": [
      "Generacion 35 completada\n",
      "Hash de la generacion: 2020534652105855654\n"
     ]
    },
    {
     "name": "stderr",
     "output_type": "stream",
     "text": [
      "/tmp/ipykernel_4146/1038542018.py:4: FutureWarning:\n",
      "\n",
      "Series.__getitem__ treating keys as positions is deprecated. In a future version, integer keys will always be treated as labels (consistent with DataFrame behavior). To access a value by position, use `ser.iloc[pos]`\n",
      "\n"
     ]
    },
    {
     "name": "stdout",
     "output_type": "stream",
     "text": [
      "Generacion 36 completada\n",
      "Hash de la generacion: 1008672796399690914\n"
     ]
    },
    {
     "name": "stderr",
     "output_type": "stream",
     "text": [
      "/tmp/ipykernel_4146/1038542018.py:4: FutureWarning:\n",
      "\n",
      "Series.__getitem__ treating keys as positions is deprecated. In a future version, integer keys will always be treated as labels (consistent with DataFrame behavior). To access a value by position, use `ser.iloc[pos]`\n",
      "\n"
     ]
    },
    {
     "name": "stdout",
     "output_type": "stream",
     "text": [
      "Generacion 37 completada\n",
      "Hash de la generacion: 3026246456589066924\n"
     ]
    },
    {
     "name": "stderr",
     "output_type": "stream",
     "text": [
      "/tmp/ipykernel_4146/1038542018.py:4: FutureWarning:\n",
      "\n",
      "Series.__getitem__ treating keys as positions is deprecated. In a future version, integer keys will always be treated as labels (consistent with DataFrame behavior). To access a value by position, use `ser.iloc[pos]`\n",
      "\n"
     ]
    },
    {
     "name": "stdout",
     "output_type": "stream",
     "text": [
      "Generacion 38 completada\n",
      "Hash de la generacion: 7793128037456817773\n"
     ]
    },
    {
     "name": "stderr",
     "output_type": "stream",
     "text": [
      "/tmp/ipykernel_4146/1038542018.py:4: FutureWarning:\n",
      "\n",
      "Series.__getitem__ treating keys as positions is deprecated. In a future version, integer keys will always be treated as labels (consistent with DataFrame behavior). To access a value by position, use `ser.iloc[pos]`\n",
      "\n"
     ]
    },
    {
     "name": "stdout",
     "output_type": "stream",
     "text": [
      "Generacion 39 completada\n",
      "Hash de la generacion: 6447296881182340441\n"
     ]
    },
    {
     "name": "stderr",
     "output_type": "stream",
     "text": [
      "/tmp/ipykernel_4146/1038542018.py:4: FutureWarning:\n",
      "\n",
      "Series.__getitem__ treating keys as positions is deprecated. In a future version, integer keys will always be treated as labels (consistent with DataFrame behavior). To access a value by position, use `ser.iloc[pos]`\n",
      "\n"
     ]
    },
    {
     "name": "stdout",
     "output_type": "stream",
     "text": [
      "Generacion 40 completada\n",
      "Hash de la generacion: 3049166439392842514\n",
      "Generacion 40 completada\n",
      "Mejor cromosoma: 0.0352626852304132  BESTPorcentaje: -11.30853716337053\n",
      "Cromosoma consenso: None\n",
      "\n"
     ]
    },
    {
     "name": "stderr",
     "output_type": "stream",
     "text": [
      "/tmp/ipykernel_4146/1038542018.py:4: FutureWarning:\n",
      "\n",
      "Series.__getitem__ treating keys as positions is deprecated. In a future version, integer keys will always be treated as labels (consistent with DataFrame behavior). To access a value by position, use `ser.iloc[pos]`\n",
      "\n"
     ]
    },
    {
     "name": "stdout",
     "output_type": "stream",
     "text": [
      "Generacion 41 completada\n",
      "Hash de la generacion: -6269899993945879369\n"
     ]
    },
    {
     "name": "stderr",
     "output_type": "stream",
     "text": [
      "/tmp/ipykernel_4146/1038542018.py:4: FutureWarning:\n",
      "\n",
      "Series.__getitem__ treating keys as positions is deprecated. In a future version, integer keys will always be treated as labels (consistent with DataFrame behavior). To access a value by position, use `ser.iloc[pos]`\n",
      "\n"
     ]
    },
    {
     "name": "stdout",
     "output_type": "stream",
     "text": [
      "Generacion 42 completada\n",
      "Hash de la generacion: -1678261520551865556\n"
     ]
    },
    {
     "name": "stderr",
     "output_type": "stream",
     "text": [
      "/tmp/ipykernel_4146/1038542018.py:4: FutureWarning:\n",
      "\n",
      "Series.__getitem__ treating keys as positions is deprecated. In a future version, integer keys will always be treated as labels (consistent with DataFrame behavior). To access a value by position, use `ser.iloc[pos]`\n",
      "\n"
     ]
    },
    {
     "name": "stdout",
     "output_type": "stream",
     "text": [
      "Generacion 43 completada\n",
      "Hash de la generacion: 890306109673067840\n"
     ]
    },
    {
     "name": "stderr",
     "output_type": "stream",
     "text": [
      "/tmp/ipykernel_4146/1038542018.py:4: FutureWarning:\n",
      "\n",
      "Series.__getitem__ treating keys as positions is deprecated. In a future version, integer keys will always be treated as labels (consistent with DataFrame behavior). To access a value by position, use `ser.iloc[pos]`\n",
      "\n"
     ]
    },
    {
     "name": "stdout",
     "output_type": "stream",
     "text": [
      "Generacion 44 completada\n",
      "Hash de la generacion: 7835745148729936888\n"
     ]
    },
    {
     "name": "stderr",
     "output_type": "stream",
     "text": [
      "/tmp/ipykernel_4146/1038542018.py:4: FutureWarning:\n",
      "\n",
      "Series.__getitem__ treating keys as positions is deprecated. In a future version, integer keys will always be treated as labels (consistent with DataFrame behavior). To access a value by position, use `ser.iloc[pos]`\n",
      "\n"
     ]
    },
    {
     "name": "stdout",
     "output_type": "stream",
     "text": [
      "Generacion 45 completada\n",
      "Hash de la generacion: 1576893361537366518\n"
     ]
    },
    {
     "name": "stderr",
     "output_type": "stream",
     "text": [
      "/tmp/ipykernel_4146/1038542018.py:4: FutureWarning:\n",
      "\n",
      "Series.__getitem__ treating keys as positions is deprecated. In a future version, integer keys will always be treated as labels (consistent with DataFrame behavior). To access a value by position, use `ser.iloc[pos]`\n",
      "\n"
     ]
    },
    {
     "name": "stdout",
     "output_type": "stream",
     "text": [
      "Generacion 46 completada\n",
      "Hash de la generacion: -8541361893866821800\n"
     ]
    },
    {
     "name": "stderr",
     "output_type": "stream",
     "text": [
      "/tmp/ipykernel_4146/1038542018.py:4: FutureWarning:\n",
      "\n",
      "Series.__getitem__ treating keys as positions is deprecated. In a future version, integer keys will always be treated as labels (consistent with DataFrame behavior). To access a value by position, use `ser.iloc[pos]`\n",
      "\n"
     ]
    },
    {
     "name": "stdout",
     "output_type": "stream",
     "text": [
      "Generacion 47 completada\n",
      "Hash de la generacion: -4706617259842027033\n"
     ]
    },
    {
     "name": "stderr",
     "output_type": "stream",
     "text": [
      "/tmp/ipykernel_4146/1038542018.py:4: FutureWarning:\n",
      "\n",
      "Series.__getitem__ treating keys as positions is deprecated. In a future version, integer keys will always be treated as labels (consistent with DataFrame behavior). To access a value by position, use `ser.iloc[pos]`\n",
      "\n"
     ]
    },
    {
     "name": "stdout",
     "output_type": "stream",
     "text": [
      "Generacion 48 completada\n",
      "Hash de la generacion: 3163472408703259609\n"
     ]
    },
    {
     "name": "stderr",
     "output_type": "stream",
     "text": [
      "/tmp/ipykernel_4146/1038542018.py:4: FutureWarning:\n",
      "\n",
      "Series.__getitem__ treating keys as positions is deprecated. In a future version, integer keys will always be treated as labels (consistent with DataFrame behavior). To access a value by position, use `ser.iloc[pos]`\n",
      "\n"
     ]
    },
    {
     "name": "stdout",
     "output_type": "stream",
     "text": [
      "Generacion 49 completada\n",
      "Hash de la generacion: -2788579919553382738\n"
     ]
    },
    {
     "name": "stderr",
     "output_type": "stream",
     "text": [
      "/tmp/ipykernel_4146/1038542018.py:4: FutureWarning:\n",
      "\n",
      "Series.__getitem__ treating keys as positions is deprecated. In a future version, integer keys will always be treated as labels (consistent with DataFrame behavior). To access a value by position, use `ser.iloc[pos]`\n",
      "\n"
     ]
    },
    {
     "name": "stdout",
     "output_type": "stream",
     "text": [
      "Generacion 50 completada\n",
      "Hash de la generacion: -8741248881575384396\n",
      "Generacion 50 completada\n",
      "Mejor cromosoma: 0.14228744976189964  BESTPorcentaje: -47.615974054545624\n",
      "Cromosoma consenso: None\n",
      "\n",
      "Generacion 50 completada\n",
      "Mejor cromosoma: 0.14228744976189964  en BESTPorcentaje: -47.615974054545624\n",
      "Cromosoma consenso: None\n",
      "Muestreo del 20% de la población\n",
      "                                            Cromosoma   Fitness\n",
      "0   [0.19827140231280158, 0.0, 0.0, 0.151574989671...  0.142287\n",
      "1   [0.0, 0.0, 0.0, 0.0, 0.0, 0.06204027021464973,...  0.085987\n",
      "2   [0.0, 0.14165738713906836, 0.0, 0.0, 0.1545809...  0.048963\n",
      "3   [0.0, 0.0, 0.1233490175921443, 0.0267792177936...  0.042054\n",
      "4   [0.026539825364599912, 0.0, 0.0, 0.0, 0.0, 0.0...  0.041132\n",
      "5   [0.03073867425729775, 0.0, 0.0, 0.021594641506...  0.035263\n",
      "6   [0.02846360814520037, 0.16465504912061577, 0.0...  0.023033\n",
      "7   [0.030821644802396176, 0.12380500316824304, 0....  0.022965\n",
      "8   [0.008081399301251402, 0.0, 0.0, 0.0, 0.0, 0.0...  0.021702\n",
      "9   [0.0, 0.0, 0.0, 0.0, 0.08443731394108114, 0.04...  0.017226\n",
      "10  [0.0, 0.0, 0.12674148677978467, 0.0, 0.1793824...  0.016788\n",
      "11  [0.05327262290088752, 0.0, 0.04709174124655058...  0.016660\n",
      "12  [0.045451241726918425, 0.16949296666309546, 0....  0.014248\n",
      "13  [0.16195149042125187, 0.08813030655079064, 0.0...  0.006852\n",
      "14  [0.0, 0.0, 0.0, 0.0, 0.46727734112869673, 0.06...  0.000447\n",
      "15  [0.18421119468076116, 0.0, 0.0, 0.0, 0.0097667... -0.010967\n"
     ]
    },
    {
     "name": "stderr",
     "output_type": "stream",
     "text": [
      "/tmp/ipykernel_4146/1038542018.py:4: FutureWarning:\n",
      "\n",
      "Series.__getitem__ treating keys as positions is deprecated. In a future version, integer keys will always be treated as labels (consistent with DataFrame behavior). To access a value by position, use `ser.iloc[pos]`\n",
      "\n"
     ]
    },
    {
     "name": "stdout",
     "output_type": "stream",
     "text": [
      "Generacion 51 completada\n",
      "Hash de la generacion: -2895163113536297732\n"
     ]
    },
    {
     "name": "stderr",
     "output_type": "stream",
     "text": [
      "/tmp/ipykernel_4146/1038542018.py:4: FutureWarning:\n",
      "\n",
      "Series.__getitem__ treating keys as positions is deprecated. In a future version, integer keys will always be treated as labels (consistent with DataFrame behavior). To access a value by position, use `ser.iloc[pos]`\n",
      "\n"
     ]
    },
    {
     "name": "stdout",
     "output_type": "stream",
     "text": [
      "Generacion 52 completada\n",
      "Hash de la generacion: -2923450024324665172\n"
     ]
    },
    {
     "name": "stderr",
     "output_type": "stream",
     "text": [
      "/tmp/ipykernel_4146/1038542018.py:4: FutureWarning:\n",
      "\n",
      "Series.__getitem__ treating keys as positions is deprecated. In a future version, integer keys will always be treated as labels (consistent with DataFrame behavior). To access a value by position, use `ser.iloc[pos]`\n",
      "\n"
     ]
    },
    {
     "name": "stdout",
     "output_type": "stream",
     "text": [
      "Generacion 53 completada\n",
      "Hash de la generacion: 2040618619412118402\n"
     ]
    },
    {
     "name": "stderr",
     "output_type": "stream",
     "text": [
      "/tmp/ipykernel_4146/1038542018.py:4: FutureWarning:\n",
      "\n",
      "Series.__getitem__ treating keys as positions is deprecated. In a future version, integer keys will always be treated as labels (consistent with DataFrame behavior). To access a value by position, use `ser.iloc[pos]`\n",
      "\n"
     ]
    },
    {
     "name": "stdout",
     "output_type": "stream",
     "text": [
      "Generacion 54 completada\n",
      "Hash de la generacion: 2347979448717301171\n"
     ]
    },
    {
     "name": "stderr",
     "output_type": "stream",
     "text": [
      "/tmp/ipykernel_4146/1038542018.py:4: FutureWarning:\n",
      "\n",
      "Series.__getitem__ treating keys as positions is deprecated. In a future version, integer keys will always be treated as labels (consistent with DataFrame behavior). To access a value by position, use `ser.iloc[pos]`\n",
      "\n"
     ]
    },
    {
     "name": "stdout",
     "output_type": "stream",
     "text": [
      "Generacion 55 completada\n",
      "Hash de la generacion: 3520884109905205010\n"
     ]
    },
    {
     "name": "stderr",
     "output_type": "stream",
     "text": [
      "/tmp/ipykernel_4146/1038542018.py:4: FutureWarning:\n",
      "\n",
      "Series.__getitem__ treating keys as positions is deprecated. In a future version, integer keys will always be treated as labels (consistent with DataFrame behavior). To access a value by position, use `ser.iloc[pos]`\n",
      "\n"
     ]
    },
    {
     "name": "stdout",
     "output_type": "stream",
     "text": [
      "Generacion 56 completada\n",
      "Hash de la generacion: -6428768632277588404\n"
     ]
    },
    {
     "name": "stderr",
     "output_type": "stream",
     "text": [
      "/tmp/ipykernel_4146/1038542018.py:4: FutureWarning:\n",
      "\n",
      "Series.__getitem__ treating keys as positions is deprecated. In a future version, integer keys will always be treated as labels (consistent with DataFrame behavior). To access a value by position, use `ser.iloc[pos]`\n",
      "\n"
     ]
    },
    {
     "name": "stdout",
     "output_type": "stream",
     "text": [
      "Generacion 57 completada\n",
      "Hash de la generacion: -4078013164634162675\n"
     ]
    },
    {
     "name": "stderr",
     "output_type": "stream",
     "text": [
      "/tmp/ipykernel_4146/1038542018.py:4: FutureWarning:\n",
      "\n",
      "Series.__getitem__ treating keys as positions is deprecated. In a future version, integer keys will always be treated as labels (consistent with DataFrame behavior). To access a value by position, use `ser.iloc[pos]`\n",
      "\n"
     ]
    },
    {
     "name": "stdout",
     "output_type": "stream",
     "text": [
      "Generacion 58 completada\n",
      "Hash de la generacion: -4829367771496398256\n"
     ]
    },
    {
     "name": "stderr",
     "output_type": "stream",
     "text": [
      "/tmp/ipykernel_4146/1038542018.py:4: FutureWarning:\n",
      "\n",
      "Series.__getitem__ treating keys as positions is deprecated. In a future version, integer keys will always be treated as labels (consistent with DataFrame behavior). To access a value by position, use `ser.iloc[pos]`\n",
      "\n"
     ]
    },
    {
     "name": "stdout",
     "output_type": "stream",
     "text": [
      "Generacion 59 completada\n",
      "Hash de la generacion: 5802912875385438880\n"
     ]
    },
    {
     "name": "stderr",
     "output_type": "stream",
     "text": [
      "/tmp/ipykernel_4146/1038542018.py:4: FutureWarning:\n",
      "\n",
      "Series.__getitem__ treating keys as positions is deprecated. In a future version, integer keys will always be treated as labels (consistent with DataFrame behavior). To access a value by position, use `ser.iloc[pos]`\n",
      "\n"
     ]
    },
    {
     "name": "stdout",
     "output_type": "stream",
     "text": [
      "Generacion 60 completada\n",
      "Hash de la generacion: 8945115854527825177\n",
      "Generacion 60 completada\n",
      "Mejor cromosoma: 0.14228744976189964  BESTPorcentaje: -43.682129045429114\n",
      "Cromosoma consenso: None\n",
      "\n"
     ]
    },
    {
     "name": "stderr",
     "output_type": "stream",
     "text": [
      "/tmp/ipykernel_4146/1038542018.py:4: FutureWarning:\n",
      "\n",
      "Series.__getitem__ treating keys as positions is deprecated. In a future version, integer keys will always be treated as labels (consistent with DataFrame behavior). To access a value by position, use `ser.iloc[pos]`\n",
      "\n"
     ]
    },
    {
     "name": "stdout",
     "output_type": "stream",
     "text": [
      "Generacion 61 completada\n",
      "Hash de la generacion: 91189331399695066\n"
     ]
    },
    {
     "name": "stderr",
     "output_type": "stream",
     "text": [
      "/tmp/ipykernel_4146/1038542018.py:4: FutureWarning:\n",
      "\n",
      "Series.__getitem__ treating keys as positions is deprecated. In a future version, integer keys will always be treated as labels (consistent with DataFrame behavior). To access a value by position, use `ser.iloc[pos]`\n",
      "\n"
     ]
    },
    {
     "name": "stdout",
     "output_type": "stream",
     "text": [
      "Generacion 62 completada\n",
      "Hash de la generacion: 1564146434157464589\n"
     ]
    },
    {
     "name": "stderr",
     "output_type": "stream",
     "text": [
      "/tmp/ipykernel_4146/1038542018.py:4: FutureWarning:\n",
      "\n",
      "Series.__getitem__ treating keys as positions is deprecated. In a future version, integer keys will always be treated as labels (consistent with DataFrame behavior). To access a value by position, use `ser.iloc[pos]`\n",
      "\n"
     ]
    },
    {
     "name": "stdout",
     "output_type": "stream",
     "text": [
      "Generacion 63 completada\n",
      "Hash de la generacion: 829409116232198044\n"
     ]
    },
    {
     "name": "stderr",
     "output_type": "stream",
     "text": [
      "/tmp/ipykernel_4146/1038542018.py:4: FutureWarning:\n",
      "\n",
      "Series.__getitem__ treating keys as positions is deprecated. In a future version, integer keys will always be treated as labels (consistent with DataFrame behavior). To access a value by position, use `ser.iloc[pos]`\n",
      "\n"
     ]
    },
    {
     "name": "stdout",
     "output_type": "stream",
     "text": [
      "Generacion 64 completada\n",
      "Hash de la generacion: -8584301169701812987\n"
     ]
    },
    {
     "name": "stderr",
     "output_type": "stream",
     "text": [
      "/tmp/ipykernel_4146/1038542018.py:4: FutureWarning:\n",
      "\n",
      "Series.__getitem__ treating keys as positions is deprecated. In a future version, integer keys will always be treated as labels (consistent with DataFrame behavior). To access a value by position, use `ser.iloc[pos]`\n",
      "\n"
     ]
    },
    {
     "name": "stdout",
     "output_type": "stream",
     "text": [
      "Generacion 65 completada\n",
      "Hash de la generacion: -2792735756417375054\n"
     ]
    },
    {
     "name": "stderr",
     "output_type": "stream",
     "text": [
      "/tmp/ipykernel_4146/1038542018.py:4: FutureWarning:\n",
      "\n",
      "Series.__getitem__ treating keys as positions is deprecated. In a future version, integer keys will always be treated as labels (consistent with DataFrame behavior). To access a value by position, use `ser.iloc[pos]`\n",
      "\n"
     ]
    },
    {
     "name": "stdout",
     "output_type": "stream",
     "text": [
      "Generacion 66 completada\n",
      "Hash de la generacion: 384200053538005611\n"
     ]
    },
    {
     "name": "stderr",
     "output_type": "stream",
     "text": [
      "/tmp/ipykernel_4146/1038542018.py:4: FutureWarning:\n",
      "\n",
      "Series.__getitem__ treating keys as positions is deprecated. In a future version, integer keys will always be treated as labels (consistent with DataFrame behavior). To access a value by position, use `ser.iloc[pos]`\n",
      "\n"
     ]
    },
    {
     "name": "stdout",
     "output_type": "stream",
     "text": [
      "Generacion 67 completada\n",
      "Hash de la generacion: -657899770976354506\n"
     ]
    },
    {
     "name": "stderr",
     "output_type": "stream",
     "text": [
      "/tmp/ipykernel_4146/1038542018.py:4: FutureWarning:\n",
      "\n",
      "Series.__getitem__ treating keys as positions is deprecated. In a future version, integer keys will always be treated as labels (consistent with DataFrame behavior). To access a value by position, use `ser.iloc[pos]`\n",
      "\n"
     ]
    },
    {
     "name": "stdout",
     "output_type": "stream",
     "text": [
      "Generacion 68 completada\n",
      "Hash de la generacion: -1959814858294607183\n"
     ]
    },
    {
     "name": "stderr",
     "output_type": "stream",
     "text": [
      "/tmp/ipykernel_4146/1038542018.py:4: FutureWarning:\n",
      "\n",
      "Series.__getitem__ treating keys as positions is deprecated. In a future version, integer keys will always be treated as labels (consistent with DataFrame behavior). To access a value by position, use `ser.iloc[pos]`\n",
      "\n"
     ]
    },
    {
     "name": "stdout",
     "output_type": "stream",
     "text": [
      "Generacion 69 completada\n",
      "Hash de la generacion: 2196347315838692128\n"
     ]
    },
    {
     "name": "stderr",
     "output_type": "stream",
     "text": [
      "/tmp/ipykernel_4146/1038542018.py:4: FutureWarning:\n",
      "\n",
      "Series.__getitem__ treating keys as positions is deprecated. In a future version, integer keys will always be treated as labels (consistent with DataFrame behavior). To access a value by position, use `ser.iloc[pos]`\n",
      "\n"
     ]
    },
    {
     "name": "stdout",
     "output_type": "stream",
     "text": [
      "Generacion 70 completada\n",
      "Hash de la generacion: -5961709319728072718\n",
      "Generacion 70 completada\n",
      "Mejor cromosoma: 0.14228744976189964  BESTPorcentaje: -47.94867570134434\n",
      "Cromosoma consenso: None\n",
      "\n"
     ]
    },
    {
     "name": "stderr",
     "output_type": "stream",
     "text": [
      "/tmp/ipykernel_4146/1038542018.py:4: FutureWarning:\n",
      "\n",
      "Series.__getitem__ treating keys as positions is deprecated. In a future version, integer keys will always be treated as labels (consistent with DataFrame behavior). To access a value by position, use `ser.iloc[pos]`\n",
      "\n"
     ]
    },
    {
     "name": "stdout",
     "output_type": "stream",
     "text": [
      "Generacion 71 completada\n",
      "Hash de la generacion: -6696552668693028822\n"
     ]
    },
    {
     "name": "stderr",
     "output_type": "stream",
     "text": [
      "/tmp/ipykernel_4146/1038542018.py:4: FutureWarning:\n",
      "\n",
      "Series.__getitem__ treating keys as positions is deprecated. In a future version, integer keys will always be treated as labels (consistent with DataFrame behavior). To access a value by position, use `ser.iloc[pos]`\n",
      "\n"
     ]
    },
    {
     "name": "stdout",
     "output_type": "stream",
     "text": [
      "Generacion 72 completada\n",
      "Hash de la generacion: 2156948087951755963\n"
     ]
    },
    {
     "name": "stderr",
     "output_type": "stream",
     "text": [
      "/tmp/ipykernel_4146/1038542018.py:4: FutureWarning:\n",
      "\n",
      "Series.__getitem__ treating keys as positions is deprecated. In a future version, integer keys will always be treated as labels (consistent with DataFrame behavior). To access a value by position, use `ser.iloc[pos]`\n",
      "\n"
     ]
    },
    {
     "name": "stdout",
     "output_type": "stream",
     "text": [
      "Generacion 73 completada\n",
      "Hash de la generacion: 1344070310119125228\n"
     ]
    },
    {
     "name": "stderr",
     "output_type": "stream",
     "text": [
      "/tmp/ipykernel_4146/1038542018.py:4: FutureWarning:\n",
      "\n",
      "Series.__getitem__ treating keys as positions is deprecated. In a future version, integer keys will always be treated as labels (consistent with DataFrame behavior). To access a value by position, use `ser.iloc[pos]`\n",
      "\n"
     ]
    },
    {
     "name": "stdout",
     "output_type": "stream",
     "text": [
      "Generacion 74 completada\n",
      "Hash de la generacion: 8797732241121568862\n"
     ]
    },
    {
     "name": "stderr",
     "output_type": "stream",
     "text": [
      "/tmp/ipykernel_4146/1038542018.py:4: FutureWarning:\n",
      "\n",
      "Series.__getitem__ treating keys as positions is deprecated. In a future version, integer keys will always be treated as labels (consistent with DataFrame behavior). To access a value by position, use `ser.iloc[pos]`\n",
      "\n"
     ]
    },
    {
     "name": "stdout",
     "output_type": "stream",
     "text": [
      "Generacion 75 completada\n",
      "Hash de la generacion: 1425249020950266523\n"
     ]
    },
    {
     "name": "stderr",
     "output_type": "stream",
     "text": [
      "/tmp/ipykernel_4146/1038542018.py:4: FutureWarning:\n",
      "\n",
      "Series.__getitem__ treating keys as positions is deprecated. In a future version, integer keys will always be treated as labels (consistent with DataFrame behavior). To access a value by position, use `ser.iloc[pos]`\n",
      "\n"
     ]
    },
    {
     "name": "stdout",
     "output_type": "stream",
     "text": [
      "Generacion 76 completada\n",
      "Hash de la generacion: 6433895053703958326\n"
     ]
    },
    {
     "name": "stderr",
     "output_type": "stream",
     "text": [
      "/tmp/ipykernel_4146/1038542018.py:4: FutureWarning:\n",
      "\n",
      "Series.__getitem__ treating keys as positions is deprecated. In a future version, integer keys will always be treated as labels (consistent with DataFrame behavior). To access a value by position, use `ser.iloc[pos]`\n",
      "\n"
     ]
    },
    {
     "name": "stdout",
     "output_type": "stream",
     "text": [
      "Generacion 77 completada\n",
      "Hash de la generacion: 3541201193462426779\n"
     ]
    },
    {
     "name": "stderr",
     "output_type": "stream",
     "text": [
      "/tmp/ipykernel_4146/1038542018.py:4: FutureWarning:\n",
      "\n",
      "Series.__getitem__ treating keys as positions is deprecated. In a future version, integer keys will always be treated as labels (consistent with DataFrame behavior). To access a value by position, use `ser.iloc[pos]`\n",
      "\n"
     ]
    },
    {
     "name": "stdout",
     "output_type": "stream",
     "text": [
      "Generacion 78 completada\n",
      "Hash de la generacion: -4575331945556289432\n"
     ]
    },
    {
     "name": "stderr",
     "output_type": "stream",
     "text": [
      "/tmp/ipykernel_4146/1038542018.py:4: FutureWarning:\n",
      "\n",
      "Series.__getitem__ treating keys as positions is deprecated. In a future version, integer keys will always be treated as labels (consistent with DataFrame behavior). To access a value by position, use `ser.iloc[pos]`\n",
      "\n"
     ]
    },
    {
     "name": "stdout",
     "output_type": "stream",
     "text": [
      "Generacion 79 completada\n",
      "Hash de la generacion: -747891426899373544\n"
     ]
    },
    {
     "name": "stderr",
     "output_type": "stream",
     "text": [
      "/tmp/ipykernel_4146/1038542018.py:4: FutureWarning:\n",
      "\n",
      "Series.__getitem__ treating keys as positions is deprecated. In a future version, integer keys will always be treated as labels (consistent with DataFrame behavior). To access a value by position, use `ser.iloc[pos]`\n",
      "\n"
     ]
    },
    {
     "name": "stdout",
     "output_type": "stream",
     "text": [
      "Generacion 80 completada\n",
      "Hash de la generacion: 8966477823244909982\n",
      "Generacion 80 completada\n",
      "Mejor cromosoma: 0.14228744976189964  BESTPorcentaje: -44.772397710931365\n",
      "Cromosoma consenso: None\n",
      "\n"
     ]
    },
    {
     "name": "stderr",
     "output_type": "stream",
     "text": [
      "/tmp/ipykernel_4146/1038542018.py:4: FutureWarning:\n",
      "\n",
      "Series.__getitem__ treating keys as positions is deprecated. In a future version, integer keys will always be treated as labels (consistent with DataFrame behavior). To access a value by position, use `ser.iloc[pos]`\n",
      "\n"
     ]
    },
    {
     "name": "stdout",
     "output_type": "stream",
     "text": [
      "Generacion 81 completada\n",
      "Hash de la generacion: -1533757160632830115\n"
     ]
    },
    {
     "name": "stderr",
     "output_type": "stream",
     "text": [
      "/tmp/ipykernel_4146/1038542018.py:4: FutureWarning:\n",
      "\n",
      "Series.__getitem__ treating keys as positions is deprecated. In a future version, integer keys will always be treated as labels (consistent with DataFrame behavior). To access a value by position, use `ser.iloc[pos]`\n",
      "\n"
     ]
    },
    {
     "name": "stdout",
     "output_type": "stream",
     "text": [
      "Generacion 82 completada\n",
      "Hash de la generacion: 7529943991571107189\n"
     ]
    },
    {
     "name": "stderr",
     "output_type": "stream",
     "text": [
      "/tmp/ipykernel_4146/1038542018.py:4: FutureWarning:\n",
      "\n",
      "Series.__getitem__ treating keys as positions is deprecated. In a future version, integer keys will always be treated as labels (consistent with DataFrame behavior). To access a value by position, use `ser.iloc[pos]`\n",
      "\n"
     ]
    },
    {
     "name": "stdout",
     "output_type": "stream",
     "text": [
      "Generacion 83 completada\n",
      "Hash de la generacion: -5536670246995929491\n"
     ]
    },
    {
     "name": "stderr",
     "output_type": "stream",
     "text": [
      "/tmp/ipykernel_4146/1038542018.py:4: FutureWarning:\n",
      "\n",
      "Series.__getitem__ treating keys as positions is deprecated. In a future version, integer keys will always be treated as labels (consistent with DataFrame behavior). To access a value by position, use `ser.iloc[pos]`\n",
      "\n"
     ]
    },
    {
     "name": "stdout",
     "output_type": "stream",
     "text": [
      "Generacion 84 completada\n",
      "Hash de la generacion: -2809062826765017278\n"
     ]
    },
    {
     "name": "stderr",
     "output_type": "stream",
     "text": [
      "/tmp/ipykernel_4146/1038542018.py:4: FutureWarning:\n",
      "\n",
      "Series.__getitem__ treating keys as positions is deprecated. In a future version, integer keys will always be treated as labels (consistent with DataFrame behavior). To access a value by position, use `ser.iloc[pos]`\n",
      "\n"
     ]
    },
    {
     "name": "stdout",
     "output_type": "stream",
     "text": [
      "Generacion 85 completada\n",
      "Hash de la generacion: 4549959138373452705\n"
     ]
    },
    {
     "name": "stderr",
     "output_type": "stream",
     "text": [
      "/tmp/ipykernel_4146/1038542018.py:4: FutureWarning:\n",
      "\n",
      "Series.__getitem__ treating keys as positions is deprecated. In a future version, integer keys will always be treated as labels (consistent with DataFrame behavior). To access a value by position, use `ser.iloc[pos]`\n",
      "\n"
     ]
    },
    {
     "name": "stdout",
     "output_type": "stream",
     "text": [
      "Generacion 86 completada\n",
      "Hash de la generacion: 834918742138372898\n"
     ]
    },
    {
     "name": "stderr",
     "output_type": "stream",
     "text": [
      "/tmp/ipykernel_4146/1038542018.py:4: FutureWarning:\n",
      "\n",
      "Series.__getitem__ treating keys as positions is deprecated. In a future version, integer keys will always be treated as labels (consistent with DataFrame behavior). To access a value by position, use `ser.iloc[pos]`\n",
      "\n"
     ]
    },
    {
     "name": "stdout",
     "output_type": "stream",
     "text": [
      "Generacion 87 completada\n",
      "Hash de la generacion: 2433545953177162031\n"
     ]
    },
    {
     "name": "stderr",
     "output_type": "stream",
     "text": [
      "/tmp/ipykernel_4146/1038542018.py:4: FutureWarning:\n",
      "\n",
      "Series.__getitem__ treating keys as positions is deprecated. In a future version, integer keys will always be treated as labels (consistent with DataFrame behavior). To access a value by position, use `ser.iloc[pos]`\n",
      "\n"
     ]
    },
    {
     "name": "stdout",
     "output_type": "stream",
     "text": [
      "Generacion 88 completada\n",
      "Hash de la generacion: 4023327436666685737\n"
     ]
    },
    {
     "name": "stderr",
     "output_type": "stream",
     "text": [
      "/tmp/ipykernel_4146/1038542018.py:4: FutureWarning:\n",
      "\n",
      "Series.__getitem__ treating keys as positions is deprecated. In a future version, integer keys will always be treated as labels (consistent with DataFrame behavior). To access a value by position, use `ser.iloc[pos]`\n",
      "\n"
     ]
    },
    {
     "name": "stdout",
     "output_type": "stream",
     "text": [
      "Generacion 89 completada\n",
      "Hash de la generacion: -2687363278715794759\n"
     ]
    },
    {
     "name": "stderr",
     "output_type": "stream",
     "text": [
      "/tmp/ipykernel_4146/1038542018.py:4: FutureWarning:\n",
      "\n",
      "Series.__getitem__ treating keys as positions is deprecated. In a future version, integer keys will always be treated as labels (consistent with DataFrame behavior). To access a value by position, use `ser.iloc[pos]`\n",
      "\n"
     ]
    },
    {
     "name": "stdout",
     "output_type": "stream",
     "text": [
      "Generacion 90 completada\n",
      "Hash de la generacion: 6728384393690692136\n",
      "Generacion 90 completada\n",
      "Mejor cromosoma: 0.14228744976189964  BESTPorcentaje: -46.724625320448524\n",
      "Cromosoma consenso: None\n",
      "\n"
     ]
    },
    {
     "name": "stderr",
     "output_type": "stream",
     "text": [
      "/tmp/ipykernel_4146/1038542018.py:4: FutureWarning:\n",
      "\n",
      "Series.__getitem__ treating keys as positions is deprecated. In a future version, integer keys will always be treated as labels (consistent with DataFrame behavior). To access a value by position, use `ser.iloc[pos]`\n",
      "\n"
     ]
    },
    {
     "name": "stdout",
     "output_type": "stream",
     "text": [
      "Generacion 91 completada\n",
      "Hash de la generacion: 6355603438032219754\n"
     ]
    },
    {
     "name": "stderr",
     "output_type": "stream",
     "text": [
      "/tmp/ipykernel_4146/1038542018.py:4: FutureWarning:\n",
      "\n",
      "Series.__getitem__ treating keys as positions is deprecated. In a future version, integer keys will always be treated as labels (consistent with DataFrame behavior). To access a value by position, use `ser.iloc[pos]`\n",
      "\n"
     ]
    },
    {
     "name": "stdout",
     "output_type": "stream",
     "text": [
      "Generacion 92 completada\n",
      "Hash de la generacion: 3204230485450987021\n"
     ]
    },
    {
     "name": "stderr",
     "output_type": "stream",
     "text": [
      "/tmp/ipykernel_4146/1038542018.py:4: FutureWarning:\n",
      "\n",
      "Series.__getitem__ treating keys as positions is deprecated. In a future version, integer keys will always be treated as labels (consistent with DataFrame behavior). To access a value by position, use `ser.iloc[pos]`\n",
      "\n"
     ]
    },
    {
     "name": "stdout",
     "output_type": "stream",
     "text": [
      "Generacion 93 completada\n",
      "Hash de la generacion: 3194995532880265401\n"
     ]
    },
    {
     "name": "stderr",
     "output_type": "stream",
     "text": [
      "/tmp/ipykernel_4146/1038542018.py:4: FutureWarning:\n",
      "\n",
      "Series.__getitem__ treating keys as positions is deprecated. In a future version, integer keys will always be treated as labels (consistent with DataFrame behavior). To access a value by position, use `ser.iloc[pos]`\n",
      "\n"
     ]
    },
    {
     "name": "stdout",
     "output_type": "stream",
     "text": [
      "Generacion 94 completada\n",
      "Hash de la generacion: 6014988871172244456\n"
     ]
    },
    {
     "name": "stderr",
     "output_type": "stream",
     "text": [
      "/tmp/ipykernel_4146/1038542018.py:4: FutureWarning:\n",
      "\n",
      "Series.__getitem__ treating keys as positions is deprecated. In a future version, integer keys will always be treated as labels (consistent with DataFrame behavior). To access a value by position, use `ser.iloc[pos]`\n",
      "\n"
     ]
    },
    {
     "name": "stdout",
     "output_type": "stream",
     "text": [
      "Generacion 95 completada\n",
      "Hash de la generacion: -90170333112045445\n"
     ]
    },
    {
     "name": "stderr",
     "output_type": "stream",
     "text": [
      "/tmp/ipykernel_4146/1038542018.py:4: FutureWarning:\n",
      "\n",
      "Series.__getitem__ treating keys as positions is deprecated. In a future version, integer keys will always be treated as labels (consistent with DataFrame behavior). To access a value by position, use `ser.iloc[pos]`\n",
      "\n"
     ]
    },
    {
     "name": "stdout",
     "output_type": "stream",
     "text": [
      "Generacion 96 completada\n",
      "Hash de la generacion: 941871091702058000\n"
     ]
    },
    {
     "name": "stderr",
     "output_type": "stream",
     "text": [
      "/tmp/ipykernel_4146/1038542018.py:4: FutureWarning:\n",
      "\n",
      "Series.__getitem__ treating keys as positions is deprecated. In a future version, integer keys will always be treated as labels (consistent with DataFrame behavior). To access a value by position, use `ser.iloc[pos]`\n",
      "\n"
     ]
    },
    {
     "name": "stdout",
     "output_type": "stream",
     "text": [
      "Generacion 97 completada\n",
      "Hash de la generacion: 6850630301034893697\n"
     ]
    },
    {
     "name": "stderr",
     "output_type": "stream",
     "text": [
      "/tmp/ipykernel_4146/1038542018.py:4: FutureWarning:\n",
      "\n",
      "Series.__getitem__ treating keys as positions is deprecated. In a future version, integer keys will always be treated as labels (consistent with DataFrame behavior). To access a value by position, use `ser.iloc[pos]`\n",
      "\n"
     ]
    },
    {
     "name": "stdout",
     "output_type": "stream",
     "text": [
      "Generacion 98 completada\n",
      "Hash de la generacion: -8706699442959259792\n"
     ]
    },
    {
     "name": "stderr",
     "output_type": "stream",
     "text": [
      "/tmp/ipykernel_4146/1038542018.py:4: FutureWarning:\n",
      "\n",
      "Series.__getitem__ treating keys as positions is deprecated. In a future version, integer keys will always be treated as labels (consistent with DataFrame behavior). To access a value by position, use `ser.iloc[pos]`\n",
      "\n"
     ]
    },
    {
     "name": "stdout",
     "output_type": "stream",
     "text": [
      "Generacion 99 completada\n",
      "Hash de la generacion: -2945307930973607436\n"
     ]
    },
    {
     "name": "stderr",
     "output_type": "stream",
     "text": [
      "/tmp/ipykernel_4146/1038542018.py:4: FutureWarning:\n",
      "\n",
      "Series.__getitem__ treating keys as positions is deprecated. In a future version, integer keys will always be treated as labels (consistent with DataFrame behavior). To access a value by position, use `ser.iloc[pos]`\n",
      "\n"
     ]
    },
    {
     "name": "stdout",
     "output_type": "stream",
     "text": [
      "Generacion 100 completada\n",
      "Hash de la generacion: -1025949036744773960\n",
      "Generacion 100 completada\n",
      "Mejor cromosoma: 0.14228744976189964  BESTPorcentaje: -42.4804617045064\n",
      "Cromosoma consenso: None\n",
      "\n",
      "Generacion 100 completada\n",
      "Mejor cromosoma: 0.14228744976189964  en BESTPorcentaje: -42.4804617045064\n",
      "Cromosoma consenso: None\n",
      "Muestreo del 20% de la población\n",
      "                                            Cromosoma   Fitness\n",
      "0   [0.1524826831089059, 0.10098737627594319, 0.0,...  0.142287\n",
      "1   [0.17749079626410968, 0.1759286366607493, 0.0,...  0.106817\n",
      "2   [0.0, 0.0, 0.06907454660534605, 0.126118839036...  0.097207\n",
      "3   [0.0, 0.0, 0.0, 0.08585511733978853, 0.0596111...  0.085987\n",
      "4   [0.0, 0.0, 0.15550310959098335, 0.0, 0.0, 0.0,...  0.065301\n",
      "5   [0.0, 0.14270702128554885, 0.0, 0.0, 0.1340039...  0.060529\n",
      "6   [0.0, 0.0, 0.0, 0.16176958012750797, 0.0, 0.01...  0.058064\n",
      "7   [0.18846953218570528, 0.0, 0.14854472497784138...  0.049645\n",
      "8   [0.0, 0.0, 0.025993750737484556, 0.0, 0.100980...  0.048963\n",
      "9   [0.073638284711148, 0.0, 0.0, 0.15817458952090...  0.042054\n",
      "10  [0.0, 0.0, 0.18269335293187933, 0.0, 0.0, 0.0,...  0.041132\n",
      "11  [0.0, 0.0655380708521025, 0.0, 0.1580272214566...  0.035263\n",
      "12  [0.0, 0.0, 0.16212447450990056, 0.0, 0.0222782...  0.023033\n",
      "13  [0.0, 0.0, 0.10320321521927474, 0.0, 0.1928234...  0.022965\n",
      "14  [0.0, 0.0, 0.0, 0.11340517999737676, 0.0, 0.0,...  0.021702\n",
      "15  [0.15568955905944779, 0.0, 0.1465231419109197,...  0.017226\n"
     ]
    },
    {
     "name": "stderr",
     "output_type": "stream",
     "text": [
      "/tmp/ipykernel_4146/1038542018.py:4: FutureWarning:\n",
      "\n",
      "Series.__getitem__ treating keys as positions is deprecated. In a future version, integer keys will always be treated as labels (consistent with DataFrame behavior). To access a value by position, use `ser.iloc[pos]`\n",
      "\n"
     ]
    },
    {
     "name": "stdout",
     "output_type": "stream",
     "text": [
      "Generacion 101 completada\n",
      "Hash de la generacion: -2333101406933987517\n"
     ]
    },
    {
     "name": "stderr",
     "output_type": "stream",
     "text": [
      "/tmp/ipykernel_4146/1038542018.py:4: FutureWarning:\n",
      "\n",
      "Series.__getitem__ treating keys as positions is deprecated. In a future version, integer keys will always be treated as labels (consistent with DataFrame behavior). To access a value by position, use `ser.iloc[pos]`\n",
      "\n"
     ]
    },
    {
     "name": "stdout",
     "output_type": "stream",
     "text": [
      "Generacion 102 completada\n",
      "Hash de la generacion: 3956522621736540345\n"
     ]
    },
    {
     "name": "stderr",
     "output_type": "stream",
     "text": [
      "/tmp/ipykernel_4146/1038542018.py:4: FutureWarning:\n",
      "\n",
      "Series.__getitem__ treating keys as positions is deprecated. In a future version, integer keys will always be treated as labels (consistent with DataFrame behavior). To access a value by position, use `ser.iloc[pos]`\n",
      "\n"
     ]
    },
    {
     "name": "stdout",
     "output_type": "stream",
     "text": [
      "Generacion 103 completada\n",
      "Hash de la generacion: -4047500379548370447\n"
     ]
    },
    {
     "name": "stderr",
     "output_type": "stream",
     "text": [
      "/tmp/ipykernel_4146/1038542018.py:4: FutureWarning:\n",
      "\n",
      "Series.__getitem__ treating keys as positions is deprecated. In a future version, integer keys will always be treated as labels (consistent with DataFrame behavior). To access a value by position, use `ser.iloc[pos]`\n",
      "\n"
     ]
    },
    {
     "name": "stdout",
     "output_type": "stream",
     "text": [
      "Generacion 104 completada\n",
      "Hash de la generacion: 1591383862826835805\n"
     ]
    },
    {
     "name": "stderr",
     "output_type": "stream",
     "text": [
      "/tmp/ipykernel_4146/1038542018.py:4: FutureWarning:\n",
      "\n",
      "Series.__getitem__ treating keys as positions is deprecated. In a future version, integer keys will always be treated as labels (consistent with DataFrame behavior). To access a value by position, use `ser.iloc[pos]`\n",
      "\n"
     ]
    },
    {
     "name": "stdout",
     "output_type": "stream",
     "text": [
      "Generacion 105 completada\n",
      "Hash de la generacion: -5019456435323177536\n"
     ]
    },
    {
     "name": "stderr",
     "output_type": "stream",
     "text": [
      "/tmp/ipykernel_4146/1038542018.py:4: FutureWarning:\n",
      "\n",
      "Series.__getitem__ treating keys as positions is deprecated. In a future version, integer keys will always be treated as labels (consistent with DataFrame behavior). To access a value by position, use `ser.iloc[pos]`\n",
      "\n"
     ]
    },
    {
     "name": "stdout",
     "output_type": "stream",
     "text": [
      "Generacion 106 completada\n",
      "Hash de la generacion: -4735110330247388352\n"
     ]
    },
    {
     "name": "stderr",
     "output_type": "stream",
     "text": [
      "/tmp/ipykernel_4146/1038542018.py:4: FutureWarning:\n",
      "\n",
      "Series.__getitem__ treating keys as positions is deprecated. In a future version, integer keys will always be treated as labels (consistent with DataFrame behavior). To access a value by position, use `ser.iloc[pos]`\n",
      "\n"
     ]
    },
    {
     "name": "stdout",
     "output_type": "stream",
     "text": [
      "Generacion 107 completada\n",
      "Hash de la generacion: -3035730056874142709\n"
     ]
    },
    {
     "name": "stderr",
     "output_type": "stream",
     "text": [
      "/tmp/ipykernel_4146/1038542018.py:4: FutureWarning:\n",
      "\n",
      "Series.__getitem__ treating keys as positions is deprecated. In a future version, integer keys will always be treated as labels (consistent with DataFrame behavior). To access a value by position, use `ser.iloc[pos]`\n",
      "\n"
     ]
    },
    {
     "name": "stdout",
     "output_type": "stream",
     "text": [
      "Generacion 108 completada\n",
      "Hash de la generacion: 1776332115542305654\n"
     ]
    },
    {
     "name": "stderr",
     "output_type": "stream",
     "text": [
      "/tmp/ipykernel_4146/1038542018.py:4: FutureWarning:\n",
      "\n",
      "Series.__getitem__ treating keys as positions is deprecated. In a future version, integer keys will always be treated as labels (consistent with DataFrame behavior). To access a value by position, use `ser.iloc[pos]`\n",
      "\n"
     ]
    },
    {
     "name": "stdout",
     "output_type": "stream",
     "text": [
      "Generacion 109 completada\n",
      "Hash de la generacion: 8564412446094895160\n"
     ]
    },
    {
     "name": "stderr",
     "output_type": "stream",
     "text": [
      "/tmp/ipykernel_4146/1038542018.py:4: FutureWarning:\n",
      "\n",
      "Series.__getitem__ treating keys as positions is deprecated. In a future version, integer keys will always be treated as labels (consistent with DataFrame behavior). To access a value by position, use `ser.iloc[pos]`\n",
      "\n"
     ]
    },
    {
     "name": "stdout",
     "output_type": "stream",
     "text": [
      "Generacion 110 completada\n",
      "Hash de la generacion: -8605507251049982769\n",
      "Generacion 110 completada\n",
      "Mejor cromosoma: 0.14228744976189964  BESTPorcentaje: -47.4094830635347\n",
      "Cromosoma consenso: None\n",
      "\n"
     ]
    },
    {
     "name": "stderr",
     "output_type": "stream",
     "text": [
      "/tmp/ipykernel_4146/1038542018.py:4: FutureWarning:\n",
      "\n",
      "Series.__getitem__ treating keys as positions is deprecated. In a future version, integer keys will always be treated as labels (consistent with DataFrame behavior). To access a value by position, use `ser.iloc[pos]`\n",
      "\n"
     ]
    },
    {
     "name": "stdout",
     "output_type": "stream",
     "text": [
      "Generacion 111 completada\n",
      "Hash de la generacion: 150876792427975519\n"
     ]
    },
    {
     "name": "stderr",
     "output_type": "stream",
     "text": [
      "/tmp/ipykernel_4146/1038542018.py:4: FutureWarning:\n",
      "\n",
      "Series.__getitem__ treating keys as positions is deprecated. In a future version, integer keys will always be treated as labels (consistent with DataFrame behavior). To access a value by position, use `ser.iloc[pos]`\n",
      "\n"
     ]
    },
    {
     "name": "stdout",
     "output_type": "stream",
     "text": [
      "Generacion 112 completada\n",
      "Hash de la generacion: 1355248000422654664\n"
     ]
    },
    {
     "name": "stderr",
     "output_type": "stream",
     "text": [
      "/tmp/ipykernel_4146/1038542018.py:4: FutureWarning:\n",
      "\n",
      "Series.__getitem__ treating keys as positions is deprecated. In a future version, integer keys will always be treated as labels (consistent with DataFrame behavior). To access a value by position, use `ser.iloc[pos]`\n",
      "\n"
     ]
    },
    {
     "name": "stdout",
     "output_type": "stream",
     "text": [
      "Generacion 113 completada\n",
      "Hash de la generacion: -115343942070696827\n"
     ]
    },
    {
     "name": "stderr",
     "output_type": "stream",
     "text": [
      "/tmp/ipykernel_4146/1038542018.py:4: FutureWarning:\n",
      "\n",
      "Series.__getitem__ treating keys as positions is deprecated. In a future version, integer keys will always be treated as labels (consistent with DataFrame behavior). To access a value by position, use `ser.iloc[pos]`\n",
      "\n"
     ]
    },
    {
     "name": "stdout",
     "output_type": "stream",
     "text": [
      "Generacion 114 completada\n",
      "Hash de la generacion: 5911495804655078286\n"
     ]
    },
    {
     "name": "stderr",
     "output_type": "stream",
     "text": [
      "/tmp/ipykernel_4146/1038542018.py:4: FutureWarning:\n",
      "\n",
      "Series.__getitem__ treating keys as positions is deprecated. In a future version, integer keys will always be treated as labels (consistent with DataFrame behavior). To access a value by position, use `ser.iloc[pos]`\n",
      "\n"
     ]
    },
    {
     "name": "stdout",
     "output_type": "stream",
     "text": [
      "Generacion 115 completada\n",
      "Hash de la generacion: -8491173973907654254\n"
     ]
    },
    {
     "name": "stderr",
     "output_type": "stream",
     "text": [
      "/tmp/ipykernel_4146/1038542018.py:4: FutureWarning:\n",
      "\n",
      "Series.__getitem__ treating keys as positions is deprecated. In a future version, integer keys will always be treated as labels (consistent with DataFrame behavior). To access a value by position, use `ser.iloc[pos]`\n",
      "\n"
     ]
    },
    {
     "name": "stdout",
     "output_type": "stream",
     "text": [
      "Generacion 116 completada\n",
      "Hash de la generacion: -3971332604372951939\n"
     ]
    },
    {
     "name": "stderr",
     "output_type": "stream",
     "text": [
      "/tmp/ipykernel_4146/1038542018.py:4: FutureWarning:\n",
      "\n",
      "Series.__getitem__ treating keys as positions is deprecated. In a future version, integer keys will always be treated as labels (consistent with DataFrame behavior). To access a value by position, use `ser.iloc[pos]`\n",
      "\n"
     ]
    },
    {
     "name": "stdout",
     "output_type": "stream",
     "text": [
      "Generacion 117 completada\n",
      "Hash de la generacion: -1751894942937155462\n"
     ]
    },
    {
     "name": "stderr",
     "output_type": "stream",
     "text": [
      "/tmp/ipykernel_4146/1038542018.py:4: FutureWarning:\n",
      "\n",
      "Series.__getitem__ treating keys as positions is deprecated. In a future version, integer keys will always be treated as labels (consistent with DataFrame behavior). To access a value by position, use `ser.iloc[pos]`\n",
      "\n"
     ]
    },
    {
     "name": "stdout",
     "output_type": "stream",
     "text": [
      "Generacion 118 completada\n",
      "Hash de la generacion: -8932583073678130459\n"
     ]
    },
    {
     "name": "stderr",
     "output_type": "stream",
     "text": [
      "/tmp/ipykernel_4146/1038542018.py:4: FutureWarning:\n",
      "\n",
      "Series.__getitem__ treating keys as positions is deprecated. In a future version, integer keys will always be treated as labels (consistent with DataFrame behavior). To access a value by position, use `ser.iloc[pos]`\n",
      "\n"
     ]
    },
    {
     "name": "stdout",
     "output_type": "stream",
     "text": [
      "Generacion 119 completada\n",
      "Hash de la generacion: 3520787646360162528\n"
     ]
    },
    {
     "name": "stderr",
     "output_type": "stream",
     "text": [
      "/tmp/ipykernel_4146/1038542018.py:4: FutureWarning:\n",
      "\n",
      "Series.__getitem__ treating keys as positions is deprecated. In a future version, integer keys will always be treated as labels (consistent with DataFrame behavior). To access a value by position, use `ser.iloc[pos]`\n",
      "\n"
     ]
    },
    {
     "name": "stdout",
     "output_type": "stream",
     "text": [
      "Generacion 120 completada\n",
      "Hash de la generacion: -9013332667653690686\n",
      "Generacion 120 completada\n",
      "Mejor cromosoma: 0.14228744976189964  BESTPorcentaje: -41.50400520757145\n",
      "Cromosoma consenso: None\n",
      "\n"
     ]
    },
    {
     "name": "stderr",
     "output_type": "stream",
     "text": [
      "/tmp/ipykernel_4146/1038542018.py:4: FutureWarning:\n",
      "\n",
      "Series.__getitem__ treating keys as positions is deprecated. In a future version, integer keys will always be treated as labels (consistent with DataFrame behavior). To access a value by position, use `ser.iloc[pos]`\n",
      "\n"
     ]
    },
    {
     "name": "stdout",
     "output_type": "stream",
     "text": [
      "Generacion 121 completada\n",
      "Hash de la generacion: -2860710255699803319\n"
     ]
    },
    {
     "name": "stderr",
     "output_type": "stream",
     "text": [
      "/tmp/ipykernel_4146/1038542018.py:4: FutureWarning:\n",
      "\n",
      "Series.__getitem__ treating keys as positions is deprecated. In a future version, integer keys will always be treated as labels (consistent with DataFrame behavior). To access a value by position, use `ser.iloc[pos]`\n",
      "\n"
     ]
    },
    {
     "name": "stdout",
     "output_type": "stream",
     "text": [
      "Generacion 122 completada\n",
      "Hash de la generacion: 8102987193598009816\n"
     ]
    },
    {
     "name": "stderr",
     "output_type": "stream",
     "text": [
      "/tmp/ipykernel_4146/1038542018.py:4: FutureWarning:\n",
      "\n",
      "Series.__getitem__ treating keys as positions is deprecated. In a future version, integer keys will always be treated as labels (consistent with DataFrame behavior). To access a value by position, use `ser.iloc[pos]`\n",
      "\n"
     ]
    },
    {
     "name": "stdout",
     "output_type": "stream",
     "text": [
      "Generacion 123 completada\n",
      "Hash de la generacion: -983312140229715664\n"
     ]
    },
    {
     "name": "stderr",
     "output_type": "stream",
     "text": [
      "/tmp/ipykernel_4146/1038542018.py:4: FutureWarning:\n",
      "\n",
      "Series.__getitem__ treating keys as positions is deprecated. In a future version, integer keys will always be treated as labels (consistent with DataFrame behavior). To access a value by position, use `ser.iloc[pos]`\n",
      "\n"
     ]
    },
    {
     "name": "stdout",
     "output_type": "stream",
     "text": [
      "Generacion 124 completada\n",
      "Hash de la generacion: -14288490292257877\n"
     ]
    },
    {
     "name": "stderr",
     "output_type": "stream",
     "text": [
      "/tmp/ipykernel_4146/1038542018.py:4: FutureWarning:\n",
      "\n",
      "Series.__getitem__ treating keys as positions is deprecated. In a future version, integer keys will always be treated as labels (consistent with DataFrame behavior). To access a value by position, use `ser.iloc[pos]`\n",
      "\n"
     ]
    },
    {
     "name": "stdout",
     "output_type": "stream",
     "text": [
      "Generacion 125 completada\n",
      "Hash de la generacion: 7635033801225991323\n"
     ]
    },
    {
     "name": "stderr",
     "output_type": "stream",
     "text": [
      "/tmp/ipykernel_4146/1038542018.py:4: FutureWarning:\n",
      "\n",
      "Series.__getitem__ treating keys as positions is deprecated. In a future version, integer keys will always be treated as labels (consistent with DataFrame behavior). To access a value by position, use `ser.iloc[pos]`\n",
      "\n"
     ]
    },
    {
     "name": "stdout",
     "output_type": "stream",
     "text": [
      "Generacion 126 completada\n",
      "Hash de la generacion: -6059417828528292909\n"
     ]
    },
    {
     "name": "stderr",
     "output_type": "stream",
     "text": [
      "/tmp/ipykernel_4146/1038542018.py:4: FutureWarning:\n",
      "\n",
      "Series.__getitem__ treating keys as positions is deprecated. In a future version, integer keys will always be treated as labels (consistent with DataFrame behavior). To access a value by position, use `ser.iloc[pos]`\n",
      "\n"
     ]
    },
    {
     "name": "stdout",
     "output_type": "stream",
     "text": [
      "Generacion 127 completada\n",
      "Hash de la generacion: -1263485917879144641\n"
     ]
    },
    {
     "name": "stderr",
     "output_type": "stream",
     "text": [
      "/tmp/ipykernel_4146/1038542018.py:4: FutureWarning:\n",
      "\n",
      "Series.__getitem__ treating keys as positions is deprecated. In a future version, integer keys will always be treated as labels (consistent with DataFrame behavior). To access a value by position, use `ser.iloc[pos]`\n",
      "\n"
     ]
    },
    {
     "name": "stdout",
     "output_type": "stream",
     "text": [
      "Generacion 128 completada\n",
      "Hash de la generacion: -1161318393362539218\n"
     ]
    },
    {
     "name": "stderr",
     "output_type": "stream",
     "text": [
      "/tmp/ipykernel_4146/1038542018.py:4: FutureWarning:\n",
      "\n",
      "Series.__getitem__ treating keys as positions is deprecated. In a future version, integer keys will always be treated as labels (consistent with DataFrame behavior). To access a value by position, use `ser.iloc[pos]`\n",
      "\n"
     ]
    },
    {
     "name": "stdout",
     "output_type": "stream",
     "text": [
      "Generacion 129 completada\n",
      "Hash de la generacion: -1568585319711812562\n"
     ]
    },
    {
     "name": "stderr",
     "output_type": "stream",
     "text": [
      "/tmp/ipykernel_4146/1038542018.py:4: FutureWarning:\n",
      "\n",
      "Series.__getitem__ treating keys as positions is deprecated. In a future version, integer keys will always be treated as labels (consistent with DataFrame behavior). To access a value by position, use `ser.iloc[pos]`\n",
      "\n"
     ]
    },
    {
     "name": "stdout",
     "output_type": "stream",
     "text": [
      "Generacion 130 completada\n",
      "Hash de la generacion: 7625209523241844925\n",
      "Generacion 130 completada\n",
      "Mejor cromosoma: 0.14228744976189964  BESTPorcentaje: -49.78741276919527\n",
      "Cromosoma consenso: None\n",
      "\n"
     ]
    },
    {
     "name": "stderr",
     "output_type": "stream",
     "text": [
      "/tmp/ipykernel_4146/1038542018.py:4: FutureWarning:\n",
      "\n",
      "Series.__getitem__ treating keys as positions is deprecated. In a future version, integer keys will always be treated as labels (consistent with DataFrame behavior). To access a value by position, use `ser.iloc[pos]`\n",
      "\n"
     ]
    },
    {
     "name": "stdout",
     "output_type": "stream",
     "text": [
      "Generacion 131 completada\n",
      "Hash de la generacion: -8665978506900406325\n"
     ]
    },
    {
     "name": "stderr",
     "output_type": "stream",
     "text": [
      "/tmp/ipykernel_4146/1038542018.py:4: FutureWarning:\n",
      "\n",
      "Series.__getitem__ treating keys as positions is deprecated. In a future version, integer keys will always be treated as labels (consistent with DataFrame behavior). To access a value by position, use `ser.iloc[pos]`\n",
      "\n"
     ]
    },
    {
     "name": "stdout",
     "output_type": "stream",
     "text": [
      "Generacion 132 completada\n",
      "Hash de la generacion: 7241338746076861349\n"
     ]
    },
    {
     "name": "stderr",
     "output_type": "stream",
     "text": [
      "/tmp/ipykernel_4146/1038542018.py:4: FutureWarning:\n",
      "\n",
      "Series.__getitem__ treating keys as positions is deprecated. In a future version, integer keys will always be treated as labels (consistent with DataFrame behavior). To access a value by position, use `ser.iloc[pos]`\n",
      "\n"
     ]
    },
    {
     "name": "stdout",
     "output_type": "stream",
     "text": [
      "Generacion 133 completada\n",
      "Hash de la generacion: -2220579088403453698\n"
     ]
    },
    {
     "name": "stderr",
     "output_type": "stream",
     "text": [
      "/tmp/ipykernel_4146/1038542018.py:4: FutureWarning:\n",
      "\n",
      "Series.__getitem__ treating keys as positions is deprecated. In a future version, integer keys will always be treated as labels (consistent with DataFrame behavior). To access a value by position, use `ser.iloc[pos]`\n",
      "\n"
     ]
    },
    {
     "name": "stdout",
     "output_type": "stream",
     "text": [
      "Generacion 134 completada\n",
      "Hash de la generacion: -930223654450876637\n"
     ]
    },
    {
     "name": "stderr",
     "output_type": "stream",
     "text": [
      "/tmp/ipykernel_4146/1038542018.py:4: FutureWarning:\n",
      "\n",
      "Series.__getitem__ treating keys as positions is deprecated. In a future version, integer keys will always be treated as labels (consistent with DataFrame behavior). To access a value by position, use `ser.iloc[pos]`\n",
      "\n"
     ]
    },
    {
     "name": "stdout",
     "output_type": "stream",
     "text": [
      "Generacion 135 completada\n",
      "Hash de la generacion: -9028954863894383305\n"
     ]
    },
    {
     "name": "stderr",
     "output_type": "stream",
     "text": [
      "/tmp/ipykernel_4146/1038542018.py:4: FutureWarning:\n",
      "\n",
      "Series.__getitem__ treating keys as positions is deprecated. In a future version, integer keys will always be treated as labels (consistent with DataFrame behavior). To access a value by position, use `ser.iloc[pos]`\n",
      "\n"
     ]
    },
    {
     "name": "stdout",
     "output_type": "stream",
     "text": [
      "Generacion 136 completada\n",
      "Hash de la generacion: 52891394286971458\n"
     ]
    },
    {
     "name": "stderr",
     "output_type": "stream",
     "text": [
      "/tmp/ipykernel_4146/1038542018.py:4: FutureWarning:\n",
      "\n",
      "Series.__getitem__ treating keys as positions is deprecated. In a future version, integer keys will always be treated as labels (consistent with DataFrame behavior). To access a value by position, use `ser.iloc[pos]`\n",
      "\n"
     ]
    },
    {
     "name": "stdout",
     "output_type": "stream",
     "text": [
      "Generacion 137 completada\n",
      "Hash de la generacion: 967942931270469950\n"
     ]
    },
    {
     "name": "stderr",
     "output_type": "stream",
     "text": [
      "/tmp/ipykernel_4146/1038542018.py:4: FutureWarning:\n",
      "\n",
      "Series.__getitem__ treating keys as positions is deprecated. In a future version, integer keys will always be treated as labels (consistent with DataFrame behavior). To access a value by position, use `ser.iloc[pos]`\n",
      "\n"
     ]
    },
    {
     "name": "stdout",
     "output_type": "stream",
     "text": [
      "Generacion 138 completada\n",
      "Hash de la generacion: -4248262571879599537\n"
     ]
    },
    {
     "name": "stderr",
     "output_type": "stream",
     "text": [
      "/tmp/ipykernel_4146/1038542018.py:4: FutureWarning:\n",
      "\n",
      "Series.__getitem__ treating keys as positions is deprecated. In a future version, integer keys will always be treated as labels (consistent with DataFrame behavior). To access a value by position, use `ser.iloc[pos]`\n",
      "\n"
     ]
    },
    {
     "name": "stdout",
     "output_type": "stream",
     "text": [
      "Generacion 139 completada\n",
      "Hash de la generacion: 8678203853048576664\n"
     ]
    },
    {
     "name": "stderr",
     "output_type": "stream",
     "text": [
      "/tmp/ipykernel_4146/1038542018.py:4: FutureWarning:\n",
      "\n",
      "Series.__getitem__ treating keys as positions is deprecated. In a future version, integer keys will always be treated as labels (consistent with DataFrame behavior). To access a value by position, use `ser.iloc[pos]`\n",
      "\n"
     ]
    },
    {
     "name": "stdout",
     "output_type": "stream",
     "text": [
      "Generacion 140 completada\n",
      "Hash de la generacion: 5667246265325544980\n",
      "Generacion 140 completada\n",
      "Mejor cromosoma: 0.14228744976189964  BESTPorcentaje: -47.77887102535776\n",
      "Cromosoma consenso: None\n",
      "\n"
     ]
    },
    {
     "name": "stderr",
     "output_type": "stream",
     "text": [
      "/tmp/ipykernel_4146/1038542018.py:4: FutureWarning:\n",
      "\n",
      "Series.__getitem__ treating keys as positions is deprecated. In a future version, integer keys will always be treated as labels (consistent with DataFrame behavior). To access a value by position, use `ser.iloc[pos]`\n",
      "\n"
     ]
    },
    {
     "name": "stdout",
     "output_type": "stream",
     "text": [
      "Generacion 141 completada\n",
      "Hash de la generacion: -3928110400521349177\n"
     ]
    },
    {
     "name": "stderr",
     "output_type": "stream",
     "text": [
      "/tmp/ipykernel_4146/1038542018.py:4: FutureWarning:\n",
      "\n",
      "Series.__getitem__ treating keys as positions is deprecated. In a future version, integer keys will always be treated as labels (consistent with DataFrame behavior). To access a value by position, use `ser.iloc[pos]`\n",
      "\n"
     ]
    },
    {
     "name": "stdout",
     "output_type": "stream",
     "text": [
      "Generacion 142 completada\n",
      "Hash de la generacion: 342018505499670977\n"
     ]
    },
    {
     "name": "stderr",
     "output_type": "stream",
     "text": [
      "/tmp/ipykernel_4146/1038542018.py:4: FutureWarning:\n",
      "\n",
      "Series.__getitem__ treating keys as positions is deprecated. In a future version, integer keys will always be treated as labels (consistent with DataFrame behavior). To access a value by position, use `ser.iloc[pos]`\n",
      "\n"
     ]
    },
    {
     "name": "stdout",
     "output_type": "stream",
     "text": [
      "Generacion 143 completada\n",
      "Hash de la generacion: -5576800250611660313\n"
     ]
    },
    {
     "name": "stderr",
     "output_type": "stream",
     "text": [
      "/tmp/ipykernel_4146/1038542018.py:4: FutureWarning:\n",
      "\n",
      "Series.__getitem__ treating keys as positions is deprecated. In a future version, integer keys will always be treated as labels (consistent with DataFrame behavior). To access a value by position, use `ser.iloc[pos]`\n",
      "\n"
     ]
    },
    {
     "name": "stdout",
     "output_type": "stream",
     "text": [
      "Generacion 144 completada\n",
      "Hash de la generacion: -1326354113179730102\n"
     ]
    },
    {
     "name": "stderr",
     "output_type": "stream",
     "text": [
      "/tmp/ipykernel_4146/1038542018.py:4: FutureWarning:\n",
      "\n",
      "Series.__getitem__ treating keys as positions is deprecated. In a future version, integer keys will always be treated as labels (consistent with DataFrame behavior). To access a value by position, use `ser.iloc[pos]`\n",
      "\n"
     ]
    },
    {
     "name": "stdout",
     "output_type": "stream",
     "text": [
      "Generacion 145 completada\n",
      "Hash de la generacion: 7973663891078662466\n"
     ]
    },
    {
     "name": "stderr",
     "output_type": "stream",
     "text": [
      "/tmp/ipykernel_4146/1038542018.py:4: FutureWarning:\n",
      "\n",
      "Series.__getitem__ treating keys as positions is deprecated. In a future version, integer keys will always be treated as labels (consistent with DataFrame behavior). To access a value by position, use `ser.iloc[pos]`\n",
      "\n"
     ]
    },
    {
     "name": "stdout",
     "output_type": "stream",
     "text": [
      "Generacion 146 completada\n",
      "Hash de la generacion: -4841970966003210240\n"
     ]
    },
    {
     "name": "stderr",
     "output_type": "stream",
     "text": [
      "/tmp/ipykernel_4146/1038542018.py:4: FutureWarning:\n",
      "\n",
      "Series.__getitem__ treating keys as positions is deprecated. In a future version, integer keys will always be treated as labels (consistent with DataFrame behavior). To access a value by position, use `ser.iloc[pos]`\n",
      "\n"
     ]
    },
    {
     "name": "stdout",
     "output_type": "stream",
     "text": [
      "Generacion 147 completada\n",
      "Hash de la generacion: 5844071488609682672\n"
     ]
    },
    {
     "name": "stderr",
     "output_type": "stream",
     "text": [
      "/tmp/ipykernel_4146/1038542018.py:4: FutureWarning:\n",
      "\n",
      "Series.__getitem__ treating keys as positions is deprecated. In a future version, integer keys will always be treated as labels (consistent with DataFrame behavior). To access a value by position, use `ser.iloc[pos]`\n",
      "\n"
     ]
    },
    {
     "name": "stdout",
     "output_type": "stream",
     "text": [
      "Generacion 148 completada\n",
      "Hash de la generacion: -2014671335662350081\n"
     ]
    },
    {
     "name": "stderr",
     "output_type": "stream",
     "text": [
      "/tmp/ipykernel_4146/1038542018.py:4: FutureWarning:\n",
      "\n",
      "Series.__getitem__ treating keys as positions is deprecated. In a future version, integer keys will always be treated as labels (consistent with DataFrame behavior). To access a value by position, use `ser.iloc[pos]`\n",
      "\n"
     ]
    },
    {
     "name": "stdout",
     "output_type": "stream",
     "text": [
      "Generacion 149 completada\n",
      "Hash de la generacion: 5975498375395970620\n"
     ]
    },
    {
     "name": "stderr",
     "output_type": "stream",
     "text": [
      "/tmp/ipykernel_4146/1038542018.py:4: FutureWarning:\n",
      "\n",
      "Series.__getitem__ treating keys as positions is deprecated. In a future version, integer keys will always be treated as labels (consistent with DataFrame behavior). To access a value by position, use `ser.iloc[pos]`\n",
      "\n"
     ]
    },
    {
     "name": "stdout",
     "output_type": "stream",
     "text": [
      "Generacion 150 completada\n",
      "Hash de la generacion: -1614055824121386093\n",
      "Generacion 150 completada\n",
      "Mejor cromosoma: 0.14228744976189964  BESTPorcentaje: -44.767355214641675\n",
      "Cromosoma consenso: None\n",
      "\n",
      "Generacion 150 completada\n",
      "Mejor cromosoma: 0.14228744976189964  en BESTPorcentaje: -44.767355214641675\n",
      "Cromosoma consenso: None\n",
      "Muestreo del 20% de la población\n",
      "                                            Cromosoma   Fitness\n",
      "0   [0.08505503542366206, 0.09208996442587516, 0.0...  0.142287\n",
      "1   [0.16631464915740418, 0.058142733701141314, 0....  0.137663\n",
      "2   [0.04506717090577901, 0.0, 0.0, 0.0, 0.0, 0.10...  0.116310\n",
      "3   [0.15669228621640263, 0.0408241467330333, 0.0,...  0.106817\n",
      "4   [0.0, 0.0, 0.0, 0.0, 0.0, 0.0, 0.1330026403225...  0.097207\n",
      "5   [0.0, 0.18605942333001457, 0.15905342371448944...  0.085987\n",
      "6   [0.07155524911056776, 0.0, 0.0, 0.153262272802...  0.074350\n",
      "7   [0.0, 0.09006863497916706, 0.03150348617899273...  0.065301\n",
      "8   [0.17672238575064858, 0.1291883731462963, 0.0,...  0.060529\n",
      "9   [0.0, 0.0205335940604229, 0.1434393384027239, ...  0.058064\n",
      "10  [0.0, 0.0, 0.18727441837147185, 0.071177461393...  0.049645\n",
      "11  [0.0, 0.0, 0.0, 0.006550625338006322, 0.045731...  0.048963\n",
      "12  [0.0, 0.0, 0.0, 0.0, 0.0, 0.0, 0.0, 0.09525424...  0.045973\n",
      "13  [0.06425847529664441, 0.162079335704987, 0.134...  0.042288\n",
      "14  [0.19698519065338516, 0.0, 0.0, 0.0, 0.0, 0.0,...  0.042054\n",
      "15  [0.0, 0.15797433157764346, 0.02078797897942079...  0.041132\n"
     ]
    },
    {
     "name": "stderr",
     "output_type": "stream",
     "text": [
      "/tmp/ipykernel_4146/1038542018.py:4: FutureWarning:\n",
      "\n",
      "Series.__getitem__ treating keys as positions is deprecated. In a future version, integer keys will always be treated as labels (consistent with DataFrame behavior). To access a value by position, use `ser.iloc[pos]`\n",
      "\n"
     ]
    },
    {
     "name": "stdout",
     "output_type": "stream",
     "text": [
      "Generacion 151 completada\n",
      "Hash de la generacion: 8548583686046395817\n"
     ]
    },
    {
     "name": "stderr",
     "output_type": "stream",
     "text": [
      "/tmp/ipykernel_4146/1038542018.py:4: FutureWarning:\n",
      "\n",
      "Series.__getitem__ treating keys as positions is deprecated. In a future version, integer keys will always be treated as labels (consistent with DataFrame behavior). To access a value by position, use `ser.iloc[pos]`\n",
      "\n"
     ]
    },
    {
     "name": "stdout",
     "output_type": "stream",
     "text": [
      "Generacion 152 completada\n",
      "Hash de la generacion: 8460025972214871587\n"
     ]
    },
    {
     "name": "stderr",
     "output_type": "stream",
     "text": [
      "/tmp/ipykernel_4146/1038542018.py:4: FutureWarning:\n",
      "\n",
      "Series.__getitem__ treating keys as positions is deprecated. In a future version, integer keys will always be treated as labels (consistent with DataFrame behavior). To access a value by position, use `ser.iloc[pos]`\n",
      "\n"
     ]
    },
    {
     "name": "stdout",
     "output_type": "stream",
     "text": [
      "Generacion 153 completada\n",
      "Hash de la generacion: 9180642798473494939\n"
     ]
    },
    {
     "name": "stderr",
     "output_type": "stream",
     "text": [
      "/tmp/ipykernel_4146/1038542018.py:4: FutureWarning:\n",
      "\n",
      "Series.__getitem__ treating keys as positions is deprecated. In a future version, integer keys will always be treated as labels (consistent with DataFrame behavior). To access a value by position, use `ser.iloc[pos]`\n",
      "\n"
     ]
    },
    {
     "name": "stdout",
     "output_type": "stream",
     "text": [
      "Generacion 154 completada\n",
      "Hash de la generacion: 5796099094200946029\n"
     ]
    },
    {
     "name": "stderr",
     "output_type": "stream",
     "text": [
      "/tmp/ipykernel_4146/1038542018.py:4: FutureWarning:\n",
      "\n",
      "Series.__getitem__ treating keys as positions is deprecated. In a future version, integer keys will always be treated as labels (consistent with DataFrame behavior). To access a value by position, use `ser.iloc[pos]`\n",
      "\n"
     ]
    },
    {
     "name": "stdout",
     "output_type": "stream",
     "text": [
      "Generacion 155 completada\n",
      "Hash de la generacion: 2955744526272721552\n"
     ]
    },
    {
     "name": "stderr",
     "output_type": "stream",
     "text": [
      "/tmp/ipykernel_4146/1038542018.py:4: FutureWarning:\n",
      "\n",
      "Series.__getitem__ treating keys as positions is deprecated. In a future version, integer keys will always be treated as labels (consistent with DataFrame behavior). To access a value by position, use `ser.iloc[pos]`\n",
      "\n"
     ]
    },
    {
     "name": "stdout",
     "output_type": "stream",
     "text": [
      "Generacion 156 completada\n",
      "Hash de la generacion: -7596511740107916967\n"
     ]
    },
    {
     "name": "stderr",
     "output_type": "stream",
     "text": [
      "/tmp/ipykernel_4146/1038542018.py:4: FutureWarning:\n",
      "\n",
      "Series.__getitem__ treating keys as positions is deprecated. In a future version, integer keys will always be treated as labels (consistent with DataFrame behavior). To access a value by position, use `ser.iloc[pos]`\n",
      "\n"
     ]
    },
    {
     "name": "stdout",
     "output_type": "stream",
     "text": [
      "Generacion 157 completada\n",
      "Hash de la generacion: 7964058841982016538\n"
     ]
    },
    {
     "name": "stderr",
     "output_type": "stream",
     "text": [
      "/tmp/ipykernel_4146/1038542018.py:4: FutureWarning:\n",
      "\n",
      "Series.__getitem__ treating keys as positions is deprecated. In a future version, integer keys will always be treated as labels (consistent with DataFrame behavior). To access a value by position, use `ser.iloc[pos]`\n",
      "\n"
     ]
    },
    {
     "name": "stdout",
     "output_type": "stream",
     "text": [
      "Generacion 158 completada\n",
      "Hash de la generacion: -9107910648509051830\n"
     ]
    },
    {
     "name": "stderr",
     "output_type": "stream",
     "text": [
      "/tmp/ipykernel_4146/1038542018.py:4: FutureWarning:\n",
      "\n",
      "Series.__getitem__ treating keys as positions is deprecated. In a future version, integer keys will always be treated as labels (consistent with DataFrame behavior). To access a value by position, use `ser.iloc[pos]`\n",
      "\n"
     ]
    },
    {
     "name": "stdout",
     "output_type": "stream",
     "text": [
      "Generacion 159 completada\n",
      "Hash de la generacion: 4588663754243195862\n"
     ]
    },
    {
     "name": "stderr",
     "output_type": "stream",
     "text": [
      "/tmp/ipykernel_4146/1038542018.py:4: FutureWarning:\n",
      "\n",
      "Series.__getitem__ treating keys as positions is deprecated. In a future version, integer keys will always be treated as labels (consistent with DataFrame behavior). To access a value by position, use `ser.iloc[pos]`\n",
      "\n"
     ]
    },
    {
     "name": "stdout",
     "output_type": "stream",
     "text": [
      "Generacion 160 completada\n",
      "Hash de la generacion: -221590050195379419\n",
      "Generacion 160 completada\n",
      "Mejor cromosoma: 0.14228744976189964  BESTPorcentaje: -44.21639037705141\n",
      "Cromosoma consenso: None\n",
      "\n"
     ]
    },
    {
     "name": "stderr",
     "output_type": "stream",
     "text": [
      "/tmp/ipykernel_4146/1038542018.py:4: FutureWarning:\n",
      "\n",
      "Series.__getitem__ treating keys as positions is deprecated. In a future version, integer keys will always be treated as labels (consistent with DataFrame behavior). To access a value by position, use `ser.iloc[pos]`\n",
      "\n"
     ]
    },
    {
     "name": "stdout",
     "output_type": "stream",
     "text": [
      "Generacion 161 completada\n",
      "Hash de la generacion: -1364313955778326906\n"
     ]
    },
    {
     "name": "stderr",
     "output_type": "stream",
     "text": [
      "/tmp/ipykernel_4146/1038542018.py:4: FutureWarning:\n",
      "\n",
      "Series.__getitem__ treating keys as positions is deprecated. In a future version, integer keys will always be treated as labels (consistent with DataFrame behavior). To access a value by position, use `ser.iloc[pos]`\n",
      "\n"
     ]
    },
    {
     "name": "stdout",
     "output_type": "stream",
     "text": [
      "Generacion 162 completada\n",
      "Hash de la generacion: -587812328329297117\n"
     ]
    },
    {
     "name": "stderr",
     "output_type": "stream",
     "text": [
      "/tmp/ipykernel_4146/1038542018.py:4: FutureWarning:\n",
      "\n",
      "Series.__getitem__ treating keys as positions is deprecated. In a future version, integer keys will always be treated as labels (consistent with DataFrame behavior). To access a value by position, use `ser.iloc[pos]`\n",
      "\n"
     ]
    },
    {
     "name": "stdout",
     "output_type": "stream",
     "text": [
      "Generacion 163 completada\n",
      "Hash de la generacion: -4017960681364041313\n"
     ]
    },
    {
     "name": "stderr",
     "output_type": "stream",
     "text": [
      "/tmp/ipykernel_4146/1038542018.py:4: FutureWarning:\n",
      "\n",
      "Series.__getitem__ treating keys as positions is deprecated. In a future version, integer keys will always be treated as labels (consistent with DataFrame behavior). To access a value by position, use `ser.iloc[pos]`\n",
      "\n"
     ]
    },
    {
     "name": "stdout",
     "output_type": "stream",
     "text": [
      "Generacion 164 completada\n",
      "Hash de la generacion: -4769198756365015615\n"
     ]
    },
    {
     "name": "stderr",
     "output_type": "stream",
     "text": [
      "/tmp/ipykernel_4146/1038542018.py:4: FutureWarning:\n",
      "\n",
      "Series.__getitem__ treating keys as positions is deprecated. In a future version, integer keys will always be treated as labels (consistent with DataFrame behavior). To access a value by position, use `ser.iloc[pos]`\n",
      "\n"
     ]
    },
    {
     "name": "stdout",
     "output_type": "stream",
     "text": [
      "Generacion 165 completada\n",
      "Hash de la generacion: 1006751288974668808\n"
     ]
    },
    {
     "name": "stderr",
     "output_type": "stream",
     "text": [
      "/tmp/ipykernel_4146/1038542018.py:4: FutureWarning:\n",
      "\n",
      "Series.__getitem__ treating keys as positions is deprecated. In a future version, integer keys will always be treated as labels (consistent with DataFrame behavior). To access a value by position, use `ser.iloc[pos]`\n",
      "\n"
     ]
    },
    {
     "name": "stdout",
     "output_type": "stream",
     "text": [
      "Generacion 166 completada\n",
      "Hash de la generacion: 2195736765226659227\n"
     ]
    },
    {
     "name": "stderr",
     "output_type": "stream",
     "text": [
      "/tmp/ipykernel_4146/1038542018.py:4: FutureWarning:\n",
      "\n",
      "Series.__getitem__ treating keys as positions is deprecated. In a future version, integer keys will always be treated as labels (consistent with DataFrame behavior). To access a value by position, use `ser.iloc[pos]`\n",
      "\n"
     ]
    },
    {
     "name": "stdout",
     "output_type": "stream",
     "text": [
      "Generacion 167 completada\n",
      "Hash de la generacion: -2934392586823922646\n"
     ]
    },
    {
     "name": "stderr",
     "output_type": "stream",
     "text": [
      "/tmp/ipykernel_4146/1038542018.py:4: FutureWarning:\n",
      "\n",
      "Series.__getitem__ treating keys as positions is deprecated. In a future version, integer keys will always be treated as labels (consistent with DataFrame behavior). To access a value by position, use `ser.iloc[pos]`\n",
      "\n"
     ]
    },
    {
     "name": "stdout",
     "output_type": "stream",
     "text": [
      "Generacion 168 completada\n",
      "Hash de la generacion: -8310417152120240518\n"
     ]
    },
    {
     "name": "stderr",
     "output_type": "stream",
     "text": [
      "/tmp/ipykernel_4146/1038542018.py:4: FutureWarning:\n",
      "\n",
      "Series.__getitem__ treating keys as positions is deprecated. In a future version, integer keys will always be treated as labels (consistent with DataFrame behavior). To access a value by position, use `ser.iloc[pos]`\n",
      "\n"
     ]
    },
    {
     "name": "stdout",
     "output_type": "stream",
     "text": [
      "Generacion 169 completada\n",
      "Hash de la generacion: 3738983037686419295\n"
     ]
    },
    {
     "name": "stderr",
     "output_type": "stream",
     "text": [
      "/tmp/ipykernel_4146/1038542018.py:4: FutureWarning:\n",
      "\n",
      "Series.__getitem__ treating keys as positions is deprecated. In a future version, integer keys will always be treated as labels (consistent with DataFrame behavior). To access a value by position, use `ser.iloc[pos]`\n",
      "\n"
     ]
    },
    {
     "name": "stdout",
     "output_type": "stream",
     "text": [
      "Generacion 170 completada\n",
      "Hash de la generacion: 3884688878526500641\n",
      "Generacion 170 completada\n",
      "Mejor cromosoma: 0.14228744976189964  BESTPorcentaje: -45.51809685068075\n",
      "Cromosoma consenso: None\n",
      "\n"
     ]
    },
    {
     "name": "stderr",
     "output_type": "stream",
     "text": [
      "/tmp/ipykernel_4146/1038542018.py:4: FutureWarning:\n",
      "\n",
      "Series.__getitem__ treating keys as positions is deprecated. In a future version, integer keys will always be treated as labels (consistent with DataFrame behavior). To access a value by position, use `ser.iloc[pos]`\n",
      "\n"
     ]
    },
    {
     "name": "stdout",
     "output_type": "stream",
     "text": [
      "Generacion 171 completada\n",
      "Hash de la generacion: -9025062231473693437\n"
     ]
    },
    {
     "name": "stderr",
     "output_type": "stream",
     "text": [
      "/tmp/ipykernel_4146/1038542018.py:4: FutureWarning:\n",
      "\n",
      "Series.__getitem__ treating keys as positions is deprecated. In a future version, integer keys will always be treated as labels (consistent with DataFrame behavior). To access a value by position, use `ser.iloc[pos]`\n",
      "\n"
     ]
    },
    {
     "name": "stdout",
     "output_type": "stream",
     "text": [
      "Generacion 172 completada\n",
      "Hash de la generacion: 5644102298157382725\n"
     ]
    },
    {
     "name": "stderr",
     "output_type": "stream",
     "text": [
      "/tmp/ipykernel_4146/1038542018.py:4: FutureWarning:\n",
      "\n",
      "Series.__getitem__ treating keys as positions is deprecated. In a future version, integer keys will always be treated as labels (consistent with DataFrame behavior). To access a value by position, use `ser.iloc[pos]`\n",
      "\n"
     ]
    },
    {
     "name": "stdout",
     "output_type": "stream",
     "text": [
      "Generacion 173 completada\n",
      "Hash de la generacion: 909440938396549241\n"
     ]
    },
    {
     "name": "stderr",
     "output_type": "stream",
     "text": [
      "/tmp/ipykernel_4146/1038542018.py:4: FutureWarning:\n",
      "\n",
      "Series.__getitem__ treating keys as positions is deprecated. In a future version, integer keys will always be treated as labels (consistent with DataFrame behavior). To access a value by position, use `ser.iloc[pos]`\n",
      "\n"
     ]
    },
    {
     "name": "stdout",
     "output_type": "stream",
     "text": [
      "Generacion 174 completada\n",
      "Hash de la generacion: 1592972679616013302\n"
     ]
    },
    {
     "name": "stderr",
     "output_type": "stream",
     "text": [
      "/tmp/ipykernel_4146/1038542018.py:4: FutureWarning:\n",
      "\n",
      "Series.__getitem__ treating keys as positions is deprecated. In a future version, integer keys will always be treated as labels (consistent with DataFrame behavior). To access a value by position, use `ser.iloc[pos]`\n",
      "\n"
     ]
    },
    {
     "name": "stdout",
     "output_type": "stream",
     "text": [
      "Generacion 175 completada\n",
      "Hash de la generacion: 4050308220900699658\n"
     ]
    },
    {
     "name": "stderr",
     "output_type": "stream",
     "text": [
      "/tmp/ipykernel_4146/1038542018.py:4: FutureWarning:\n",
      "\n",
      "Series.__getitem__ treating keys as positions is deprecated. In a future version, integer keys will always be treated as labels (consistent with DataFrame behavior). To access a value by position, use `ser.iloc[pos]`\n",
      "\n"
     ]
    },
    {
     "name": "stdout",
     "output_type": "stream",
     "text": [
      "Generacion 176 completada\n",
      "Hash de la generacion: 5554805157172603180\n"
     ]
    },
    {
     "name": "stderr",
     "output_type": "stream",
     "text": [
      "/tmp/ipykernel_4146/1038542018.py:4: FutureWarning:\n",
      "\n",
      "Series.__getitem__ treating keys as positions is deprecated. In a future version, integer keys will always be treated as labels (consistent with DataFrame behavior). To access a value by position, use `ser.iloc[pos]`\n",
      "\n"
     ]
    },
    {
     "name": "stdout",
     "output_type": "stream",
     "text": [
      "Generacion 177 completada\n",
      "Hash de la generacion: 684355097925591658\n"
     ]
    },
    {
     "name": "stderr",
     "output_type": "stream",
     "text": [
      "/tmp/ipykernel_4146/1038542018.py:4: FutureWarning:\n",
      "\n",
      "Series.__getitem__ treating keys as positions is deprecated. In a future version, integer keys will always be treated as labels (consistent with DataFrame behavior). To access a value by position, use `ser.iloc[pos]`\n",
      "\n"
     ]
    },
    {
     "name": "stdout",
     "output_type": "stream",
     "text": [
      "Generacion 178 completada\n",
      "Hash de la generacion: -5203206251291177639\n"
     ]
    },
    {
     "name": "stderr",
     "output_type": "stream",
     "text": [
      "/tmp/ipykernel_4146/1038542018.py:4: FutureWarning:\n",
      "\n",
      "Series.__getitem__ treating keys as positions is deprecated. In a future version, integer keys will always be treated as labels (consistent with DataFrame behavior). To access a value by position, use `ser.iloc[pos]`\n",
      "\n"
     ]
    },
    {
     "name": "stdout",
     "output_type": "stream",
     "text": [
      "Generacion 179 completada\n",
      "Hash de la generacion: 6705747797808458290\n"
     ]
    },
    {
     "name": "stderr",
     "output_type": "stream",
     "text": [
      "/tmp/ipykernel_4146/1038542018.py:4: FutureWarning:\n",
      "\n",
      "Series.__getitem__ treating keys as positions is deprecated. In a future version, integer keys will always be treated as labels (consistent with DataFrame behavior). To access a value by position, use `ser.iloc[pos]`\n",
      "\n"
     ]
    },
    {
     "name": "stdout",
     "output_type": "stream",
     "text": [
      "Generacion 180 completada\n",
      "Hash de la generacion: 2144553262275560186\n",
      "Generacion 180 completada\n",
      "Mejor cromosoma: 0.14228744976189964  BESTPorcentaje: -49.17530527569392\n",
      "Cromosoma consenso: None\n",
      "\n"
     ]
    },
    {
     "name": "stderr",
     "output_type": "stream",
     "text": [
      "/tmp/ipykernel_4146/1038542018.py:4: FutureWarning:\n",
      "\n",
      "Series.__getitem__ treating keys as positions is deprecated. In a future version, integer keys will always be treated as labels (consistent with DataFrame behavior). To access a value by position, use `ser.iloc[pos]`\n",
      "\n"
     ]
    },
    {
     "name": "stdout",
     "output_type": "stream",
     "text": [
      "Generacion 181 completada\n",
      "Hash de la generacion: 8345565607983710491\n"
     ]
    },
    {
     "name": "stderr",
     "output_type": "stream",
     "text": [
      "/tmp/ipykernel_4146/1038542018.py:4: FutureWarning:\n",
      "\n",
      "Series.__getitem__ treating keys as positions is deprecated. In a future version, integer keys will always be treated as labels (consistent with DataFrame behavior). To access a value by position, use `ser.iloc[pos]`\n",
      "\n"
     ]
    },
    {
     "name": "stdout",
     "output_type": "stream",
     "text": [
      "Generacion 182 completada\n",
      "Hash de la generacion: 6611187773265402396\n"
     ]
    },
    {
     "name": "stderr",
     "output_type": "stream",
     "text": [
      "/tmp/ipykernel_4146/1038542018.py:4: FutureWarning:\n",
      "\n",
      "Series.__getitem__ treating keys as positions is deprecated. In a future version, integer keys will always be treated as labels (consistent with DataFrame behavior). To access a value by position, use `ser.iloc[pos]`\n",
      "\n"
     ]
    },
    {
     "name": "stdout",
     "output_type": "stream",
     "text": [
      "Generacion 183 completada\n",
      "Hash de la generacion: -1829094278726566348\n"
     ]
    },
    {
     "name": "stderr",
     "output_type": "stream",
     "text": [
      "/tmp/ipykernel_4146/1038542018.py:4: FutureWarning:\n",
      "\n",
      "Series.__getitem__ treating keys as positions is deprecated. In a future version, integer keys will always be treated as labels (consistent with DataFrame behavior). To access a value by position, use `ser.iloc[pos]`\n",
      "\n"
     ]
    },
    {
     "name": "stdout",
     "output_type": "stream",
     "text": [
      "Generacion 184 completada\n",
      "Hash de la generacion: 8728126744569312282\n"
     ]
    },
    {
     "name": "stderr",
     "output_type": "stream",
     "text": [
      "/tmp/ipykernel_4146/1038542018.py:4: FutureWarning:\n",
      "\n",
      "Series.__getitem__ treating keys as positions is deprecated. In a future version, integer keys will always be treated as labels (consistent with DataFrame behavior). To access a value by position, use `ser.iloc[pos]`\n",
      "\n"
     ]
    },
    {
     "name": "stdout",
     "output_type": "stream",
     "text": [
      "Generacion 185 completada\n",
      "Hash de la generacion: -1407301172964963630\n"
     ]
    },
    {
     "name": "stderr",
     "output_type": "stream",
     "text": [
      "/tmp/ipykernel_4146/1038542018.py:4: FutureWarning:\n",
      "\n",
      "Series.__getitem__ treating keys as positions is deprecated. In a future version, integer keys will always be treated as labels (consistent with DataFrame behavior). To access a value by position, use `ser.iloc[pos]`\n",
      "\n"
     ]
    },
    {
     "name": "stdout",
     "output_type": "stream",
     "text": [
      "Generacion 186 completada\n",
      "Hash de la generacion: -4826681463442357677\n"
     ]
    },
    {
     "name": "stderr",
     "output_type": "stream",
     "text": [
      "/tmp/ipykernel_4146/1038542018.py:4: FutureWarning:\n",
      "\n",
      "Series.__getitem__ treating keys as positions is deprecated. In a future version, integer keys will always be treated as labels (consistent with DataFrame behavior). To access a value by position, use `ser.iloc[pos]`\n",
      "\n"
     ]
    },
    {
     "name": "stdout",
     "output_type": "stream",
     "text": [
      "Generacion 187 completada\n",
      "Hash de la generacion: -923246398989948278\n"
     ]
    },
    {
     "name": "stderr",
     "output_type": "stream",
     "text": [
      "/tmp/ipykernel_4146/1038542018.py:4: FutureWarning:\n",
      "\n",
      "Series.__getitem__ treating keys as positions is deprecated. In a future version, integer keys will always be treated as labels (consistent with DataFrame behavior). To access a value by position, use `ser.iloc[pos]`\n",
      "\n"
     ]
    },
    {
     "name": "stdout",
     "output_type": "stream",
     "text": [
      "Generacion 188 completada\n",
      "Hash de la generacion: -4106345271574478484\n"
     ]
    },
    {
     "name": "stderr",
     "output_type": "stream",
     "text": [
      "/tmp/ipykernel_4146/1038542018.py:4: FutureWarning:\n",
      "\n",
      "Series.__getitem__ treating keys as positions is deprecated. In a future version, integer keys will always be treated as labels (consistent with DataFrame behavior). To access a value by position, use `ser.iloc[pos]`\n",
      "\n"
     ]
    },
    {
     "name": "stdout",
     "output_type": "stream",
     "text": [
      "Generacion 189 completada\n",
      "Hash de la generacion: 2818240041356373132\n"
     ]
    },
    {
     "name": "stderr",
     "output_type": "stream",
     "text": [
      "/tmp/ipykernel_4146/1038542018.py:4: FutureWarning:\n",
      "\n",
      "Series.__getitem__ treating keys as positions is deprecated. In a future version, integer keys will always be treated as labels (consistent with DataFrame behavior). To access a value by position, use `ser.iloc[pos]`\n",
      "\n"
     ]
    },
    {
     "name": "stdout",
     "output_type": "stream",
     "text": [
      "Generacion 190 completada\n",
      "Hash de la generacion: 1771583623936041421\n",
      "Generacion 190 completada\n",
      "Mejor cromosoma: 0.14228744976189964  BESTPorcentaje: -49.87249902995808\n",
      "Cromosoma consenso: None\n",
      "\n"
     ]
    },
    {
     "name": "stderr",
     "output_type": "stream",
     "text": [
      "/tmp/ipykernel_4146/1038542018.py:4: FutureWarning:\n",
      "\n",
      "Series.__getitem__ treating keys as positions is deprecated. In a future version, integer keys will always be treated as labels (consistent with DataFrame behavior). To access a value by position, use `ser.iloc[pos]`\n",
      "\n"
     ]
    },
    {
     "name": "stdout",
     "output_type": "stream",
     "text": [
      "Generacion 191 completada\n",
      "Hash de la generacion: -6674973393374879310\n"
     ]
    },
    {
     "name": "stderr",
     "output_type": "stream",
     "text": [
      "/tmp/ipykernel_4146/1038542018.py:4: FutureWarning:\n",
      "\n",
      "Series.__getitem__ treating keys as positions is deprecated. In a future version, integer keys will always be treated as labels (consistent with DataFrame behavior). To access a value by position, use `ser.iloc[pos]`\n",
      "\n"
     ]
    },
    {
     "name": "stdout",
     "output_type": "stream",
     "text": [
      "Generacion 192 completada\n",
      "Hash de la generacion: 5665717889366461565\n"
     ]
    },
    {
     "name": "stderr",
     "output_type": "stream",
     "text": [
      "/tmp/ipykernel_4146/1038542018.py:4: FutureWarning:\n",
      "\n",
      "Series.__getitem__ treating keys as positions is deprecated. In a future version, integer keys will always be treated as labels (consistent with DataFrame behavior). To access a value by position, use `ser.iloc[pos]`\n",
      "\n"
     ]
    },
    {
     "name": "stdout",
     "output_type": "stream",
     "text": [
      "Generacion 193 completada\n",
      "Hash de la generacion: 4275412347953600188\n"
     ]
    },
    {
     "name": "stderr",
     "output_type": "stream",
     "text": [
      "/tmp/ipykernel_4146/1038542018.py:4: FutureWarning:\n",
      "\n",
      "Series.__getitem__ treating keys as positions is deprecated. In a future version, integer keys will always be treated as labels (consistent with DataFrame behavior). To access a value by position, use `ser.iloc[pos]`\n",
      "\n"
     ]
    },
    {
     "name": "stdout",
     "output_type": "stream",
     "text": [
      "Generacion 194 completada\n",
      "Hash de la generacion: 3416103564413543713\n"
     ]
    },
    {
     "name": "stderr",
     "output_type": "stream",
     "text": [
      "/tmp/ipykernel_4146/1038542018.py:4: FutureWarning:\n",
      "\n",
      "Series.__getitem__ treating keys as positions is deprecated. In a future version, integer keys will always be treated as labels (consistent with DataFrame behavior). To access a value by position, use `ser.iloc[pos]`\n",
      "\n"
     ]
    },
    {
     "name": "stdout",
     "output_type": "stream",
     "text": [
      "Generacion 195 completada\n",
      "Hash de la generacion: -4022772418873382567\n"
     ]
    },
    {
     "name": "stderr",
     "output_type": "stream",
     "text": [
      "/tmp/ipykernel_4146/1038542018.py:4: FutureWarning:\n",
      "\n",
      "Series.__getitem__ treating keys as positions is deprecated. In a future version, integer keys will always be treated as labels (consistent with DataFrame behavior). To access a value by position, use `ser.iloc[pos]`\n",
      "\n"
     ]
    },
    {
     "name": "stdout",
     "output_type": "stream",
     "text": [
      "Generacion 196 completada\n",
      "Hash de la generacion: 1736897518766988130\n"
     ]
    },
    {
     "name": "stderr",
     "output_type": "stream",
     "text": [
      "/tmp/ipykernel_4146/1038542018.py:4: FutureWarning:\n",
      "\n",
      "Series.__getitem__ treating keys as positions is deprecated. In a future version, integer keys will always be treated as labels (consistent with DataFrame behavior). To access a value by position, use `ser.iloc[pos]`\n",
      "\n"
     ]
    },
    {
     "name": "stdout",
     "output_type": "stream",
     "text": [
      "Generacion 197 completada\n",
      "Hash de la generacion: -2480467752384336048\n"
     ]
    },
    {
     "name": "stderr",
     "output_type": "stream",
     "text": [
      "/tmp/ipykernel_4146/1038542018.py:4: FutureWarning:\n",
      "\n",
      "Series.__getitem__ treating keys as positions is deprecated. In a future version, integer keys will always be treated as labels (consistent with DataFrame behavior). To access a value by position, use `ser.iloc[pos]`\n",
      "\n"
     ]
    },
    {
     "name": "stdout",
     "output_type": "stream",
     "text": [
      "Generacion 198 completada\n",
      "Hash de la generacion: 499617098465416046\n"
     ]
    },
    {
     "name": "stderr",
     "output_type": "stream",
     "text": [
      "/tmp/ipykernel_4146/1038542018.py:4: FutureWarning:\n",
      "\n",
      "Series.__getitem__ treating keys as positions is deprecated. In a future version, integer keys will always be treated as labels (consistent with DataFrame behavior). To access a value by position, use `ser.iloc[pos]`\n",
      "\n"
     ]
    }
   ],
   "source": [
    "print(\"Comenzando algoritmo genético con los parametros:\")\n",
    "print(f\"NPOB: {NPOB}\")\n",
    "print(f\"NGEN: {NGEN}\")\n",
    "print(f\"Pc: {Pc}\")\n",
    "print(f\"Pm: {Pm}\")\n",
    "print(f\"C: {C}\")\n",
    "BESTc = None\n",
    "BESTf = None\n",
    "BESTPorcentaje = None\n",
    "CONSf = None\n",
    "cromosomaConsenso = None\n",
    "historicoBestFitness = []\n",
    "\n",
    "\n",
    "for v in range(NGEN):\n",
    "    df = df.sort_values(by=\"Fitness\", ascending=False, ignore_index=True)\n",
    "    if BESTf is None or BESTf < df[\"Fitness\"][0]:\n",
    "        BESTf = df[\"Fitness\"][0]\n",
    "        BESTc = df[\"Cromosoma\"][0]\n",
    "\n",
    "    historicoBestFitness.append(BESTf)\n",
    "    \n",
    "    BESTPorcentaje = (BESTf / df[\"Fitness\"].mean()) * 100\n",
    "    #CONSf = ratioSharpe(consensus_chromosome(df.copy()))  # Calculate fitness of consensus chromosome\n",
    "\n",
    "\n",
    "        \n",
    "    \n",
    "\n",
    "    nextGen = df.head(int(NPOB*0.2)).copy()\n",
    "    df = df[int(NPOB*0.2):]\n",
    "    df = df.reset_index(drop=True)\n",
    "\n",
    "\n",
    "    probabilidadSeleccion = []\n",
    "    for i in range(nextGen.shape[0]):\n",
    "        probabilidadSeleccion.append(nextGen[\"Fitness\"][i]/sum(nextGen[\"Fitness\"]))\n",
    "    probabilidadAcumulada = []\n",
    "    suma = 0\n",
    "    for i in range(nextGen.shape[0]):\n",
    "        suma += probabilidadSeleccion[i]\n",
    "        probabilidadAcumulada.append(suma)\n",
    "\n",
    "    #nextGen = nextGen.with_columns([pl.Series(\"Probabilidad\", probabilidadSeleccion), pl.Series(\"Probabilidad Acumulada\", probabilidadAcumulada)])\n",
    "    nextGen[\"Probabilidad\"] = probabilidadSeleccion\n",
    "    nextGen[\"Probabilidad Acumulada\"] = probabilidadAcumulada\n",
    "    del probabilidadAcumulada, probabilidadSeleccion\n",
    "\n",
    "    probabilidadSeleccion = []\n",
    "    for i in range(df.shape[0]):\n",
    "        probabilidadSeleccion.append(df[\"Fitness\"][i]/sum(df[\"Fitness\"]))\n",
    "    probabilidadAcumulada = []\n",
    "    suma = 0\n",
    "    for i in range(df.shape[0]):\n",
    "        suma += probabilidadSeleccion[i]\n",
    "        probabilidadAcumulada.append(suma)\n",
    "\n",
    "    #df = df.with_columns([pl.Series(\"Probabilidad\", probabilidadSeleccion), pl.Series(\"Probabilidad Acumulada\", probabilidadAcumulada)])\n",
    "    df[\"Probabilidad\"] = probabilidadSeleccion\n",
    "    df[\"Probabilidad Acumulada\"] = probabilidadAcumulada\n",
    "    del probabilidadAcumulada, probabilidadSeleccion\n",
    "\n",
    "\n",
    "    hijosNextGen, fitnessNextGen = seleccionarHijos(nextGen, NPOB/2)\n",
    "    hijosDf, fitnessDf = seleccionarHijos(df, NPOB/3)\n",
    "\n",
    "    hijos = hijosNextGen + hijosDf\n",
    "    fitness = fitnessNextGen + fitnessDf\n",
    "\n",
    "    nextGen.drop(columns=[\"Probabilidad\", \"Probabilidad Acumulada\"], inplace=True)\n",
    "\n",
    "\n",
    "    newDf = pd.DataFrame({\"Cromosoma\": hijos, \"Fitness\": fitness})\n",
    "    del df\n",
    "\n",
    "    df = pd.concat([nextGen, newDf], ignore_index=True)\n",
    "    print(f\"Generacion {v} completada\")\n",
    "    print(\"Hash de la generacion:\", hash(df.to_string()))\n",
    "\n",
    "\n",
    "    del hijos, fitness, hijosNextGen, fitnessNextGen, hijosDf, fitnessDf\n",
    "    del nextGen, newDf\n",
    "    if v % NRES == 0:\n",
    "        print(f\"Generacion {v} completada\")\n",
    "        print(\"Mejor cromosoma:\", BESTf, \" BESTPorcentaje:\", BESTPorcentaje)\n",
    "        print(\"Cromosoma consenso:\", CONSf)\n",
    "        print(\"\")\n",
    "        #df.write_avro(f\"generacion_{i}.avro\")\n",
    "    if v % NSAMPLE == 0:\n",
    "        print(f\"Generacion {v} completada\")\n",
    "        print(\"Mejor cromosoma:\", BESTf, \" en BESTPorcentaje:\", BESTPorcentaje)\n",
    "        print(\"Cromosoma consenso:\", CONSf)\n",
    "        print(\"Muestreo del 20% de la población\")\n",
    "        print(df.head(int(NPOB*0.2)))\n",
    "\n",
    "        \n",
    "\n",
    "    \n",
    "        \n",
    "    \n",
    "\n",
    "\n",
    "print(f\"Generacion {v} completada\")\n",
    "print(\"Mejor cromosoma:\", BESTf, \" en BESTPorcentaje:\", BESTPorcentaje)\n",
    "print(\"Cromosoma consenso:\", CONSf)\n",
    "print(\"Muestreo del 20% de la población\")\n",
    "print(df.head(int(NPOB*0.2)))\n",
    "\n"
   ]
  },
  {
   "cell_type": "code",
   "execution_count": null,
   "metadata": {},
   "outputs": [
    {
     "data": {
      "text/html": [
       "<div>\n",
       "<style scoped>\n",
       "    .dataframe tbody tr th:only-of-type {\n",
       "        vertical-align: middle;\n",
       "    }\n",
       "\n",
       "    .dataframe tbody tr th {\n",
       "        vertical-align: top;\n",
       "    }\n",
       "\n",
       "    .dataframe thead th {\n",
       "        text-align: right;\n",
       "    }\n",
       "</style>\n",
       "<table border=\"1\" class=\"dataframe\">\n",
       "  <thead>\n",
       "    <tr style=\"text-align: right;\">\n",
       "      <th></th>\n",
       "      <th>Cromosoma</th>\n",
       "      <th>Fitness</th>\n",
       "      <th>Probabilidad</th>\n",
       "      <th>Probabilidad Acumulada</th>\n",
       "    </tr>\n",
       "  </thead>\n",
       "  <tbody>\n",
       "    <tr>\n",
       "      <th>0</th>\n",
       "      <td>[0.09218274041177879, 0.0, 0.149248632833659, ...</td>\n",
       "      <td>-0.008466</td>\n",
       "      <td>0.000247</td>\n",
       "      <td>0.000247</td>\n",
       "    </tr>\n",
       "    <tr>\n",
       "      <th>1</th>\n",
       "      <td>[0.10985356699318675, 0.0, 0.0, 0.0, 0.0, 0.0,...</td>\n",
       "      <td>-0.080595</td>\n",
       "      <td>0.002353</td>\n",
       "      <td>0.002601</td>\n",
       "    </tr>\n",
       "    <tr>\n",
       "      <th>2</th>\n",
       "      <td>[0.1449015821548702, 0.0, 0.0, 0.0899542384397...</td>\n",
       "      <td>-0.118462</td>\n",
       "      <td>0.003459</td>\n",
       "      <td>0.006060</td>\n",
       "    </tr>\n",
       "    <tr>\n",
       "      <th>3</th>\n",
       "      <td>[0.17222222425832465, 0.0, 0.08345650613683687...</td>\n",
       "      <td>-0.130189</td>\n",
       "      <td>0.003801</td>\n",
       "      <td>0.009861</td>\n",
       "    </tr>\n",
       "    <tr>\n",
       "      <th>4</th>\n",
       "      <td>[0.11998929909613444, 0.0, 0.24202688212134876...</td>\n",
       "      <td>-0.152592</td>\n",
       "      <td>0.004456</td>\n",
       "      <td>0.014317</td>\n",
       "    </tr>\n",
       "    <tr>\n",
       "      <th>...</th>\n",
       "      <td>...</td>\n",
       "      <td>...</td>\n",
       "      <td>...</td>\n",
       "      <td>...</td>\n",
       "    </tr>\n",
       "    <tr>\n",
       "      <th>77</th>\n",
       "      <td>[0.0027713028978192575, 0.15407327736641227, 0...</td>\n",
       "      <td>-0.670034</td>\n",
       "      <td>0.019564</td>\n",
       "      <td>0.917176</td>\n",
       "    </tr>\n",
       "    <tr>\n",
       "      <th>78</th>\n",
       "      <td>[0.0, 0.0705676078194667, 0.0, 0.0337936016199...</td>\n",
       "      <td>-0.672459</td>\n",
       "      <td>0.019635</td>\n",
       "      <td>0.936811</td>\n",
       "    </tr>\n",
       "    <tr>\n",
       "      <th>79</th>\n",
       "      <td>[0.0, 0.16579938347784737, 0.0, 0.099697450681...</td>\n",
       "      <td>-0.673155</td>\n",
       "      <td>0.019656</td>\n",
       "      <td>0.956467</td>\n",
       "    </tr>\n",
       "    <tr>\n",
       "      <th>80</th>\n",
       "      <td>[0.12994372559659442, 0.22974399910323642, 0.0...</td>\n",
       "      <td>-0.727194</td>\n",
       "      <td>0.021234</td>\n",
       "      <td>0.977700</td>\n",
       "    </tr>\n",
       "    <tr>\n",
       "      <th>81</th>\n",
       "      <td>[0.1301913389985336, 0.5428333511689173, 0.0, ...</td>\n",
       "      <td>-0.763709</td>\n",
       "      <td>0.022300</td>\n",
       "      <td>1.000000</td>\n",
       "    </tr>\n",
       "  </tbody>\n",
       "</table>\n",
       "<p>82 rows × 4 columns</p>\n",
       "</div>"
      ],
      "text/plain": [
       "                                            Cromosoma   Fitness  Probabilidad  \\\n",
       "0   [0.09218274041177879, 0.0, 0.149248632833659, ... -0.008466      0.000247   \n",
       "1   [0.10985356699318675, 0.0, 0.0, 0.0, 0.0, 0.0,... -0.080595      0.002353   \n",
       "2   [0.1449015821548702, 0.0, 0.0, 0.0899542384397... -0.118462      0.003459   \n",
       "3   [0.17222222425832465, 0.0, 0.08345650613683687... -0.130189      0.003801   \n",
       "4   [0.11998929909613444, 0.0, 0.24202688212134876... -0.152592      0.004456   \n",
       "..                                                ...       ...           ...   \n",
       "77  [0.0027713028978192575, 0.15407327736641227, 0... -0.670034      0.019564   \n",
       "78  [0.0, 0.0705676078194667, 0.0, 0.0337936016199... -0.672459      0.019635   \n",
       "79  [0.0, 0.16579938347784737, 0.0, 0.099697450681... -0.673155      0.019656   \n",
       "80  [0.12994372559659442, 0.22974399910323642, 0.0... -0.727194      0.021234   \n",
       "81  [0.1301913389985336, 0.5428333511689173, 0.0, ... -0.763709      0.022300   \n",
       "\n",
       "    Probabilidad Acumulada  \n",
       "0                 0.000247  \n",
       "1                 0.002601  \n",
       "2                 0.006060  \n",
       "3                 0.009861  \n",
       "4                 0.014317  \n",
       "..                     ...  \n",
       "77                0.917176  \n",
       "78                0.936811  \n",
       "79                0.956467  \n",
       "80                0.977700  \n",
       "81                1.000000  \n",
       "\n",
       "[82 rows x 4 columns]"
      ]
     },
     "execution_count": 20,
     "metadata": {},
     "output_type": "execute_result"
    }
   ],
   "source": [
    "df"
   ]
  },
  {
   "cell_type": "code",
   "execution_count": null,
   "metadata": {},
   "outputs": [
    {
     "data": {
      "image/png": "[encoded data removed]",
      "text/plain": [
       "<Figure size 640x480 with 1 Axes>"
      ]
     },
     "metadata": {},
     "output_type": "display_data"
    }
   ],
   "source": [
    "# graph the best fitness\n",
    "plt.plot(historicoBestFitness)\n",
    "plt.title(\"Mejor fitness por generación\")\n",
    "plt.xlabel(\"Generación\")\n",
    "plt.ylabel(\"Fitness\")\n",
    "plt.show()\n"
   ]
  },
  {
   "cell_type": "code",
   "execution_count": null,
   "metadata": {},
   "outputs": [
    {
     "name": "stdout",
     "output_type": "stream",
     "text": [
      "IBM 0.03244976838814506\n",
      "Nvidia 0.198083962036853\n",
      "Kellogs 0.1072705437607851\n",
      "Microsoft 0.06381842593027778\n",
      "BP 0.025475488344081934\n",
      "Toyota 0.19236463698044415\n",
      "Ikea 0.0986568938341287\n",
      "Bayer 0.08661410120750782\n",
      "Netflix 0.14826483561672874\n",
      "L'Oréal 0.06075993120505374\n",
      "Airbus 0.14305863553024115\n"
     ]
    }
   ],
   "source": [
    "# get the position of the genes that are not 0\n",
    "genes = []\n",
    "for i in range(20):\n",
    "    if BESTc[i] != 0:\n",
    "        print(data.iloc[i][\"Empresa\"], BESTc[i])"
   ]
  },
  {
   "cell_type": "code",
   "execution_count": null,
   "metadata": {},
   "outputs": [
    {
     "data": {
      "text/plain": [
       "-144637045018850894"
      ]
     },
     "execution_count": 26,
     "metadata": {},
     "output_type": "execute_result"
    }
   ],
   "source": [
    "# hash of df\n",
    "hash(df.to_string())"
   ]
  }
 ],
 "metadata": {
  "kernelspec": {
   "display_name": "IA2",
   "language": "python",
   "name": "python3"
  },
  "language_info": {
   "codemirror_mode": {
    "name": "ipython",
    "version": 3
   },
   "file_extension": ".py",
   "mimetype": "text/x-python",
   "name": "python",
   "nbconvert_exporter": "python",
   "pygments_lexer": "ipython3",
   "version": "3.11.8"
  }
 },
 "nbformat": 4,
 "nbformat_minor": 2
}
