{
 "cells": [
  {
   "cell_type": "code",
   "execution_count": 1,
   "metadata": {},
   "outputs": [],
   "source": [
    "import pandas as pd\n",
    "import numpy as np\n",
    "import matplotlib.pyplot as plt\n",
    "import time\n",
    "import polars as pl\n"
   ]
  },
  {
   "cell_type": "markdown",
   "metadata": {},
   "source": [
    "Leemos los datos del excel "
   ]
  },
  {
   "cell_type": "code",
   "execution_count": 2,
   "metadata": {},
   "outputs": [],
   "source": [
    "NPOB = 10\n",
    "NGEN = 100\n",
    "Pc = 0.8\n",
    "Pm = 0.1\n",
    "C = 0.4\n",
    "NRES = 1\n",
    "NSAMPLE = 1\n",
    "random_vector = None "
   ]
  },
  {
   "cell_type": "code",
   "execution_count": 3,
   "metadata": {},
   "outputs": [
    {
     "data": {
      "text/html": [
       "<div>\n",
       "<style scoped>\n",
       "    .dataframe tbody tr th:only-of-type {\n",
       "        vertical-align: middle;\n",
       "    }\n",
       "\n",
       "    .dataframe tbody tr th {\n",
       "        vertical-align: top;\n",
       "    }\n",
       "\n",
       "    .dataframe thead th {\n",
       "        text-align: right;\n",
       "    }\n",
       "</style>\n",
       "<table border=\"1\" class=\"dataframe\">\n",
       "  <thead>\n",
       "    <tr style=\"text-align: right;\">\n",
       "      <th></th>\n",
       "      <th>Empresa</th>\n",
       "      <th>Enero</th>\n",
       "      <th>Febrero</th>\n",
       "      <th>Marzo</th>\n",
       "      <th>Abril</th>\n",
       "      <th>Mayo</th>\n",
       "      <th>Junio</th>\n",
       "      <th>Julio</th>\n",
       "      <th>Agosto</th>\n",
       "      <th>Septiembre</th>\n",
       "      <th>Octubre</th>\n",
       "      <th>Noviembre</th>\n",
       "      <th>Diciembre</th>\n",
       "    </tr>\n",
       "  </thead>\n",
       "  <tbody>\n",
       "    <tr>\n",
       "      <th>0</th>\n",
       "      <td>IBM</td>\n",
       "      <td>-0.012546</td>\n",
       "      <td>0.045071</td>\n",
       "      <td>0.023199</td>\n",
       "      <td>0.009866</td>\n",
       "      <td>-0.034398</td>\n",
       "      <td>-0.034401</td>\n",
       "      <td>-0.044192</td>\n",
       "      <td>0.036618</td>\n",
       "      <td>0.010112</td>\n",
       "      <td>0.020807</td>\n",
       "      <td>-0.047942</td>\n",
       "      <td>0.046991</td>\n",
       "    </tr>\n",
       "    <tr>\n",
       "      <th>1</th>\n",
       "      <td>Nvidia</td>\n",
       "      <td>0.033244</td>\n",
       "      <td>-0.028766</td>\n",
       "      <td>-0.031818</td>\n",
       "      <td>-0.03166</td>\n",
       "      <td>-0.019576</td>\n",
       "      <td>0.002476</td>\n",
       "      <td>-0.006805</td>\n",
       "      <td>-0.020877</td>\n",
       "      <td>0.011185</td>\n",
       "      <td>-0.036051</td>\n",
       "      <td>-0.020786</td>\n",
       "      <td>-0.013364</td>\n",
       "    </tr>\n",
       "    <tr>\n",
       "      <th>2</th>\n",
       "      <td>Kellogs</td>\n",
       "      <td>-0.004393</td>\n",
       "      <td>0.028518</td>\n",
       "      <td>-0.030033</td>\n",
       "      <td>0.001423</td>\n",
       "      <td>0.009241</td>\n",
       "      <td>-0.045355</td>\n",
       "      <td>0.010754</td>\n",
       "      <td>-0.032948</td>\n",
       "      <td>-0.043495</td>\n",
       "      <td>0.044889</td>\n",
       "      <td>0.046563</td>\n",
       "      <td>0.03084</td>\n",
       "    </tr>\n",
       "    <tr>\n",
       "      <th>3</th>\n",
       "      <td>Microsoft</td>\n",
       "      <td>-0.019539</td>\n",
       "      <td>-0.040233</td>\n",
       "      <td>0.018423</td>\n",
       "      <td>-0.005985</td>\n",
       "      <td>-0.037796</td>\n",
       "      <td>-0.000482</td>\n",
       "      <td>-0.046561</td>\n",
       "      <td>0.040932</td>\n",
       "      <td>-0.024122</td>\n",
       "      <td>0.016252</td>\n",
       "      <td>-0.018829</td>\n",
       "      <td>0.002007</td>\n",
       "    </tr>\n",
       "    <tr>\n",
       "      <th>4</th>\n",
       "      <td>BP</td>\n",
       "      <td>0.004671</td>\n",
       "      <td>-0.031515</td>\n",
       "      <td>0.046958</td>\n",
       "      <td>0.027513</td>\n",
       "      <td>0.04395</td>\n",
       "      <td>0.039483</td>\n",
       "      <td>0.00979</td>\n",
       "      <td>0.042187</td>\n",
       "      <td>-0.041151</td>\n",
       "      <td>-0.030402</td>\n",
       "      <td>-0.045477</td>\n",
       "      <td>-0.017467</td>\n",
       "    </tr>\n",
       "    <tr>\n",
       "      <th>5</th>\n",
       "      <td>UPS</td>\n",
       "      <td>-0.011132</td>\n",
       "      <td>-0.022865</td>\n",
       "      <td>0.032874</td>\n",
       "      <td>-0.014325</td>\n",
       "      <td>-0.021907</td>\n",
       "      <td>0.00427</td>\n",
       "      <td>-0.035908</td>\n",
       "      <td>0.03022</td>\n",
       "      <td>-0.042545</td>\n",
       "      <td>0.048689</td>\n",
       "      <td>0.027224</td>\n",
       "      <td>-0.030128</td>\n",
       "    </tr>\n",
       "    <tr>\n",
       "      <th>6</th>\n",
       "      <td>Amazon</td>\n",
       "      <td>-0.049448</td>\n",
       "      <td>0.031546</td>\n",
       "      <td>0.020686</td>\n",
       "      <td>0.022901</td>\n",
       "      <td>0.027127</td>\n",
       "      <td>-0.042596</td>\n",
       "      <td>-0.014153</td>\n",
       "      <td>-0.038413</td>\n",
       "      <td>0.03631</td>\n",
       "      <td>0.01233</td>\n",
       "      <td>-0.01691</td>\n",
       "      <td>-0.043644</td>\n",
       "    </tr>\n",
       "    <tr>\n",
       "      <th>7</th>\n",
       "      <td>Intel</td>\n",
       "      <td>-0.018902</td>\n",
       "      <td>-0.017482</td>\n",
       "      <td>0.022961</td>\n",
       "      <td>0.013756</td>\n",
       "      <td>0.038721</td>\n",
       "      <td>-0.002779</td>\n",
       "      <td>-0.038041</td>\n",
       "      <td>0.021324</td>\n",
       "      <td>0.026079</td>\n",
       "      <td>0.006128</td>\n",
       "      <td>0.027097</td>\n",
       "      <td>-0.00062</td>\n",
       "    </tr>\n",
       "    <tr>\n",
       "      <th>8</th>\n",
       "      <td>Ford</td>\n",
       "      <td>0.002273</td>\n",
       "      <td>-0.007246</td>\n",
       "      <td>-0.047458</td>\n",
       "      <td>-0.039211</td>\n",
       "      <td>-0.046857</td>\n",
       "      <td>0.013641</td>\n",
       "      <td>-0.018564</td>\n",
       "      <td>0.000857</td>\n",
       "      <td>0.040757</td>\n",
       "      <td>-0.025071</td>\n",
       "      <td>-0.008962</td>\n",
       "      <td>0.025555</td>\n",
       "    </tr>\n",
       "    <tr>\n",
       "      <th>9</th>\n",
       "      <td>Exxon</td>\n",
       "      <td>-0.02712</td>\n",
       "      <td>-0.042302</td>\n",
       "      <td>-0.021025</td>\n",
       "      <td>-0.033878</td>\n",
       "      <td>0.04297</td>\n",
       "      <td>0.030812</td>\n",
       "      <td>0.01334</td>\n",
       "      <td>0.037146</td>\n",
       "      <td>0.030367</td>\n",
       "      <td>-0.031343</td>\n",
       "      <td>0.039256</td>\n",
       "      <td>0.003934</td>\n",
       "    </tr>\n",
       "    <tr>\n",
       "      <th>10</th>\n",
       "      <td>Toyota</td>\n",
       "      <td>0.030744</td>\n",
       "      <td>0.039609</td>\n",
       "      <td>-0.0182</td>\n",
       "      <td>-0.038995</td>\n",
       "      <td>-0.027206</td>\n",
       "      <td>-0.007289</td>\n",
       "      <td>0.031801</td>\n",
       "      <td>0.036073</td>\n",
       "      <td>-0.049305</td>\n",
       "      <td>0.001075</td>\n",
       "      <td>-0.008259</td>\n",
       "      <td>-0.027789</td>\n",
       "    </tr>\n",
       "    <tr>\n",
       "      <th>11</th>\n",
       "      <td>Pfizer</td>\n",
       "      <td>-0.038013</td>\n",
       "      <td>-0.016238</td>\n",
       "      <td>0.044291</td>\n",
       "      <td>-0.01768</td>\n",
       "      <td>0.001879</td>\n",
       "      <td>0.020302</td>\n",
       "      <td>-0.013637</td>\n",
       "      <td>0.047178</td>\n",
       "      <td>0.046245</td>\n",
       "      <td>-0.024822</td>\n",
       "      <td>-0.000275</td>\n",
       "      <td>-0.019912</td>\n",
       "    </tr>\n",
       "    <tr>\n",
       "      <th>12</th>\n",
       "      <td>Ikea</td>\n",
       "      <td>-0.021516</td>\n",
       "      <td>-0.046311</td>\n",
       "      <td>0.010956</td>\n",
       "      <td>0.000268</td>\n",
       "      <td>-0.044852</td>\n",
       "      <td>-0.022135</td>\n",
       "      <td>0.040827</td>\n",
       "      <td>-0.026044</td>\n",
       "      <td>-0.035511</td>\n",
       "      <td>-0.001055</td>\n",
       "      <td>0.048565</td>\n",
       "      <td>-0.025794</td>\n",
       "    </tr>\n",
       "    <tr>\n",
       "      <th>13</th>\n",
       "      <td>Bayer</td>\n",
       "      <td>0.017214</td>\n",
       "      <td>0.026162</td>\n",
       "      <td>-0.026236</td>\n",
       "      <td>0.022822</td>\n",
       "      <td>-0.013222</td>\n",
       "      <td>0.013231</td>\n",
       "      <td>0.013353</td>\n",
       "      <td>0.003577</td>\n",
       "      <td>-0.040971</td>\n",
       "      <td>0.03353</td>\n",
       "      <td>-0.017922</td>\n",
       "      <td>-0.031348</td>\n",
       "    </tr>\n",
       "    <tr>\n",
       "      <th>14</th>\n",
       "      <td>Nestlé</td>\n",
       "      <td>-0.045922</td>\n",
       "      <td>0.009089</td>\n",
       "      <td>0.017756</td>\n",
       "      <td>-0.048341</td>\n",
       "      <td>0.001209</td>\n",
       "      <td>-0.02735</td>\n",
       "      <td>0.014517</td>\n",
       "      <td>-0.032563</td>\n",
       "      <td>0.019094</td>\n",
       "      <td>-0.011326</td>\n",
       "      <td>0.043673</td>\n",
       "      <td>-0.036248</td>\n",
       "    </tr>\n",
       "    <tr>\n",
       "      <th>15</th>\n",
       "      <td>Samsung</td>\n",
       "      <td>-0.015893</td>\n",
       "      <td>-0.038653</td>\n",
       "      <td>0.042469</td>\n",
       "      <td>0.037734</td>\n",
       "      <td>-0.024206</td>\n",
       "      <td>0.015998</td>\n",
       "      <td>0.031722</td>\n",
       "      <td>0.00552</td>\n",
       "      <td>0.002965</td>\n",
       "      <td>-0.025815</td>\n",
       "      <td>-0.04069</td>\n",
       "      <td>0.039722</td>\n",
       "    </tr>\n",
       "    <tr>\n",
       "      <th>16</th>\n",
       "      <td>Telefónica</td>\n",
       "      <td>0.040042</td>\n",
       "      <td>0.01331</td>\n",
       "      <td>-0.016097</td>\n",
       "      <td>-0.015079</td>\n",
       "      <td>0.022596</td>\n",
       "      <td>0.039711</td>\n",
       "      <td>0.038709</td>\n",
       "      <td>0.027988</td>\n",
       "      <td>0.014203</td>\n",
       "      <td>-0.041586</td>\n",
       "      <td>-0.033837</td>\n",
       "      <td>0.039855</td>\n",
       "    </tr>\n",
       "    <tr>\n",
       "      <th>17</th>\n",
       "      <td>Netflix</td>\n",
       "      <td>0.010643</td>\n",
       "      <td>-0.04908</td>\n",
       "      <td>-0.039853</td>\n",
       "      <td>0.01635</td>\n",
       "      <td>-0.049494</td>\n",
       "      <td>-0.033919</td>\n",
       "      <td>0.004873</td>\n",
       "      <td>0.01919</td>\n",
       "      <td>0.015196</td>\n",
       "      <td>-0.027573</td>\n",
       "      <td>0.021218</td>\n",
       "      <td>-0.026275</td>\n",
       "    </tr>\n",
       "    <tr>\n",
       "      <th>18</th>\n",
       "      <td>L'Oréal</td>\n",
       "      <td>-0.01746</td>\n",
       "      <td>0.024649</td>\n",
       "      <td>0.014963</td>\n",
       "      <td>0.034922</td>\n",
       "      <td>0.015761</td>\n",
       "      <td>0.006831</td>\n",
       "      <td>-0.040633</td>\n",
       "      <td>-0.013228</td>\n",
       "      <td>-0.02348</td>\n",
       "      <td>-0.025601</td>\n",
       "      <td>0.047301</td>\n",
       "      <td>-0.01069</td>\n",
       "    </tr>\n",
       "    <tr>\n",
       "      <th>19</th>\n",
       "      <td>Airbus</td>\n",
       "      <td>0.039205</td>\n",
       "      <td>0.013114</td>\n",
       "      <td>0.029481</td>\n",
       "      <td>0.000264</td>\n",
       "      <td>0.00769</td>\n",
       "      <td>-0.000748</td>\n",
       "      <td>-0.030476</td>\n",
       "      <td>0.022245</td>\n",
       "      <td>-0.021923</td>\n",
       "      <td>-0.047568</td>\n",
       "      <td>0.014547</td>\n",
       "      <td>-0.032289</td>\n",
       "    </tr>\n",
       "  </tbody>\n",
       "</table>\n",
       "</div>"
      ],
      "text/plain": [
       "       Empresa     Enero   Febrero     Marzo     Abril      Mayo     Junio  \\\n",
       "0          IBM -0.012546  0.045071  0.023199  0.009866 -0.034398 -0.034401   \n",
       "1       Nvidia  0.033244 -0.028766 -0.031818  -0.03166 -0.019576  0.002476   \n",
       "2      Kellogs -0.004393  0.028518 -0.030033  0.001423  0.009241 -0.045355   \n",
       "3    Microsoft -0.019539 -0.040233  0.018423 -0.005985 -0.037796 -0.000482   \n",
       "4           BP  0.004671 -0.031515  0.046958  0.027513   0.04395  0.039483   \n",
       "5          UPS -0.011132 -0.022865  0.032874 -0.014325 -0.021907   0.00427   \n",
       "6       Amazon -0.049448  0.031546  0.020686  0.022901  0.027127 -0.042596   \n",
       "7        Intel -0.018902 -0.017482  0.022961  0.013756  0.038721 -0.002779   \n",
       "8         Ford  0.002273 -0.007246 -0.047458 -0.039211 -0.046857  0.013641   \n",
       "9        Exxon  -0.02712 -0.042302 -0.021025 -0.033878   0.04297  0.030812   \n",
       "10      Toyota  0.030744  0.039609   -0.0182 -0.038995 -0.027206 -0.007289   \n",
       "11      Pfizer -0.038013 -0.016238  0.044291  -0.01768  0.001879  0.020302   \n",
       "12        Ikea -0.021516 -0.046311  0.010956  0.000268 -0.044852 -0.022135   \n",
       "13       Bayer  0.017214  0.026162 -0.026236  0.022822 -0.013222  0.013231   \n",
       "14      Nestlé -0.045922  0.009089  0.017756 -0.048341  0.001209  -0.02735   \n",
       "15     Samsung -0.015893 -0.038653  0.042469  0.037734 -0.024206  0.015998   \n",
       "16  Telefónica  0.040042   0.01331 -0.016097 -0.015079  0.022596  0.039711   \n",
       "17     Netflix  0.010643  -0.04908 -0.039853   0.01635 -0.049494 -0.033919   \n",
       "18     L'Oréal  -0.01746  0.024649  0.014963  0.034922  0.015761  0.006831   \n",
       "19      Airbus  0.039205  0.013114  0.029481  0.000264   0.00769 -0.000748   \n",
       "\n",
       "       Julio    Agosto Septiembre   Octubre Noviembre Diciembre  \n",
       "0  -0.044192  0.036618   0.010112  0.020807 -0.047942  0.046991  \n",
       "1  -0.006805 -0.020877   0.011185 -0.036051 -0.020786 -0.013364  \n",
       "2   0.010754 -0.032948  -0.043495  0.044889  0.046563   0.03084  \n",
       "3  -0.046561  0.040932  -0.024122  0.016252 -0.018829  0.002007  \n",
       "4    0.00979  0.042187  -0.041151 -0.030402 -0.045477 -0.017467  \n",
       "5  -0.035908   0.03022  -0.042545  0.048689  0.027224 -0.030128  \n",
       "6  -0.014153 -0.038413    0.03631   0.01233  -0.01691 -0.043644  \n",
       "7  -0.038041  0.021324   0.026079  0.006128  0.027097  -0.00062  \n",
       "8  -0.018564  0.000857   0.040757 -0.025071 -0.008962  0.025555  \n",
       "9    0.01334  0.037146   0.030367 -0.031343  0.039256  0.003934  \n",
       "10  0.031801  0.036073  -0.049305  0.001075 -0.008259 -0.027789  \n",
       "11 -0.013637  0.047178   0.046245 -0.024822 -0.000275 -0.019912  \n",
       "12  0.040827 -0.026044  -0.035511 -0.001055  0.048565 -0.025794  \n",
       "13  0.013353  0.003577  -0.040971   0.03353 -0.017922 -0.031348  \n",
       "14  0.014517 -0.032563   0.019094 -0.011326  0.043673 -0.036248  \n",
       "15  0.031722   0.00552   0.002965 -0.025815  -0.04069  0.039722  \n",
       "16  0.038709  0.027988   0.014203 -0.041586 -0.033837  0.039855  \n",
       "17  0.004873   0.01919   0.015196 -0.027573  0.021218 -0.026275  \n",
       "18 -0.040633 -0.013228   -0.02348 -0.025601  0.047301  -0.01069  \n",
       "19 -0.030476  0.022245  -0.021923 -0.047568  0.014547 -0.032289  "
      ]
     },
     "execution_count": 3,
     "metadata": {},
     "output_type": "execute_result"
    }
   ],
   "source": [
    "# reaf the data from the excel file\n",
    "data = pd.read_excel('Datos TablaInversiones.xlsx')\n",
    "data = data.dropna()\n",
    "data = data.reset_index(drop=True)\n",
    "# rename columns\n",
    "data.columns = [\"Empresa\",\"Enero\", \"Febrero\", \"Marzo\", \"Abril\", \"Mayo\", \"Junio\", \"Julio\", \"Agosto\", \"Septiembre\", \"Octubre\", \"Noviembre\", \"Diciembre\"]\n",
    "data"
   ]
  },
  {
   "cell_type": "code",
   "execution_count": 4,
   "metadata": {},
   "outputs": [
    {
     "data": {
      "text/plain": [
       "0.0015987499999999993"
      ]
     },
     "execution_count": 4,
     "metadata": {},
     "output_type": "execute_result"
    }
   ],
   "source": [
    "def ri(copañia):\n",
    "    #add the row of the company and divide by 12\n",
    "    return (data.loc[data[\"Empresa\"] == copañia].iloc[0, 1:].sum())/12\n",
    "\n",
    "ri(\"IBM\")\n",
    "    "
   ]
  },
  {
   "cell_type": "code",
   "execution_count": 5,
   "metadata": {},
   "outputs": [],
   "source": [
    "def cromosoma():\n",
    "    # generate a vector of 20 random numbers between 0 and 1 that sum 1\n",
    "    np.random.seed()\n",
    "    c = np.random.rand(20)\n",
    "    c = c/sum(c)\n",
    "    return c\n"
   ]
  },
  {
   "cell_type": "code",
   "execution_count": 6,
   "metadata": {},
   "outputs": [],
   "source": [
    "def metodoRuleta(cromosomaProcesado, probabilidad):\n",
    "    return True\n"
   ]
  },
  {
   "cell_type": "code",
   "execution_count": 7,
   "metadata": {},
   "outputs": [],
   "source": [
    "def calcularRc(cromosoma):\n",
    "    rc = 0\n",
    "    for i in range(20):\n",
    "        rc += cromosoma[i]*ri(data.iloc[i][\"Empresa\"])\n",
    "    return rc"
   ]
  },
  {
   "cell_type": "code",
   "execution_count": 8,
   "metadata": {},
   "outputs": [
    {
     "name": "stderr",
     "output_type": "stream",
     "text": [
      "/tmp/ipykernel_31238/1038542018.py:4: FutureWarning: Series.__getitem__ treating keys as positions is deprecated. In a future version, integer keys will always be treated as labels (consistent with DataFrame behavior). To access a value by position, use `ser.iloc[pos]`\n",
      "  resultado += np.square(data.iloc[i][m+1] - ri(data.iloc[i][\"Empresa\"]))\n"
     ]
    },
    {
     "data": {
      "text/plain": [
       "0.02055088711422984"
      ]
     },
     "execution_count": 8,
     "metadata": {},
     "output_type": "execute_result"
    }
   ],
   "source": [
    "def calcularOi(i):\n",
    "    resultado = 0\n",
    "    for m in range(12):\n",
    "        resultado += np.square(data.iloc[i][m+1] - ri(data.iloc[i][\"Empresa\"]))\n",
    "    return np.sqrt(resultado/11)\n",
    "\n",
    "calcularOi(1)"
   ]
  },
  {
   "cell_type": "code",
   "execution_count": 9,
   "metadata": {},
   "outputs": [],
   "source": [
    "def calcularOc(cromosoma):\n",
    "    resultado = 0\n",
    "    for i in range(20):\n",
    "        for j in range(20):\n",
    "            resultado += cromosoma[i]*cromosoma[j]*calcularOi(i)*calcularOi(j)\n",
    "    return np.sqrt(0.25 * resultado)"
   ]
  },
  {
   "cell_type": "code",
   "execution_count": 10,
   "metadata": {},
   "outputs": [],
   "source": [
    "def ratioSharpe(cromosoma):\n",
    "    rc = calcularRc(cromosoma)\n",
    "    desv = calcularOc(cromosoma)\n",
    "    return (rc - 0.003757)/desv"
   ]
  },
  {
   "cell_type": "code",
   "execution_count": 11,
   "metadata": {},
   "outputs": [
    {
     "name": "stdout",
     "output_type": "stream",
     "text": [
      "[0.02389875 0.04452641 0.03229684 0.06589775 0.06921823 0.00241771\n",
      " 0.05583877 0.05196672 0.02508769 0.07177241 0.03827713 0.01972095\n",
      " 0.08592505 0.06355386 0.08005186 0.07321767 0.02479249 0.01251263\n",
      " 0.07253779 0.0864893 ]\n",
      "-0.00202495482672058\n"
     ]
    },
    {
     "name": "stderr",
     "output_type": "stream",
     "text": [
      "/tmp/ipykernel_31238/1038542018.py:4: FutureWarning: Series.__getitem__ treating keys as positions is deprecated. In a future version, integer keys will always be treated as labels (consistent with DataFrame behavior). To access a value by position, use `ser.iloc[pos]`\n",
      "  resultado += np.square(data.iloc[i][m+1] - ri(data.iloc[i][\"Empresa\"]))\n"
     ]
    },
    {
     "name": "stdout",
     "output_type": "stream",
     "text": [
      "0.0146561488848102\n",
      "-0.39450710225201546\n"
     ]
    }
   ],
   "source": [
    "c1 = cromosoma()\n",
    "print(c1)\n",
    "print(calcularRc(c1))\n",
    "print(calcularOc(c1))\n",
    "print(ratioSharpe(c1))\n"
   ]
  },
  {
   "cell_type": "code",
   "execution_count": 12,
   "metadata": {},
   "outputs": [
    {
     "data": {
      "text/plain": [
       "numpy.ndarray"
      ]
     },
     "execution_count": 12,
     "metadata": {},
     "output_type": "execute_result"
    }
   ],
   "source": [
    "type(c1)"
   ]
  },
  {
   "cell_type": "code",
   "execution_count": 13,
   "metadata": {},
   "outputs": [
    {
     "data": {
      "text/plain": [
       "'IBM'"
      ]
     },
     "execution_count": 13,
     "metadata": {},
     "output_type": "execute_result"
    }
   ],
   "source": [
    "data.iloc[0][\"Empresa\"]"
   ]
  },
  {
   "cell_type": "code",
   "execution_count": 15,
   "metadata": {},
   "outputs": [
    {
     "data": {
      "text/plain": [
       "array([0.09907917, 0.04203572, 0.07068448, 0.04675208, 0.08559447,\n",
       "       0.04603642, 0.08352587, 0.01107619, 0.05199174, 0.02153197,\n",
       "       0.05170214, 0.01548663, 0.04995324, 0.00482691, 0.05131265,\n",
       "       0.06850644, 0.03677116, 0.03491857, 0.06961675, 0.05859739])"
      ]
     },
     "execution_count": 15,
     "metadata": {},
     "output_type": "execute_result"
    }
   ],
   "source": [
    "c1 = cromosoma()\n",
    "c1"
   ]
  },
  {
   "cell_type": "code",
   "execution_count": 16,
   "metadata": {},
   "outputs": [
    {
     "data": {
      "text/plain": [
       "-0.0020981688950170783"
      ]
     },
     "execution_count": 16,
     "metadata": {},
     "output_type": "execute_result"
    }
   ],
   "source": [
    "\n",
    "calcularRc(c1)"
   ]
  },
  {
   "cell_type": "code",
   "execution_count": 14,
   "metadata": {},
   "outputs": [],
   "source": [
    "def ruleta(fitness_gen, fitness_total, Pm):\n",
    "  \"\"\"\n",
    "  Función que decide si mutar un gen usando la ruleta.\n",
    "\n",
    "  Args:\n",
    "    fitness_gen: Fitness del gen a evaluar.\n",
    "    fitness_total: Fitness total del cromosoma.\n",
    "    Pm: Probabilidad de mutación individual.\n",
    "\n",
    "  Returns:\n",
    "    True si el gen debe mutarse, False en caso contrario.\n",
    "  \"\"\"\n",
    "  fitness_relativo = fitness_gen / fitness_total\n",
    "  r = np.random.random()\n",
    "\n",
    "  # Aplicar ruleta\n",
    "  if r < fitness_relativo * Pm:\n",
    "    return True\n",
    "  else:\n",
    "    return False\n"
   ]
  },
  {
   "cell_type": "code",
   "execution_count": 15,
   "metadata": {},
   "outputs": [],
   "source": [
    "def ruletaEncruzamiento(fitness_gen, fitness_total, Pc):\n",
    "  \"\"\"\n",
    "  Función que decide si cruzar un gen usando la ruleta.\n",
    "\n",
    "  Args:\n",
    "    fitness_gen: Fitness del gen a evaluar.\n",
    "    fitness_total: Fitness total del cromosoma.\n",
    "    Pc: Probabilidad de cruzamiento.\n",
    "\n",
    "  Returns:\n",
    "    True si el gen debe cruzarse, False en caso contrario.\n",
    "  \"\"\"\n",
    "  fitness_relativo = fitness_gen / fitness_total\n",
    "  r = np.random.random()\n",
    "\n",
    "  # Aplicar ruleta\n",
    "  if r < fitness_relativo * Pc:\n",
    "    return True\n",
    "  else:\n",
    "    return False"
   ]
  },
  {
   "cell_type": "code",
   "execution_count": 16,
   "metadata": {},
   "outputs": [],
   "source": [
    "\n",
    "def mutacion(cromosomaProcesado):\n",
    "    for gen in range(len(cromosomaProcesado)):\n",
    "        # Cambiar a el metodo de la ruleta\n",
    "        #if ruleta(gen, fitness, Pm):\n",
    "        if np.random.rand() < Pm:\n",
    "            # generate a random number between 0 and 1\n",
    "            nuevoGen = (np.random.rand() - 0.5) * C\n",
    "            if nuevoGen < 0:\n",
    "                nuevoGen = 0\n",
    "            cromosomaProcesado[gen] = nuevoGen\n",
    "            del nuevoGen\n",
    "\n",
    "    \n",
    "    return (cromosomaProcesado/sum(cromosomaProcesado))\n",
    "\n"
   ]
  },
  {
   "cell_type": "code",
   "execution_count": 17,
   "metadata": {},
   "outputs": [],
   "source": [
    "def entrecruzamiento(cromosoma1, cromosoma2):\n",
    "    # generate a random number between 0 and 1\n",
    "    #if metodoRuleta(cromosoma1, Pc):\n",
    "    r = np.random.random()\n",
    "    if r < Pc:\n",
    "        # generate a random number between 0 and 20\n",
    "        punto = np.random.randint(20)\n",
    "        # generate two new chromosomes\n",
    "        cromosoma1 = np.concatenate((cromosoma1[:punto], cromosoma2[punto:]))\n",
    "        cromosoma2 = np.concatenate((cromosoma2[:punto], cromosoma1[punto:]))\n",
    "\n",
    "        # if there is a negative number, change it to 0\n",
    "        cromosoma1[cromosoma1 < 0] = 0\n",
    "        cromosoma2[cromosoma2 < 0] = 0\n",
    "        cromosoma1 = cromosoma1/sum(cromosoma1)\n",
    "        cromosoma2 = cromosoma2/sum(cromosoma2)\n",
    "    return cromosoma1, cromosoma2"
   ]
  },
  {
   "cell_type": "markdown",
   "metadata": {},
   "source": [
    "Empezar con el entenamiento"
   ]
  },
  {
   "cell_type": "code",
   "execution_count": 18,
   "metadata": {},
   "outputs": [
    {
     "name": "stderr",
     "output_type": "stream",
     "text": [
      "/tmp/ipykernel_31238/1038542018.py:4: FutureWarning: Series.__getitem__ treating keys as positions is deprecated. In a future version, integer keys will always be treated as labels (consistent with DataFrame behavior). To access a value by position, use `ser.iloc[pos]`\n",
      "  resultado += np.square(data.iloc[i][m+1] - ri(data.iloc[i][\"Empresa\"]))\n"
     ]
    }
   ],
   "source": [
    "# generate a random population\n",
    "\n",
    "poblacion = []\n",
    "for i in range(NPOB):\n",
    "    poblacion.append(cromosoma())\n",
    "\n",
    "# calculate the fitness of the population\n",
    "fitness = []\n",
    "for i in range(NPOB):\n",
    "    fitness.append(ratioSharpe(poblacion[i]))\n"
   ]
  },
  {
   "cell_type": "code",
   "execution_count": null,
   "metadata": {},
   "outputs": [],
   "source": [
    "\n",
    "probabilidadSeleccion = []\n",
    "for i in range(NPOB):\n",
    "    probabilidadSeleccion.append(fitness[i]/sum(fitness))\n",
    "\n",
    "probabilidadAcumulada = []\n",
    "suma = 0\n",
    "for i in range(NPOB):\n",
    "    suma += probabilidadSeleccion[i]\n",
    "    probabilidadAcumulada.append(suma)\n",
    "\n",
    "\n",
    "\n"
   ]
  },
  {
   "cell_type": "code",
   "execution_count": 29,
   "metadata": {},
   "outputs": [
    {
     "data": {
      "text/html": [
       "<div><style>\n",
       ".dataframe > thead > tr,\n",
       ".dataframe > tbody > tr {\n",
       "  text-align: right;\n",
       "  white-space: pre-wrap;\n",
       "}\n",
       "</style>\n",
       "<small>shape: (10, 2)</small><table border=\"1\" class=\"dataframe\"><thead><tr><th>Cromosoma</th><th>Fitness</th></tr><tr><td>list[f64]</td><td>f64</td></tr></thead><tbody><tr><td>[0.033634, 0.07379, … 0.037185]</td><td>-0.326477</td></tr><tr><td>[0.084583, 0.094774, … 0.094155]</td><td>-0.41233</td></tr><tr><td>[0.068091, 0.04442, … 0.081419]</td><td>-0.345762</td></tr><tr><td>[0.011187, 0.068856, … 0.072133]</td><td>-0.391053</td></tr><tr><td>[0.030053, 0.095177, … 0.030419]</td><td>-0.445328</td></tr><tr><td>[0.025431, 0.074822, … 0.012904]</td><td>-0.429492</td></tr><tr><td>[0.042339, 0.070958, … 0.04303]</td><td>-0.494574</td></tr><tr><td>[0.09851, 0.106821, … 0.030929]</td><td>-0.412336</td></tr><tr><td>[0.062182, 0.002022, … 0.017197]</td><td>-0.422209</td></tr><tr><td>[0.058569, 0.027226, … 0.005797]</td><td>-0.337799</td></tr></tbody></table></div>"
      ],
      "text/plain": [
       "shape: (10, 2)\n",
       "┌─────────────────────────────────┬───────────┐\n",
       "│ Cromosoma                       ┆ Fitness   │\n",
       "│ ---                             ┆ ---       │\n",
       "│ list[f64]                       ┆ f64       │\n",
       "╞═════════════════════════════════╪═══════════╡\n",
       "│ [0.033634, 0.07379, … 0.037185… ┆ -0.326477 │\n",
       "│ [0.084583, 0.094774, … 0.09415… ┆ -0.41233  │\n",
       "│ [0.068091, 0.04442, … 0.081419… ┆ -0.345762 │\n",
       "│ [0.011187, 0.068856, … 0.07213… ┆ -0.391053 │\n",
       "│ [0.030053, 0.095177, … 0.03041… ┆ -0.445328 │\n",
       "│ [0.025431, 0.074822, … 0.01290… ┆ -0.429492 │\n",
       "│ [0.042339, 0.070958, … 0.04303… ┆ -0.494574 │\n",
       "│ [0.09851, 0.106821, … 0.030929… ┆ -0.412336 │\n",
       "│ [0.062182, 0.002022, … 0.01719… ┆ -0.422209 │\n",
       "│ [0.058569, 0.027226, … 0.00579… ┆ -0.337799 │\n",
       "└─────────────────────────────────┴───────────┘"
      ]
     },
     "execution_count": 29,
     "metadata": {},
     "output_type": "execute_result"
    }
   ],
   "source": [
    "# save to pandas dataframe\n",
    "df = pl.DataFrame({\"Cromosoma\": poblacion, \"Fitness\": fitness})\n",
    "df"
   ]
  },
  {
   "cell_type": "code",
   "execution_count": null,
   "metadata": {},
   "outputs": [
    {
     "data": {
      "text/html": [
       "<div><style>\n",
       ".dataframe > thead > tr,\n",
       ".dataframe > tbody > tr {\n",
       "  text-align: right;\n",
       "  white-space: pre-wrap;\n",
       "}\n",
       "</style>\n",
       "<small>shape: (50, 2)</small><table border=\"1\" class=\"dataframe\"><thead><tr><th>Cromosoma</th><th>Fitness</th></tr><tr><td>list[f64]</td><td>f64</td></tr></thead><tbody><tr><td>[0.09458, 0.020957, … 0.03101]</td><td>-0.27811</td></tr><tr><td>[0.018613, 0.021503, … 0.028897]</td><td>-0.294203</td></tr><tr><td>[0.001716, 0.05843, … 0.042781]</td><td>-0.318516</td></tr><tr><td>[0.026168, 0.026004, … 0.039223]</td><td>-0.326472</td></tr><tr><td>[0.116095, 0.082156, … 0.004318]</td><td>-0.327466</td></tr><tr><td>&hellip;</td><td>&hellip;</td></tr><tr><td>[0.02078, 0.026382, … 0.085134]</td><td>-0.488695</td></tr><tr><td>[0.083151, 0.081178, … 0.014731]</td><td>-0.503246</td></tr><tr><td>[0.098052, 0.08, … 0.076593]</td><td>-0.513322</td></tr><tr><td>[0.014897, 0.073372, … 0.066311]</td><td>-0.526704</td></tr><tr><td>[0.014927, 0.09514, … 0.056951]</td><td>-0.546443</td></tr></tbody></table></div>"
      ],
      "text/plain": [
       "shape: (50, 2)\n",
       "┌─────────────────────────────────┬───────────┐\n",
       "│ Cromosoma                       ┆ Fitness   │\n",
       "│ ---                             ┆ ---       │\n",
       "│ list[f64]                       ┆ f64       │\n",
       "╞═════════════════════════════════╪═══════════╡\n",
       "│ [0.09458, 0.020957, … 0.03101]  ┆ -0.27811  │\n",
       "│ [0.018613, 0.021503, … 0.02889… ┆ -0.294203 │\n",
       "│ [0.001716, 0.05843, … 0.042781… ┆ -0.318516 │\n",
       "│ [0.026168, 0.026004, … 0.03922… ┆ -0.326472 │\n",
       "│ [0.116095, 0.082156, … 0.00431… ┆ -0.327466 │\n",
       "│ …                               ┆ …         │\n",
       "│ [0.02078, 0.026382, … 0.085134… ┆ -0.488695 │\n",
       "│ [0.083151, 0.081178, … 0.01473… ┆ -0.503246 │\n",
       "│ [0.098052, 0.08, … 0.076593]    ┆ -0.513322 │\n",
       "│ [0.014897, 0.073372, … 0.06631… ┆ -0.526704 │\n",
       "│ [0.014927, 0.09514, … 0.056951… ┆ -0.546443 │\n",
       "└─────────────────────────────────┴───────────┘"
      ]
     },
     "execution_count": 46,
     "metadata": {},
     "output_type": "execute_result"
    }
   ],
   "source": [
    "\n",
    "df = df.sort(\"Fitness\", descending=True)\n",
    "df"
   ]
  },
  {
   "cell_type": "code",
   "execution_count": null,
   "metadata": {},
   "outputs": [],
   "source": [
    "\n",
    "nextGen = df.head(int(NPOB*0.2)).clone()\n",
    "df = df[int(NPOB*0.2):]"
   ]
  },
  {
   "cell_type": "code",
   "execution_count": null,
   "metadata": {},
   "outputs": [
    {
     "data": {
      "text/plain": [
       "10"
      ]
     },
     "execution_count": 50,
     "metadata": {},
     "output_type": "execute_result"
    }
   ],
   "source": [
    "nextGen.shape[0]"
   ]
  },
  {
   "cell_type": "code",
   "execution_count": null,
   "metadata": {},
   "outputs": [
    {
     "data": {
      "text/html": [
       "<div><style>\n",
       ".dataframe > thead > tr,\n",
       ".dataframe > tbody > tr {\n",
       "  text-align: right;\n",
       "  white-space: pre-wrap;\n",
       "}\n",
       "</style>\n",
       "<small>shape: (10, 4)</small><table border=\"1\" class=\"dataframe\"><thead><tr><th>Cromosoma</th><th>Fitness</th><th>Probabilidad</th><th>Probabilidad Acumulada</th></tr><tr><td>list[f64]</td><td>f64</td><td>f64</td><td>f64</td></tr></thead><tbody><tr><td>[0.09458, 0.020957, … 0.03101]</td><td>-0.27811</td><td>0.085909</td><td>0.085909</td></tr><tr><td>[0.018613, 0.021503, … 0.028897]</td><td>-0.294203</td><td>0.09088</td><td>0.176788</td></tr><tr><td>[0.001716, 0.05843, … 0.042781]</td><td>-0.318516</td><td>0.09839</td><td>0.275179</td></tr><tr><td>[0.026168, 0.026004, … 0.039223]</td><td>-0.326472</td><td>0.100848</td><td>0.376026</td></tr><tr><td>[0.116095, 0.082156, … 0.004318]</td><td>-0.327466</td><td>0.101155</td><td>0.477181</td></tr><tr><td>[0.036935, 0.014301, … 0.108203]</td><td>-0.330024</td><td>0.101945</td><td>0.579126</td></tr><tr><td>[0.038148, 0.033375, … 0.06771]</td><td>-0.334398</td><td>0.103296</td><td>0.682422</td></tr><tr><td>[0.063408, 0.043719, … 0.06783]</td><td>-0.336587</td><td>0.103972</td><td>0.786394</td></tr><tr><td>[0.052458, 0.015917, … 0.062508]</td><td>-0.343324</td><td>0.106053</td><td>0.892447</td></tr><tr><td>[0.110026, 0.066776, … 0.039766]</td><td>-0.348178</td><td>0.107553</td><td>1.0</td></tr></tbody></table></div>"
      ],
      "text/plain": [
       "shape: (10, 4)\n",
       "┌─────────────────────────────────┬───────────┬──────────────┬────────────────────────┐\n",
       "│ Cromosoma                       ┆ Fitness   ┆ Probabilidad ┆ Probabilidad Acumulada │\n",
       "│ ---                             ┆ ---       ┆ ---          ┆ ---                    │\n",
       "│ list[f64]                       ┆ f64       ┆ f64          ┆ f64                    │\n",
       "╞═════════════════════════════════╪═══════════╪══════════════╪════════════════════════╡\n",
       "│ [0.09458, 0.020957, … 0.03101]  ┆ -0.27811  ┆ 0.085909     ┆ 0.085909               │\n",
       "│ [0.018613, 0.021503, … 0.02889… ┆ -0.294203 ┆ 0.09088      ┆ 0.176788               │\n",
       "│ [0.001716, 0.05843, … 0.042781… ┆ -0.318516 ┆ 0.09839      ┆ 0.275179               │\n",
       "│ [0.026168, 0.026004, … 0.03922… ┆ -0.326472 ┆ 0.100848     ┆ 0.376026               │\n",
       "│ [0.116095, 0.082156, … 0.00431… ┆ -0.327466 ┆ 0.101155     ┆ 0.477181               │\n",
       "│ [0.036935, 0.014301, … 0.10820… ┆ -0.330024 ┆ 0.101945     ┆ 0.579126               │\n",
       "│ [0.038148, 0.033375, … 0.06771… ┆ -0.334398 ┆ 0.103296     ┆ 0.682422               │\n",
       "│ [0.063408, 0.043719, … 0.06783… ┆ -0.336587 ┆ 0.103972     ┆ 0.786394               │\n",
       "│ [0.052458, 0.015917, … 0.06250… ┆ -0.343324 ┆ 0.106053     ┆ 0.892447               │\n",
       "│ [0.110026, 0.066776, … 0.03976… ┆ -0.348178 ┆ 0.107553     ┆ 1.0                    │\n",
       "└─────────────────────────────────┴───────────┴──────────────┴────────────────────────┘"
      ]
     },
     "execution_count": 54,
     "metadata": {},
     "output_type": "execute_result"
    }
   ],
   "source": [
    "probabilidadSeleccion = []\n",
    "for i in range(nextGen.shape[0]):\n",
    "    probabilidadSeleccion.append(nextGen[\"Fitness\"][i]/sum(nextGen[\"Fitness\"]))\n",
    "probabilidadAcumulada = []\n",
    "suma = 0\n",
    "for i in range(nextGen.shape[0]):\n",
    "    suma += probabilidadSeleccion[i]\n",
    "    probabilidadAcumulada.append(suma)\n",
    "\n",
    "nextGen = nextGen.with_columns([pl.Series(\"Probabilidad\", probabilidadSeleccion), pl.Series(\"Probabilidad Acumulada\", probabilidadAcumulada)])\n",
    "del probabilidadAcumulada, probabilidadSeleccion\n",
    "nextGen\n"
   ]
  },
  {
   "cell_type": "code",
   "execution_count": null,
   "metadata": {},
   "outputs": [
    {
     "data": {
      "text/html": [
       "<div><style>\n",
       ".dataframe > thead > tr,\n",
       ".dataframe > tbody > tr {\n",
       "  text-align: right;\n",
       "  white-space: pre-wrap;\n",
       "}\n",
       "</style>\n",
       "<small>shape: (40, 4)</small><table border=\"1\" class=\"dataframe\"><thead><tr><th>Cromosoma</th><th>Fitness</th><th>Probabilidad</th><th>Probabilidad Acumulada</th></tr><tr><td>list[f64]</td><td>f64</td><td>f64</td><td>f64</td></tr></thead><tbody><tr><td>[0.03904, 0.027528, … 0.069175]</td><td>-0.350515</td><td>0.020944</td><td>0.020944</td></tr><tr><td>[0.045759, 0.063238, … 0.054959]</td><td>-0.355177</td><td>0.021222</td><td>0.042166</td></tr><tr><td>[0.060126, 0.014341, … 0.009786]</td><td>-0.357687</td><td>0.021372</td><td>0.063538</td></tr><tr><td>[0.075813, 0.010266, … 0.05774]</td><td>-0.357709</td><td>0.021373</td><td>0.084911</td></tr><tr><td>[0.098735, 0.070963, … 0.038654]</td><td>-0.361351</td><td>0.021591</td><td>0.106502</td></tr><tr><td>&hellip;</td><td>&hellip;</td><td>&hellip;</td><td>&hellip;</td></tr><tr><td>[0.02078, 0.026382, … 0.085134]</td><td>-0.488695</td><td>0.0292</td><td>0.875138</td></tr><tr><td>[0.083151, 0.081178, … 0.014731]</td><td>-0.503246</td><td>0.030069</td><td>0.905207</td></tr><tr><td>[0.098052, 0.08, … 0.076593]</td><td>-0.513322</td><td>0.030671</td><td>0.935878</td></tr><tr><td>[0.014897, 0.073372, … 0.066311]</td><td>-0.526704</td><td>0.031471</td><td>0.96735</td></tr><tr><td>[0.014927, 0.09514, … 0.056951]</td><td>-0.546443</td><td>0.03265</td><td>1.0</td></tr></tbody></table></div>"
      ],
      "text/plain": [
       "shape: (40, 4)\n",
       "┌─────────────────────────────────┬───────────┬──────────────┬────────────────────────┐\n",
       "│ Cromosoma                       ┆ Fitness   ┆ Probabilidad ┆ Probabilidad Acumulada │\n",
       "│ ---                             ┆ ---       ┆ ---          ┆ ---                    │\n",
       "│ list[f64]                       ┆ f64       ┆ f64          ┆ f64                    │\n",
       "╞═════════════════════════════════╪═══════════╪══════════════╪════════════════════════╡\n",
       "│ [0.03904, 0.027528, … 0.069175… ┆ -0.350515 ┆ 0.020944     ┆ 0.020944               │\n",
       "│ [0.045759, 0.063238, … 0.05495… ┆ -0.355177 ┆ 0.021222     ┆ 0.042166               │\n",
       "│ [0.060126, 0.014341, … 0.00978… ┆ -0.357687 ┆ 0.021372     ┆ 0.063538               │\n",
       "│ [0.075813, 0.010266, … 0.05774… ┆ -0.357709 ┆ 0.021373     ┆ 0.084911               │\n",
       "│ [0.098735, 0.070963, … 0.03865… ┆ -0.361351 ┆ 0.021591     ┆ 0.106502               │\n",
       "│ …                               ┆ …         ┆ …            ┆ …                      │\n",
       "│ [0.02078, 0.026382, … 0.085134… ┆ -0.488695 ┆ 0.0292       ┆ 0.875138               │\n",
       "│ [0.083151, 0.081178, … 0.01473… ┆ -0.503246 ┆ 0.030069     ┆ 0.905207               │\n",
       "│ [0.098052, 0.08, … 0.076593]    ┆ -0.513322 ┆ 0.030671     ┆ 0.935878               │\n",
       "│ [0.014897, 0.073372, … 0.06631… ┆ -0.526704 ┆ 0.031471     ┆ 0.96735                │\n",
       "│ [0.014927, 0.09514, … 0.056951… ┆ -0.546443 ┆ 0.03265      ┆ 1.0                    │\n",
       "└─────────────────────────────────┴───────────┴──────────────┴────────────────────────┘"
      ]
     },
     "execution_count": 56,
     "metadata": {},
     "output_type": "execute_result"
    }
   ],
   "source": [
    "probabilidadSeleccion = []\n",
    "for i in range(df.shape[0]):\n",
    "    probabilidadSeleccion.append(df[\"Fitness\"][i]/sum(df[\"Fitness\"]))\n",
    "probabilidadAcumulada = []\n",
    "suma = 0\n",
    "for i in range(df.shape[0]):\n",
    "    suma += probabilidadSeleccion[i]\n",
    "    probabilidadAcumulada.append(suma)\n",
    "\n",
    "df = df.with_columns([pl.Series(\"Probabilidad\", probabilidadSeleccion), pl.Series(\"Probabilidad Acumulada\", probabilidadAcumulada)])\n",
    "del probabilidadAcumulada, probabilidadSeleccion\n",
    "df\n"
   ]
  },
  {
   "cell_type": "code",
   "execution_count": 20,
   "metadata": {},
   "outputs": [
    {
     "data": {
      "text/plain": [
       "5"
      ]
     },
     "execution_count": 20,
     "metadata": {},
     "output_type": "execute_result"
    }
   ],
   "source": [
    "mitad = int(NPOB/2)\n",
    "mitad"
   ]
  },
  {
   "cell_type": "code",
   "execution_count": null,
   "metadata": {},
   "outputs": [
    {
     "ename": "ColumnNotFoundError",
     "evalue": "Probabilidad Acumulada",
     "output_type": "error",
     "traceback": [
      "\u001b[0;31m---------------------------------------------------------------------------\u001b[0m",
      "\u001b[0;31mColumnNotFoundError\u001b[0m                       Traceback (most recent call last)",
      "\u001b[0;32m/tmp/ipykernel_103829/1003076062.py\u001b[0m in \u001b[0;36m?\u001b[0;34m()\u001b[0m\n\u001b[1;32m      6\u001b[0m     \u001b[0mcromosoma1\u001b[0m \u001b[0;34m=\u001b[0m \u001b[0;32mNone\u001b[0m\u001b[0;34m\u001b[0m\u001b[0;34m\u001b[0m\u001b[0m\n\u001b[1;32m      7\u001b[0m     \u001b[0mcromosoma2\u001b[0m \u001b[0;34m=\u001b[0m \u001b[0;32mNone\u001b[0m\u001b[0;34m\u001b[0m\u001b[0;34m\u001b[0m\u001b[0m\n\u001b[1;32m      8\u001b[0m     \u001b[0mr\u001b[0m \u001b[0;34m=\u001b[0m \u001b[0mnp\u001b[0m\u001b[0;34m.\u001b[0m\u001b[0mrandom\u001b[0m\u001b[0;34m.\u001b[0m\u001b[0mrandom\u001b[0m\u001b[0;34m(\u001b[0m\u001b[0;34m)\u001b[0m\u001b[0;34m\u001b[0m\u001b[0;34m\u001b[0m\u001b[0m\n\u001b[1;32m      9\u001b[0m     \u001b[0;32mfor\u001b[0m \u001b[0mi\u001b[0m \u001b[0;32min\u001b[0m \u001b[0mrange\u001b[0m\u001b[0;34m(\u001b[0m\u001b[0mnextGen\u001b[0m\u001b[0;34m.\u001b[0m\u001b[0mshape\u001b[0m\u001b[0;34m[\u001b[0m\u001b[0;36m0\u001b[0m\u001b[0;34m]\u001b[0m\u001b[0;34m)\u001b[0m\u001b[0;34m:\u001b[0m\u001b[0;34m\u001b[0m\u001b[0;34m\u001b[0m\u001b[0m\n\u001b[0;32m---> 10\u001b[0;31m         \u001b[0;32mif\u001b[0m \u001b[0mr\u001b[0m \u001b[0;34m<\u001b[0m \u001b[0mnextGen\u001b[0m\u001b[0;34m[\u001b[0m\u001b[0;34m\"Probabilidad Acumulada\"\u001b[0m\u001b[0;34m]\u001b[0m\u001b[0;34m[\u001b[0m\u001b[0mi\u001b[0m\u001b[0;34m]\u001b[0m\u001b[0;34m:\u001b[0m\u001b[0;34m\u001b[0m\u001b[0;34m\u001b[0m\u001b[0m\n\u001b[0m\u001b[1;32m     11\u001b[0m             \u001b[0mcromosoma1\u001b[0m \u001b[0;34m=\u001b[0m \u001b[0mnextGen\u001b[0m\u001b[0;34m[\u001b[0m\u001b[0;34m\"Cromosoma\"\u001b[0m\u001b[0;34m]\u001b[0m\u001b[0;34m[\u001b[0m\u001b[0mi\u001b[0m\u001b[0;34m]\u001b[0m\u001b[0;34m\u001b[0m\u001b[0;34m\u001b[0m\u001b[0m\n\u001b[1;32m     12\u001b[0m             \u001b[0;32mbreak\u001b[0m\u001b[0;34m\u001b[0m\u001b[0;34m\u001b[0m\u001b[0m\n\u001b[1;32m     13\u001b[0m     \u001b[0mr\u001b[0m \u001b[0;34m=\u001b[0m \u001b[0mnp\u001b[0m\u001b[0;34m.\u001b[0m\u001b[0mrandom\u001b[0m\u001b[0;34m.\u001b[0m\u001b[0mrandom\u001b[0m\u001b[0;34m(\u001b[0m\u001b[0;34m)\u001b[0m\u001b[0;34m\u001b[0m\u001b[0;34m\u001b[0m\u001b[0m\n",
      "\u001b[0;32m~/Trabajos/IA2/lib/python3.11/site-packages/polars/dataframe/frame.py\u001b[0m in \u001b[0;36m?\u001b[0;34m(self, item)\u001b[0m\n\u001b[1;32m   1129\u001b[0m \u001b[0;34m\u001b[0m\u001b[0m\n\u001b[1;32m   1130\u001b[0m         \u001b[0;31m# select single column\u001b[0m\u001b[0;34m\u001b[0m\u001b[0;34m\u001b[0m\u001b[0m\n\u001b[1;32m   1131\u001b[0m         \u001b[0;31m# df[\"foo\"]\u001b[0m\u001b[0;34m\u001b[0m\u001b[0;34m\u001b[0m\u001b[0m\n\u001b[1;32m   1132\u001b[0m         \u001b[0;32mif\u001b[0m \u001b[0misinstance\u001b[0m\u001b[0;34m(\u001b[0m\u001b[0mitem\u001b[0m\u001b[0;34m,\u001b[0m \u001b[0mstr\u001b[0m\u001b[0;34m)\u001b[0m\u001b[0;34m:\u001b[0m\u001b[0;34m\u001b[0m\u001b[0;34m\u001b[0m\u001b[0m\n\u001b[0;32m-> 1133\u001b[0;31m             \u001b[0;32mreturn\u001b[0m \u001b[0mself\u001b[0m\u001b[0;34m.\u001b[0m\u001b[0mget_column\u001b[0m\u001b[0;34m(\u001b[0m\u001b[0mitem\u001b[0m\u001b[0;34m)\u001b[0m\u001b[0;34m\u001b[0m\u001b[0;34m\u001b[0m\u001b[0m\n\u001b[0m\u001b[1;32m   1134\u001b[0m \u001b[0;34m\u001b[0m\u001b[0m\n\u001b[1;32m   1135\u001b[0m         \u001b[0;31m# df[idx]\u001b[0m\u001b[0;34m\u001b[0m\u001b[0;34m\u001b[0m\u001b[0m\n\u001b[1;32m   1136\u001b[0m         \u001b[0;32mif\u001b[0m \u001b[0misinstance\u001b[0m\u001b[0;34m(\u001b[0m\u001b[0mitem\u001b[0m\u001b[0;34m,\u001b[0m \u001b[0mint\u001b[0m\u001b[0;34m)\u001b[0m\u001b[0;34m:\u001b[0m\u001b[0;34m\u001b[0m\u001b[0;34m\u001b[0m\u001b[0m\n",
      "\u001b[0;32m~/Trabajos/IA2/lib/python3.11/site-packages/polars/dataframe/frame.py\u001b[0m in \u001b[0;36m?\u001b[0;34m(self, name)\u001b[0m\n\u001b[1;32m   6799\u001b[0m                 \u001b[0;36m2\u001b[0m\u001b[0;34m\u001b[0m\u001b[0;34m\u001b[0m\u001b[0m\n\u001b[1;32m   6800\u001b[0m                 \u001b[0;36m3\u001b[0m\u001b[0;34m\u001b[0m\u001b[0;34m\u001b[0m\u001b[0m\n\u001b[1;32m   6801\u001b[0m         ]\n\u001b[1;32m   6802\u001b[0m         \"\"\"\n\u001b[0;32m-> 6803\u001b[0;31m         \u001b[0;32mreturn\u001b[0m \u001b[0mwrap_s\u001b[0m\u001b[0;34m(\u001b[0m\u001b[0mself\u001b[0m\u001b[0;34m.\u001b[0m\u001b[0m_df\u001b[0m\u001b[0;34m.\u001b[0m\u001b[0mget_column\u001b[0m\u001b[0;34m(\u001b[0m\u001b[0mname\u001b[0m\u001b[0;34m)\u001b[0m\u001b[0;34m)\u001b[0m\u001b[0;34m\u001b[0m\u001b[0;34m\u001b[0m\u001b[0m\n\u001b[0m",
      "\u001b[0;31mColumnNotFoundError\u001b[0m: Probabilidad Acumulada"
     ]
    }
   ],
   "source": [
    "futuro50cromosomas = []\n",
    "futuro50fitness = []\n",
    "\n",
    "while len(futuro50cromosomas) < mitad:\n",
    "    # seleccionar 2 cromosomas de nextGen aplicando el metodo de la ruleta sobre la probabilidad acumulada\n",
    "    cromosoma1 = None\n",
    "    cromosoma2 = None\n",
    "    r = np.random.random()\n",
    "    for i in range(nextGen.shape[0]):\n",
    "        if r < nextGen[\"Probabilidad Acumulada\"][i]:\n",
    "            cromosoma1 = nextGen[\"Cromosoma\"][i]\n",
    "            break\n",
    "    r = np.random.random()\n",
    "    for i in range(nextGen.shape[0]):\n",
    "        if r < nextGen[\"Probabilidad Acumulada\"][i]:\n",
    "            cromosoma2 = nextGen[\"Cromosoma\"][i]\n",
    "            break\n",
    "\n",
    "    cromosoma1, cromosoma2\n",
    "\n",
    "    # aplicar entrecruzamiento\n",
    "    cromosoma1, cromosoma2 = entrecruzamiento(cromosoma1, cromosoma2)\n",
    "\n",
    "    cromosoma1 = mutacion(cromosoma1)\n",
    "    cromosoma2 = mutacion(cromosoma2)\n",
    "    finess1 = ratioSharpe(cromosoma1)\n",
    "    finess2 = ratioSharpe(cromosoma2)\n",
    "    futuro50cromosomas.append(cromosoma1)\n",
    "    futuro50cromosomas.append(cromosoma2)\n",
    "    futuro50fitness.append(finess1)\n",
    "    futuro50fitness.append(finess2)\n",
    "    del cromosoma1, cromosoma2, finess1, finess2\n"
   ]
  },
  {
   "cell_type": "code",
   "execution_count": null,
   "metadata": {},
   "outputs": [
    {
     "data": {
      "text/plain": [
       "26"
      ]
     },
     "execution_count": 93,
     "metadata": {},
     "output_type": "execute_result"
    }
   ],
   "source": [
    "len(futuro50cromosomas)"
   ]
  },
  {
   "cell_type": "code",
   "execution_count": null,
   "metadata": {},
   "outputs": [],
   "source": [
    "unTercio = int(NPOB/3)\n"
   ]
  },
  {
   "cell_type": "code",
   "execution_count": null,
   "metadata": {},
   "outputs": [
    {
     "name": "stderr",
     "output_type": "stream",
     "text": [
      "/tmp/ipykernel_103829/1038542018.py:4: FutureWarning: Series.__getitem__ treating keys as positions is deprecated. In a future version, integer keys will always be treated as labels (consistent with DataFrame behavior). To access a value by position, use `ser.iloc[pos]`\n",
      "  resultado += np.square(data.iloc[i][m+1] - ri(data.iloc[i][\"Empresa\"]))\n"
     ]
    }
   ],
   "source": [
    "\n",
    "for _ in range(int(unTercio/2)):\n",
    "    # seleccionar 2 cromosomas de nextGen aplicando el metodo de la ruleta sobre la probabilidad acumulada\n",
    "    cromosoma1 = None\n",
    "    cromosoma2 = None\n",
    "    r = np.random.random()\n",
    "    for i in range(df.shape[0]):\n",
    "        if r < df[\"Probabilidad Acumulada\"][i]:\n",
    "            cromosoma1 = df[\"Cromosoma\"][i]\n",
    "            break\n",
    "    r = np.random.random()\n",
    "    for i in range(df.shape[0]):\n",
    "        if r < df[\"Probabilidad Acumulada\"][i]:\n",
    "            cromosoma2 = df[\"Cromosoma\"][i]\n",
    "            break\n",
    "\n",
    "    cromosoma1, cromosoma2\n",
    "\n",
    "    # aplicar entrecruzamiento\n",
    "    cromosoma1, cromosoma2 = entrecruzamiento(cromosoma1, cromosoma2)\n",
    "\n",
    "    cromosoma1 = mutacion(cromosoma1)\n",
    "    cromosoma2 = mutacion(cromosoma2)\n",
    "    finess1 = ratioSharpe(cromosoma1)\n",
    "    finess2 = ratioSharpe(cromosoma2)\n",
    "    futuro50cromosomas.append(cromosoma1)\n",
    "    futuro50cromosomas.append(cromosoma2)\n",
    "    futuro50fitness.append(finess1)\n",
    "    futuro50fitness.append(finess2)\n",
    "    del cromosoma1, cromosoma2, finess1, finess2"
   ]
  },
  {
   "cell_type": "code",
   "execution_count": null,
   "metadata": {},
   "outputs": [],
   "source": [
    "# drop the columns of the probabilities\n",
    "nextGen = nextGen.drop([\"Probabilidad\", \"Probabilidad Acumulada\"])"
   ]
  },
  {
   "cell_type": "code",
   "execution_count": null,
   "metadata": {},
   "outputs": [],
   "source": [
    "temp = pl.DataFrame({\"Cromosoma\": futuro50cromosomas, \"Fitness\": futuro50fitness})\n",
    "nextGen.extend(temp)\n",
    "del temp"
   ]
  },
  {
   "cell_type": "code",
   "execution_count": null,
   "metadata": {},
   "outputs": [
    {
     "data": {
      "text/html": [
       "<div><style>\n",
       ".dataframe > thead > tr,\n",
       ".dataframe > tbody > tr {\n",
       "  text-align: right;\n",
       "  white-space: pre-wrap;\n",
       "}\n",
       "</style>\n",
       "<small>shape: (52, 2)</small><table border=\"1\" class=\"dataframe\"><thead><tr><th>Cromosoma</th><th>Fitness</th></tr><tr><td>list[f64]</td><td>f64</td></tr></thead><tbody><tr><td>[0.09458, 0.020957, … 0.03101]</td><td>-0.27811</td></tr><tr><td>[0.018613, 0.021503, … 0.028897]</td><td>-0.294203</td></tr><tr><td>[0.001716, 0.05843, … 0.042781]</td><td>-0.318516</td></tr><tr><td>[0.026168, 0.026004, … 0.039223]</td><td>-0.326472</td></tr><tr><td>[0.116095, 0.082156, … 0.004318]</td><td>-0.327466</td></tr><tr><td>&hellip;</td><td>&hellip;</td></tr><tr><td>[0.007754, 0.001556, … 0.027806]</td><td>-0.397998</td></tr><tr><td>[0.005039, 0.034806, … 0.0236]</td><td>-0.6994</td></tr><tr><td>[0.038241, 0.038188, … 0.029648]</td><td>-0.575135</td></tr><tr><td>[0.166301, 0.002593, … 0.00541]</td><td>-0.493917</td></tr><tr><td>[0.004847, 0.014855, … 0.084766]</td><td>-0.434419</td></tr></tbody></table></div>"
      ],
      "text/plain": [
       "shape: (52, 2)\n",
       "┌─────────────────────────────────┬───────────┐\n",
       "│ Cromosoma                       ┆ Fitness   │\n",
       "│ ---                             ┆ ---       │\n",
       "│ list[f64]                       ┆ f64       │\n",
       "╞═════════════════════════════════╪═══════════╡\n",
       "│ [0.09458, 0.020957, … 0.03101]  ┆ -0.27811  │\n",
       "│ [0.018613, 0.021503, … 0.02889… ┆ -0.294203 │\n",
       "│ [0.001716, 0.05843, … 0.042781… ┆ -0.318516 │\n",
       "│ [0.026168, 0.026004, … 0.03922… ┆ -0.326472 │\n",
       "│ [0.116095, 0.082156, … 0.00431… ┆ -0.327466 │\n",
       "│ …                               ┆ …         │\n",
       "│ [0.007754, 0.001556, … 0.02780… ┆ -0.397998 │\n",
       "│ [0.005039, 0.034806, … 0.0236]  ┆ -0.6994   │\n",
       "│ [0.038241, 0.038188, … 0.02964… ┆ -0.575135 │\n",
       "│ [0.166301, 0.002593, … 0.00541… ┆ -0.493917 │\n",
       "│ [0.004847, 0.014855, … 0.08476… ┆ -0.434419 │\n",
       "└─────────────────────────────────┴───────────┘"
      ]
     },
     "execution_count": 107,
     "metadata": {},
     "output_type": "execute_result"
    }
   ],
   "source": [
    "nextGen"
   ]
  },
  {
   "cell_type": "code",
   "execution_count": 21,
   "metadata": {},
   "outputs": [],
   "source": [
    "def consensus_chromosome(df):\n",
    "  \"\"\"\n",
    "  Calculates the consensus chromosome by averaging values at each gene position.\n",
    "\n",
    "  Args:\n",
    "      df (pandas.DataFrame): DataFrame containing chromosomes\n",
    "\n",
    "  Returns:\n",
    "      list: The consensus chromosome\n",
    "  \"\"\"\n",
    "  consensus = []\n",
    "  for col in df.columns:\n",
    "    if col != \"Fitness\":  # Exclude the fitness column\n",
    "      consensus.append(df[col].mean())\n",
    "  return consensus\n"
   ]
  },
  {
   "cell_type": "code",
   "execution_count": 32,
   "metadata": {},
   "outputs": [
    {
     "name": "stdout",
     "output_type": "stream",
     "text": [
      "Comenzando algoritmo genético con los parametros:\n",
      "NPOB: 10\n",
      "NGEN: 100\n",
      "Pc: 0.8\n",
      "Pm: 0.1\n",
      "C: 0.4\n"
     ]
    },
    {
     "name": "stderr",
     "output_type": "stream",
     "text": [
      "/tmp/ipykernel_31238/1038542018.py:4: FutureWarning: Series.__getitem__ treating keys as positions is deprecated. In a future version, integer keys will always be treated as labels (consistent with DataFrame behavior). To access a value by position, use `ser.iloc[pos]`\n",
      "  resultado += np.square(data.iloc[i][m+1] - ri(data.iloc[i][\"Empresa\"]))\n"
     ]
    },
    {
     "name": "stdout",
     "output_type": "stream",
     "text": [
      "Generacion 0 completada\n",
      "Mejor cromosoma: -0.34576238671022813  BESTPorcentaje: 82.49415450431708\n",
      "Cromosoma consenso: None\n",
      "\n",
      "Generacion 0 completada\n",
      "Mejor cromosoma: -0.34576238671022813  en BESTPorcentaje: 82.49415450431708\n",
      "Cromosoma consenso: None\n",
      "Muestreo del 20% de la población\n",
      "shape: (2, 2)\n",
      "┌─────────────────────────────────┬───────────┐\n",
      "│ Cromosoma                       ┆ Fitness   │\n",
      "│ ---                             ┆ ---       │\n",
      "│ list[f64]                       ┆ f64       │\n",
      "╞═════════════════════════════════╪═══════════╡\n",
      "│ [0.068091, 0.04442, … 0.081419… ┆ -0.345762 │\n",
      "│ [0.011187, 0.068856, … 0.07213… ┆ -0.391053 │\n",
      "└─────────────────────────────────┴───────────┘\n",
      "Generacion 1 completada\n",
      "Mejor cromosoma: -0.34576238671022813  BESTPorcentaje: 89.42536827027044\n",
      "Cromosoma consenso: None\n",
      "\n",
      "Generacion 1 completada\n",
      "Mejor cromosoma: -0.34576238671022813  en BESTPorcentaje: 89.42536827027044\n",
      "Cromosoma consenso: None\n",
      "Muestreo del 20% de la población\n",
      "shape: (2, 2)\n",
      "┌─────────────────────────────────┬───────────┐\n",
      "│ Cromosoma                       ┆ Fitness   │\n",
      "│ ---                             ┆ ---       │\n",
      "│ list[f64]                       ┆ f64       │\n",
      "╞═════════════════════════════════╪═══════════╡\n",
      "│ [0.068091, 0.04442, … 0.081419… ┆ -0.345762 │\n",
      "│ [0.0102, 0.062779, … 0.065766]  ┆ -0.347047 │\n",
      "└─────────────────────────────────┴───────────┘\n",
      "Generacion 2 completada\n",
      "Mejor cromosoma: -0.32680337554913486  BESTPorcentaje: 87.78686673589566\n",
      "Cromosoma consenso: None\n",
      "\n",
      "Generacion 2 completada\n",
      "Mejor cromosoma: -0.32680337554913486  en BESTPorcentaje: 87.78686673589566\n",
      "Cromosoma consenso: None\n",
      "Muestreo del 20% de la población\n",
      "shape: (2, 2)\n",
      "┌─────────────────────────────────┬───────────┐\n",
      "│ Cromosoma                       ┆ Fitness   │\n",
      "│ ---                             ┆ ---       │\n",
      "│ list[f64]                       ┆ f64       │\n",
      "╞═════════════════════════════════╪═══════════╡\n",
      "│ [0.009063, 0.055783, … 0.07234… ┆ -0.326803 │\n",
      "│ [0.0, 0.045784, … 0.083919]     ┆ -0.331162 │\n",
      "└─────────────────────────────────┴───────────┘\n",
      "Generacion 3 completada\n",
      "Mejor cromosoma: -0.3094752036448481  BESTPorcentaje: 90.63863165032667\n",
      "Cromosoma consenso: None\n",
      "\n",
      "Generacion 3 completada\n",
      "Mejor cromosoma: -0.3094752036448481  en BESTPorcentaje: 90.63863165032667\n",
      "Cromosoma consenso: None\n",
      "Muestreo del 20% de la población\n",
      "shape: (2, 2)\n",
      "┌─────────────────────────────────┬───────────┐\n",
      "│ Cromosoma                       ┆ Fitness   │\n",
      "│ ---                             ┆ ---       │\n",
      "│ list[f64]                       ┆ f64       │\n",
      "╞═════════════════════════════════╪═══════════╡\n",
      "│ [0.0, 0.033497, … 0.061398]     ┆ -0.309475 │\n",
      "│ [0.009063, 0.055783, … 0.07234… ┆ -0.326803 │\n",
      "└─────────────────────────────────┴───────────┘\n",
      "Generacion 4 completada\n",
      "Mejor cromosoma: -0.2864687153157504  BESTPorcentaje: 85.65384760119741\n",
      "Cromosoma consenso: None\n",
      "\n",
      "Generacion 4 completada\n",
      "Mejor cromosoma: -0.2864687153157504  en BESTPorcentaje: 85.65384760119741\n",
      "Cromosoma consenso: None\n",
      "Muestreo del 20% de la población\n",
      "shape: (2, 2)\n",
      "┌─────────────────────────────┬───────────┐\n",
      "│ Cromosoma                   ┆ Fitness   │\n",
      "│ ---                         ┆ ---       │\n",
      "│ list[f64]                   ┆ f64       │\n",
      "╞═════════════════════════════╪═══════════╡\n",
      "│ [0.093463, 0.033879, … 0.0] ┆ -0.286469 │\n",
      "│ [0.0, 0.033497, … 0.061398] ┆ -0.309475 │\n",
      "└─────────────────────────────┴───────────┘\n",
      "Generacion 5 completada\n",
      "Mejor cromosoma: -0.24851788191113858  BESTPorcentaje: 76.31412664770319\n",
      "Cromosoma consenso: None\n",
      "\n",
      "Generacion 5 completada\n",
      "Mejor cromosoma: -0.24851788191113858  en BESTPorcentaje: 76.31412664770319\n",
      "Cromosoma consenso: None\n",
      "Muestreo del 20% de la población\n",
      "shape: (2, 2)\n",
      "┌─────────────────────────────────┬───────────┐\n",
      "│ Cromosoma                       ┆ Fitness   │\n",
      "│ ---                             ┆ ---       │\n",
      "│ list[f64]                       ┆ f64       │\n",
      "╞═════════════════════════════════╪═══════════╡\n",
      "│ [0.093525, 0.033902, … 0.06143… ┆ -0.248518 │\n",
      "│ [0.069242, 0.033877, … 0.0]     ┆ -0.271431 │\n",
      "└─────────────────────────────────┴───────────┘\n",
      "Generacion 6 completada\n",
      "Mejor cromosoma: -0.18713686955810524  BESTPorcentaje: 62.536117624558806\n",
      "Cromosoma consenso: None\n",
      "\n",
      "Generacion 6 completada\n",
      "Mejor cromosoma: -0.18713686955810524  en BESTPorcentaje: 62.536117624558806\n",
      "Cromosoma consenso: None\n",
      "Muestreo del 20% de la población\n",
      "shape: (2, 2)\n",
      "┌─────────────────────────────────┬───────────┐\n",
      "│ Cromosoma                       ┆ Fitness   │\n",
      "│ ---                             ┆ ---       │\n",
      "│ list[f64]                       ┆ f64       │\n",
      "╞═════════════════════════════════╪═══════════╡\n",
      "│ [0.081607, 0.011487, … 0.0]     ┆ -0.187137 │\n",
      "│ [0.093525, 0.033902, … 0.06143… ┆ -0.248518 │\n",
      "└─────────────────────────────────┴───────────┘\n"
     ]
    },
    {
     "ename": "AttributeError",
     "evalue": "'numpy.ndarray' object has no attribute '_s'",
     "output_type": "error",
     "traceback": [
      "\u001b[0;31m---------------------------------------------------------------------------\u001b[0m",
      "\u001b[0;31mAttributeError\u001b[0m                            Traceback (most recent call last)",
      "Cell \u001b[0;32mIn[32], line 121\u001b[0m\n\u001b[1;32m    118\u001b[0m \u001b[38;5;66;03m# drop the columns of the probabilities\u001b[39;00m\n\u001b[1;32m    119\u001b[0m nextGen \u001b[38;5;241m=\u001b[39m nextGen\u001b[38;5;241m.\u001b[39mdrop([\u001b[38;5;124m\"\u001b[39m\u001b[38;5;124mProbabilidad\u001b[39m\u001b[38;5;124m\"\u001b[39m, \u001b[38;5;124m\"\u001b[39m\u001b[38;5;124mProbabilidad Acumulada\u001b[39m\u001b[38;5;124m\"\u001b[39m])\n\u001b[0;32m--> 121\u001b[0m temp \u001b[38;5;241m=\u001b[39m \u001b[43mpl\u001b[49m\u001b[38;5;241;43m.\u001b[39;49m\u001b[43mDataFrame\u001b[49m\u001b[43m(\u001b[49m\u001b[43m{\u001b[49m\u001b[38;5;124;43m\"\u001b[39;49m\u001b[38;5;124;43mCromosoma\u001b[39;49m\u001b[38;5;124;43m\"\u001b[39;49m\u001b[43m:\u001b[49m\u001b[43m \u001b[49m\u001b[43mfuturo50cromosomas\u001b[49m\u001b[43m,\u001b[49m\u001b[43m \u001b[49m\u001b[38;5;124;43m\"\u001b[39;49m\u001b[38;5;124;43mFitness\u001b[39;49m\u001b[38;5;124;43m\"\u001b[39;49m\u001b[43m:\u001b[49m\u001b[43m \u001b[49m\u001b[43mfuturo50fitness\u001b[49m\u001b[43m}\u001b[49m\u001b[43m)\u001b[49m\n\u001b[1;32m    122\u001b[0m nextGen\u001b[38;5;241m.\u001b[39mextend(temp)\n\u001b[1;32m    123\u001b[0m \u001b[38;5;28;01mdel\u001b[39;00m temp\n",
      "File \u001b[0;32m~/Trabajos/IA2/lib/python3.11/site-packages/polars/dataframe/frame.py:367\u001b[0m, in \u001b[0;36mDataFrame.__init__\u001b[0;34m(self, data, schema, schema_overrides, strict, orient, infer_schema_length, nan_to_null)\u001b[0m\n\u001b[1;32m    362\u001b[0m     \u001b[38;5;28mself\u001b[39m\u001b[38;5;241m.\u001b[39m_df \u001b[38;5;241m=\u001b[39m dict_to_pydf(\n\u001b[1;32m    363\u001b[0m         {}, schema\u001b[38;5;241m=\u001b[39mschema, schema_overrides\u001b[38;5;241m=\u001b[39mschema_overrides\n\u001b[1;32m    364\u001b[0m     )\n\u001b[1;32m    366\u001b[0m \u001b[38;5;28;01melif\u001b[39;00m \u001b[38;5;28misinstance\u001b[39m(data, \u001b[38;5;28mdict\u001b[39m):\n\u001b[0;32m--> 367\u001b[0m     \u001b[38;5;28mself\u001b[39m\u001b[38;5;241m.\u001b[39m_df \u001b[38;5;241m=\u001b[39m \u001b[43mdict_to_pydf\u001b[49m\u001b[43m(\u001b[49m\n\u001b[1;32m    368\u001b[0m \u001b[43m        \u001b[49m\u001b[43mdata\u001b[49m\u001b[43m,\u001b[49m\n\u001b[1;32m    369\u001b[0m \u001b[43m        \u001b[49m\u001b[43mschema\u001b[49m\u001b[38;5;241;43m=\u001b[39;49m\u001b[43mschema\u001b[49m\u001b[43m,\u001b[49m\n\u001b[1;32m    370\u001b[0m \u001b[43m        \u001b[49m\u001b[43mschema_overrides\u001b[49m\u001b[38;5;241;43m=\u001b[39;49m\u001b[43mschema_overrides\u001b[49m\u001b[43m,\u001b[49m\n\u001b[1;32m    371\u001b[0m \u001b[43m        \u001b[49m\u001b[43mstrict\u001b[49m\u001b[38;5;241;43m=\u001b[39;49m\u001b[43mstrict\u001b[49m\u001b[43m,\u001b[49m\n\u001b[1;32m    372\u001b[0m \u001b[43m        \u001b[49m\u001b[43mnan_to_null\u001b[49m\u001b[38;5;241;43m=\u001b[39;49m\u001b[43mnan_to_null\u001b[49m\u001b[43m,\u001b[49m\n\u001b[1;32m    373\u001b[0m \u001b[43m    \u001b[49m\u001b[43m)\u001b[49m\n\u001b[1;32m    375\u001b[0m \u001b[38;5;28;01melif\u001b[39;00m \u001b[38;5;28misinstance\u001b[39m(data, (\u001b[38;5;28mlist\u001b[39m, \u001b[38;5;28mtuple\u001b[39m, Sequence)):\n\u001b[1;32m    376\u001b[0m     \u001b[38;5;28mself\u001b[39m\u001b[38;5;241m.\u001b[39m_df \u001b[38;5;241m=\u001b[39m sequence_to_pydf(\n\u001b[1;32m    377\u001b[0m         data,\n\u001b[1;32m    378\u001b[0m         schema\u001b[38;5;241m=\u001b[39mschema,\n\u001b[0;32m   (...)\u001b[0m\n\u001b[1;32m    382\u001b[0m         infer_schema_length\u001b[38;5;241m=\u001b[39minfer_schema_length,\n\u001b[1;32m    383\u001b[0m     )\n",
      "File \u001b[0;32m~/Trabajos/IA2/lib/python3.11/site-packages/polars/_utils/construction/dataframe.py:139\u001b[0m, in \u001b[0;36mdict_to_pydf\u001b[0;34m(data, schema, schema_overrides, strict, nan_to_null)\u001b[0m\n\u001b[1;32m    126\u001b[0m     data_series \u001b[38;5;241m=\u001b[39m [\n\u001b[1;32m    127\u001b[0m         pl\u001b[38;5;241m.\u001b[39mSeries(\n\u001b[1;32m    128\u001b[0m             name,\n\u001b[0;32m   (...)\u001b[0m\n\u001b[1;32m    134\u001b[0m         \u001b[38;5;28;01mfor\u001b[39;00m name \u001b[38;5;129;01min\u001b[39;00m column_names\n\u001b[1;32m    135\u001b[0m     ]\n\u001b[1;32m    136\u001b[0m \u001b[38;5;28;01melse\u001b[39;00m:\n\u001b[1;32m    137\u001b[0m     data_series \u001b[38;5;241m=\u001b[39m [\n\u001b[1;32m    138\u001b[0m         s\u001b[38;5;241m.\u001b[39m_s\n\u001b[0;32m--> 139\u001b[0m         \u001b[38;5;28;01mfor\u001b[39;00m s \u001b[38;5;129;01min\u001b[39;00m \u001b[43m_expand_dict_values\u001b[49m\u001b[43m(\u001b[49m\n\u001b[1;32m    140\u001b[0m \u001b[43m            \u001b[49m\u001b[43mdata\u001b[49m\u001b[43m,\u001b[49m\n\u001b[1;32m    141\u001b[0m \u001b[43m            \u001b[49m\u001b[43mschema_overrides\u001b[49m\u001b[38;5;241;43m=\u001b[39;49m\u001b[43mschema_overrides\u001b[49m\u001b[43m,\u001b[49m\n\u001b[1;32m    142\u001b[0m \u001b[43m            \u001b[49m\u001b[43mstrict\u001b[49m\u001b[38;5;241;43m=\u001b[39;49m\u001b[43mstrict\u001b[49m\u001b[43m,\u001b[49m\n\u001b[1;32m    143\u001b[0m \u001b[43m            \u001b[49m\u001b[43mnan_to_null\u001b[49m\u001b[38;5;241;43m=\u001b[39;49m\u001b[43mnan_to_null\u001b[49m\u001b[43m,\u001b[49m\n\u001b[1;32m    144\u001b[0m \u001b[43m        \u001b[49m\u001b[43m)\u001b[49m\u001b[38;5;241m.\u001b[39mvalues()\n\u001b[1;32m    145\u001b[0m     ]\n\u001b[1;32m    147\u001b[0m data_series \u001b[38;5;241m=\u001b[39m _handle_columns_arg(data_series, columns\u001b[38;5;241m=\u001b[39mcolumn_names, from_dict\u001b[38;5;241m=\u001b[39m\u001b[38;5;28;01mTrue\u001b[39;00m)\n\u001b[1;32m    148\u001b[0m pydf \u001b[38;5;241m=\u001b[39m PyDataFrame(data_series)\n",
      "File \u001b[0;32m~/Trabajos/IA2/lib/python3.11/site-packages/polars/_utils/construction/dataframe.py:364\u001b[0m, in \u001b[0;36m_expand_dict_values\u001b[0;34m(data, schema_overrides, strict, order, nan_to_null)\u001b[0m\n\u001b[1;32m    361\u001b[0m     updated_data[name] \u001b[38;5;241m=\u001b[39m s\n\u001b[1;32m    363\u001b[0m \u001b[38;5;28;01melif\u001b[39;00m arrlen(val) \u001b[38;5;129;01mis\u001b[39;00m \u001b[38;5;129;01mnot\u001b[39;00m \u001b[38;5;28;01mNone\u001b[39;00m \u001b[38;5;129;01mor\u001b[39;00m _is_generator(val):\n\u001b[0;32m--> 364\u001b[0m     updated_data[name] \u001b[38;5;241m=\u001b[39m \u001b[43mpl\u001b[49m\u001b[38;5;241;43m.\u001b[39;49m\u001b[43mSeries\u001b[49m\u001b[43m(\u001b[49m\n\u001b[1;32m    365\u001b[0m \u001b[43m        \u001b[49m\u001b[43mname\u001b[49m\u001b[38;5;241;43m=\u001b[39;49m\u001b[43mname\u001b[49m\u001b[43m,\u001b[49m\n\u001b[1;32m    366\u001b[0m \u001b[43m        \u001b[49m\u001b[43mvalues\u001b[49m\u001b[38;5;241;43m=\u001b[39;49m\u001b[43mval\u001b[49m\u001b[43m,\u001b[49m\n\u001b[1;32m    367\u001b[0m \u001b[43m        \u001b[49m\u001b[43mdtype\u001b[49m\u001b[38;5;241;43m=\u001b[39;49m\u001b[43mdtype\u001b[49m\u001b[43m,\u001b[49m\n\u001b[1;32m    368\u001b[0m \u001b[43m        \u001b[49m\u001b[43mstrict\u001b[49m\u001b[38;5;241;43m=\u001b[39;49m\u001b[43mstrict\u001b[49m\u001b[43m,\u001b[49m\n\u001b[1;32m    369\u001b[0m \u001b[43m        \u001b[49m\u001b[43mnan_to_null\u001b[49m\u001b[38;5;241;43m=\u001b[39;49m\u001b[43mnan_to_null\u001b[49m\u001b[43m,\u001b[49m\n\u001b[1;32m    370\u001b[0m \u001b[43m    \u001b[49m\u001b[43m)\u001b[49m\n\u001b[1;32m    371\u001b[0m \u001b[38;5;28;01melif\u001b[39;00m val \u001b[38;5;129;01mis\u001b[39;00m \u001b[38;5;28;01mNone\u001b[39;00m \u001b[38;5;129;01mor\u001b[39;00m \u001b[38;5;28misinstance\u001b[39m(  \u001b[38;5;66;03m# type: ignore[redundant-expr]\u001b[39;00m\n\u001b[1;32m    372\u001b[0m     val, (\u001b[38;5;28mint\u001b[39m, \u001b[38;5;28mfloat\u001b[39m, \u001b[38;5;28mstr\u001b[39m, \u001b[38;5;28mbool\u001b[39m, date, datetime, time, timedelta)\n\u001b[1;32m    373\u001b[0m ):\n\u001b[1;32m    374\u001b[0m     updated_data[name] \u001b[38;5;241m=\u001b[39m F\u001b[38;5;241m.\u001b[39mrepeat(\n\u001b[1;32m    375\u001b[0m         val, array_len, dtype\u001b[38;5;241m=\u001b[39mdtype, eager\u001b[38;5;241m=\u001b[39m\u001b[38;5;28;01mTrue\u001b[39;00m\n\u001b[1;32m    376\u001b[0m     )\u001b[38;5;241m.\u001b[39malias(name)\n",
      "File \u001b[0;32m~/Trabajos/IA2/lib/python3.11/site-packages/polars/series/series.py:312\u001b[0m, in \u001b[0;36mSeries.__init__\u001b[0;34m(self, name, values, dtype, strict, nan_to_null, dtype_if_empty)\u001b[0m\n\u001b[1;32m    309\u001b[0m         \u001b[38;5;28;01mraise\u001b[39;00m \u001b[38;5;167;01mTypeError\u001b[39;00m(msg)\n\u001b[1;32m    311\u001b[0m \u001b[38;5;28;01mif\u001b[39;00m \u001b[38;5;28misinstance\u001b[39m(values, Sequence):\n\u001b[0;32m--> 312\u001b[0m     \u001b[38;5;28mself\u001b[39m\u001b[38;5;241m.\u001b[39m_s \u001b[38;5;241m=\u001b[39m \u001b[43msequence_to_pyseries\u001b[49m\u001b[43m(\u001b[49m\n\u001b[1;32m    313\u001b[0m \u001b[43m        \u001b[49m\u001b[43mname\u001b[49m\u001b[43m,\u001b[49m\n\u001b[1;32m    314\u001b[0m \u001b[43m        \u001b[49m\u001b[43mvalues\u001b[49m\u001b[43m,\u001b[49m\n\u001b[1;32m    315\u001b[0m \u001b[43m        \u001b[49m\u001b[43mdtype\u001b[49m\u001b[38;5;241;43m=\u001b[39;49m\u001b[43mdtype\u001b[49m\u001b[43m,\u001b[49m\n\u001b[1;32m    316\u001b[0m \u001b[43m        \u001b[49m\u001b[43mstrict\u001b[49m\u001b[38;5;241;43m=\u001b[39;49m\u001b[43mstrict\u001b[49m\u001b[43m,\u001b[49m\n\u001b[1;32m    317\u001b[0m \u001b[43m        \u001b[49m\u001b[43mnan_to_null\u001b[49m\u001b[38;5;241;43m=\u001b[39;49m\u001b[43mnan_to_null\u001b[49m\u001b[43m,\u001b[49m\n\u001b[1;32m    318\u001b[0m \u001b[43m    \u001b[49m\u001b[43m)\u001b[49m\n\u001b[1;32m    320\u001b[0m \u001b[38;5;28;01melif\u001b[39;00m values \u001b[38;5;129;01mis\u001b[39;00m \u001b[38;5;28;01mNone\u001b[39;00m:\n\u001b[1;32m    321\u001b[0m     \u001b[38;5;28mself\u001b[39m\u001b[38;5;241m.\u001b[39m_s \u001b[38;5;241m=\u001b[39m sequence_to_pyseries(name, [], dtype\u001b[38;5;241m=\u001b[39mdtype)\n",
      "File \u001b[0;32m~/Trabajos/IA2/lib/python3.11/site-packages/polars/_utils/construction/series.py:292\u001b[0m, in \u001b[0;36msequence_to_pyseries\u001b[0;34m(name, values, dtype, strict, nan_to_null)\u001b[0m\n\u001b[1;32m    288\u001b[0m         \u001b[38;5;28;01mreturn\u001b[39;00m pyseries\n\u001b[1;32m    290\u001b[0m \u001b[38;5;28;01melif\u001b[39;00m python_dtype \u001b[38;5;241m==\u001b[39m pl\u001b[38;5;241m.\u001b[39mSeries:\n\u001b[1;32m    291\u001b[0m     \u001b[38;5;28;01mreturn\u001b[39;00m PySeries\u001b[38;5;241m.\u001b[39mnew_series_list(\n\u001b[0;32m--> 292\u001b[0m         name, \u001b[43m[\u001b[49m\u001b[43mv\u001b[49m\u001b[38;5;241;43m.\u001b[39;49m\u001b[43m_s\u001b[49m\u001b[43m \u001b[49m\u001b[38;5;28;43;01mif\u001b[39;49;00m\u001b[43m \u001b[49m\u001b[43mv\u001b[49m\u001b[43m \u001b[49m\u001b[38;5;129;43;01mis\u001b[39;49;00m\u001b[43m \u001b[49m\u001b[38;5;129;43;01mnot\u001b[39;49;00m\u001b[43m \u001b[49m\u001b[38;5;28;43;01mNone\u001b[39;49;00m\u001b[43m \u001b[49m\u001b[38;5;28;43;01melse\u001b[39;49;00m\u001b[43m \u001b[49m\u001b[38;5;28;43;01mNone\u001b[39;49;00m\u001b[43m \u001b[49m\u001b[38;5;28;43;01mfor\u001b[39;49;00m\u001b[43m \u001b[49m\u001b[43mv\u001b[49m\u001b[43m \u001b[49m\u001b[38;5;129;43;01min\u001b[39;49;00m\u001b[43m \u001b[49m\u001b[43mvalues\u001b[49m\u001b[43m]\u001b[49m, strict\n\u001b[1;32m    293\u001b[0m     )\n\u001b[1;32m    295\u001b[0m \u001b[38;5;28;01melif\u001b[39;00m python_dtype \u001b[38;5;241m==\u001b[39m PySeries:\n\u001b[1;32m    296\u001b[0m     \u001b[38;5;28;01mreturn\u001b[39;00m PySeries\u001b[38;5;241m.\u001b[39mnew_series_list(name, values, strict)\n",
      "File \u001b[0;32m~/Trabajos/IA2/lib/python3.11/site-packages/polars/_utils/construction/series.py:292\u001b[0m, in \u001b[0;36m<listcomp>\u001b[0;34m(.0)\u001b[0m\n\u001b[1;32m    288\u001b[0m         \u001b[38;5;28;01mreturn\u001b[39;00m pyseries\n\u001b[1;32m    290\u001b[0m \u001b[38;5;28;01melif\u001b[39;00m python_dtype \u001b[38;5;241m==\u001b[39m pl\u001b[38;5;241m.\u001b[39mSeries:\n\u001b[1;32m    291\u001b[0m     \u001b[38;5;28;01mreturn\u001b[39;00m PySeries\u001b[38;5;241m.\u001b[39mnew_series_list(\n\u001b[0;32m--> 292\u001b[0m         name, [\u001b[43mv\u001b[49m\u001b[38;5;241;43m.\u001b[39;49m\u001b[43m_s\u001b[49m \u001b[38;5;28;01mif\u001b[39;00m v \u001b[38;5;129;01mis\u001b[39;00m \u001b[38;5;129;01mnot\u001b[39;00m \u001b[38;5;28;01mNone\u001b[39;00m \u001b[38;5;28;01melse\u001b[39;00m \u001b[38;5;28;01mNone\u001b[39;00m \u001b[38;5;28;01mfor\u001b[39;00m v \u001b[38;5;129;01min\u001b[39;00m values], strict\n\u001b[1;32m    293\u001b[0m     )\n\u001b[1;32m    295\u001b[0m \u001b[38;5;28;01melif\u001b[39;00m python_dtype \u001b[38;5;241m==\u001b[39m PySeries:\n\u001b[1;32m    296\u001b[0m     \u001b[38;5;28;01mreturn\u001b[39;00m PySeries\u001b[38;5;241m.\u001b[39mnew_series_list(name, values, strict)\n",
      "\u001b[0;31mAttributeError\u001b[0m: 'numpy.ndarray' object has no attribute '_s'"
     ]
    }
   ],
   "source": [
    "print(\"Comenzando algoritmo genético con los parametros:\")\n",
    "print(f\"NPOB: {NPOB}\")\n",
    "print(f\"NGEN: {NGEN}\")\n",
    "print(f\"Pc: {Pc}\")\n",
    "print(f\"Pm: {Pm}\")\n",
    "print(f\"C: {C}\")\n",
    "BESTc = None\n",
    "BESTf = None\n",
    "BESTPorcentaje = None\n",
    "CONSf = None\n",
    "cromosomaConsenso = None\n",
    "\n",
    "for v in range(NGEN):\n",
    "    df = df.sort(\"Fitness\", descending=True)\n",
    "    if BESTf is None or BESTf < df[\"Fitness\"][0]:\n",
    "        BESTf = df[\"Fitness\"][0]\n",
    "        BESTc = df[\"Cromosoma\"][0]\n",
    "\n",
    "    \n",
    "    BESTPorcentaje = (BESTf / df[\"Fitness\"].mean()) * 100\n",
    "    #CONSf = ratioSharpe(consensus_chromosome(df.copy()))  # Calculate fitness of consensus chromosome\n",
    "\n",
    "\n",
    "        \n",
    "    \n",
    "\n",
    "    nextGen = df.head(int(NPOB*0.2)).clone()\n",
    "    df = df[int(NPOB*0.2):]\n",
    "\n",
    "    probabilidadSeleccion = []\n",
    "    for i in range(nextGen.shape[0]):\n",
    "        probabilidadSeleccion.append(nextGen[\"Fitness\"][i]/sum(nextGen[\"Fitness\"]))\n",
    "    probabilidadAcumulada = []\n",
    "    suma = 0\n",
    "    for i in range(nextGen.shape[0]):\n",
    "        suma += probabilidadSeleccion[i]\n",
    "        probabilidadAcumulada.append(suma)\n",
    "\n",
    "    nextGen = nextGen.with_columns([pl.Series(\"Probabilidad\", probabilidadSeleccion), pl.Series(\"Probabilidad Acumulada\", probabilidadAcumulada)])\n",
    "    del probabilidadAcumulada, probabilidadSeleccion\n",
    "\n",
    "    probabilidadSeleccion = []\n",
    "    for i in range(df.shape[0]):\n",
    "        probabilidadSeleccion.append(df[\"Fitness\"][i]/sum(df[\"Fitness\"]))\n",
    "    probabilidadAcumulada = []\n",
    "    suma = 0\n",
    "    for i in range(df.shape[0]):\n",
    "        suma += probabilidadSeleccion[i]\n",
    "        probabilidadAcumulada.append(suma)\n",
    "\n",
    "    df = df.with_columns([pl.Series(\"Probabilidad\", probabilidadSeleccion), pl.Series(\"Probabilidad Acumulada\", probabilidadAcumulada)])\n",
    "    del probabilidadAcumulada, probabilidadSeleccion\n",
    "\n",
    "    mitad = int(NPOB/2)\n",
    "\n",
    "    futuro50cromosomas = []\n",
    "    futuro50fitness = []\n",
    "\n",
    "    while len(futuro50cromosomas) < mitad:\n",
    "        # seleccionar 2 cromosomas de nextGen aplicando el metodo de la ruleta sobre la probabilidad acumulada\n",
    "        cromosoma1 = None\n",
    "        cromosoma2 = None\n",
    "        r = np.random.random()\n",
    "        for i in range(nextGen.shape[0]):\n",
    "            if r < nextGen[\"Probabilidad Acumulada\"][i]:\n",
    "                cromosoma1 = nextGen[\"Cromosoma\"][i]\n",
    "                break\n",
    "        r = np.random.random()\n",
    "        for i in range(nextGen.shape[0]):\n",
    "            if r < nextGen[\"Probabilidad Acumulada\"][i]:\n",
    "                cromosoma2 = nextGen[\"Cromosoma\"][i]\n",
    "                break\n",
    "\n",
    "        # aplicar entrecruzamiento\n",
    "        cromosoma1, cromosoma2 = entrecruzamiento(cromosoma1, cromosoma2)\n",
    "\n",
    "        cromosoma1 = mutacion(cromosoma1)\n",
    "        cromosoma2 = mutacion(cromosoma2)\n",
    "        finess1 = ratioSharpe(cromosoma1)\n",
    "        finess2 = ratioSharpe(cromosoma2)\n",
    "        futuro50cromosomas.append(cromosoma1)\n",
    "        futuro50cromosomas.append(cromosoma2)\n",
    "        futuro50fitness.append(finess1)\n",
    "        futuro50fitness.append(finess2)\n",
    "        del cromosoma1, cromosoma2, finess1, finess2\n",
    "        \n",
    "    unTercio = int(NPOB/3)\n",
    "\n",
    "    for _ in range(int(unTercio/2)):\n",
    "        # seleccionar 2 cromosomas de nextGen aplicando el metodo de la ruleta sobre la probabilidad acumulada\n",
    "        cromosoma1 = None\n",
    "        cromosoma2 = None\n",
    "        r = np.random.random()\n",
    "        for i in range(df.shape[0]):\n",
    "            if r < df[\"Probabilidad Acumulada\"][i]:\n",
    "                cromosoma1 = df[\"Cromosoma\"][i]\n",
    "                break\n",
    "        r = np.random.random()\n",
    "        for i in range(df.shape[0]):\n",
    "            if r < df[\"Probabilidad Acumulada\"][i]:\n",
    "                cromosoma2 = df[\"Cromosoma\"][i]\n",
    "                break\n",
    "\n",
    "\n",
    "        # aplicar entrecruzamiento\n",
    "        cromosoma1, cromosoma2 = entrecruzamiento(cromosoma1, cromosoma2)\n",
    "\n",
    "        cromosoma1 = mutacion(cromosoma1)\n",
    "        cromosoma2 = mutacion(cromosoma2)\n",
    "        finess1 = ratioSharpe(cromosoma1)\n",
    "        finess2 = ratioSharpe(cromosoma2)\n",
    "        futuro50cromosomas.append(cromosoma1)\n",
    "        futuro50cromosomas.append(cromosoma2)\n",
    "        futuro50fitness.append(finess1)\n",
    "        futuro50fitness.append(finess2)\n",
    "        del cromosoma1, cromosoma2, finess1, finess2\n",
    "\n",
    "    # drop the columns of the probabilities\n",
    "    nextGen = nextGen.drop([\"Probabilidad\", \"Probabilidad Acumulada\"])\n",
    "\n",
    "    cromosomasSeleccionados = nextGen[\"Cromosoma\"].to_list()\n",
    "    fitnessSeleccionados = nextGen[\"Fitness\"].to_list()\n",
    "\n",
    "    futuro50cromosomas = cromosomasSeleccionados + futuro50cromosomas\n",
    "\n",
    "    temp = pl.DataFrame({\"Cromosoma\": futuro50cromosomas, \"Fitness\": futuro50fitness})\n",
    "    nextGen.extend(temp)\n",
    "    del temp\n",
    "\n",
    "    del futuro50cromosomas, futuro50fitness\n",
    "    \n",
    "    del df\n",
    "    df = nextGen.clone()\n",
    "    del nextGen\n",
    "\n",
    "    if i % NRES == 0:\n",
    "        print(f\"Generacion {v} completada\")\n",
    "        print(\"Mejor cromosoma:\", BESTf, \" BESTPorcentaje:\", BESTPorcentaje)\n",
    "        print(\"Cromosoma consenso:\", CONSf)\n",
    "        print(\"\")\n",
    "        #df.write_avro(f\"generacion_{i}.avro\")\n",
    "    if i % NSAMPLE == 0:\n",
    "        print(f\"Generacion {v} completada\")\n",
    "        print(\"Mejor cromosoma:\", BESTf, \" en BESTPorcentaje:\", BESTPorcentaje)\n",
    "        print(\"Cromosoma consenso:\", CONSf)\n",
    "        print(\"Muestreo del 20% de la población\")\n",
    "        print(df.head(int(NPOB*0.2)))\n",
    "\n",
    "print(f\"Generacion {v} completada\")\n",
    "print(\"Mejor cromosoma:\", BESTf, \" en BESTPorcentaje:\", BESTPorcentaje)\n",
    "print(\"Cromosoma consenso:\", CONSf)\n",
    "print(\"Muestreo del 20% de la población\")\n",
    "print(df.head(int(NPOB*0.2)))"
   ]
  },
  {
   "cell_type": "code",
   "execution_count": 39,
   "metadata": {},
   "outputs": [
    {
     "data": {
      "text/plain": [
       "[[0.08507966927010582,\n",
       "  0.0,\n",
       "  0.07066310063685684,\n",
       "  0.0009725161836332457,\n",
       "  0.06444874542429356,\n",
       "  0.0,\n",
       "  0.029775129704373533,\n",
       "  0.10240844034952822,\n",
       "  0.016274585568148214,\n",
       "  0.09800812366897713,\n",
       "  0.0,\n",
       "  0.13229868825517585,\n",
       "  0.0,\n",
       "  0.011472460539127854,\n",
       "  0.0953546775284797,\n",
       "  0.09159375581848316,\n",
       "  0.0963483934029776,\n",
       "  0.0,\n",
       "  0.04124910917746826,\n",
       "  0.06405260447237109],\n",
       " [0.08160689184301911,\n",
       "  0.011486930755331639,\n",
       "  0.06777877794349327,\n",
       "  0.0009328200696383042,\n",
       "  0.06181807995234648,\n",
       "  0.0,\n",
       "  0.028559770039567462,\n",
       "  0.09822833806375268,\n",
       "  0.015610290397737689,\n",
       "  0.09400763327604682,\n",
       "  0.0,\n",
       "  0.12689852741596128,\n",
       "  0.0,\n",
       "  0.011004178253415854,\n",
       "  0.09146249535935615,\n",
       "  0.08785508675221441,\n",
       "  0.08914553027228994,\n",
       "  0.07807317602926497,\n",
       "  0.05553147357656383,\n",
       "  0.0]]"
      ]
     },
     "execution_count": 39,
     "metadata": {},
     "output_type": "execute_result"
    }
   ],
   "source": [
    "nextGen[\"Cromosoma\"].to_list()"
   ]
  },
  {
   "cell_type": "code",
   "execution_count": null,
   "metadata": {},
   "outputs": [
    {
     "ename": "NameError",
     "evalue": "name 'pl' is not defined",
     "output_type": "error",
     "traceback": [
      "\u001b[0;31m---------------------------------------------------------------------------\u001b[0m",
      "\u001b[0;31mNameError\u001b[0m                                 Traceback (most recent call last)",
      "Cell \u001b[0;32mIn[1], line 1\u001b[0m\n\u001b[0;32m----> 1\u001b[0m temp \u001b[38;5;241m=\u001b[39m \u001b[43mpl\u001b[49m\u001b[38;5;241m.\u001b[39mDataFrame({\u001b[38;5;124m\"\u001b[39m\u001b[38;5;124mCromosoma\u001b[39m\u001b[38;5;124m\"\u001b[39m: futuro50cromosomas, \u001b[38;5;124m\"\u001b[39m\u001b[38;5;124mFitness\u001b[39m\u001b[38;5;124m\"\u001b[39m: futuro50fitness})\n",
      "\u001b[0;31mNameError\u001b[0m: name 'pl' is not defined"
     ]
    }
   ],
   "source": [
    "temp = pl.DataFrame({\"Cromosoma\": futuro50cromosomas, \"Fitness\": futuro50fitness})\n"
   ]
  },
  {
   "cell_type": "code",
   "execution_count": null,
   "metadata": {},
   "outputs": [
    {
     "data": {
      "text/plain": [
       "[-0.2708517811567658,\n",
       " -0.1483419955366781,\n",
       " -0.2266803800463143,\n",
       " -0.223129454423493,\n",
       " -0.3095483657515265,\n",
       " -0.19524950342901082,\n",
       " -0.06615579673230904,\n",
       " -0.16032389833536884,\n",
       " -0.29711225873024266,\n",
       " -0.223781519811694,\n",
       " -0.01386113844908608,\n",
       " -0.12896536516921212,\n",
       " -0.2171468279536211,\n",
       " -0.25130363975598313,\n",
       " -0.34459915415212233,\n",
       " -0.19528133999517316,\n",
       " -0.13751034513236127,\n",
       " -0.2714317711014282,\n",
       " -0.21806613597662286,\n",
       " -0.21122702743571167,\n",
       " -0.2248098881839982,\n",
       " -0.36812125774357635,\n",
       " -0.16588446222369013,\n",
       " -0.2667905332124143,\n",
       " -0.1730637001497857,\n",
       " -0.14418716295429412,\n",
       " -0.3404282487665246,\n",
       " -0.42452009604438756,\n",
       " -0.5330739917582092,\n",
       " -0.4042756935832978,\n",
       " -0.3052868273741141,\n",
       " -0.1927146302114227,\n",
       " -0.4335098145858562,\n",
       " -0.4403593785063051,\n",
       " -0.4488341675199251,\n",
       " -0.24327029230420874,\n",
       " -0.24239484139433543,\n",
       " -0.24308086226914977,\n",
       " -0.50842588264674,\n",
       " -0.5247878038812333,\n",
       " -0.34619166212953273,\n",
       " -0.37693010031471497]"
      ]
     },
     "execution_count": 126,
     "metadata": {},
     "output_type": "execute_result"
    }
   ],
   "source": [
    "futuro50fitness"
   ]
  },
  {
   "cell_type": "code",
   "execution_count": null,
   "metadata": {},
   "outputs": [],
   "source": [
    "# save the last generation\n",
    "df.write_avro(\"lastGeneration.avro\")"
   ]
  }
 ],
 "metadata": {
  "kernelspec": {
   "display_name": "IA2",
   "language": "python",
   "name": "python3"
  },
  "language_info": {
   "codemirror_mode": {
    "name": "ipython",
    "version": 3
   },
   "file_extension": ".py",
   "mimetype": "text/x-python",
   "name": "python",
   "nbconvert_exporter": "python",
   "pygments_lexer": "ipython3",
   "version": "3.11.8"
  }
 },
 "nbformat": 4,
 "nbformat_minor": 2
}
